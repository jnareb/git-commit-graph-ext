{
 "cells": [
  {
   "cell_type": "raw",
   "metadata": {},
   "source": [
    "---\n",
    "output-file: related.html\n",
    "title: 'Related works: various reachability labelings'\n",
    "\n",
    "---\n",
    "\n"
   ]
  },
  {
   "cell_type": "markdown",
   "metadata": {},
   "source": [
    "## Label+Graph algorithms (online search)"
   ]
  },
  {
   "cell_type": "markdown",
   "metadata": {},
   "source": [
    "**FELINE**\n",
    "\n",
    "FELINE index (weak dominance drawing using two topological orderings)\n",
    "\n",
    "\"Reachability Queries in Very Large Graphs: A **F**ast R**e**fined On**line** Search Approach\" (2014)  \n",
    "<http://openprocedings.org/EDBT/2014/paper_166.pdf>"
   ]
  },
  {
   "cell_type": "markdown",
   "metadata": {},
   "source": [
    "**GRAIL**\n",
    "\n",
    "min-post spanning-tree interval labeling (description)\n",
    "\n",
    "\"GRAIL: Scalable Reachability Index for Large Graphs\" (2010)  \n",
    "<https://www.researchgate.net/publication/220538786_GRAIL_Scalable_reachability_index_for_large_graphs>"
   ]
  },
  {
   "cell_type": "markdown",
   "metadata": {},
   "source": [
    "**PReaCH**\n",
    "\n",
    "other pruning mechanisms (contraction hierarchies) with enhanced min-post / pre-max DFS spanning-tree interval labeling\n",
    "\n",
    "\"PReaCH: A Fast Lightweight Reachability Index using Pruning and Contraction Hierarchies\" (2014)  \n",
    "<https://arxiv.org/abs/1404.4465>"
   ]
  },
  {
   "cell_type": "markdown",
   "metadata": {},
   "source": [
    "**FERRARI**\n",
    "\n",
    "min-post spanning-tree intervals (exact and inexact)\n",
    "\n",
    "\"FERRARI: Flexible and efficient reachability range assignment for graph indexing\" (2013)  \n",
    "<http://citeseerx.ist.psu.edu/viewdoc/download?doi=10.1.1.365.2894&rep=rep1&type=pdf>"
   ]
  },
  {
   "cell_type": "markdown",
   "metadata": {},
   "source": [
    "**IP+**\n",
    "\n",
    "independent permutations (IP) labelling, a variant of probabilistic reachable vertices set containment labeling\n",
    "\n",
    "H. Wei, J. X. Yu, C. Lu, and R. Jin. \"Reachability querying: An independent permutation labeling approach.\" PVLDB, 7(12):1191-1202 (2014)  \n",
    "<http://www1.se.cuhk.edu.hk/~lucan/paper/vldb14-reachability.pdf>  \n",
    "<http://www1.se.cuhk.edu.hk/~lucan/paper/vldbj17-reachability.pdf>"
   ]
  },
  {
   "cell_type": "markdown",
   "metadata": {},
   "source": [
    "**BFL**\n",
    "\n",
    "Bloom filter labeling (BFL), a variant of probabilistic reachable vertices set containment labeling\n",
    "\n",
    "\"Reachability Querying: Can It Be Even Faster?\" (2016)  \n",
    "<https://ieeexplore.ieee.org/document/7750623> (no free PDF)\n",
    "<https://www.researchgate.net/publication/310665301_Reachability_Querying_Can_It_Be_Even_Faster> (no full text)"
   ]
  }
 ],
 "metadata": {
  "kernelspec": {
   "display_name": "Python 3",
   "language": "python",
   "name": "python3"
  }
 },
 "nbformat": 4,
 "nbformat_minor": 4
}
