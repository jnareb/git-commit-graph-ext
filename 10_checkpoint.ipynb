{
 "cells": [
  {
   "cell_type": "code",
   "execution_count": null,
   "metadata": {},
   "outputs": [],
   "source": [
    "#default_exp checkpoint"
   ]
  },
  {
   "cell_type": "code",
   "execution_count": null,
   "metadata": {},
   "outputs": [],
   "source": [
    "#hide_output\n",
    "%load_ext autoreload\n",
    "%autoreload 2"
   ]
  },
  {
   "cell_type": "markdown",
   "metadata": {},
   "source": [
    "# Checkpointing\n",
    "> Saving and restoring graphs, reachability labels, evaluation results, etc."
   ]
  },
  {
   "cell_type": "code",
   "execution_count": null,
   "metadata": {},
   "outputs": [],
   "source": [
    "#export\n",
    "# creating graphs in Python\n",
    "import networkx as nx\n",
    "# checking for existence of paths, and manipulating paths\n",
    "from pathlib import Path, PurePath\n",
    "# data analysis and manipulation\n",
    "import pandas as pd\n",
    "# reachability labels\n",
    "from git_commit_graph_ext.labelling.levels import find_levels\n",
    "from git_commit_graph_ext.labelling.dfs_intervals import find_dfs_intervals, find_dfs_intervals_extra"
   ]
  },
  {
   "cell_type": "markdown",
   "metadata": {},
   "source": [
    "## Functions for computing reachability labels, and saving them and graph to a file, etc."
   ]
  },
  {
   "cell_type": "code",
   "execution_count": null,
   "metadata": {},
   "outputs": [],
   "source": [
    "# imports for example graphs\n",
    "import git_commit_graph_ext.example_graphs as graphs"
   ]
  },
  {
   "cell_type": "code",
   "execution_count": null,
   "metadata": {},
   "outputs": [
    {
     "name": "stdout",
     "output_type": "stream",
     "text": [
      "the example commit graph from Stolee blog posts 'commit_graph' has 23 nodes and 31 edges\n"
     ]
    }
   ],
   "source": [
    "# before tests (test fixture)\n",
    "\n",
    "# example graph\n",
    "example_graph = graphs.commit_graph()\n",
    "example_graph_name = 'commit_graph'\n",
    "\n",
    "# check that it worked\n",
    "print(\"the example commit graph from Stolee blog posts '{}' has {:d} nodes and {:d} edges\".\n",
    "      format(example_graph_name, example_graph.number_of_nodes(), example_graph.number_of_edges()))"
   ]
  },
  {
   "cell_type": "markdown",
   "metadata": {},
   "source": [
    "### Functions for saving graph structure as `DataFrame` (storing edge list) to a file, and restoring it"
   ]
  },
  {
   "cell_type": "markdown",
   "metadata": {},
   "source": [
    "Helper function to get basename for saving graph and/or graph data to a file (as a dataset)."
   ]
  },
  {
   "cell_type": "code",
   "execution_count": null,
   "metadata": {},
   "outputs": [],
   "source": [
    "#export\n",
    "def _savefile_name(graph_name, out_dir='datasets', kind='df_edgelist', file_format='csv.gz'):\n",
    "    \"\"\"Create filename for storing graph structure and other graph data\n",
    "\n",
    "    This is a helper function used, among others, in ...\n",
    "\n",
    "    Examples:\n",
    "    ---------\n",
    "    >>>> _savefile_name('example_graph')\n",
    "    Path('datasets/example_graph.df_edgelist.csv.gz')\n",
    "\n",
    "    Parameters\n",
    "    ----------\n",
    "    graph_name : str\n",
    "        Name of the graph (`<graph>.name` can be used).\n",
    "\n",
    "    out_dir : str\n",
    "        Directory where saved commit graph data would be stored.\n",
    "        Defaults to \"datasets\".\n",
    "\n",
    "    kind : str\n",
    "        What type of data is stored in a file, and in what representation.\n",
    "        The default value is 'df_edgelist', used to store graph structure in\n",
    "        the edge list format in a `pandas.DataFrame`.\n",
    "\n",
    "    file_format : str\n",
    "        Format of a file, for example how the `DataFrame` is saved.\n",
    "        Defaults to 'csv.gz' (gzip-compressed Comma Separated Values).\n",
    "\n",
    "    Returns\n",
    "    -------\n",
    "    Path\n",
    "        Path to the file storing the graph structure or graph data in\n",
    "        the appropriate representation and appropriate file format.\n",
    "    \"\"\"\n",
    "    # The `out_dir` should not be None\n",
    "    if out_dir is None:\n",
    "        out_dir = \".\"\n",
    "\n",
    "    # compose the basename of the pathname\n",
    "    filename = graph_name\n",
    "    # TODO: there would special case for saving to HDF5 files, which can\n",
    "    # store multiple data in a single file, so there would be no need\n",
    "    # to add <kind> to basename of such output file\n",
    "    if kind is not None and kind != '':\n",
    "        filename += '.' + kind\n",
    "    if file_format is not None and file_format != '':\n",
    "        filename += '.' + file_format\n",
    "    # generate the name of the output file, as `pathlib.Path` object\n",
    "    return Path(out_dir) / filename\n",
    "\n",
    "\n",
    "def _out_basename(graph_name, out_dir='datasets'):\n",
    "    return _savefile_name(graph_name, out_dir=out_dir, kind=None, file_format=None)\n",
    "\n"
   ]
  },
  {
   "cell_type": "markdown",
   "metadata": {},
   "source": [
    "<u>Test</u> that examples from the docstring works:"
   ]
  },
  {
   "cell_type": "code",
   "execution_count": null,
   "metadata": {},
   "outputs": [],
   "source": [
    "assert _savefile_name('example_graph') == Path('datasets/example_graph.df_edgelist.csv.gz')\n",
    "assert _savefile_name('example_graph', kind='adjlist', file_format='txt') == Path('datasets/example_graph.adjlist.txt')\n",
    "assert _savefile_name('example_graph', out_dir='data', kind='adjlist', file_format='txt') == Path('data/example_graph.adjlist.txt')"
   ]
  },
  {
   "cell_type": "markdown",
   "metadata": {},
   "source": [
    "Save graph to a `DataFrame` (saving containing edgelist information), and restore it."
   ]
  },
  {
   "cell_type": "code",
   "execution_count": null,
   "metadata": {},
   "outputs": [],
   "source": [
    "#export\n",
    "def graph_to_dataframe(graph):\n",
    "    return nx.to_pandas_edgelist(graph)\n",
    "\n",
    "\n",
    "def dataframe_to_graph(df):\n",
    "    return nx.from_pandas_edgelist(df, create_using=nx.DiGraph)\n",
    "\n"
   ]
  },
  {
   "cell_type": "markdown",
   "metadata": {},
   "source": [
    "<u>Test</u> that saving to the `DataFrame` and restoring from it works correctly,... up to nodes that are not connected -- those cannot be stored using only edge list data, but with addition of node list it should be possible to restore graph exactly:"
   ]
  },
  {
   "cell_type": "code",
   "execution_count": null,
   "metadata": {},
   "outputs": [
    {
     "name": "stdout",
     "output_type": "stream",
     "text": [
      "ok - number of rows in dataframe with edgelist 31 matches number of edges 31\n",
      "ok - number of edges 31 in restored graph matches number of edges 31 in the original\n",
      "ok - all edges from the original graph got restored\n",
      "ok - all restored nodes are in the original graph\n"
     ]
    }
   ],
   "source": [
    "example_graph_df = graph_to_dataframe(example_graph)\n",
    "assert len(example_graph_df.index) == example_graph.number_of_edges()\n",
    "print('ok - number of rows in dataframe with edgelist {} matches number of edges {}'.\n",
    "      format(len(example_graph_df.index), example_graph.number_of_edges()))\n",
    "restored_graph = dataframe_to_graph(example_graph_df)\n",
    "assert restored_graph.number_of_edges() == example_graph.number_of_edges()\n",
    "print('ok - number of edges {} in restored graph matches number of edges {} in the original'.\n",
    "      format(restored_graph.number_of_edges(), example_graph.number_of_edges()))\n",
    "assert restored_graph.edges == example_graph.edges\n",
    "print('ok - all edges from the original graph got restored')\n",
    "assert set(restored_graph).issubset(example_graph)\n",
    "print('ok - all restored nodes are in the original graph')"
   ]
  },
  {
   "cell_type": "markdown",
   "metadata": {},
   "source": [
    "Save graph to a file (via `DataFrame` containing edgelist information), and restore it"
   ]
  },
  {
   "cell_type": "code",
   "execution_count": null,
   "metadata": {},
   "outputs": [],
   "source": [
    "#export\n",
    "def save_graph_df(df, graph_name, datasets_dir='datasets', output_format='csv.gz', overwrite=False):\n",
    "    filename = _savefile_name(graph_name, out_dir=datasets_dir,\n",
    "                              kind='df_edgelist', file_format=output_format)\n",
    "    print('-> filename:', filename)\n",
    "    if not overwrite and Path(filename).is_file():\n",
    "        return\n",
    "    if output_format == 'csv' or output_format == 'csv.gz':\n",
    "        df.to_csv(filename)\n",
    "    else:\n",
    "        raise NotImplementedError(\"Writing to '{}' format is not supported\".format(output_format))\n",
    "\n",
    "\n",
    "def save_graph(graph, graph_name=None, datasets_dir='datasets', output_format='csv.gz', overwrite=False):\n",
    "    df = graph_to_dataframe(graph)\n",
    "    # if `graph_name` is not given, check the `name` attribute of the `graph`\n",
    "    if graph_name is None:\n",
    "        # NOTE: \"'name' in graph\" checks if there is node named 'name' in the graph\n",
    "        if hasattr(graph, 'name'):\n",
    "            graph_name = graph.name\n",
    "        else:\n",
    "            raise RuntimeError(\"Neither 'graph_name' parameter given, nor 'graph' has 'name' attribute\")\n",
    "\n",
    "    print('-> graph_name:', graph_name)\n",
    "    save_graph_df(df, graph_name,\n",
    "                  datasets_dir=datasets_dir, output_format=output_format, overwrite=overwrite)\n",
    "\n",
    "\n",
    "def guess_format(filename):\n",
    "    suffixes = PurePath(filename).suffixes\n",
    "    file_format = suffixes[-1]\n",
    "    if file_format == '.gz' or file_format == '.txt':\n",
    "        file_format = suffixes[-2] + file_format\n",
    "    return file_format[1:]\n",
    "\n",
    "\n",
    "def load_graph_df_from_file(filename, input_format='csv.gz'):\n",
    "    if input_format is None:\n",
    "        input_format = guess_format(filename)\n",
    "    if input_format == 'csv' or input_format == 'csv.gz':\n",
    "        return pd.read_csv(filename, index_col=0)\n",
    "    else:\n",
    "        raise NotImplementedError(\"Reading from '{}' format is not supported\".format(input_format))\n",
    "\n",
    "\n",
    "def load_graph_df(graph_name, datasets_dir='datasets', input_format='csv.gz'):\n",
    "    filename = _savefile_name(graph_name, out_dir=datasets_dir,\n",
    "                              kind='df_edgelist', file_format=input_format)\n",
    "    print('<- filename:', filename)\n",
    "    return load_graph_df_from_file(filename, input_format=input_format)\n",
    "\n"
   ]
  },
  {
   "cell_type": "markdown",
   "metadata": {},
   "source": [
    "<u>Test</u> guessing file format from file name"
   ]
  },
  {
   "cell_type": "code",
   "execution_count": null,
   "metadata": {},
   "outputs": [],
   "source": [
    "assert guess_format('datasets/hellogitworld-commit_graph.df_edgelist.csv.gz') == 'csv.gz'\n",
    "assert guess_format('datasets/hellogitworld-commit_graph.df_edgelist.csv') == 'csv'\n",
    "assert guess_format('datasets/hellogitworld-commit_graph.adjlist.txt') == 'adjlist.txt'"
   ]
  },
  {
   "cell_type": "markdown",
   "metadata": {},
   "source": [
    "<u>Test</u> saving graph structure (via `DataFrame`) to a file, and restoring / reading such `DataFrame`."
   ]
  },
  {
   "cell_type": "code",
   "execution_count": null,
   "metadata": {},
   "outputs": [
    {
     "name": "stdout",
     "output_type": "stream",
     "text": [
      "graph.name = \n",
      "testing save_graph()\n",
      "-> graph_name: \n",
      "-> filename: datasets\\.df_edgelist.csv.gz\n",
      "testing save_graph_df()\n",
      "-> filename: datasets\\commit_graph.df_edgelist.csv.gz\n",
      "there should be appropriately named file in the list below:\n"
     ]
    },
    {
     "data": {
      "text/plain": [
       "['commit_graph.df_edgelist.csv.gz                        224']"
      ]
     },
     "execution_count": null,
     "metadata": {},
     "output_type": "execute_result"
    }
   ],
   "source": [
    "print('graph.name = {}'.format(example_graph.name))\n",
    "print('testing save_graph()')\n",
    "save_graph(example_graph)\n",
    "print('testing save_graph_df()')\n",
    "save_graph_df(example_graph_df, graph_name=example_graph_name)\n",
    "print('there should be appropriately named file in the list below:')\n",
    "[\"{name:<50} {size:>7}\".format(name=p.name,size=p.stat().st_size) for p in Path(\"datasets\").glob(example_graph_name+\"*\")]"
   ]
  },
  {
   "cell_type": "code",
   "execution_count": null,
   "metadata": {},
   "outputs": [
    {
     "name": "stdout",
     "output_type": "stream",
     "text": [
      "restoring graph named \"commit_graph\"\n",
      "<- filename: datasets\\commit_graph.df_edgelist.csv.gz\n",
      "ok - dataframe and restored dataframe are equal\n"
     ]
    }
   ],
   "source": [
    "print('restoring graph named \"{}\"'.format(example_graph_name))\n",
    "df = load_graph_df(example_graph_name)\n",
    "assert example_graph_df.equals(df)\n",
    "print('ok - dataframe and restored dataframe are equal')"
   ]
  },
  {
   "cell_type": "markdown",
   "metadata": {},
   "source": [
    "### Functions for computing reachability levels, saving them to a file (as `DataFrame`), and restoring them"
   ]
  },
  {
   "cell_type": "markdown",
   "metadata": {},
   "source": [
    "Compute levels and min-post intervals for a graph, and store them as attributes of the graph object"
   ]
  },
  {
   "cell_type": "code",
   "execution_count": null,
   "metadata": {},
   "outputs": [],
   "source": [
    "#export\n",
    "def compute_reachability_labels(graph, recompute=False):\n",
    "    if recompute or not hasattr(graph, 'lvl'):\n",
    "        graph.lvl = find_levels(graph)\n",
    "    if recompute or not hasattr(graph, 'mpi_ext'):\n",
    "        graph.mpi_ext = find_dfs_intervals_extra(graph)\n",
    "    return graph\n",
    "\n"
   ]
  },
  {
   "cell_type": "markdown",
   "metadata": {},
   "source": [
    "<u>Test</u> computing reachability labels and saving them as attributes of the graph object"
   ]
  },
  {
   "cell_type": "code",
   "execution_count": null,
   "metadata": {},
   "outputs": [
    {
     "name": "stdout",
     "output_type": "stream",
     "text": [
      "compute reachability labels for commit_graph\n",
      "we should see lvl and mpi_ext among dict-values public attributes\n",
      "- graph\n",
      "- pos\n",
      "- lvl\n",
      "- mpi_ext\n",
      "ok - graph has both \"lvl\" and \"mpi_ext\" attributes\n",
      "reachability labels should be computed for all nodes\n",
      "ok - both lvl and mpi_ext keys are all 23 graph nodes\n"
     ]
    }
   ],
   "source": [
    "print('compute reachability labels for {}'.format(example_graph_name))\n",
    "compute_reachability_labels(example_graph)\n",
    "\n",
    "print('we should see {} and {} among dict-values public attributes'.format('lvl', 'mpi_ext'))\n",
    "for (attr, val) in example_graph.__dict__.items():\n",
    "    if isinstance(val, dict) and not attr.startswith('_'):\n",
    "        print('- {:s}'.format(attr))\n",
    "assert hasattr(example_graph, 'lvl')\n",
    "assert hasattr(example_graph, 'mpi_ext')\n",
    "print('ok - graph has both \"{}\" and \"{}\" attributes'.format('lvl', 'mpi_ext'))\n",
    "\n",
    "print('reachability labels should be computed for all nodes')\n",
    "assert set(example_graph.lvl.keys()) == set(example_graph.nodes)\n",
    "assert set(example_graph.mpi_ext.keys()) == set(example_graph.nodes)\n",
    "print('ok - both lvl and mpi_ext keys are all {} graph nodes'.format(len(example_graph.nodes)))"
   ]
  },
  {
   "cell_type": "markdown",
   "metadata": {},
   "source": [
    "Store reachability labels and per-node information in a `DataFrame`"
   ]
  },
  {
   "cell_type": "code",
   "execution_count": null,
   "metadata": {},
   "outputs": [],
   "source": [
    "#export\n",
    "def graph_data_to_dataframe(graph, append_to=None):\n",
    "    compute_reachability_labels(graph)\n",
    "\n",
    "    # create the DataFrame and name its index\n",
    "    df = pd.DataFrame.from_dict(graph.mpi_ext, orient='index', columns=['f_min', 'min', 'post'])\n",
    "    df.index.name = 'node'\n",
    "    # add other reachability labels\n",
    "    df['level'] = pd.Series(graph.lvl)\n",
    "    # add and compute other data\n",
    "    df['in degree'] = pd.Series(dict(graph.in_degree()))\n",
    "    df['out degree'] = pd.Series(dict(graph.out_degree()))\n",
    "    df['degree'] = df['in degree'] + df['out degree']\n",
    "\n",
    "    # append if needed\n",
    "    if append_to:\n",
    "        df = pd.concat([append_to, df], axis=1, join='inner')\n",
    "\n",
    "    return df\n",
    "\n"
   ]
  },
  {
   "cell_type": "markdown",
   "metadata": {},
   "source": [
    "<u>Test</u> computing all per-node data for a graph and storing them in `DataFrame`"
   ]
  },
  {
   "cell_type": "code",
   "execution_count": null,
   "metadata": {},
   "outputs": [
    {
     "name": "stdout",
     "output_type": "stream",
     "text": [
      "check that the dataframe has all the columns\n",
      "- columns: ['f_min', 'min', 'post', 'level', 'in degree', 'out degree', 'degree']\n",
      "check that the dataframe has all the rows\n",
      "- rows:    ['A', 'a7', 'a5', 'a4', 'a3']...\n"
     ]
    },
    {
     "data": {
      "text/html": [
       "<div>\n",
       "<style scoped>\n",
       "    .dataframe tbody tr th:only-of-type {\n",
       "        vertical-align: middle;\n",
       "    }\n",
       "\n",
       "    .dataframe tbody tr th {\n",
       "        vertical-align: top;\n",
       "    }\n",
       "\n",
       "    .dataframe thead th {\n",
       "        text-align: right;\n",
       "    }\n",
       "</style>\n",
       "<table border=\"1\" class=\"dataframe\">\n",
       "  <thead>\n",
       "    <tr style=\"text-align: right;\">\n",
       "      <th></th>\n",
       "      <th>f_min</th>\n",
       "      <th>min</th>\n",
       "      <th>post</th>\n",
       "      <th>level</th>\n",
       "      <th>in degree</th>\n",
       "      <th>out degree</th>\n",
       "      <th>degree</th>\n",
       "    </tr>\n",
       "    <tr>\n",
       "      <th>node</th>\n",
       "      <th></th>\n",
       "      <th></th>\n",
       "      <th></th>\n",
       "      <th></th>\n",
       "      <th></th>\n",
       "      <th></th>\n",
       "      <th></th>\n",
       "    </tr>\n",
       "  </thead>\n",
       "  <tbody>\n",
       "    <tr>\n",
       "      <th>b0</th>\n",
       "      <td>1</td>\n",
       "      <td>1</td>\n",
       "      <td>1</td>\n",
       "      <td>0</td>\n",
       "      <td>3</td>\n",
       "      <td>0</td>\n",
       "      <td>3</td>\n",
       "    </tr>\n",
       "    <tr>\n",
       "      <th>a1</th>\n",
       "      <td>1</td>\n",
       "      <td>1</td>\n",
       "      <td>2</td>\n",
       "      <td>1</td>\n",
       "      <td>2</td>\n",
       "      <td>1</td>\n",
       "      <td>3</td>\n",
       "    </tr>\n",
       "    <tr>\n",
       "      <th>a2</th>\n",
       "      <td>1</td>\n",
       "      <td>1</td>\n",
       "      <td>3</td>\n",
       "      <td>2</td>\n",
       "      <td>1</td>\n",
       "      <td>1</td>\n",
       "      <td>2</td>\n",
       "    </tr>\n",
       "    <tr>\n",
       "      <th>a3</th>\n",
       "      <td>1</td>\n",
       "      <td>1</td>\n",
       "      <td>4</td>\n",
       "      <td>3</td>\n",
       "      <td>2</td>\n",
       "      <td>1</td>\n",
       "      <td>3</td>\n",
       "    </tr>\n",
       "    <tr>\n",
       "      <th>a4</th>\n",
       "      <td>1</td>\n",
       "      <td>1</td>\n",
       "      <td>5</td>\n",
       "      <td>4</td>\n",
       "      <td>1</td>\n",
       "      <td>1</td>\n",
       "      <td>2</td>\n",
       "    </tr>\n",
       "  </tbody>\n",
       "</table>\n",
       "</div>"
      ],
      "text/plain": [
       "      f_min  min  post  level  in degree  out degree  degree\n",
       "node                                                        \n",
       "b0        1    1     1      0          3           0       3\n",
       "a1        1    1     2      1          2           1       3\n",
       "a2        1    1     3      2          1           1       2\n",
       "a3        1    1     4      3          2           1       3\n",
       "a4        1    1     5      4          1           1       2"
      ]
     },
     "execution_count": null,
     "metadata": {},
     "output_type": "execute_result"
    }
   ],
   "source": [
    "df = graph_data_to_dataframe(example_graph)\n",
    "\n",
    "print('check that the dataframe has all the columns')\n",
    "assert set(df.columns) == set(['level', 'f_min', 'min', 'post', 'in degree', 'out degree', 'degree'])\n",
    "print('- columns: {}'.format(df.columns.tolist()))\n",
    "\n",
    "print('check that the dataframe has all the rows')\n",
    "assert set(df.index) == set(example_graph.nodes)\n",
    "print('- rows:    {}...'.format(list(example_graph.nodes)[0:5]))\n",
    "\n",
    "df.head()"
   ]
  },
  {
   "cell_type": "markdown",
   "metadata": {},
   "source": [
    "Compute and save graph structure, its reachability labels and other per-node info to a file, and restore it.  \n",
    "Don't redo calculations that can be retrieved from a file."
   ]
  },
  {
   "cell_type": "markdown",
   "metadata": {},
   "source": [
    "**TODO**"
   ]
  },
  {
   "cell_type": "markdown",
   "metadata": {},
   "source": [
    "----"
   ]
  },
  {
   "cell_type": "code",
   "execution_count": null,
   "metadata": {},
   "outputs": [
    {
     "name": "stdout",
     "output_type": "stream",
     "text": [
      "Converted 01_tools.ipynb.\n",
      "Converted 02_related.ipynb.\n",
      "Converted 03_example_graphs.ipynb.\n",
      "Converted 05_reachability_index.ipynb.\n",
      "Converted 06_levels.ipynb.\n",
      "Converted 07_interval_labels.ipynb.\n",
      "Converted 08_reach.ipynb.\n",
      "Converted 09_git.ipynb.\n",
      "Converted 10_checkpoint.ipynb.\n",
      "Converted A.09_git_explore.ipynb.\n",
      "Converted index.ipynb.\n"
     ]
    }
   ],
   "source": [
    "#hide\n",
    "# this should be the last cell of the notebook\n",
    "from nbdev.export import notebook2script\n",
    "notebook2script()"
   ]
  }
 ],
 "metadata": {
  "kernelspec": {
   "display_name": "Python 3",
   "language": "python",
   "name": "python3"
  }
 },
 "nbformat": 4,
 "nbformat_minor": 4
}
