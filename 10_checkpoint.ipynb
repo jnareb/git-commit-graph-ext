{
 "cells": [
  {
   "cell_type": "code",
   "execution_count": null,
   "metadata": {},
   "outputs": [],
   "source": [
    "#default_exp checkpoint"
   ]
  },
  {
   "cell_type": "code",
   "execution_count": null,
   "metadata": {},
   "outputs": [],
   "source": [
    "#hide_output\n",
    "%load_ext autoreload\n",
    "%autoreload 2"
   ]
  },
  {
   "cell_type": "markdown",
   "metadata": {},
   "source": [
    "# Checkpointing\n",
    "> Saving and restoring graphs, reachability labels, evaluation results, etc."
   ]
  },
  {
   "cell_type": "code",
   "execution_count": null,
   "metadata": {},
   "outputs": [],
   "source": [
    "#export\n",
    "# creating graphs in Python\n",
    "import networkx as nx\n",
    "# checking for existence of paths, and manipulating paths\n",
    "from pathlib import Path, PurePath\n",
    "# data analysis and manipulation\n",
    "import pandas as pd\n",
    "# reachability labels\n",
    "from git_commit_graph_ext.labelling.levels import find_levels\n",
    "from git_commit_graph_ext.labelling.dfs_intervals import find_dfs_intervals, find_dfs_intervals_extra"
   ]
  },
  {
   "cell_type": "markdown",
   "metadata": {},
   "source": [
    "## Functions for computing reachability labels, and saving them and graph to a file, etc."
   ]
  },
  {
   "cell_type": "code",
   "execution_count": null,
   "metadata": {},
   "outputs": [],
   "source": [
    "# imports for example graphs\n",
    "import git_commit_graph_ext.example_graphs as graphs"
   ]
  },
  {
   "cell_type": "code",
   "execution_count": null,
   "metadata": {},
   "outputs": [
    {
     "name": "stdout",
     "output_type": "stream",
     "text": [
      "the example commit graph 'commit_graph_Stolee' from Stolee blog posts has 23 nodes and 31 edges\n"
     ]
    }
   ],
   "source": [
    "# before tests (test fixture)\n",
    "\n",
    "# example graph\n",
    "example_graph = graphs.commit_graph_Stolee()\n",
    "example_graph_name = 'commit_graph_Stolee'\n",
    "\n",
    "# check that it worked\n",
    "print(\"the example commit graph '{}' from Stolee blog posts has {:d} nodes and {:d} edges\".\n",
    "      format(example_graph_name, example_graph.number_of_nodes(), example_graph.number_of_edges()))"
   ]
  },
  {
   "cell_type": "markdown",
   "metadata": {},
   "source": [
    "### Functions for saving graph structure as `DataFrame` (storing edge list) to a file, and restoring it"
   ]
  },
  {
   "cell_type": "markdown",
   "metadata": {},
   "source": [
    "Helper function to get basename for saving graph and/or graph data to a file (as a dataset)."
   ]
  },
  {
   "cell_type": "code",
   "execution_count": null,
   "metadata": {},
   "outputs": [],
   "source": [
    "#export\n",
    "def _savefile_name(graph_name, out_dir='datasets', kind='df_edgelist', file_format='csv.gz'):\n",
    "    \"\"\"Create filename for storing graph structure and other graph data\n",
    "\n",
    "    This is a helper function used, among others, in ...\n",
    "\n",
    "    Examples:\n",
    "    ---------\n",
    "    >>>> _savefile_name('example_graph')\n",
    "    Path('datasets/example_graph.df_edgelist.csv.gz')\n",
    "\n",
    "    Parameters\n",
    "    ----------\n",
    "    graph_name : str\n",
    "        Name of the graph (`<graph>.name` can be used).\n",
    "\n",
    "    out_dir : str\n",
    "        Directory where saved commit graph data would be stored.\n",
    "        Defaults to \"datasets\".\n",
    "\n",
    "    kind : str\n",
    "        What type of data is stored in a file, and in what representation.\n",
    "        The default value is 'df_edgelist', used to store graph structure in\n",
    "        the edge list format in a `pandas.DataFrame`.\n",
    "\n",
    "    file_format : str\n",
    "        Format of a file, for example how the `DataFrame` is saved.\n",
    "        Defaults to 'csv.gz' (gzip-compressed Comma Separated Values).\n",
    "\n",
    "    Returns\n",
    "    -------\n",
    "    Path\n",
    "        Path to the file storing the graph structure or graph data in\n",
    "        the appropriate representation and appropriate file format.\n",
    "    \"\"\"\n",
    "    # The `out_dir` should not be None\n",
    "    if out_dir is None:\n",
    "        out_dir = \".\"\n",
    "\n",
    "    # compose the basename of the pathname\n",
    "    filename = graph_name\n",
    "    # TODO: there would special case for saving to HDF5 files, which can\n",
    "    # store multiple data in a single file, so there would be no need\n",
    "    # to add <kind> to basename of such output file\n",
    "    if kind is not None and kind != '':\n",
    "        filename += '.' + kind\n",
    "    if file_format is not None and file_format != '':\n",
    "        filename += '.' + file_format\n",
    "    # generate the name of the output file, as `pathlib.Path` object\n",
    "    return Path(out_dir) / filename\n",
    "\n",
    "\n",
    "def _out_basename(graph_name, out_dir='datasets'):\n",
    "    return _savefile_name(graph_name, out_dir=out_dir, kind=None, file_format=None)\n",
    "\n"
   ]
  },
  {
   "cell_type": "markdown",
   "metadata": {},
   "source": [
    "<u>Test</u> that examples from the docstring works:"
   ]
  },
  {
   "cell_type": "code",
   "execution_count": null,
   "metadata": {},
   "outputs": [],
   "source": [
    "assert _savefile_name('example_graph') == Path('datasets/example_graph.df_edgelist.csv.gz')\n",
    "assert _savefile_name('example_graph', kind='adjlist', file_format='txt') == Path('datasets/example_graph.adjlist.txt')\n",
    "assert _savefile_name('example_graph', out_dir='data', kind='adjlist', file_format='txt') == Path('data/example_graph.adjlist.txt')"
   ]
  },
  {
   "cell_type": "markdown",
   "metadata": {},
   "source": [
    "Save graph to a `DataFrame` (saving containing edgelist information), and restore it."
   ]
  },
  {
   "cell_type": "code",
   "execution_count": null,
   "metadata": {},
   "outputs": [],
   "source": [
    "#export\n",
    "def graph_to_dataframe(graph):\n",
    "    return nx.to_pandas_edgelist(graph)\n",
    "\n",
    "\n",
    "def dataframe_to_graph(df):\n",
    "    return nx.from_pandas_edgelist(df, create_using=nx.DiGraph)\n",
    "\n"
   ]
  },
  {
   "cell_type": "markdown",
   "metadata": {},
   "source": [
    "<u>Test</u> that saving to the `DataFrame` and restoring from it works correctly,... up to nodes that are not connected -- those cannot be stored using only edge list data, but with addition of node list it should be possible to restore graph exactly:"
   ]
  },
  {
   "cell_type": "code",
   "execution_count": null,
   "metadata": {},
   "outputs": [
    {
     "name": "stdout",
     "output_type": "stream",
     "text": [
      "ok - number of rows in dataframe with edgelist 31 matches number of edges 31\n",
      "ok - number of edges 31 in restored graph matches number of edges 31 in the original\n",
      "ok - all edges from the original graph got restored\n",
      "ok - all restored nodes are in the original graph\n"
     ]
    }
   ],
   "source": [
    "example_graph_df = graph_to_dataframe(example_graph)\n",
    "assert len(example_graph_df.index) == example_graph.number_of_edges()\n",
    "print('ok - number of rows in dataframe with edgelist {} matches number of edges {}'.\n",
    "      format(len(example_graph_df.index), example_graph.number_of_edges()))\n",
    "restored_graph = dataframe_to_graph(example_graph_df)\n",
    "assert restored_graph.number_of_edges() == example_graph.number_of_edges()\n",
    "print('ok - number of edges {} in restored graph matches number of edges {} in the original'.\n",
    "      format(restored_graph.number_of_edges(), example_graph.number_of_edges()))\n",
    "assert restored_graph.edges == example_graph.edges\n",
    "print('ok - all edges from the original graph got restored')\n",
    "assert set(restored_graph).issubset(example_graph)\n",
    "print('ok - all restored nodes are in the original graph')"
   ]
  },
  {
   "cell_type": "markdown",
   "metadata": {},
   "source": [
    "Save graph to a file (via `DataFrame` containing edgelist information), and restore it"
   ]
  },
  {
   "cell_type": "code",
   "execution_count": null,
   "metadata": {},
   "outputs": [],
   "source": [
    "#export\n",
    "def guess_format(filename):\n",
    "    suffixes = PurePath(filename).suffixes\n",
    "    file_format = suffixes[-1]\n",
    "    if file_format == '.gz' or file_format == '.txt':\n",
    "        file_format = suffixes[-2] + file_format\n",
    "    return file_format[1:]\n",
    "\n",
    "\n",
    "def save_df_to_file(df, filename, output_format='csv.gz'):\n",
    "    if output_format is None:\n",
    "        output_format = guess_format(filename)\n",
    "    if output_format == 'csv' or output_format == 'csv.gz':\n",
    "        df.to_csv(filename)\n",
    "    else:\n",
    "        raise NotImplementedError(\"Writing to '{}' format is not supported\".format(output_format))\n",
    "\n",
    "\n",
    "def save_graph_df(df, graph_name, datasets_dir='datasets', output_format='csv.gz', overwrite=False):\n",
    "    filename = _savefile_name(graph_name, out_dir=datasets_dir,\n",
    "                              kind='df_edgelist', file_format=output_format)\n",
    "    print('-> filename:', filename)\n",
    "    if not overwrite and Path(filename).is_file():\n",
    "        return\n",
    "    save_df_to_file(df, filename, output_format=output_format)\n",
    "\n",
    "\n",
    "def save_graph(graph, graph_name=None, datasets_dir='datasets', output_format='csv.gz', overwrite=False):\n",
    "    df = graph_to_dataframe(graph)\n",
    "    # if `graph_name` is not given, check the `name` attribute of the `graph`\n",
    "    if graph_name is None:\n",
    "        # NOTE: \"'name' in graph\" checks if there is node named 'name' in the graph\n",
    "        if hasattr(graph, 'name'):\n",
    "            graph_name = graph.name\n",
    "        else:\n",
    "            raise RuntimeError(\"Neither 'graph_name' parameter given, nor 'graph' has 'name' attribute\")\n",
    "\n",
    "    print('-> graph_name:', graph_name)\n",
    "    save_graph_df(df, graph_name,\n",
    "                  datasets_dir=datasets_dir, output_format=output_format, overwrite=overwrite)\n",
    "\n",
    "\n",
    "def load_df_from_file(filename, input_format='csv.gz'):\n",
    "    if input_format is None:\n",
    "        input_format = guess_format(filename)\n",
    "    if input_format == 'csv' or input_format == 'csv.gz':\n",
    "        return pd.read_csv(filename, index_col=0)\n",
    "    else:\n",
    "        raise NotImplementedError(\"Reading from '{}' format is not supported\".format(input_format))\n",
    "\n",
    "\n",
    "def load_graph_df(graph_name, datasets_dir='datasets', input_format='csv.gz'):\n",
    "    filename = _savefile_name(graph_name, out_dir=datasets_dir,\n",
    "                              kind='df_edgelist', file_format=input_format)\n",
    "    print('<- filename:', filename)\n",
    "    return load_df_from_file(filename, input_format=input_format)\n",
    "\n"
   ]
  },
  {
   "cell_type": "markdown",
   "metadata": {},
   "source": [
    "<u>Test</u> guessing file format from file name"
   ]
  },
  {
   "cell_type": "code",
   "execution_count": null,
   "metadata": {},
   "outputs": [],
   "source": [
    "assert guess_format('datasets/hellogitworld-commit_graph.df_edgelist.csv.gz') == 'csv.gz'\n",
    "assert guess_format('datasets/hellogitworld-commit_graph.df_edgelist.csv') == 'csv'\n",
    "assert guess_format('datasets/hellogitworld-commit_graph.adjlist.txt') == 'adjlist.txt'"
   ]
  },
  {
   "cell_type": "markdown",
   "metadata": {},
   "source": [
    "<u>Test</u> saving graph structure (via `DataFrame`) to a file, and restoring / reading such `DataFrame`."
   ]
  },
  {
   "cell_type": "code",
   "execution_count": null,
   "metadata": {},
   "outputs": [
    {
     "name": "stdout",
     "output_type": "stream",
     "text": [
      "graph.name = \n",
      "testing save_graph()\n",
      "-> graph_name: \n",
      "-> filename: datasets\\.df_edgelist.csv.gz\n",
      "testing save_graph_df()\n",
      "-> filename: datasets\\commit_graph_Stolee.df_edgelist.csv.gz\n",
      "there should be appropriately named file in the list below:\n"
     ]
    },
    {
     "data": {
      "text/plain": [
       "['commit_graph_Stolee.df_edgelist.csv.gz                 231']"
      ]
     },
     "execution_count": null,
     "metadata": {},
     "output_type": "execute_result"
    }
   ],
   "source": [
    "print('graph.name = {}'.format(example_graph.name))\n",
    "print('testing save_graph()')\n",
    "save_graph(example_graph)\n",
    "print('testing save_graph_df()')\n",
    "save_graph_df(example_graph_df, graph_name=example_graph_name)\n",
    "print('there should be appropriately named file in the list below:')\n",
    "[\"{name:<50} {size:>7}\".format(name=p.name, size=p.stat().st_size)\n",
    " for p in Path(\"datasets\").glob(example_graph_name+\"*\")]"
   ]
  },
  {
   "cell_type": "code",
   "execution_count": null,
   "metadata": {},
   "outputs": [
    {
     "name": "stdout",
     "output_type": "stream",
     "text": [
      "restoring graph named \"commit_graph_Stolee\"\n",
      "<- filename: datasets\\commit_graph_Stolee.df_edgelist.csv.gz\n",
      "ok - dataframe and restored dataframe are equal\n"
     ]
    }
   ],
   "source": [
    "print('restoring graph named \"{}\"'.format(example_graph_name))\n",
    "df = load_graph_df(example_graph_name)\n",
    "assert example_graph_df.equals(df)\n",
    "print('ok - dataframe and restored dataframe are equal')"
   ]
  },
  {
   "cell_type": "markdown",
   "metadata": {},
   "source": [
    "### Functions for computing reachability levels, saving them to a file (as `DataFrame`), and restoring them"
   ]
  },
  {
   "cell_type": "markdown",
   "metadata": {},
   "source": [
    "Compute levels and min-post intervals for a graph, and store them as attributes of the graph object"
   ]
  },
  {
   "cell_type": "code",
   "execution_count": null,
   "metadata": {},
   "outputs": [],
   "source": [
    "#export\n",
    "def compute_reachability_labels(graph, recompute=False):\n",
    "    if recompute or not hasattr(graph, 'lvl'):\n",
    "        graph.lvl = find_levels(graph)\n",
    "    if recompute or not hasattr(graph, 'mpi_ext'):\n",
    "        graph.mpi_ext = find_dfs_intervals_extra(graph)\n",
    "    return graph\n",
    "\n"
   ]
  },
  {
   "cell_type": "markdown",
   "metadata": {},
   "source": [
    "<u>Test</u> computing reachability labels and saving them as attributes of the graph object"
   ]
  },
  {
   "cell_type": "code",
   "execution_count": null,
   "metadata": {},
   "outputs": [
    {
     "name": "stdout",
     "output_type": "stream",
     "text": [
      "compute reachability labels for commit_graph_Stolee graph\n",
      "we should see lvl and mpi_ext among dict-values public attributes\n",
      "- graph\n",
      "- pos\n",
      "- lvl\n",
      "- mpi_ext\n",
      "ok - graph has both \"lvl\" and \"mpi_ext\" attributes\n",
      "reachability labels should be computed for all nodes\n",
      "ok - both lvl and mpi_ext keys are all 23 graph nodes\n"
     ]
    }
   ],
   "source": [
    "print('compute reachability labels for {} graph'.format(example_graph_name))\n",
    "compute_reachability_labels(example_graph)\n",
    "\n",
    "print('we should see {} and {} among dict-values public attributes'.format('lvl', 'mpi_ext'))\n",
    "for (attr, val) in example_graph.__dict__.items():\n",
    "    if isinstance(val, dict) and not attr.startswith('_'):\n",
    "        print('- {:s}'.format(attr))\n",
    "assert hasattr(example_graph, 'lvl')\n",
    "assert hasattr(example_graph, 'mpi_ext')\n",
    "print('ok - graph has both \"{}\" and \"{}\" attributes'.format('lvl', 'mpi_ext'))\n",
    "\n",
    "print('reachability labels should be computed for all nodes')\n",
    "assert set(example_graph.lvl.keys()) == set(example_graph.nodes)\n",
    "assert set(example_graph.mpi_ext.keys()) == set(example_graph.nodes)\n",
    "print('ok - both lvl and mpi_ext keys are all {} graph nodes'.format(len(example_graph.nodes)))"
   ]
  },
  {
   "cell_type": "markdown",
   "metadata": {},
   "source": [
    "Store reachability labels and per-node information in a `DataFrame`"
   ]
  },
  {
   "cell_type": "code",
   "execution_count": null,
   "metadata": {},
   "outputs": [],
   "source": [
    "#export\n",
    "def graph_data_to_dataframe(graph, append_to=None):\n",
    "    compute_reachability_labels(graph)\n",
    "\n",
    "    # create the DataFrame and name its index\n",
    "    df = pd.DataFrame.from_dict(graph.mpi_ext, orient='index', columns=['f_min', 'min', 'post'])\n",
    "    df.index.name = 'node'\n",
    "    # add other reachability labels\n",
    "    df['level'] = pd.Series(graph.lvl)\n",
    "    # add and compute other data\n",
    "    df['in degree'] = pd.Series(dict(graph.in_degree()))\n",
    "    df['out degree'] = pd.Series(dict(graph.out_degree()))\n",
    "    df['degree'] = df['in degree'] + df['out degree']\n",
    "\n",
    "    # append if needed\n",
    "    if append_to:\n",
    "        df = pd.concat([append_to, df], axis=1, join='inner')\n",
    "\n",
    "    return df\n",
    "\n"
   ]
  },
  {
   "cell_type": "markdown",
   "metadata": {},
   "source": [
    "<u>Test</u> computing all per-node data for a graph and storing them in `DataFrame`"
   ]
  },
  {
   "cell_type": "code",
   "execution_count": null,
   "metadata": {},
   "outputs": [
    {
     "name": "stdout",
     "output_type": "stream",
     "text": [
      "check that the dataframe has all the columns\n",
      "- columns: ['f_min', 'min', 'post', 'level', 'in degree', 'out degree', 'degree']\n",
      "check that the dataframe has all the rows\n",
      "- rows:    ['A', 'a7', 'a5', 'a4', 'a3']...\n"
     ]
    },
    {
     "data": {
      "text/html": [
       "<div>\n",
       "<style scoped>\n",
       "    .dataframe tbody tr th:only-of-type {\n",
       "        vertical-align: middle;\n",
       "    }\n",
       "\n",
       "    .dataframe tbody tr th {\n",
       "        vertical-align: top;\n",
       "    }\n",
       "\n",
       "    .dataframe thead th {\n",
       "        text-align: right;\n",
       "    }\n",
       "</style>\n",
       "<table border=\"1\" class=\"dataframe\">\n",
       "  <thead>\n",
       "    <tr style=\"text-align: right;\">\n",
       "      <th></th>\n",
       "      <th>f_min</th>\n",
       "      <th>min</th>\n",
       "      <th>post</th>\n",
       "      <th>level</th>\n",
       "      <th>in degree</th>\n",
       "      <th>out degree</th>\n",
       "      <th>degree</th>\n",
       "    </tr>\n",
       "    <tr>\n",
       "      <th>node</th>\n",
       "      <th></th>\n",
       "      <th></th>\n",
       "      <th></th>\n",
       "      <th></th>\n",
       "      <th></th>\n",
       "      <th></th>\n",
       "      <th></th>\n",
       "    </tr>\n",
       "  </thead>\n",
       "  <tbody>\n",
       "    <tr>\n",
       "      <th>b0</th>\n",
       "      <td>1</td>\n",
       "      <td>1</td>\n",
       "      <td>1</td>\n",
       "      <td>0</td>\n",
       "      <td>3</td>\n",
       "      <td>0</td>\n",
       "      <td>3</td>\n",
       "    </tr>\n",
       "    <tr>\n",
       "      <th>a1</th>\n",
       "      <td>1</td>\n",
       "      <td>1</td>\n",
       "      <td>2</td>\n",
       "      <td>1</td>\n",
       "      <td>2</td>\n",
       "      <td>1</td>\n",
       "      <td>3</td>\n",
       "    </tr>\n",
       "    <tr>\n",
       "      <th>a2</th>\n",
       "      <td>1</td>\n",
       "      <td>1</td>\n",
       "      <td>3</td>\n",
       "      <td>2</td>\n",
       "      <td>1</td>\n",
       "      <td>1</td>\n",
       "      <td>2</td>\n",
       "    </tr>\n",
       "    <tr>\n",
       "      <th>a3</th>\n",
       "      <td>1</td>\n",
       "      <td>1</td>\n",
       "      <td>4</td>\n",
       "      <td>3</td>\n",
       "      <td>2</td>\n",
       "      <td>1</td>\n",
       "      <td>3</td>\n",
       "    </tr>\n",
       "    <tr>\n",
       "      <th>a4</th>\n",
       "      <td>1</td>\n",
       "      <td>1</td>\n",
       "      <td>5</td>\n",
       "      <td>4</td>\n",
       "      <td>1</td>\n",
       "      <td>1</td>\n",
       "      <td>2</td>\n",
       "    </tr>\n",
       "  </tbody>\n",
       "</table>\n",
       "</div>"
      ],
      "text/plain": [
       "      f_min  min  post  level  in degree  out degree  degree\n",
       "node                                                        \n",
       "b0        1    1     1      0          3           0       3\n",
       "a1        1    1     2      1          2           1       3\n",
       "a2        1    1     3      2          1           1       2\n",
       "a3        1    1     4      3          2           1       3\n",
       "a4        1    1     5      4          1           1       2"
      ]
     },
     "execution_count": null,
     "metadata": {},
     "output_type": "execute_result"
    }
   ],
   "source": [
    "df = graph_data_to_dataframe(example_graph)\n",
    "\n",
    "print('check that the dataframe has all the columns')\n",
    "assert set(df.columns) == set(['level', 'f_min', 'min', 'post', 'in degree', 'out degree', 'degree'])\n",
    "print('- columns: {}'.format(df.columns.tolist()))\n",
    "\n",
    "print('check that the dataframe has all the rows')\n",
    "assert set(df.index) == set(example_graph.nodes)\n",
    "print('- rows:    {}...'.format(list(example_graph.nodes)[0:5]))\n",
    "\n",
    "df.head()"
   ]
  },
  {
   "cell_type": "markdown",
   "metadata": {},
   "source": [
    "Compute and save graph structure, its reachability labels and other per-node info to a file, and restore it.  \n",
    "Don't redo calculations that can be retrieved from a file."
   ]
  },
  {
   "cell_type": "code",
   "execution_count": null,
   "metadata": {},
   "outputs": [],
   "source": [
    "#export\n",
    "def compute_cached_df(code, filename, file_format=None, dont_save=False):\n",
    "    \"\"\"Compute `DataFrame`, or retrieve it from a given file if it exists\n",
    "\n",
    "    Parameters:\n",
    "    -----------\n",
    "    code : callable\n",
    "        Code to call if the `filename` file does not exist.  It should be\n",
    "        a parameter-less function that returns a `DataFrame`.\n",
    "\n",
    "    filename : str | Path\n",
    "        Name of the file that, if exists, stores the `DataFrame`\n",
    "\n",
    "    file_format : str\n",
    "        Format of a file, for example how the `DataFrame` is saved.\n",
    "        Defaults to None (guess from the file name).\n",
    "\n",
    "    Returns:\n",
    "    --------\n",
    "    DataFrame\n",
    "        Recomputed or loaded from provided file DataFrame.\n",
    "    \"\"\"\n",
    "    if Path(filename).is_file():\n",
    "        return load_df_from_file(filename, input_format=file_format)\n",
    "    else:\n",
    "        df = code()\n",
    "        if not dont_save:\n",
    "            save_df_to_file(df, filename, output_format=file_format)\n",
    "        return df\n",
    "\n"
   ]
  },
  {
   "cell_type": "markdown",
   "metadata": {},
   "source": [
    "<u>Test</u> that the code runs if the file does not exist."
   ]
  },
  {
   "cell_type": "code",
   "execution_count": null,
   "metadata": {},
   "outputs": [
    {
     "name": "stdout",
     "output_type": "stream",
     "text": [
      "the provided code ran\n"
     ]
    }
   ],
   "source": [
    "compute_cached_df(lambda: print(\"the provided code ran\"), 'this_file_does_not_exist.xxx', dont_save=True)"
   ]
  },
  {
   "cell_type": "code",
   "execution_count": null,
   "metadata": {},
   "outputs": [],
   "source": [
    "test_df = pd.DataFrame({'col1': [1, 2], 'col2': [3, 4]})\n",
    "assert compute_cached_df(lambda: test_df, 'this_file_does_not_exist.xxx', dont_save=True)\\\n",
    "                         .equals(test_df)"
   ]
  },
  {
   "cell_type": "markdown",
   "metadata": {},
   "source": [
    "<u>Test</u> that the code do not run if the file exists, and that we get what we saved"
   ]
  },
  {
   "cell_type": "code",
   "execution_count": null,
   "metadata": {},
   "outputs": [],
   "source": [
    "expect_df = pd.DataFrame({'col1': [1, 2], 'col2': [3, 4]})\n",
    "df_filename = 'datasets/example_dataframe.csv.gz'\n",
    "save_df_to_file(expect_df, df_filename)\n",
    "actual_df = compute_cached_df(lambda: print(\"THIS SHOULD NOT RUN\"), df_filename)\n",
    "assert actual_df.equals(expect_df)"
   ]
  },
  {
   "cell_type": "markdown",
   "metadata": {},
   "source": [
    "<u>Test</u> that `compute_cached_df` saves results to a file"
   ]
  },
  {
   "cell_type": "code",
   "execution_count": null,
   "metadata": {},
   "outputs": [
    {
     "name": "stdout",
     "output_type": "stream",
     "text": [
      "dataframe:\n",
      "   col1  col2\n",
      "0     1     3\n",
      "1     2     4\n",
      "\n",
      "ok - extracted dataframe matches the one being saved\n",
      "ok - there exist file \"datasets/example_dataframe.csv.gz\"\n",
      "ok - the `example_dataframe()` was called only 1 time (actual: 1 time(s))\n"
     ]
    }
   ],
   "source": [
    "_counter = 0\n",
    "\n",
    "def example_dataframe():\n",
    "    global _counter\n",
    "    _counter = _counter + 1\n",
    "    return pd.DataFrame({'col1': [1, 2], 'col2': [3, 4]})\n",
    "\n",
    "expect_df = example_dataframe()\n",
    "_counter = 0\n",
    "\n",
    "df_filename = 'datasets/example_dataframe.csv.gz'\n",
    "# Path(df_filename).unlink(missing_ok=True)\n",
    "if not Path(df_filename).exists():\n",
    "    Path(df_filename).unlink()\n",
    "\n",
    "# first time it should perform computations and save, second time get from file\n",
    "actual_df = compute_cached_df(example_dataframe, df_filename)\n",
    "actual_df = compute_cached_df(example_dataframe, df_filename)\n",
    "\n",
    "print('dataframe:\\n{}\\n'.format(actual_df))\n",
    "\n",
    "# tests\n",
    "assert actual_df.equals(expect_df)\n",
    "print('ok - extracted dataframe matches the one being saved')\n",
    "assert Path(df_filename).exists() and Path(df_filename).is_file()\n",
    "print('ok - there exist file \"{}\"'.format(df_filename))\n",
    "assert _counter == 1\n",
    "print('ok - the `example_dataframe()` was called only 1 time (actual: {} time(s))'.format(_counter))"
   ]
  },
  {
   "cell_type": "markdown",
   "metadata": {},
   "source": [
    "Compute `DataFrame` with graph structure (`compute_cached_graph_df()`) and reachability labels (`compute_cached_reachability_labels_df()`) and save it to a file, or retrieve it from a file if it exists."
   ]
  },
  {
   "cell_type": "code",
   "execution_count": null,
   "metadata": {},
   "outputs": [],
   "source": [
    "#export\n",
    "def compute_cached_graph_df(graph_generator, graph_name,\n",
    "                            datasets_dir='datasets', file_format='csv.gz'):\n",
    "    filename = _savefile_name(graph_name, out_dir=datasets_dir,\n",
    "                              kind='df_edgelist', file_format=file_format)\n",
    "    return compute_cached_df(lambda: graph_to_dataframe(graph_generator()), filename)\n",
    "\n",
    "\n",
    "def compute_cached_reachability_labels_df(graph, graph_name=None, append_to=None,\n",
    "                                          datasets_dir='datasets', file_format='csv.gz'):\n",
    "    # if `graph_name` is not given, check the `name` attribute of the `graph`\n",
    "    if graph_name is None:\n",
    "        # NOTE: \"'name' in graph\" checks if there is node named 'name' in the graph\n",
    "        if hasattr(graph, 'name'):\n",
    "            graph_name = graph.name\n",
    "        else:\n",
    "            raise RuntimeError(\"Neither 'graph_name' parameter given, nor 'graph' has 'name' attribute\")\n",
    "    # generate filename to save to\n",
    "    filename = _savefile_name(graph_name, out_dir=datasets_dir,\n",
    "                              kind='df_nodedata', file_format=file_format)\n",
    "    # return computer or retrieved dataframe\n",
    "    return compute_cached_df(lambda: graph_data_to_dataframe(graph, append_to=append_to), filename)\n",
    "\n"
   ]
  },
  {
   "cell_type": "markdown",
   "metadata": {},
   "source": [
    "<u>Test</u> `compute_cached_graph_df()` and `compute_cached_reachability_labels_df()`"
   ]
  },
  {
   "cell_type": "code",
   "execution_count": null,
   "metadata": {},
   "outputs": [],
   "source": [
    "graph_df = compute_cached_graph_df(graphs.commit_graph_Stolee, 'commit_graph_Stolee-test')\n",
    "assert graph_df.equals(graph_to_dataframe(graphs.commit_graph_Stolee()))\n",
    "\n",
    "graph_data_df = compute_cached_reachability_labels_df(example_graph, example_graph_name)\n",
    "assert graph_data_df.equals(graph_data_to_dataframe(example_graph))"
   ]
  },
  {
   "cell_type": "markdown",
   "metadata": {},
   "source": [
    "To generate graph out of dataframe, use `dataframe_to_graph()`, defined earlier.\n",
    "\n",
    "To retrieve reachability labels from the dataframe, and store them in graph attributes, use `dataframe_to_reachability_labels()`."
   ]
  },
  {
   "cell_type": "code",
   "execution_count": null,
   "metadata": {},
   "outputs": [],
   "source": [
    "#export\n",
    "def dataframe_to_reachability_labels(df, graph, recompute=False):\n",
    "    #print('..dataframe_to_reachability_labels({}, {!r}, {})'.format(type(df), graph, recompute))\n",
    "    if recompute or not hasattr(graph, 'lvl'):\n",
    "        #print(\"...recovering 'level' data\")\n",
    "        graph.lvl = df['level'].to_dict()\n",
    "    if recompute or not hasattr(graph, 'mpi_ext'):\n",
    "        #print(\"...recovering 'mpi_ext' data\")\n",
    "        graph.mpi_ext = df[['f_min', 'min', 'post']].to_dict(orient='index')\n",
    "    return graph"
   ]
  },
  {
   "cell_type": "code",
   "execution_count": null,
   "metadata": {},
   "outputs": [],
   "source": [
    "# check the assumptions of the code\n",
    "assert df[['f_min', 'min', 'post']].to_dict(orient='index') == example_graph.mpi_ext\n",
    "assert df['level'].to_dict() == example_graph.lvl"
   ]
  },
  {
   "cell_type": "markdown",
   "metadata": {},
   "source": [
    "Generate graph, or retrieve it from saved `DataFrame` with edge list data.\n",
    "\n",
    "Generate reachability labels for the graph, or retrieve them from saved `DataFrame` with per-node data, adding missing nodes if necessary"
   ]
  },
  {
   "cell_type": "code",
   "execution_count": null,
   "metadata": {},
   "outputs": [],
   "source": [
    "#export\n",
    "def compute_cached_graph(graph_generator, graph_name, datasets_dir='datasets', file_format='csv.gz'):\n",
    "    filename = _savefile_name(graph_name, out_dir=datasets_dir,\n",
    "                              kind='df_edgelist', file_format=file_format)\n",
    "    # generate graph and edgelist dataframe, and return dataframe\n",
    "    graph = None\n",
    "    def generate_graph_df():\n",
    "        graph = graph_generator()\n",
    "        graph.df_edgelist = graph_to_dataframe(graph)\n",
    "        return graph.df_edgelist\n",
    "\n",
    "    graph_df = compute_cached_df(generate_graph_df, filename)\n",
    "\n",
    "    # if retrieved from the cache, regenerate graph\n",
    "    if graph is None:\n",
    "        graph = dataframe_to_graph(graph_df)\n",
    "        graph.df_edgelist = graph_df\n",
    "\n",
    "    if not hasattr(graph, 'name'):\n",
    "        graph.name = graph_name\n",
    "\n",
    "    #print('graph_name: {}'.format(graph_name))\n",
    "    #print('graph.name: {}'.format(graph.name))\n",
    "\n",
    "    return graph\n",
    "\n",
    "\n",
    "def compute_cached_reachability_labels(graph, graph_name=None, add_missing_nodes=True,\n",
    "                                       datasets_dir='datasets', file_format='csv.gz'):\n",
    "    graph.df_nodedata = compute_cached_reachability_labels_df(graph, graph_name=graph_name,\n",
    "                                                              datasets_dir=datasets_dir, file_format=file_format)\n",
    "    dataframe_to_reachability_labels(graph.df_nodedata, graph)\n",
    "    if add_missing_nodes and set(graph.nodes) < set(graph.df_nodedata.index):\n",
    "        graph.add_nodes_from(set(graph.df_nodedata.index) - set(graph.nodes))\n",
    "    \n",
    "    return graph\n",
    "\n"
   ]
  },
  {
   "cell_type": "markdown",
   "metadata": {},
   "source": [
    "<u>Test</u> that `compute_cached_graph()` works"
   ]
  },
  {
   "cell_type": "code",
   "execution_count": null,
   "metadata": {},
   "outputs": [
    {
     "name": "stdout",
     "output_type": "stream",
     "text": [
      "ok - retrieved/computed graph has the same nodes\n",
      "ok - retrieved/computed graph has the same edges\n",
      "\n",
      "public attributes of retrieved/computed graph\n",
      "- graph (<class 'dict'>)\n",
      "- df_edgelist (<class 'pandas.core.frame.DataFrame'>)\n",
      "- nodes (<class 'networkx.classes.reportviews.NodeView'>)\n",
      "\n",
      "public attributes of example graph\n",
      "- graph (<class 'dict'>)\n",
      "- pos (<class 'dict'>)\n",
      "- nodes (<class 'networkx.classes.reportviews.NodeView'>)\n"
     ]
    }
   ],
   "source": [
    "expect_graph = graphs.commit_graph_Stolee()\n",
    "actual_graph = compute_cached_graph(graphs.commit_graph_Stolee, 'commit_graph_Stolee-test')\n",
    "assert expect_graph.nodes == actual_graph.nodes\n",
    "print('ok - retrieved/computed graph has the same nodes')\n",
    "assert expect_graph.edges == actual_graph.edges\n",
    "print('ok - retrieved/computed graph has the same edges')\n",
    "print('\\npublic attributes of retrieved/computed graph')\n",
    "for (attr, val) in actual_graph.__dict__.items():\n",
    "    if not isinstance(val, type) and not attr.startswith('_'):\n",
    "        print('- {:s} ({})'.format(attr, type(val)))\n",
    "        \n",
    "print('\\npublic attributes of example graph')\n",
    "for (attr, val) in expect_graph.__dict__.items():\n",
    "    if not isinstance(val, type)  and not attr.startswith('_'):\n",
    "        print('- {:s} ({})'.format(attr, type(val)))"
   ]
  },
  {
   "cell_type": "markdown",
   "metadata": {},
   "source": [
    "<u>Test</u> that `compute_cached_reachability_labels()` works"
   ]
  },
  {
   "cell_type": "code",
   "execution_count": null,
   "metadata": {},
   "outputs": [
    {
     "name": "stdout",
     "output_type": "stream",
     "text": [
      "public attributes of the graph named \"commit_graph_Stolee-test\"\n",
      "- graph (<class 'dict'>)\n",
      "- pos (<class 'dict'>)\n",
      "- df_nodedata (<class 'pandas.core.frame.DataFrame'>)\n",
      "- lvl (<class 'dict'>)\n",
      "- mpi_ext (<class 'dict'>)\n",
      "- nodes (<class 'networkx.classes.reportviews.NodeView'>)\n",
      "\n",
      "check that the dataframe has all the columns\n",
      "- columns: ['f_min', 'min', 'post', 'level', 'in degree', 'out degree', 'degree']\n",
      "check that the dataframe has all the rows\n",
      "- rows:    ['A', 'a7', 'a5', 'a4', 'a3']...\n",
      "check that graph has \"lvl\" attribute\n",
      "- lvls:    {'b0': 0, 'a1': 1, 'a2': 2, 'a3': 3, 'a4': 4}...\n",
      "check that graph has \"mpi_ext\" attribute\n",
      "- mpi_ext: {'b0': {'f_min': 1, 'min': 1, 'post': 1}, 'a1': {'f_min': 1, 'min': 1, 'post': 2}}...\n"
     ]
    },
    {
     "data": {
      "text/html": [
       "<div>\n",
       "<style scoped>\n",
       "    .dataframe tbody tr th:only-of-type {\n",
       "        vertical-align: middle;\n",
       "    }\n",
       "\n",
       "    .dataframe tbody tr th {\n",
       "        vertical-align: top;\n",
       "    }\n",
       "\n",
       "    .dataframe thead th {\n",
       "        text-align: right;\n",
       "    }\n",
       "</style>\n",
       "<table border=\"1\" class=\"dataframe\">\n",
       "  <thead>\n",
       "    <tr style=\"text-align: right;\">\n",
       "      <th></th>\n",
       "      <th>f_min</th>\n",
       "      <th>min</th>\n",
       "      <th>post</th>\n",
       "      <th>level</th>\n",
       "      <th>in degree</th>\n",
       "      <th>out degree</th>\n",
       "      <th>degree</th>\n",
       "    </tr>\n",
       "    <tr>\n",
       "      <th>node</th>\n",
       "      <th></th>\n",
       "      <th></th>\n",
       "      <th></th>\n",
       "      <th></th>\n",
       "      <th></th>\n",
       "      <th></th>\n",
       "      <th></th>\n",
       "    </tr>\n",
       "  </thead>\n",
       "  <tbody>\n",
       "    <tr>\n",
       "      <th>b0</th>\n",
       "      <td>1</td>\n",
       "      <td>1</td>\n",
       "      <td>1</td>\n",
       "      <td>0</td>\n",
       "      <td>3</td>\n",
       "      <td>0</td>\n",
       "      <td>3</td>\n",
       "    </tr>\n",
       "    <tr>\n",
       "      <th>a1</th>\n",
       "      <td>1</td>\n",
       "      <td>1</td>\n",
       "      <td>2</td>\n",
       "      <td>1</td>\n",
       "      <td>2</td>\n",
       "      <td>1</td>\n",
       "      <td>3</td>\n",
       "    </tr>\n",
       "    <tr>\n",
       "      <th>a2</th>\n",
       "      <td>1</td>\n",
       "      <td>1</td>\n",
       "      <td>3</td>\n",
       "      <td>2</td>\n",
       "      <td>1</td>\n",
       "      <td>1</td>\n",
       "      <td>2</td>\n",
       "    </tr>\n",
       "    <tr>\n",
       "      <th>a3</th>\n",
       "      <td>1</td>\n",
       "      <td>1</td>\n",
       "      <td>4</td>\n",
       "      <td>3</td>\n",
       "      <td>2</td>\n",
       "      <td>1</td>\n",
       "      <td>3</td>\n",
       "    </tr>\n",
       "    <tr>\n",
       "      <th>a4</th>\n",
       "      <td>1</td>\n",
       "      <td>1</td>\n",
       "      <td>5</td>\n",
       "      <td>4</td>\n",
       "      <td>1</td>\n",
       "      <td>1</td>\n",
       "      <td>2</td>\n",
       "    </tr>\n",
       "  </tbody>\n",
       "</table>\n",
       "</div>"
      ],
      "text/plain": [
       "      f_min  min  post  level  in degree  out degree  degree\n",
       "node                                                        \n",
       "b0        1    1     1      0          3           0       3\n",
       "a1        1    1     2      1          2           1       3\n",
       "a2        1    1     3      2          1           1       2\n",
       "a3        1    1     4      3          2           1       3\n",
       "a4        1    1     5      4          1           1       2"
      ]
     },
     "execution_count": null,
     "metadata": {},
     "output_type": "execute_result"
    }
   ],
   "source": [
    "some_graph = graphs.commit_graph_Stolee()\n",
    "compute_cached_reachability_labels(some_graph, 'commit_graph_Stolee-test')\n",
    "compute_cached_reachability_labels(some_graph, 'commit_graph_Stolee-test')\n",
    "\n",
    "#print('')\n",
    "print('public attributes of the graph named \"{}\"'.format('commit_graph_Stolee-test'))\n",
    "for (attr, val) in some_graph.__dict__.items():\n",
    "    if not isinstance(val, type)  and not attr.startswith('_'):\n",
    "        print('- {!s} ({})'.format(attr, type(val)))\n",
    "\n",
    "print('')\n",
    "df = some_graph.df_nodedata\n",
    "print('check that the dataframe has all the columns')\n",
    "assert set(df.columns) == set(['level', 'f_min', 'min', 'post', 'in degree', 'out degree', 'degree'])\n",
    "print('- columns: {}'.format(df.columns.tolist()))\n",
    "\n",
    "print('check that the dataframe has all the rows')\n",
    "assert set(df.index) == set(some_graph.nodes)\n",
    "print('- rows:    {}...'.format(list(example_graph.nodes)[0:5]))        \n",
    "\n",
    "print('check that graph has \"lvl\" attribute')\n",
    "assert hasattr(some_graph, 'lvl')\n",
    "print('- lvls:    {}...'.format({k: some_graph.lvl[k] for k in list(some_graph.lvl)[:5]}))\n",
    "\n",
    "print('check that graph has \"mpi_ext\" attribute')\n",
    "assert hasattr(some_graph, 'mpi_ext')\n",
    "print('- mpi_ext: {}...'.format({k: some_graph.mpi_ext[k] for k in list(some_graph.mpi_ext)[:2]}))\n",
    "\n",
    "some_graph.df_nodedata.head()"
   ]
  },
  {
   "cell_type": "markdown",
   "metadata": {},
   "source": [
    "----"
   ]
  },
  {
   "cell_type": "code",
   "execution_count": null,
   "metadata": {},
   "outputs": [
    {
     "name": "stdout",
     "output_type": "stream",
     "text": [
      "Converted 01_tools.ipynb.\n",
      "Converted 02_related.ipynb.\n",
      "Converted 03_example_graphs.ipynb.\n",
      "Converted 05_reachability_index.ipynb.\n",
      "Converted 06_levels.ipynb.\n",
      "Converted 07_interval_labels.ipynb.\n",
      "Converted 08_reach.ipynb.\n",
      "Converted 09_git.ipynb.\n",
      "Converted 10_checkpoint.ipynb.\n",
      "Converted A.09_git_explore.ipynb.\n",
      "Converted index.ipynb.\n"
     ]
    }
   ],
   "source": [
    "#hide\n",
    "# this should be the last cell of the notebook\n",
    "from nbdev.export import notebook2script\n",
    "notebook2script()"
   ]
  }
 ],
 "metadata": {
  "kernelspec": {
   "display_name": "Python 3",
   "language": "python",
   "name": "python3"
  }
 },
 "nbformat": 4,
 "nbformat_minor": 4
}
