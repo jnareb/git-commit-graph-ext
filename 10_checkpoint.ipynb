{
 "cells": [
  {
   "cell_type": "code",
   "execution_count": null,
   "metadata": {},
   "outputs": [],
   "source": [
    "#default_exp checkpoint"
   ]
  },
  {
   "cell_type": "code",
   "execution_count": null,
   "metadata": {},
   "outputs": [
    {
     "name": "stdout",
     "output_type": "stream",
     "text": [
      "The autoreload extension is already loaded. To reload it, use:\n",
      "  %reload_ext autoreload\n"
     ]
    }
   ],
   "source": [
    "#hide_output\n",
    "%load_ext autoreload\n",
    "%autoreload 2"
   ]
  },
  {
   "cell_type": "markdown",
   "metadata": {},
   "source": [
    "# Checkpointing\n",
    "> Saving and restoring graphs, reachability labels, evaluation results, etc."
   ]
  },
  {
   "cell_type": "code",
   "execution_count": null,
   "metadata": {},
   "outputs": [],
   "source": [
    "#export\n",
    "# creating graphs in Python\n",
    "import networkx as nx\n",
    "# calling git commands\n",
    "from pathlib import Path\n",
    "# data analysis and manipulation\n",
    "import pandas as pd\n",
    "# reachability labels\n",
    "from git_commit_graph_ext.labelling.levels import find_levels\n",
    "from git_commit_graph_ext.labelling.dfs_intervals import find_dfs_intervals, find_dfs_intervals_extra"
   ]
  },
  {
   "cell_type": "markdown",
   "metadata": {},
   "source": [
    "### Functions for computing reachability labels, and saving them and graph to a file (TODO)\n",
    "> DOING: move those to `10_checkpoint.ipynb` (currently not existing)"
   ]
  },
  {
   "cell_type": "code",
   "execution_count": null,
   "metadata": {},
   "outputs": [],
   "source": [
    "#temporary imports\n",
    "from git_commit_graph_ext.commit_graph import commit_graph"
   ]
  },
  {
   "cell_type": "code",
   "execution_count": null,
   "metadata": {},
   "outputs": [
    {
     "name": "stdout",
     "output_type": "stream",
     "text": [
      "the commit graph of hellogitworld.git repository has 55 nodes and 53 edges\n"
     ]
    }
   ],
   "source": [
    "# before tests (test fixture)\n",
    "repo_url=\"https://github.com/githubtraining/hellogitworld\"\n",
    "repo_path=\"repos/hellogitworld.git\"\n",
    "repo_name=\"hellogitworld.git\"\n",
    "#rmtree(repo_path, ignore_errors=True)\n",
    "\n",
    "# get commit graph of remote repository, without re-cloning or re-computing\n",
    "repo_graph = commit_graph(repo_url, repo_name)\n",
    "\n",
    "# check that it worked\n",
    "print(\"the commit graph of {} repository has {:d} nodes and {:d} edges\".\n",
    "      format(repo_name, repo_graph.number_of_nodes(), repo_graph.number_of_edges()))"
   ]
  },
  {
   "cell_type": "markdown",
   "metadata": {},
   "source": [
    "Helper function to get basename for saving graph and/or graph data to a file (as a dataset)."
   ]
  },
  {
   "cell_type": "code",
   "execution_count": null,
   "metadata": {},
   "outputs": [],
   "source": [
    "#export\n",
    "def _repo_basename(repo_path):\n",
    "    \"\"\"Create name of repository out of its pathname\n",
    "\n",
    "    This is a helper function used, among others, in ...\n",
    "\n",
    "    Examples:\n",
    "    ---------\n",
    "    >>>> _repo_basename('hellogitworld')\n",
    "    'hellogitworld'\n",
    "    >>>> _repo_basename('repos/hellogitworld.git')\n",
    "    'hellogitworld'\n",
    "\n",
    "    Parameters\n",
    "    ----------\n",
    "    repo_path : str\n",
    "        Path to the Git repository, for example 'hellogitworld',\n",
    "        or 'hellogitworld.git', or 'repos/hellogitworld.git', or 'repos/hellogitworld/.git'\n",
    "        for Git repository cloned from <https://github.com/githubtraining/hellogitworld>\n",
    "    \n",
    "    Returns\n",
    "    -------\n",
    "    str\n",
    "        The name of repository, to be later used as a base for commit graph name,\n",
    "        and the pathname of a file where to save information about thw history\n",
    "        structure of the repository.\n",
    "    \"\"\"\n",
    "    # generate the name of the output file, as `pathlib.Path` object\n",
    "    # removing the '*.git' extension / suffix from `repo_path`, if needed\n",
    "    out_pathname = Path(repo_name).stem\n",
    "\n",
    "    # convert it to string\n",
    "    return str(out_pathname)\n",
    "\n",
    "\n",
    "def _commit_graph_name(repo_name):\n",
    "    \"\"\"Create the name of a commit graph out of repository name.\n",
    "    \n",
    "    This is a helper function used, among others, in ...\n",
    "\n",
    "    Examples:\n",
    "    ---------\n",
    "    >>>> _commit_graph_name('hellogitworld')\n",
    "    'hellogitworld-commit_graph'\n",
    "    \n",
    "    Parameters\n",
    "    ----------\n",
    "    repo_name : str\n",
    "        The name of the repository, for example the result of calling the\n",
    "        `_repo_basename()` function.\n",
    "    \n",
    "    Returns\n",
    "    -------\n",
    "    str\n",
    "        The name of the commit graph of the repository, to be used as a base\n",
    "        for the pathname of a file where to save information about the history\n",
    "        structure of the repository.\n",
    "    \"\"\"\n",
    "    return repo_name + '-commit_graph'\n",
    "\n",
    "\n",
    "def _repo_graph_name(repo_path):\n",
    "    \"\"\"Create the name of a commit graph out of repository path (its pathname)\n",
    "    \n",
    "    This is a helper function used, among others, in ...\n",
    "\n",
    "    Examples:\n",
    "    ---------\n",
    "    >>>> _repo_graph_name('repos/hellogitworld.git')\n",
    "    'hellogitworld-commit_graph'\n",
    "    \n",
    "    Parameters\n",
    "    ----------\n",
    "    repo_path : str\n",
    "        Path to the Git repository (`<graph>.name` can be used), for example\n",
    "        'hellogitworld', or 'hellogitworld.git', or 'repos/hellogitworld.git',\n",
    "        or 'repos/hellogitworld/.git' for Git repository cloned from\n",
    "        <https://github.com/githubtraining/hellogitworld>\n",
    "    \n",
    "    Returns\n",
    "    -------\n",
    "    str\n",
    "        The name of the commit graph of the repository, to be used as a base\n",
    "        for the pathname of a file where to save information about the history\n",
    "        structure of the repository.\n",
    "    \"\"\"\n",
    "    return _commit_graph_name(_repo_basename(repo_path))\n",
    "\n"
   ]
  },
  {
   "cell_type": "markdown",
   "metadata": {},
   "source": [
    "<u>Test</u> that examples from the docstring works:"
   ]
  },
  {
   "cell_type": "code",
   "execution_count": null,
   "metadata": {},
   "outputs": [],
   "source": [
    "assert _repo_basename('hellogitworld') == 'hellogitworld'\n",
    "assert _repo_basename('hellogitworld.git') == 'hellogitworld'\n",
    "assert _repo_basename('repos/hellogitworld.git') == 'hellogitworld'\n",
    "assert _repo_basename('repos/hellogitworld/.git') == 'hellogitworld'"
   ]
  },
  {
   "cell_type": "code",
   "execution_count": null,
   "metadata": {},
   "outputs": [],
   "source": [
    "assert _commit_graph_name('hellogitworld') == 'hellogitworld-commit_graph'"
   ]
  },
  {
   "cell_type": "code",
   "execution_count": null,
   "metadata": {},
   "outputs": [],
   "source": [
    "assert _repo_graph_name('repos/hellogitworld.git') == 'hellogitworld-commit_graph'"
   ]
  },
  {
   "cell_type": "code",
   "execution_count": null,
   "metadata": {},
   "outputs": [],
   "source": [
    "#export\n",
    "def _savefile_name(graph_name, out_dir='datasets', kind='df_edgelist', file_format='csv.gz'):\n",
    "    \"\"\"Create filename for storing graph structure and other graph data\n",
    "    \n",
    "    This is a helper function used, among others, in ...\n",
    "    \n",
    "    Examples:\n",
    "    ---------\n",
    "    >>>> _savefile_name('example_graph')\n",
    "    Path('datasets/example_graph.df_edgelist.csv.gz')\n",
    "    \n",
    "    Parameters\n",
    "    ----------\n",
    "    graph_name : str\n",
    "        Name of the graph (`<graph>.name` can be used).\n",
    "        \n",
    "    out_dir : str\n",
    "        Directory where saved commit graph data would be stored.\n",
    "        Defaults to \"datasets\".\n",
    "        \n",
    "    kind : str\n",
    "        What type of data is stored in a file, and in what representation.\n",
    "        The default value is 'df_edgelist', used to store graph structure in\n",
    "        the edge list format in a `pandas.DataFrame`.\n",
    "        \n",
    "    file_format : str\n",
    "        Format of a file, for example how the `DataFrame` is saved.\n",
    "        Defaults to 'csv.gz' (gzip-compressed Comma Separated Values).\n",
    "        \n",
    "    Returns\n",
    "    -------\n",
    "    Path\n",
    "        Path to the file storing the graph structure or graph data in\n",
    "        the appropriate representation and appropriate file format.\n",
    "    \"\"\"\n",
    "    # The `out_dir` should not be None\n",
    "    if out_dir is None:\n",
    "        out_dir = \".\"\n",
    "\n",
    "    # compose the basename of the pathname\n",
    "    filename = graph_name\n",
    "    # TODO: there would special case for saving to HDF5 files, which can\n",
    "    # store multiple data in a single file, so there would be no need\n",
    "    # to add <kind> to basename of such output file\n",
    "    if kind is not None and kind != '':\n",
    "        filename += '.' + kind\n",
    "    if file_format is not None and file_format != '':\n",
    "        filename += '.' + file_format\n",
    "    # generate the name of the output file, as `pathlib.Path` object\n",
    "    return Path(out_dir) / filename\n",
    "\n",
    "\n",
    "def _out_basename(graph_name, out_dir='datasets'):\n",
    "    return _savefile_name(graph_name, out_dir=out_dir, kind=None, file_format=None)\n",
    "\n"
   ]
  },
  {
   "cell_type": "code",
   "execution_count": null,
   "metadata": {},
   "outputs": [],
   "source": [
    "#export\n",
    "def _repo_graph_savefile(repo_path, out_dir='datasets'):\n",
    "    \"\"\"Create filename for storing adjacency list out of repository path\n",
    "\n",
    "    This is a helper function used, among others, in ...\n",
    "\n",
    "    Examples:\n",
    "    ---------\n",
    "    >>>> _repo_graph_savefile('repos/hellogitworld.git')\n",
    "    Path('datasets/hellogitworld-commit_graph.adjlist.txt')\n",
    "    >>>> _repo_graph_savefile('repos/hellogitworld.git', out_dir='data')\n",
    "    Path('data/hellogitworld-commit_graph.adjlist.txt')\n",
    "\n",
    "    Parameters\n",
    "    ----------\n",
    "    repo_path : str\n",
    "        Path to the Git repository, for example 'hellogitworld',\n",
    "        or 'hellogitworld.git', or 'repos/hellogitworld.git', or 'repos/hellogitworld/.git'\n",
    "        for Git repository cloned from <https://github.com/githubtraining/hellogitworld>\n",
    "\n",
    "    out_dir : str\n",
    "        Directory where extracted commit graph data would be stored.\n",
    "        Defaults to \"datasets\".\n",
    "\n",
    "    Returns\n",
    "    -------\n",
    "    Path\n",
    "        Path to the file storing the commit graph in the adjacency list\n",
    "        file format.\n",
    "\n",
    "        see: https://networkx.org/documentation/stable/reference/readwrite/adjlist.html\n",
    "    \"\"\"\n",
    "    graph_name = _repo_graph_name(repo_path)\n",
    "    return _savefile_name(graph_name, out_dir=out_dir, kind='adjlist', file_format='txt')"
   ]
  },
  {
   "cell_type": "markdown",
   "metadata": {},
   "source": [
    "<u>Test</u> that examples from the docstring works:"
   ]
  },
  {
   "cell_type": "code",
   "execution_count": null,
   "metadata": {},
   "outputs": [],
   "source": [
    "assert _savefile_name('example_graph') == Path('datasets/example_graph.df_edgelist.csv.gz')\n",
    "assert _repo_graph_savefile('repos/hellogitworld.git') == Path('datasets/hellogitworld-commit_graph.adjlist.txt')\n",
    "assert _repo_graph_savefile('repos/hellogitworld.git', out_dir='data') == Path('data/hellogitworld-commit_graph.adjlist.txt')"
   ]
  },
  {
   "cell_type": "markdown",
   "metadata": {},
   "source": [
    "Save graph to a `DataFrame` (saving containing edgelist information), and restore it."
   ]
  },
  {
   "cell_type": "code",
   "execution_count": null,
   "metadata": {},
   "outputs": [],
   "source": [
    "#export\n",
    "def graph_to_dataframe(graph):\n",
    "    return nx.to_pandas_edgelist(graph)\n",
    "\n",
    "\n",
    "def dataframe_to_graph(df):\n",
    "    return nx.from_pandas_edgelist(df, create_using=nx.DiGraph)\n",
    "\n"
   ]
  },
  {
   "cell_type": "markdown",
   "metadata": {},
   "source": [
    "<u>Test</u> that saving to the `DataFrame` and restoring from it works correctly,... up to nodes that are not connected -- those cannot be stored using only edge list data, but with addition of node list it should be possible to restore graph exactly:"
   ]
  },
  {
   "cell_type": "code",
   "execution_count": null,
   "metadata": {},
   "outputs": [
    {
     "name": "stdout",
     "output_type": "stream",
     "text": [
      "ok - number of rows in dataframe with edgelist 53 matches number of edges 53\n",
      "ok - number of edges 53 in restored graph matches number of edges 53 in the original\n",
      "ok - all edges from the original graph got restored\n",
      "ok - all restored nodes are in the original graph\n"
     ]
    }
   ],
   "source": [
    "repo_graph_df = graph_to_dataframe(repo_graph)\n",
    "assert len(repo_graph_df.index) == repo_graph.number_of_edges()\n",
    "print('ok - number of rows in dataframe with edgelist {} matches number of edges {}'.\n",
    "      format(len(repo_graph_df.index), repo_graph.number_of_edges()))\n",
    "restored_graph = dataframe_to_graph(repo_graph_df)\n",
    "assert restored_graph.number_of_edges() == repo_graph.number_of_edges()\n",
    "print('ok - number of edges {} in restored graph matches number of edges {} in the original'.\n",
    "      format(restored_graph.number_of_edges(), repo_graph.number_of_edges()))\n",
    "assert restored_graph.edges == repo_graph.edges\n",
    "print('ok - all edges from the original graph got restored')\n",
    "assert set(restored_graph).issubset(repo_graph)\n",
    "print('ok - all restored nodes are in the original graph')"
   ]
  },
  {
   "cell_type": "markdown",
   "metadata": {},
   "source": [
    "Save graph to a file (via `DataFrame` containing edgelist information), and restore it"
   ]
  },
  {
   "cell_type": "code",
   "execution_count": null,
   "metadata": {},
   "outputs": [],
   "source": [
    "#export\n",
    "def save_graph_df(df, graph_name, datasets_dir='datasets', output_format='csv.gz', overwrite=False):\n",
    "    filename = _savefile_name(graph_name, out_dir=datasets_dir,\n",
    "                              kind='df_edgelist', file_format=output_format)\n",
    "    print('-> filename:', filename)\n",
    "    if not overwrite and Path(filename).is_file():\n",
    "        return\n",
    "    if output_format == 'csv' or output_format == 'csv.gz':\n",
    "        df.to_csv(filename)\n",
    "    else:\n",
    "        raise NotImplementedError(\"Writing to '{}' format is not supported\".format(output_format))\n",
    "\n",
    "\n",
    "def save_graph(graph, graph_name=None, datasets_dir='datasets', output_format='csv.gz', overwrite=False):\n",
    "    df = graph_to_dataframe(graph)\n",
    "    # if `graph_name` is not given, check the `name` attribute of the `graph`\n",
    "    if graph_name is None:\n",
    "        # NOTE: \"'name' in graph\" checks if there is node named 'name' in the graph\n",
    "        if hasattr(graph, 'name'):\n",
    "            graph_name = graph.name\n",
    "        else:\n",
    "            raise RuntimeError(\"Neither 'graph_name' parameter given, nor 'graph' has 'name' attribute\")\n",
    "\n",
    "    print('-> graph_name:', graph_name)\n",
    "    save_graph_df(df, graph_name,\n",
    "                  datasets_dir=datasets_dir, output_format=output_format, overwrite=overwrite)\n",
    "\n",
    "\n",
    "def load_graph_df_from_file(filename, input_format='csv.gz'):\n",
    "    if input_format == 'csv' or input_format == 'csv.gz':\n",
    "        return pd.read_csv(filename, index_col=0)\n",
    "    else:\n",
    "        raise NotImplementedError(\"Reading from '{}' format is not supported\".format(input_format))\n",
    "\n",
    "\n",
    "def load_graph_df(graph_name, datasets_dir='datasets', input_format='csv.gz'):\n",
    "    filename = _savefile_name(graph_name, out_dir=datasets_dir,\n",
    "                              kind='df_edgelist', file_format=input_format)\n",
    "    print('<- filename:', filename)\n",
    "    return load_graph_df_from_file(filename, input_format=input_format)\n",
    "\n"
   ]
  },
  {
   "cell_type": "markdown",
   "metadata": {},
   "source": [
    "<u>Test</u> saving graph structure (via `DataFrame`) to a file, and restoring / reading such `DataFrame`."
   ]
  },
  {
   "cell_type": "code",
   "execution_count": null,
   "metadata": {},
   "outputs": [
    {
     "name": "stdout",
     "output_type": "stream",
     "text": [
      "repository path: repos/hellogitworld.git\n",
      "saving commit graph of: hellogitworld.git\n",
      "graph.name = hellogitworld.git\n",
      "commit graph name: hellogitworld-commit_graph\n",
      "testing save_graph()\n",
      "-> graph_name: hellogitworld.git\n",
      "-> filename: datasets\\hellogitworld.git.df_edgelist.csv.gz\n",
      "testing save_graph_df()\n",
      "-> filename: datasets\\hellogitworld-commit_graph.df_edgelist.csv.gz\n",
      "there should be appropriately named file in the list below:\n"
     ]
    },
    {
     "data": {
      "text/plain": [
       "['hellogitworld-commit_graph.adjlist.txt                 868',\n",
       " 'hellogitworld-commit_graph.df_edgelist.csv.gz          523',\n",
       " 'hellogitworld.git.df_edgelist.csv.gz                   514']"
      ]
     },
     "execution_count": null,
     "metadata": {},
     "output_type": "execute_result"
    }
   ],
   "source": [
    "print('repository path: {}'.format(repo_path))\n",
    "print('saving commit graph of: {}'.format(repo_name))\n",
    "print('graph.name = {}'.format(repo_graph.name))\n",
    "print('commit graph name: {}'.format(_repo_graph_name(repo_path)))\n",
    "print('testing save_graph()')\n",
    "save_graph(repo_graph)\n",
    "print('testing save_graph_df()')\n",
    "save_graph_df(repo_graph_df, graph_name=_repo_graph_name(repo_path))\n",
    "print('there should be appropriately named file in the list below:')\n",
    "[\"{name:<50} {size:>7}\".format(name=p.name,size=p.stat().st_size) for p in Path(\"datasets\").glob(\"hellogitworld*\")]"
   ]
  },
  {
   "cell_type": "code",
   "execution_count": null,
   "metadata": {},
   "outputs": [
    {
     "name": "stdout",
     "output_type": "stream",
     "text": [
      "restoring commit graph of: hellogitworld.git\n",
      "<- filename: datasets\\hellogitworld.git.df_edgelist.csv.gz\n",
      "ok - dataset and restored dataset are equal\n"
     ]
    }
   ],
   "source": [
    "print('restoring commit graph of: {}'.format(repo_name))\n",
    "df = load_graph_df(repo_name)\n",
    "assert repo_graph_df.equals(df)\n",
    "print('ok - dataset and restored dataset are equal')"
   ]
  },
  {
   "cell_type": "markdown",
   "metadata": {},
   "source": [
    "Compute levels and min-post intervals for a graph, and store them as attributes of the graph object"
   ]
  },
  {
   "cell_type": "code",
   "execution_count": null,
   "metadata": {},
   "outputs": [],
   "source": [
    "#export\n",
    "def compute_reachability_labels(graph, recompute=False):\n",
    "    if recompute or not hasattr(graph, 'lvl'):\n",
    "        graph.lvl = find_levels(graph)\n",
    "    if recompute or not hasattr(graph, 'mpi_ext'):\n",
    "        graph.mpi_ext = find_dfs_intervals_extra(graph)\n",
    "    return graph\n",
    "\n"
   ]
  },
  {
   "cell_type": "markdown",
   "metadata": {},
   "source": [
    "<u>Test</u> computing reachability labels and saving them as attributes of the graph object"
   ]
  },
  {
   "cell_type": "code",
   "execution_count": null,
   "metadata": {},
   "outputs": [
    {
     "name": "stdout",
     "output_type": "stream",
     "text": [
      "compute reachability labels for hellogitworld.git commit graph\n",
      "we should see lvl and mpi_ext among dict-values attributes\n",
      "- graph\n",
      "- lvl\n",
      "- mpi_ext\n",
      "ok - graph has both \"lvl\" and \"mpi_ext\" attributes\n",
      "reachability labels should be computed for all nodes\n",
      "ok - both lvl and mpi_ext keys are all 55 graph nodes\n"
     ]
    }
   ],
   "source": [
    "print('compute reachability labels for {} commit graph'.format(repo_name))\n",
    "compute_reachability_labels(repo_graph)\n",
    "\n",
    "print('we should see {} and {} among dict-values attributes'.format('lvl', 'mpi_ext'))\n",
    "for (attr,val) in repo_graph.__dict__.items():\n",
    "    if isinstance(val, dict) and not attr.startswith('_'):\n",
    "        print('- {:s}'.format(attr))\n",
    "assert hasattr(repo_graph, 'lvl')\n",
    "assert hasattr(repo_graph, 'mpi_ext')\n",
    "print('ok - graph has both \"{}\" and \"{}\" attributes'.format('lvl', 'mpi_ext'))\n",
    "        \n",
    "print('reachability labels should be computed for all nodes')\n",
    "assert set(repo_graph.lvl.keys()) == set(repo_graph.nodes)\n",
    "assert set(repo_graph.mpi_ext.keys()) == set(repo_graph.nodes)\n",
    "print('ok - both lvl and mpi_ext keys are all {} graph nodes'.format(len(repo_graph.nodes)))"
   ]
  },
  {
   "cell_type": "markdown",
   "metadata": {},
   "source": [
    "Store reachability labels and per-node information in a `DataFrame`"
   ]
  },
  {
   "cell_type": "code",
   "execution_count": null,
   "metadata": {},
   "outputs": [],
   "source": [
    "#export\n",
    "def graph_data_to_dataframe(graph, append_to=None):\n",
    "    compute_reachability_labels(graph)\n",
    "\n",
    "    # create the DataFrame and name its index\n",
    "    df = pd.DataFrame.from_dict(graph.mpi_ext, orient='index', columns=['f_min', 'min', 'post'])\n",
    "    df.index.name = 'node'\n",
    "    # add other reachability labels\n",
    "    df['level'] = pd.Series(graph.lvl)\n",
    "    # add and compute other data\n",
    "    df['in degree'] = pd.Series(dict(graph.in_degree()))\n",
    "    df['out degree'] = pd.Series(dict(graph.out_degree()))\n",
    "    df['degree'] = df['in degree'] + df['out degree']\n",
    "\n",
    "    # append if needed\n",
    "    if append_to:\n",
    "        df = pd.concat([append_to, df], axis=1, join='inner')\n",
    "\n",
    "    return df\n",
    "\n"
   ]
  },
  {
   "cell_type": "markdown",
   "metadata": {},
   "source": [
    "<u>Test</u> computing all per-node data for a graph and storing them in `DataFrame`"
   ]
  },
  {
   "cell_type": "code",
   "execution_count": null,
   "metadata": {},
   "outputs": [
    {
     "name": "stdout",
     "output_type": "stream",
     "text": [
      "check that the dataframe has all the columns\n",
      "- columns: ['f_min', 'min', 'post', 'level', 'in degree', 'out degree', 'degree']\n",
      "check that the dataframe has all the rows\n",
      "- rows:    ['ef7bebf', 'ebbbf77', '45a30ea', '9805760', '435ffce']...\n"
     ]
    },
    {
     "data": {
      "text/html": [
       "<div>\n",
       "<style scoped>\n",
       "    .dataframe tbody tr th:only-of-type {\n",
       "        vertical-align: middle;\n",
       "    }\n",
       "\n",
       "    .dataframe tbody tr th {\n",
       "        vertical-align: top;\n",
       "    }\n",
       "\n",
       "    .dataframe thead th {\n",
       "        text-align: right;\n",
       "    }\n",
       "</style>\n",
       "<table border=\"1\" class=\"dataframe\">\n",
       "  <thead>\n",
       "    <tr style=\"text-align: right;\">\n",
       "      <th></th>\n",
       "      <th>f_min</th>\n",
       "      <th>min</th>\n",
       "      <th>post</th>\n",
       "      <th>level</th>\n",
       "      <th>in degree</th>\n",
       "      <th>out degree</th>\n",
       "      <th>degree</th>\n",
       "    </tr>\n",
       "    <tr>\n",
       "      <th>node</th>\n",
       "      <th></th>\n",
       "      <th></th>\n",
       "      <th></th>\n",
       "      <th></th>\n",
       "      <th></th>\n",
       "      <th></th>\n",
       "      <th></th>\n",
       "    </tr>\n",
       "  </thead>\n",
       "  <tbody>\n",
       "    <tr>\n",
       "      <th>755fd57</th>\n",
       "      <td>1</td>\n",
       "      <td>1</td>\n",
       "      <td>1</td>\n",
       "      <td>0</td>\n",
       "      <td>1</td>\n",
       "      <td>0</td>\n",
       "      <td>1</td>\n",
       "    </tr>\n",
       "    <tr>\n",
       "      <th>32c2737</th>\n",
       "      <td>1</td>\n",
       "      <td>1</td>\n",
       "      <td>2</td>\n",
       "      <td>1</td>\n",
       "      <td>1</td>\n",
       "      <td>1</td>\n",
       "      <td>2</td>\n",
       "    </tr>\n",
       "    <tr>\n",
       "      <th>dc64fe4</th>\n",
       "      <td>1</td>\n",
       "      <td>1</td>\n",
       "      <td>3</td>\n",
       "      <td>2</td>\n",
       "      <td>2</td>\n",
       "      <td>1</td>\n",
       "      <td>3</td>\n",
       "    </tr>\n",
       "    <tr>\n",
       "      <th>9cdb160</th>\n",
       "      <td>1</td>\n",
       "      <td>1</td>\n",
       "      <td>4</td>\n",
       "      <td>3</td>\n",
       "      <td>1</td>\n",
       "      <td>1</td>\n",
       "      <td>2</td>\n",
       "    </tr>\n",
       "    <tr>\n",
       "      <th>f5ed019</th>\n",
       "      <td>1</td>\n",
       "      <td>1</td>\n",
       "      <td>5</td>\n",
       "      <td>4</td>\n",
       "      <td>1</td>\n",
       "      <td>1</td>\n",
       "      <td>2</td>\n",
       "    </tr>\n",
       "  </tbody>\n",
       "</table>\n",
       "</div>"
      ],
      "text/plain": [
       "         f_min  min  post  level  in degree  out degree  degree\n",
       "node                                                           \n",
       "755fd57      1    1     1      0          1           0       1\n",
       "32c2737      1    1     2      1          1           1       2\n",
       "dc64fe4      1    1     3      2          2           1       3\n",
       "9cdb160      1    1     4      3          1           1       2\n",
       "f5ed019      1    1     5      4          1           1       2"
      ]
     },
     "execution_count": null,
     "metadata": {},
     "output_type": "execute_result"
    }
   ],
   "source": [
    "df = graph_data_to_dataframe(repo_graph)\n",
    "\n",
    "print('check that the dataframe has all the columns')\n",
    "assert set(df.columns) == set(['level', 'f_min', 'min', 'post', 'in degree', 'out degree', 'degree'])\n",
    "print('- columns: {}'.format(df.columns.tolist()))\n",
    "\n",
    "print('check that the dataframe has all the rows')\n",
    "assert set(df.index) == set(repo_graph.nodes)\n",
    "print('- rows:    {}...'.format(list(repo_graph.nodes)[0:5]))\n",
    "\n",
    "df.head()"
   ]
  },
  {
   "cell_type": "markdown",
   "metadata": {},
   "source": [
    "Compute and save graph structure, its reachability labels and other per-node info to a file, and restore it.  \n",
    "Don't redo calculations that can be retrieved from a file."
   ]
  },
  {
   "cell_type": "markdown",
   "metadata": {},
   "source": [
    "**TODO**"
   ]
  },
  {
   "cell_type": "markdown",
   "metadata": {},
   "source": [
    "----"
   ]
  },
  {
   "cell_type": "code",
   "execution_count": null,
   "metadata": {},
   "outputs": [
    {
     "name": "stdout",
     "output_type": "stream",
     "text": [
      "Converted 01_tools.ipynb.\n",
      "Converted 02_related.ipynb.\n",
      "Converted 03_example_graphs.ipynb.\n",
      "Converted 05_reachability_index.ipynb.\n",
      "Converted 06_levels.ipynb.\n",
      "Converted 07_interval_labels.ipynb.\n",
      "Converted 08_reach.ipynb.\n",
      "Converted 09_git.ipynb.\n",
      "Converted 10_checkpoint.ipynb.\n",
      "Converted A.09_git_explore.ipynb.\n",
      "Converted index.ipynb.\n"
     ]
    }
   ],
   "source": [
    "#hide\n",
    "# this should be the last cell of the notebook\n",
    "from nbdev.export import notebook2script\n",
    "notebook2script()"
   ]
  }
 ],
 "metadata": {
  "kernelspec": {
   "display_name": "Python 3",
   "language": "python",
   "name": "python3"
  }
 },
 "nbformat": 4,
 "nbformat_minor": 4
}
