{
 "cells": [
  {
   "cell_type": "code",
   "execution_count": null,
   "metadata": {},
   "outputs": [],
   "source": [
    "#default_exp labelling.levels"
   ]
  },
  {
   "cell_type": "code",
   "execution_count": null,
   "metadata": {},
   "outputs": [
    {
     "name": "stdout",
     "output_type": "stream",
     "text": [
      "The autoreload extension is already loaded. To reload it, use:\n",
      "  %reload_ext autoreload\n"
     ]
    }
   ],
   "source": [
    "%load_ext autoreload\n",
    "%autoreload 2"
   ]
  },
  {
   "cell_type": "markdown",
   "metadata": {},
   "source": [
    "# Topological levels\n",
    "> Defining topological levels, and describing their characteristics"
   ]
  },
  {
   "cell_type": "markdown",
   "metadata": {},
   "source": [
    "## Definition of forward and backward topological levels"
   ]
  },
  {
   "cell_type": "markdown",
   "metadata": {},
   "source": [
    "The **backward topological level** of a vertex $v$ (denoted as $l_v$) can be defined as its depth:\n",
    "- if $v$ has no immediate predecessors (has no outgoing edges, i.e. its out-degree is zero - it is a **_sink_**),  \n",
    "  then $l_v = 0$,\n",
    "- otherwise it is maximum of levels of its immediate predecessors plus one:  \n",
    "  $l_v = \\max\\limits_{u\\colon (v,u)\\in E}(l_u)+1$.\n",
    "\n",
    "In other words it is the maximum length of any path starting from vertex $v$.\n",
    "\n",
    "The backward topological level increases at least by one when going in the opposite direction to edges (going backwards).\n",
    "\n",
    "> Note: This reachability label is _immutable_ with respect to the graph growth by adding nodes."
   ]
  },
  {
   "cell_type": "markdown",
   "metadata": {},
   "source": [
    "----"
   ]
  },
  {
   "cell_type": "markdown",
   "metadata": {},
   "source": [
    "The **forward topological level** of a vertex $v$ (denoted as $L_v$) is defined in the following way:\n",
    "- if $v$ has no immediate parents / successors (it has no in-going edges, i.e. its in-degree is zero -- it is a **_source_**),  \n",
    "  then $L_v = 0$,\n",
    "- otherwise it is maximum of forward levels of its immediate successors plus one,  \n",
    "  that is $L_v = \\max\\limits_{u\\colon (u,v)\\in E}(L_u + 1)$\n",
    "\n",
    "In other words it is maximum length of any path ending at vertex $v$.\n",
    "\n",
    "The forward topological level increases by at least one when going in the direction of edge (going forwards)."
   ]
  },
  {
   "cell_type": "markdown",
   "metadata": {},
   "source": [
    "The image below shows an example directed graph (DAG), marked with forward and backward topological levels (forward marked in green and backward marked in blue).  This example is taken from the Figure 2 in the PReaCH paper.\n",
    "\n",
    "![Forward and backward topological levels for an example graph](images/preach/PReaCH_arXiv-fig_2-forward_and_backward_topological_levels-zoom.png)"
   ]
  },
  {
   "cell_type": "markdown",
   "metadata": {},
   "source": [
    "## Properties of topological levels"
   ]
  },
  {
   "cell_type": "markdown",
   "metadata": {},
   "source": [
    "The forward level $L_v$ of a vertex induces its topological ordering: if $u$ precedes $v$ in the topological ordering of DAG $G$ and $u \\neq v$, then $L_u < L_v$."
   ]
  },
  {
   "cell_type": "markdown",
   "metadata": {},
   "source": [
    "> Note: the alternative notation for $l_u$ is $l(u)$, and for $L_u$ is $L(u)$.\n",
    "\n",
    "In other words the following observation holds:\n",
    "\n",
    "- for **forward topological levels** (defined as having level equal 0 for ***source nodes***):\n",
    "  $$\\forall u \\neq v \\in V : L(u) \\geq L(v) \\implies u \\nrightarrow v $$\n",
    "  \n",
    "- for **backward topological levels** (defined as having level equal 0 for ***sink nodes***):\n",
    "  $$\\forall u \\neq v \\in V : l(u) \\leq l(v) \\implies u \\nrightarrow v $$"
   ]
  },
  {
   "cell_type": "markdown",
   "metadata": {},
   "source": [
    "We can also use a _weaker_ condition, which has the advantage of avoiding corner cases of checking whether $u = v$ / $u \\neq v$:\n",
    "\n",
    "- for **forward topological levels** (defined as having level equal 0 for ***source nodes***):\n",
    "  $$\\forall u \\in V, v \\in V : L(u) > L(v) \\implies u \\nrightarrow v $$\n",
    "  \n",
    "- for **backward topological levels** (defined as having level equal 0 for ***sink nodes***):\n",
    "  $$\\forall u \\in V, v \\in V : l(u) < l(v) \\implies u \\nrightarrow v $$\n",
    "  \n",
    "It also helps in the case where newer commits do not have backward topological levels computed, and we want to use topological levels even in the case where at least one vertex in reachability query is new."
   ]
  },
  {
   "cell_type": "markdown",
   "metadata": {},
   "source": [
    "All this means that both forward and backward topological levels can function as **negative-cut filter** (reducing the search space)."
   ]
  },
  {
   "cell_type": "markdown",
   "metadata": {},
   "source": [
    "## Computing backward topological levels"
   ]
  },
  {
   "cell_type": "code",
   "execution_count": null,
   "metadata": {},
   "outputs": [],
   "source": [
    "#export\n",
    "import networkx as nx\n"
   ]
  },
  {
   "cell_type": "markdown",
   "metadata": {},
   "source": [
    "> <u>Definition:</u> The **level** of a vertex $v$ (denoted as $l_v$) can be defined as its depth: if $v$ has no immediate predecessors, then $l_v = 0$, otherwise it is maximum of levels of its immediate predecessors plus one: $$l_v = \\max\\limits_{u\\colon (v,u)\\in E}(l_u)+1$$"
   ]
  },
  {
   "cell_type": "code",
   "execution_count": null,
   "metadata": {},
   "outputs": [],
   "source": [
    "#export\n",
    "def find_levels(DG, attr=None):\n",
    "  \"\"\"Find levels (generation number) of all vertices in graph G\n",
    "  \n",
    "  The backward topological level of a vertex v, which we denote as l_v or l(v),\n",
    "  can be defined as its depth, or the length of longestt path\n",
    "  to the leaf (sink) node.\n",
    "  \n",
    "   - if v has no immediate predecessors, then l_v = 0\n",
    "   - otherwise l_v = 1 + max_{u: predecessors}(l_u)\n",
    "  \n",
    "  The levels / generation number information can be optionally saved in\n",
    "  the graph, under given node attribute (name given by `attr` parameter).\n",
    "  \n",
    "  NOTE: whether for nodes without outcoming edges (without any neighbours)\n",
    "  l_v is defined to be 0, or defined to be 1, is a matter of convention.\n",
    "  Here the same convention as in the FELINE paper is used.\n",
    "  \n",
    "  NOTE: for compatibility with forward topological levels sometimes\n",
    "  backward topological levels are used with negative sign applied,\n",
    "  like in the PReaCH paper.\n",
    "  \n",
    "  Parameters:\n",
    "  -----------\n",
    "  DG : NetworkX DiGraph\n",
    "      Directed acyclic graph.\n",
    "      \n",
    "  attr : str, optional (default=None)\n",
    "      If set, name of a node attribute under which store vertex level.\n",
    "      \n",
    "  Returns:\n",
    "  --------\n",
    "  dict of ints\n",
    "      Dictionary, where keys are node indices, and values are node levels\n",
    "  \"\"\"\n",
    "  lvl = {}\n",
    "  \n",
    "  # topological levels are defined only for Directed Acyclic Graphs\n",
    "  if not DG.is_directed():\n",
    "    raise nx.NetworkXNotImplemented(\n",
    "      \"Vertex level is not defined on undirected graphs.\")\n",
    "  if not nx.is_directed_acyclic_graph(DG):\n",
    "    raise nx.NetworkXNotImplemented(\n",
    "      \"Vertex level is not defined on directed graphs with loops\")\n",
    "  \n",
    "  # it can be any post-order ordering\n",
    "  nodelist = nx.dfs_postorder_nodes(DG)\n",
    "  for node in nodelist:\n",
    "    if DG.out_degree(node) == 0:\n",
    "      lvl[node] = 0\n",
    "      continue\n",
    "    \n",
    "    lvl[node] = max([lvl[neigh] \n",
    "                     for neigh in DG.successors(node)]) + 1\n",
    "  \n",
    "  if attr is not None:\n",
    "    for node, level in lvl.items():\n",
    "      DG.nodes[node][attr] = level\n",
    "  \n",
    "  return lvl\n"
   ]
  },
  {
   "cell_type": "markdown",
   "metadata": {},
   "source": [
    "### Test `find_levels(graph)`"
   ]
  },
  {
   "cell_type": "markdown",
   "metadata": {},
   "source": [
    "Test that `find_levels()` works on known example graphs from [example_graphs](03_example_graphs.ipynb)"
   ]
  },
  {
   "cell_type": "code",
   "execution_count": null,
   "metadata": {},
   "outputs": [],
   "source": [
    "# this is needed only for demonstrations\n",
    "import matplotlib.pyplot as plt\n",
    "import git_commit_graph_ext.example_graphs as graphs"
   ]
  },
  {
   "cell_type": "markdown",
   "metadata": {},
   "source": [
    "Use the small DAG from the FELINE paper as a test"
   ]
  },
  {
   "cell_type": "code",
   "execution_count": null,
   "metadata": {},
   "outputs": [
    {
     "data": {
      "text/plain": [
       "{'h': 0, 'c': 1, 'd': 0, 'e': 1, 'a': 2, 'f': 1, 'g': 0, 'b': 2}"
      ]
     },
     "execution_count": null,
     "metadata": {},
     "output_type": "execute_result"
    }
   ],
   "source": [
    "sd=graphs.small_DAG_FELINE()\n",
    "find_levels(sd)"
   ]
  },
  {
   "cell_type": "code",
   "execution_count": null,
   "metadata": {},
   "outputs": [
    {
     "data": {
      "image/png": "[encoded data removed]",
      "text/plain": [
       "<Figure size 432x288 with 1 Axes>"
      ]
     },
     "metadata": {},
     "output_type": "display_data"
    }
   ],
   "source": [
    "sd=graphs.small_DAG_FELINE()\n",
    "sd.lvl=find_levels(sd)\n",
    "sd.pos={'a':(2,3),'b':(4.5,3),'c':(1,2),'d':(2,2),'e':(3,2),'f':(4,2),'g':(5,2),'h':(3,1)}\n",
    "\n",
    "nx.draw_networkx(sd, pos=sd.pos,\n",
    "                 with_labels=False,\n",
    "                 node_size=500,width=2.0,node_color='y')\n",
    "nx.draw_networkx_labels(sd, pos=sd.pos,\n",
    "                        labels=sd.lvl)\n",
    "\n",
    "plt.title('Labels denote backward topological level $l_u$')\n",
    "plt.draw()"
   ]
  },
  {
   "cell_type": "markdown",
   "metadata": {},
   "source": [
    "Use the graph from Figure 9 in the FELINE paper"
   ]
  },
  {
   "cell_type": "code",
   "execution_count": null,
   "metadata": {},
   "outputs": [],
   "source": [
    "lf=graphs.levels_DAG_FELINE()\n",
    "assert find_levels(lf) == {\n",
    "    'c':0,'g':0,'h':0,'i':0,\n",
    "    'd':1,'e':1,'f':1,\n",
    "    'a':2,'b':2\n",
    "}"
   ]
  },
  {
   "cell_type": "code",
   "execution_count": null,
   "metadata": {},
   "outputs": [
    {
     "data": {
      "image/png": "[encoded data removed]",
      "text/plain": [
       "<Figure size 432x288 with 1 Axes>"
      ]
     },
     "metadata": {},
     "output_type": "display_data"
    }
   ],
   "source": [
    "lf=graphs.levels_DAG_FELINE()\n",
    "# backward level\n",
    "lf.lvl_expected={\n",
    "    'c':0,'g':0,'h':0,'i':0,\n",
    "    'd':1,'e':1,'f':1,\n",
    "    'a':2,'b':2\n",
    "}\n",
    "lf.lvl=find_levels(lf)\n",
    "# positions of nodes\n",
    "lf.tree={\n",
    "  'a':(2,2),'b':(4,2),\n",
    "  'd':(2,1),'e':(3,1),'f':(4,1),\n",
    "  'c':(1,0),'g':(2,0),'h':(3,0),'i':(4,0)\n",
    "}\n",
    "# configure plot\n",
    "#plt.axis('off')\n",
    "plt.ylabel('backward topological level')\n",
    "#plt.subplots_adjust(left=0,right=1.2)\n",
    "plt.xlim(left=0.25,right=4.5)\n",
    "nx.draw_networkx(lf,\n",
    "                 pos=lf.tree,\n",
    "                 nodelist=list(lf.lvl.keys()),\n",
    "                 node_color=list(lf.lvl.values()),\n",
    "                 cmap=plt.cm.Greens,\n",
    "                 vmin=-2,vmax=5,\n",
    "                 node_size=500,width=2.0)\n",
    "nx.draw_networkx_labels(lf,\n",
    "                        pos={k: (v[0]-0.3,v[1]-0.1) for (k,v) in lf.tree.items()},\n",
    "                        labels={k:'$l_'+str(k)+'='+str(l)+'$'\n",
    "                                for (k,l) in lf.lvl.items()})\n",
    "plt.draw()"
   ]
  },
  {
   "cell_type": "markdown",
   "metadata": {},
   "source": [
    "**TODO:** Interactive visualization"
   ]
  },
  {
   "cell_type": "markdown",
   "metadata": {},
   "source": [
    "----"
   ]
  },
  {
   "cell_type": "code",
   "execution_count": null,
   "metadata": {},
   "outputs": [
    {
     "name": "stdout",
     "output_type": "stream",
     "text": [
      "Converted 01_tools.ipynb.\n",
      "Converted 02_related.ipynb.\n",
      "Converted 03_example_graphs.ipynb.\n",
      "Converted 04_reachability_index.ipynb.\n",
      "Converted 05_levels.ipynb.\n",
      "Converted index.ipynb.\n"
     ]
    }
   ],
   "source": [
    "#hide\n",
    "# this should be the last cell of the notebook\n",
    "from nbdev.export import notebook2script\n",
    "notebook2script()"
   ]
  }
 ],
 "metadata": {
  "kernelspec": {
   "display_name": "Python 3",
   "language": "python",
   "name": "python3"
  }
 },
 "nbformat": 4,
 "nbformat_minor": 4
}
