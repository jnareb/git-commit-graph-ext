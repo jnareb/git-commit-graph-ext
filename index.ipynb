{
 "cells": [
  {
   "cell_type": "code",
   "execution_count": null,
   "metadata": {},
   "outputs": [],
   "source": [
    "#hide\n",
    "#from commit_graph_ext.graph_examples import *"
   ]
  },
  {
   "cell_type": "markdown",
   "metadata": {},
   "source": [
    "# Commit graph labeling for speeding up Git commands\n",
    "\n",
    "> Git uses various clever methods for making operations on very large\n",
    "> repositories faster, from bitmap indices for `git fetch`[[1][]], to generation\n",
    "> numbers (also known as topological levels) in the commit-graph file for\n",
    "> commit graph traversal operations like `git log --graph`[[2][]].\n",
    ">\n",
    "> The goal of this project is to examine various possible improvements that\n",
    "> can make Git even faster, other than just using generation numbers.\n",
    "> For example there are many methods to make reachability queries in very large graphs\n",
    "> faster; it remains to be seen if they would work on large commit graphs\n",
    "> (the graph of project history) as well as they work on other real-life graphs.\n",
    ">\n",
    "> Ultimately, this project is about examining extension to Git's [commit-graph][]\n",
    "> feature, including mainly adding reachability indexes / labels\n",
    "> for the DAG (Directed Acyclic Graph) of revisions.\n",
    ">\n",
    "> [1]: https://githubengineering.com/counting-objects/ \"Counting Objects | The GitHub Blog\"\n",
    "> [2]: https://devblogs.microsoft.com/devops/supercharging-the-git-commit-graph-iii-generations/ \"Supercharging the Git Commit Graph III: Generations and Graph Algorithms | Azure DevOps Blog\"\n",
    "> [commit-graph]: https://git-scm.com/docs/commit-graph"
   ]
  },
  {
   "cell_type": "markdown",
   "metadata": {},
   "source": [
    "This project, while mainly exploratory in nature, is using [`nbdev`][nbdev] library for literate programming in Python using Jupyter Notebooks -- not to create a Python module (to publish in PyPi and/or Conda), but to allow for splitting it up.\n",
    "\n",
    "The original notebook at Google Colaboratory: \"[Reachability labels for version control graphs.ipynb][colab-1]\" got quite unwieldy; it takes too much time to run it.  By splitting it into smaller notebooks, and turning the code into helper modules, the hope is that it should be possible to quickly go to the interesting parts of exploration.\n",
    "\n",
    "[nbdev]: https://nbdev.fast.ai/ \"nbdev - Create delightful Python projects using Jupyter Notebooks\"\n",
    "[colab-1]: https://colab.research.google.com/drive/1V-U7_slu5Z3s5iEEMFKhLXtaxSu5xyzg \"Reachability labels for version control graphs.ipynb | Colaboratory\""
   ]
  },
  {
   "cell_type": "markdown",
   "metadata": {},
   "source": [
    "## Graph operations in Git"
   ]
  },
  {
   "cell_type": "markdown",
   "metadata": {},
   "source": [
    "This project focuses on the Git operations that involve examining and walking the commit graph, i.e. the project history.\n",
    "Such operations include:\n",
    "\n",
    " - `git merge-base --is-ancestor`\n",
    " - `git branch --contains`\n",
    " - `git tag --contains`\n",
    " - `git branch --merged`\n",
    " - `git tag --merged`\n",
    " - `git merge-base --all`\n",
    " - `git log --topo-sort`\n",
    " \n",
    "Only the first command performs straight reachability query."
   ]
  },
  {
   "cell_type": "markdown",
   "metadata": {},
   "source": [
    "## Slides"
   ]
  },
  {
   "cell_type": "markdown",
   "metadata": {},
   "source": [
    "This topic is covered in much more details in slides for the presentation \"[_Graph operations in Git version control system_][google-drive-slides]\" by Jakub Narębski (2019).\n",
    "\n",
    "Those slides are also available to read on SlideShare and on Speaker Deck:\n",
    "\n",
    "- <https://www.slideshare.net/JakubNarbski/graph-operations-in-git-version-control-system-how-the-performance-was-improved-for-large-repositories-how-can-it-be-further-improved>\n",
    "- <https://speakerdeck.com/jnareb/graph-operations-in-git-and-how-to-make-them-faster>\n",
    "\n",
    "[google-drive-slides]: https://drive.google.com/open?id=1psMBVfcRHcZeJ7AewGpdoymrEfFVdXoK \"Graph operations in Git version control system (PDF)\""
   ]
  },
  {
   "cell_type": "markdown",
   "metadata": {},
   "source": [
    "## TODO: Notebooks to split"
   ]
  },
  {
   "cell_type": "markdown",
   "metadata": {},
   "source": [
    "- [ ] [Reachability labels for version control graphs](Reachability_labels_for_version_control_graphs.ipynb) (approx 2% done)\n",
    "- [ ] [Reachability queries in large graphs](Reachability_queries_in_large_graphs.ipynb) (0% done)"
   ]
  }
 ],
 "metadata": {
  "kernelspec": {
   "display_name": "Python 3",
   "language": "python",
   "name": "python3"
  }
 },
 "nbformat": 4,
 "nbformat_minor": 2
}
