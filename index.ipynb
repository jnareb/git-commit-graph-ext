{
 "cells": [
  {
   "cell_type": "code",
   "execution_count": null,
   "metadata": {},
   "outputs": [],
   "source": [
    "#hide\n",
    "#from commit_graph_ext.graph_examples import *"
   ]
  },
  {
   "cell_type": "markdown",
   "metadata": {},
   "source": [
    "# Commit graph labeling for speeding up Git commands\n",
    "\n",
    "> Explore possible extensions to the serialized commit-graph format in Git, including adding reachability indexes for graph of revisions"
   ]
  },
  {
   "cell_type": "markdown",
   "metadata": {},
   "source": [
    "Git uses various clever methods for making operations on very large\n",
    "repositories faster, from bitmap indices for `git fetch`[[1][]], to generation\n",
    "numbers (also known as topological levels) in the commit-graph file for\n",
    "commit graph traversal operations like `git log --graph`[[2][]].\n",
    "\n",
    "The goal of this project is to examine various possible improvements that\n",
    "can make Git even faster, other than just using generation numbers.\n",
    "For example there are many methods to make reachability queries in very large graphs\n",
    "faster; it remains to be seen if they would work on large commit graphs\n",
    "(the graph of project history) as well as they work on other real-life graphs.\n",
    "\n",
    "Ultimately, this project is about examining extension to Git's [commit-graph][]\n",
    "feature, including mainly adding reachability indexes / labels\n",
    "for the DAG (Directed Acyclic Graph) of revisions.\n",
    "\n",
    "[1]: https://githubengineering.com/counting-objects/ \"Counting Objects | The GitHub Blog\"\n",
    "[2]: https://devblogs.microsoft.com/devops/supercharging-the-git-commit-graph-iii-generations/ \"Supercharging the Git Commit Graph III: Generations and Graph Algorithms | Azure DevOps Blog\"\n",
    "[commit-graph]: https://git-scm.com/docs/commit-graph"
   ]
  },
  {
   "cell_type": "markdown",
   "metadata": {},
   "source": [
    "----\n",
    "\n",
    "This project, while mainly exploratory in nature, is using [`nbdev`][nbdev] library for literate programming in Python using Jupyter Notebooks -- not to create a Python module (to publish in PyPi and/or Conda), but to allow for splitting it up.\n",
    "\n",
    "The original notebook at Google Colaboratory: \"[Reachability labels for version control graphs.ipynb][colab-1]\" got quite unwieldy; it takes too much time to run it.  By splitting it into smaller notebooks, and turning the code into helper modules, the hope is that it should be possible to quickly go to the interesting parts of exploration.\n",
    "\n",
    "[nbdev]: https://nbdev.fast.ai/ \"nbdev - Create delightful Python projects using Jupyter Notebooks\"\n",
    "[colab-1]: https://colab.research.google.com/drive/1V-U7_slu5Z3s5iEEMFKhLXtaxSu5xyzg \"Reachability labels for version control graphs.ipynb | Colaboratory\""
   ]
  },
  {
   "cell_type": "markdown",
   "metadata": {},
   "source": [
    "## Graph operations in Git"
   ]
  },
  {
   "cell_type": "markdown",
   "metadata": {},
   "source": [
    "This project focuses on the Git operations that involve examining and walking the commit graph, i.e. the project history.\n",
    "Such operations include:\n",
    "\n",
    " - `git merge-base --is-ancestor`\n",
    " - `git branch --contains`\n",
    " - `git tag --contains`\n",
    " - `git branch --merged`\n",
    " - `git tag --merged`\n",
    " - `git merge-base --all`\n",
    " - `git log --topo-sort`\n",
    " \n",
    "Only the first command performs straight reachability query."
   ]
  },
  {
   "cell_type": "markdown",
   "metadata": {},
   "source": [
    "## Table of contents"
   ]
  },
  {
   "cell_type": "markdown",
   "metadata": {},
   "source": [
    "> Warning: this is not generated automatically"
   ]
  },
  {
   "cell_type": "markdown",
   "metadata": {},
   "source": [
    "1. [Graphs in Python](01_tools.ipynb)\n",
    "2. [Related works: various reachability labelings](02_related.ipynb)\n",
    "3. [Example directed graphs](03_example_graphs.ipynb)\n",
    "4. Drawing graphs\n",
    "5. [Reachability index](05_reachability_index.ipynb)\n",
    "6. [Topological levels](06_levels.ipynb)\n",
    "7. [DFS intervals labelling](07_interval_labels.ipynb)\n",
    "8. [Reachability queries](08_reach.ipynb)\n",
    "9. [Extracting commit graphs from Git repositories](09_git.ipynb)\n",
    "   - [Exploring extraction of commit graphs from Git repositories, and examining their shape and stats](A.09_git_explore.ipynb)\n",
    "10. [Checkpointing](10_checkpoint.ipynb)"
   ]
  },
  {
   "cell_type": "markdown",
   "metadata": {},
   "source": [
    "## Slides"
   ]
  },
  {
   "cell_type": "markdown",
   "metadata": {},
   "source": [
    "This topic is covered in much more details in slides for the presentation \"[_Graph operations in Git version control system_][google-drive-slides]\" by Jakub Narebski (2019).\n",
    "\n",
    "Those slides are also available to read on SlideShare and on Speaker Deck:\n",
    "\n",
    "- <https://www.slideshare.net/JakubNarbski/graph-operations-in-git-version-control-system-how-the-performance-was-improved-for-large-repositories-how-can-it-be-further-improved>\n",
    "- <https://speakerdeck.com/jnareb/graph-operations-in-git-and-how-to-make-them-faster>\n",
    "\n",
    "[google-drive-slides]: https://drive.google.com/open?id=1psMBVfcRHcZeJ7AewGpdoymrEfFVdXoK \"Graph operations in Git version control system (PDF)\""
   ]
  },
  {
   "cell_type": "markdown",
   "metadata": {},
   "source": [
    "## TODO: Notebooks to split"
   ]
  },
  {
   "cell_type": "markdown",
   "metadata": {},
   "source": [
    "- [ ] [Reachability labels for version control graphs](_Reachability_labels_for_version_control_graphs.ipynb)\n",
    "   - [x] graphs in Python\n",
    "   - [x] related work / references\n",
    "   - [x] example graphs\n",
    "   - [x] level filter\n",
    "   - [x] min-post intervals filter\n",
    "   - [ ] pre-max version of intervals filter _(maybe)_\n",
    "   - [ ] FELINE filter _(maybe)_\n",
    "   - [ ] contraction hierarchy figure _(maybe)_\n",
    "   - [ ] helper functions (find_heads, etc.)\n",
    "   - [x] computing spanning tree\n",
    "   - [ ] computing reach of a node\n",
    "   - [x] computing levels\n",
    "   - [x] computing min-post intervals\n",
    "   - [ ] computing FELINE _(maybe)_\n",
    "   - [ ] testing quality \\[of FELINE\\]\n",
    "   - [x] reachability queries with levels and min-post\n",
    "   - [ ] reachability queries with FELINE and PReaCH min-post _(maybe)_\n",
    "   - [ ] reachability query stats\n",
    "   - [ ] post vs level graphs visualization\n",
    "   - [ ] code for drawing graphs\n",
    "   - [ ] interactive visualizations\n",
    "   - [ ] version control graphs (LARGE)\n",
    "     - [x] git in Python _(somewhat: shell vs GitPython)_\n",
    "     - [x] cloning repository, generating graph of commits\n",
    "     - [x] saving data to file, restoring data from file\n",
    "     - [ ] repositories to use: git, linux kernel\n",
    "     - [ ] graph statistics\n",
    "     - [ ] drawing a fragment of graph and whole graph (FELINE, min-post vs levels)\n",
    "     - [ ] levels: histogram and histogram of distribution\n",
    "     - [ ] levels as color in graph drawing\n",
    "     - [ ] checking reachability between two commits\n",
    "     - [ ] rev_to_node\n",
    "     - [ ] interactive visualization\n",
    "     - [ ] colorized walk drawing (positive-cut, negative-cut)\n",
    "     - [ ] N^2 connectivity on \\[random sample of\\] commit graph nodes\n",
    "     - [ ] connectivity on random pairs of nodes, statistics for reachability indexes\n",
    "     - [ ] min-post range size and normalized size histogram\n",
    "   - [ ] graph datasets vs commit graphs\n",
    "\n",
    "- [ ] [Reachability queries in large graphs](_Reachability_queries_in_large_graphs.ipynb)\n",
    "   - [ ] datasets from FELINE\n",
    "   - [ ] datasets from FERRARI\n",
    "   - [ ] datasets from PReaCH"
   ]
  }
 ],
 "metadata": {
  "kernelspec": {
   "display_name": "Python 3",
   "language": "python",
   "name": "python3"
  }
 },
 "nbformat": 4,
 "nbformat_minor": 4
}
