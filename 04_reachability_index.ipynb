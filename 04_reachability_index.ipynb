{
 "cells": [
  {
   "cell_type": "markdown",
   "metadata": {},
   "source": [
    "# Reachability index\n",
    "> Describe different types of reachability indices (labels), define negative-cut and positive-cut filters"
   ]
  },
  {
   "cell_type": "markdown",
   "metadata": {},
   "source": [
    "## Label-Only and Label+Graph approaches"
   ]
  },
  {
   "cell_type": "markdown",
   "metadata": {},
   "source": [
    "**Reachability query** is one of the fundamental graph operations to answer whether a vertex (also called a node) can reach another vertex over a large directed graph.  Usually directed acyclic graphs (DAGs) are considered, as reachability query in original graph can be answered by taking graph of _strongly connected components_ (which is acyclic) and answering the translated query there.\n",
    "\n",
    "Let $G = (V,E)$ be a directed graph, with $V$ being its set of vertices and $E \\subseteq V^2$ its set of edges.\n",
    "A reachability query $r(u, v)$ asks whether a vertex $v \\in V$ is reachable from a vertex $u \\in V$,\n",
    "i. e., whether there is a path from $u$ to $v$ in $G$."
   ]
  },
  {
   "cell_type": "markdown",
   "metadata": {},
   "source": [
    "The main idea behind the various considered approaches in the literature is to compute a **label** for every vertex in a graph $G$, by precomputing them offline.  This is known as the _index construction_ (there is constructed an **index** to maintain the mapping from vertices to labels).  The index construction takes time, and storing the labels takes space."
   ]
  },
  {
   "cell_type": "markdown",
   "metadata": {},
   "source": [
    "The various methods to speed up reachability queries can be divided into two main categories (approaches), namely Label-Only and Label+G (or Label+Graph).\n",
    "\n",
    "- **Label-Only** approaches (as the name indicates) answer reachability queries using only the labels. Those have index size which is nonlinear function of the number of vertices (nodes), or have unbound index size.\n",
    "\n",
    "- **Label+Graph** approaches use labels computed where possible, and conduct on-line search (be it depth-first search (DFS), breadth-first search (BFS), or bidirectional BFS) at run-time, if the reachability queries cannot be answered using the labels only.  This class of methods is also called _Refined Online Search_.\n",
    "\n",
    "All the approaches take a different way to balance the three main costs, namely,\n",
    "- the index construction time,\n",
    "- the index size, and\n",
    "- the query time."
   ]
  },
  {
   "cell_type": "markdown",
   "metadata": {},
   "source": [
    "<u>NOTE:</u> this is considered exploratory notebook, so the above text lack citations."
   ]
  },
  {
   "cell_type": "markdown",
   "metadata": {},
   "source": [
    "![Reachability query tradeoffs](images/feline/FELINE_paper-fig_1-reachability_query_tradeoffs-zoom.png)\n",
    "\n",
    "The two basic approaches on extremes of a spectrum are shown on the figure above.\n",
    "\n",
    "The first approach (left side) is to pre-compute and store the full transitive closure of edges,\n",
    "which allows constant time queries, but requires a quadratic space complexity,\n",
    "making it infeasible to maintain the index in the case of very large graphs.\n",
    "- index build time: $\\mathcal{O}(|V|*|E|)$\n",
    "- query answering time: $\\mathcal{O}(1)$ (constant time)\n",
    "- index size: $\\mathcal{O}(|V|^2)$ (quadratic memory size)\n",
    "\n",
    "The second approach (right side) is to employ a DFS or BFS, or bidi-BFS search to verify the reachability,\n",
    "starting from vertex $u$ to vertex $v$. This approach requires $O(|V| + |E|)$ time for each query,\n",
    "which is often unacceptable.\n",
    "- index build time: $\\mathcal{O}(1)$ (no build time)\n",
    "- query answering time: $\\mathcal{O}(|V|+|E|)$\n",
    "- index size: $\\mathcal{O}(1)$ (no additional memory needed)"
   ]
  },
  {
   "cell_type": "markdown",
   "metadata": {},
   "source": [
    "## Types of labels in augmented online search algorithms (Label+G)"
   ]
  },
  {
   "cell_type": "markdown",
   "metadata": {},
   "source": [
    "In Label+Graph approach we conduct graph search if the reachability query cannot be answered using the labels only. In most methods those labels are then used to limit the search space (to augment the search to make if faster).\n",
    "\n",
    "Two main types of labels are those that\n",
    "- exclude unreachable nodes, thus working as **negative-cut filter**,\n",
    "- find reachable nodes, thus working as **positive-cut filter**"
   ]
  },
  {
   "cell_type": "markdown",
   "metadata": {},
   "source": [
    "In this case, usually one can define _partial order_ between given labels, that is for vertices $u$ and $v$ we can have $l(u) \\preceq l(v)$, or $l(u) \\succeq l(v)$, or labels are incomparable (where $l(u)$ is the label for vertex $u$)."
   ]
  },
  {
   "cell_type": "markdown",
   "metadata": {},
   "source": [
    "### Negative-cut filter"
   ]
  },
  {
   "cell_type": "markdown",
   "metadata": {},
   "source": [
    "This type of filter (or reachability label) can be used to exclude unreachable nodes.\n",
    "\n",
    "- for every $u$ and $v$, if $u \\neq v$ and $u$ can reach $v$, that is $r(u,v)$ holds, then we have $l(u) \\preceq l(v)$\n",
    "- therefore if the condition $l(u) \\preceq l(v)$ is not met, then $u$ cannot reach $v$ (there is no path from $u$ to $v$)\n",
    "- the reverse is not always true; there can be **_false positives_**"
   ]
  },
  {
   "cell_type": "markdown",
   "metadata": {},
   "source": [
    "### Positive-cut filter"
   ]
  },
  {
   "cell_type": "markdown",
   "metadata": {},
   "source": [
    "This type of filter (or reachability label) can be used to find when nodes are reachable one from the other\n",
    "\n",
    "- if for $u \\neq v$ we have $l(u) \\preceq l(v)$, then $r(u,v)$ is true, that is $u$ can reach $v$\n",
    "- $v$ can be reachable from $u$ even if the condition is not met ($l(u) \\not\\preceq l(v)$): **false negative**"
   ]
  },
  {
   "cell_type": "markdown",
   "metadata": {},
   "source": []
  }
 ],
 "metadata": {
  "kernelspec": {
   "display_name": "Python 3",
   "language": "python",
   "name": "python3"
  }
 },
 "nbformat": 4,
 "nbformat_minor": 4
}
