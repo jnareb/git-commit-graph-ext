{
 "cells": [
  {
   "cell_type": "code",
   "execution_count": null,
   "metadata": {},
   "outputs": [],
   "source": [
    "#default_exp labelling.levels"
   ]
  },
  {
   "cell_type": "markdown",
   "metadata": {},
   "source": [
    "# Topological levels\n",
    "> Defining topological levels, and describing their characteristics"
   ]
  },
  {
   "cell_type": "markdown",
   "metadata": {},
   "source": [
    "### Definition of forward and backward topological levels"
   ]
  },
  {
   "cell_type": "markdown",
   "metadata": {},
   "source": [
    "The **backward topological level** of a vertex $v$ (denoted as $l_v$) can be defined as its depth:\n",
    "- if $v$ has no immediate predecessors (has no outgoing edges, i.e. its out-degree is zero - it is a **_sink_**),  \n",
    "  then $l_v = 0$,\n",
    "- otherwise it is maximum of levels of its immediate predecessors plus one:  \n",
    "  $l_v = \\max\\limits_{u\\colon (v,u)\\in E}(l_u)+1$.\n",
    "\n",
    "In other words it is the maximum length of any path starting from vertex $v$.\n",
    "\n",
    "The backward topological level increases at least by one when going in the opposite direction to edges (going backwards).\n",
    "\n",
    "> Note: This reachability label is _immutable_ with respect to the graph growth by adding nodes."
   ]
  },
  {
   "cell_type": "markdown",
   "metadata": {},
   "source": [
    "----"
   ]
  },
  {
   "cell_type": "markdown",
   "metadata": {},
   "source": [
    "The **forward topological level** of a vertex $v$ (denoted as $L_v$) is defined in the following way:\n",
    "- if $v$ has no immediate parents / successors (it has no in-going edges, i.e. its in-degree is zero -- it is a **_source_**),  \n",
    "  then $L_v = 0$,\n",
    "- otherwise it is maximum of forward levels of its immediate successors plus one,  \n",
    "  that is $L_v = \\max\\limits_{u\\colon (u,v)\\in E}(L_u + 1)$\n",
    "\n",
    "In other words it is maximum length of any path ending at vertex $v$.\n",
    "\n",
    "The forward topological level increases by at least one when going in the direction of edge (going forwards)."
   ]
  },
  {
   "cell_type": "markdown",
   "metadata": {},
   "source": [
    "The image below shows an example directed graph (DAG), marked with forward and backward topological levels (forward marked in green and backward marked in blue).  This example is taken from the Figure 2 in the PReaCH paper.\n",
    "\n",
    "![Forward and backward topological levels for an example graph](images/preach/PReaCH_arXiv-fig_2-forward_and_backward_topological_levels-zoom.png)"
   ]
  }
 ],
 "metadata": {
  "kernelspec": {
   "display_name": "Python 3",
   "language": "python",
   "name": "python3"
  }
 },
 "nbformat": 4,
 "nbformat_minor": 4
}
