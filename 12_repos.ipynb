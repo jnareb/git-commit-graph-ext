{
 "cells": [
  {
   "cell_type": "code",
   "execution_count": null,
   "metadata": {},
   "outputs": [],
   "source": [
    "#hide_output\n",
    "%load_ext autoreload\n",
    "%autoreload 2"
   ]
  },
  {
   "cell_type": "markdown",
   "metadata": {},
   "source": [
    "# Large Git repositories"
   ]
  },
  {
   "cell_type": "markdown",
   "metadata": {},
   "source": [
    "Imports for handling graphs in Python"
   ]
  },
  {
   "cell_type": "code",
   "execution_count": null,
   "metadata": {},
   "outputs": [],
   "source": [
    "import networkx as nx"
   ]
  },
  {
   "cell_type": "markdown",
   "metadata": {},
   "source": [
    "Imports for cloning Git repositories and extracting the commit graph"
   ]
  },
  {
   "cell_type": "code",
   "execution_count": null,
   "metadata": {},
   "outputs": [],
   "source": [
    "from git_commit_graph_ext.commit_graph import commit_graph, _repo_graph_name"
   ]
  },
  {
   "cell_type": "markdown",
   "metadata": {},
   "source": [
    "Gathering cloned repositories and their graphs"
   ]
  },
  {
   "cell_type": "code",
   "execution_count": null,
   "metadata": {},
   "outputs": [],
   "source": [
    "known_repos = []"
   ]
  },
  {
   "cell_type": "markdown",
   "metadata": {},
   "source": [
    "This should perhaps be a list of objects of specific defined type, not list of dicts"
   ]
  },
  {
   "cell_type": "code",
   "execution_count": null,
   "metadata": {},
   "outputs": [],
   "source": [
    "def get_known_repos():\n",
    "    return known_repos"
   ]
  },
  {
   "cell_type": "code",
   "execution_count": null,
   "metadata": {},
   "outputs": [
    {
     "data": {
      "text/plain": [
       "[]"
      ]
     },
     "execution_count": null,
     "metadata": {},
     "output_type": "execute_result"
    }
   ],
   "source": [
    "get_known_repos()"
   ]
  },
  {
   "cell_type": "markdown",
   "metadata": {},
   "source": [
    "## From `gen-test` repository"
   ]
  },
  {
   "cell_type": "markdown",
   "metadata": {},
   "source": [
    "[gen-test](https://github.com/derrickstolee/gen-test) -- Test scripts for testing new versions of generation numbers.\n",
    "\n",
    "From the README:\n",
    "\n",
    "> This report investigates four replacements for generation numbers, and compares the number of walked commits to the existing algorithms (both using generation numbers and not using them at all). We can use this data to make decisions for the future of the feature."
   ]
  },
  {
   "cell_type": "markdown",
   "metadata": {},
   "source": [
    "https://github.com/derrickstolee/gen-test/blob/master/clone-repos.sh"
   ]
  },
  {
   "cell_type": "markdown",
   "metadata": {},
   "source": [
    "```sh\n",
    "git clone git@github.com:derrickstolee/git.git --branch reach-perf\n",
    "\n",
    "git clone git@github.com:curl/curl\n",
    "git clone git@github.com:electron/electron\n",
    "git clone git@github.com:FFmpeg/FFmpeg\n",
    "git clone git@github.com:eclipse/jgit\n",
    "git clone git@github.com:JuliaLang/julia\n",
    "git clone git@github.com:jetbrains/kotlin\n",
    "git clone git@github.com:torvalds/linux\n",
    "git clone git@github.com:odoo/odoo\n",
    "git clone git@github.com:openssl/openssl\n",
    "git clone git@github.com:apple/swift\n",
    "git clone git@github.com:tensorflow/tensorflow\n",
    "git clone git@github.com:microsoft/TypeScript\n",
    "\n",
    "git clone https://gerrit.googlesource.com/gerrit\n",
    "git clone https://android.googlesource.com/platform/frameworks/base/ android-base\n",
    "git clone https://chromium.googlesource.com/chromium/src chromium\n",
    "```"
   ]
  },
  {
   "cell_type": "markdown",
   "metadata": {},
   "source": [
    "> Note: the repositoriess from googlesource.com have trouble with cloning; it might be better to clone them from command line, not from this Jupyter notebook."
   ]
  },
  {
   "cell_type": "markdown",
   "metadata": {},
   "source": [
    "### cURL repository"
   ]
  },
  {
   "cell_type": "markdown",
   "metadata": {},
   "source": [
    "Curl is a command-line tool for transferring data specified with URL syntax."
   ]
  },
  {
   "cell_type": "code",
   "execution_count": null,
   "metadata": {},
   "outputs": [
    {
     "name": "stdout",
     "output_type": "stream",
     "text": [
      "Wall time: 9.6 s\n"
     ]
    }
   ],
   "source": [
    "%%time\n",
    "curl_graph = commit_graph('https://github.com/curl/curl.git', 'curl')"
   ]
  },
  {
   "cell_type": "markdown",
   "metadata": {},
   "source": [
    "It takes around 9 s to reclone the `curl` repository, 4 s to rescan it, and 300 ms to refresh it."
   ]
  },
  {
   "cell_type": "code",
   "execution_count": null,
   "metadata": {},
   "outputs": [
    {
     "data": {
      "text/plain": [
       "{'name': 'curl',\n",
       " 'url': 'https://github.com/curl/curl',\n",
       " 'graph': <networkx.classes.digraph.DiGraph at 0x14d549b1c70>}"
      ]
     },
     "execution_count": null,
     "metadata": {},
     "output_type": "execute_result"
    }
   ],
   "source": [
    "known_repos = []\n",
    "known_repos.append(\n",
    "    {\n",
    "        'name': 'curl',\n",
    "        'url': 'https://github.com/curl/curl',\n",
    "        'graph': curl_graph,\n",
    "    }\n",
    ")\n",
    "known_repos[0]"
   ]
  },
  {
   "cell_type": "code",
   "execution_count": null,
   "metadata": {},
   "outputs": [
    {
     "name": "stdout",
     "output_type": "stream",
     "text": [
      "commit graph of \"curl\" project has\n",
      "- 26609 nodes / vertices / commits\n",
      "- 26631 edges\n",
      "- 1.00083 edge density, number of edges divided by number of nodes (vertices)\n",
      "- 1 sinks / leafs / roots in git parlance, nodes with no outgoing edges\n",
      "- 14 sources / roots / heads in git parlance, nodes with no incoming edge\n"
     ]
    }
   ],
   "source": [
    "print('commit graph of \"{}\" project has'.format(known_repos[0]['name']))\n",
    "print('- {} nodes / vertices / commits'.format(known_repos[0]['graph'].number_of_nodes()))\n",
    "print('- {} edges'.format(known_repos[0]['graph'].number_of_edges()))\n",
    "print('- {:.5f} edge density, number of edges divided by number of nodes (vertices)'.\n",
    "      format(known_repos[0]['graph'].number_of_edges() / known_repos[0]['graph'].number_of_nodes()))\n",
    "print('- {} sinks / leafs / roots in git parlance, nodes with no outgoing edges'.\n",
    "     format(len([n for n in known_repos[0]['graph'] if known_repos[0]['graph'].out_degree(n) == 0])))\n",
    "print('- {} sources / roots / heads in git parlance, nodes with no incoming edge'.\n",
    "     format(len([n for n in known_repos[0]['graph'] if known_repos[0]['graph'].in_degree(n) == 0])))"
   ]
  },
  {
   "cell_type": "markdown",
   "metadata": {},
   "source": [
    "### Electron repository"
   ]
  },
  {
   "cell_type": "markdown",
   "metadata": {},
   "source": [
    "Electron -- Build cross-platform desktop apps with JavaScript, HTML, and CSS"
   ]
  },
  {
   "cell_type": "code",
   "execution_count": null,
   "metadata": {},
   "outputs": [
    {
     "name": "stdout",
     "output_type": "stream",
     "text": [
      "Wall time: 892 ms\n"
     ]
    }
   ],
   "source": [
    "%%time\n",
    "electron_graph = commit_graph('https://github.com/electron/electron.git', 'electron')"
   ]
  },
  {
   "cell_type": "markdown",
   "metadata": {},
   "source": [
    "It takes around 15 seconds to clone the Electron repository, and construct it's commit graph as NetworkX.DiGraph"
   ]
  },
  {
   "cell_type": "code",
   "execution_count": null,
   "metadata": {},
   "outputs": [
    {
     "data": {
      "text/plain": [
       "[{'name': 'curl',\n",
       "  'url': 'https://github.com/curl/curl',\n",
       "  'graph': <networkx.classes.digraph.DiGraph at 0x14d549b1c70>},\n",
       " {'name': 'electron',\n",
       "  'url': 'https://github.com/electron/electron.git',\n",
       "  'graph': <networkx.classes.digraph.DiGraph at 0x14d549b17f0>}]"
      ]
     },
     "execution_count": null,
     "metadata": {},
     "output_type": "execute_result"
    }
   ],
   "source": [
    "known_repos.append({\n",
    "    'name': 'electron',\n",
    "    'url': 'https://github.com/electron/electron.git',\n",
    "    'graph': electron_graph,\n",
    "})\n",
    "known_repos"
   ]
  },
  {
   "cell_type": "code",
   "execution_count": null,
   "metadata": {},
   "outputs": [
    {
     "name": "stdout",
     "output_type": "stream",
     "text": [
      "commit graph of \"electron\" project has\n",
      "- 29956 nodes / vertices / commits\n",
      "- 34167 edges\n",
      "- 1.14057 edge density, number of edges divided by number of nodes (vertices)\n",
      "- 4 sinks / leafs / roots in git parlance, nodes with no outgoing edges\n",
      "- 142 sources / roots / heads in git parlance, nodes with no incoming edge\n"
     ]
    }
   ],
   "source": [
    "print('commit graph of \"{}\" project has'.format(known_repos[1]['name']))\n",
    "print('- {} nodes / vertices / commits'.format(known_repos[1]['graph'].number_of_nodes()))\n",
    "print('- {} edges'.format(known_repos[1]['graph'].number_of_edges()))\n",
    "print('- {:.5f} edge density, number of edges divided by number of nodes (vertices)'.\n",
    "      format(known_repos[1]['graph'].number_of_edges() / known_repos[1]['graph'].number_of_nodes()))\n",
    "print('- {} sinks / leafs / roots in git parlance, nodes with no outgoing edges'.\n",
    "     format(len([n for n in known_repos[1]['graph'] if known_repos[1]['graph'].out_degree(n) == 0])))\n",
    "print('- {} sources / roots / heads in git parlance, nodes with no incoming edge'.\n",
    "     format(len([n for n in known_repos[1]['graph'] if known_repos[1]['graph'].in_degree(n) == 0])))"
   ]
  },
  {
   "cell_type": "markdown",
   "metadata": {},
   "source": [
    "### FFmpeg repository"
   ]
  },
  {
   "cell_type": "markdown",
   "metadata": {},
   "source": [
    "<https://github.com/FFmpeg/FFmpeg> is a mirror of <https://git.ffmpeg.org/ffmpeg.git>"
   ]
  },
  {
   "cell_type": "markdown",
   "metadata": {},
   "source": [
    "FFmpeg is a collection of libraries and tools to process multimedia content such as audio, video, subtitles and related metadata."
   ]
  },
  {
   "cell_type": "code",
   "execution_count": null,
   "metadata": {},
   "outputs": [
    {
     "name": "stdout",
     "output_type": "stream",
     "text": [
      "Wall time: 2.05 s\n"
     ]
    }
   ],
   "source": [
    "%%time\n",
    "ffmpeg_graph = commit_graph('https://github.com/FFmpeg/FFmpeg.git', 'ffmpeg')"
   ]
  },
  {
   "cell_type": "markdown",
   "metadata": {},
   "source": [
    "It takes around 14 seconds to clone the FFmpeg repository, and construct it's commit graph as NetworkX.DiGraph,  \n",
    "and around 1.4 seconds to refresh it."
   ]
  },
  {
   "cell_type": "code",
   "execution_count": null,
   "metadata": {},
   "outputs": [
    {
     "data": {
      "text/plain": [
       "[{'name': 'curl',\n",
       "  'url': 'https://github.com/curl/curl',\n",
       "  'graph': <networkx.classes.digraph.DiGraph at 0x14d549b1c70>},\n",
       " {'name': 'electron',\n",
       "  'url': 'https://github.com/electron/electron.git',\n",
       "  'graph': <networkx.classes.digraph.DiGraph at 0x14d549b17f0>},\n",
       " {'name': 'ffmpeg',\n",
       "  'url': 'https://github.com/FFmpeg/FFmpeg.git',\n",
       "  'graph': <networkx.classes.digraph.DiGraph at 0x14d549b1e50>}]"
      ]
     },
     "execution_count": null,
     "metadata": {},
     "output_type": "execute_result"
    }
   ],
   "source": [
    "known_repos.append({\n",
    "    'name': 'ffmpeg',\n",
    "    'url': 'https://github.com/FFmpeg/FFmpeg.git',\n",
    "    'graph': ffmpeg_graph\n",
    "})\n",
    "known_repos"
   ]
  },
  {
   "cell_type": "code",
   "execution_count": null,
   "metadata": {},
   "outputs": [
    {
     "name": "stdout",
     "output_type": "stream",
     "text": [
      "commit graph [2] of \"ffmpeg\" project has\n",
      "- 120583 nodes / vertices / commits\n",
      "- 130606 edges\n",
      "- 1.08312 edge density, number of edges divided by number of nodes (vertices)\n",
      "- 1 sinks / leafs / roots in git parlance, nodes with no outgoing edges\n",
      "- 30 sources / roots / heads in git parlance, nodes with no incoming edge\n"
     ]
    }
   ],
   "source": [
    "graph_idx = 2\n",
    "print('commit graph [{}] of \"{}\" project has'.format(graph_idx, known_repos[graph_idx]['name']))\n",
    "print('- {} nodes / vertices / commits'.format(known_repos[graph_idx]['graph'].number_of_nodes()))\n",
    "print('- {} edges'.format(known_repos[graph_idx]['graph'].number_of_edges()))\n",
    "print('- {:.5f} edge density, number of edges divided by number of nodes (vertices)'.\n",
    "      format(known_repos[graph_idx]['graph'].number_of_edges() / known_repos[graph_idx]['graph'].number_of_nodes()))\n",
    "print('- {} sinks / leafs / roots in git parlance, nodes with no outgoing edges'.\n",
    "     format(len([n for n in known_repos[graph_idx]['graph'] if known_repos[graph_idx]['graph'].out_degree(n) == 0])))\n",
    "print('- {} sources / roots / heads in git parlance, nodes with no incoming edge'.\n",
    "     format(len([n for n in known_repos[graph_idx]['graph'] if known_repos[graph_idx]['graph'].in_degree(n) == 0])))"
   ]
  },
  {
   "cell_type": "markdown",
   "metadata": {},
   "source": [
    "### JGit repository"
   ]
  },
  {
   "cell_type": "markdown",
   "metadata": {},
   "source": [
    "JGit - An implementation of the Git version control system in pure Java"
   ]
  },
  {
   "cell_type": "code",
   "execution_count": null,
   "metadata": {},
   "outputs": [
    {
     "name": "stdout",
     "output_type": "stream",
     "text": [
      "Wall time: 3.41 s\n"
     ]
    }
   ],
   "source": [
    "%%time\n",
    "jgit_graph = commit_graph('https://github.com/eclipse/jgit.git', 'jgit')"
   ]
  },
  {
   "cell_type": "markdown",
   "metadata": {},
   "source": [
    "It takes around 34 seconds to clone the JGit repository, and construct it's commit graph as NetworkX.DiGraph,  \n",
    "and 70 ms to refresh it"
   ]
  },
  {
   "cell_type": "code",
   "execution_count": null,
   "metadata": {},
   "outputs": [
    {
     "data": {
      "text/plain": [
       "[{'name': 'curl',\n",
       "  'url': 'https://github.com/curl/curl',\n",
       "  'graph': <networkx.classes.digraph.DiGraph at 0x14d549b1c70>},\n",
       " {'name': 'electron',\n",
       "  'url': 'https://github.com/electron/electron.git',\n",
       "  'graph': <networkx.classes.digraph.DiGraph at 0x14d549b17f0>},\n",
       " {'name': 'ffmpeg',\n",
       "  'url': 'https://github.com/FFmpeg/FFmpeg.git',\n",
       "  'graph': <networkx.classes.digraph.DiGraph at 0x14d549b1e50>},\n",
       " {'name': 'jgit',\n",
       "  'url': 'https://github.com/eclipse/jgit.git',\n",
       "  'graph': <networkx.classes.digraph.DiGraph at 0x14d61fc1280>}]"
      ]
     },
     "execution_count": null,
     "metadata": {},
     "output_type": "execute_result"
    }
   ],
   "source": [
    "#known_repos[3] = {\n",
    "known_repos.append({\n",
    "    'name': 'jgit',\n",
    "    'url': 'https://github.com/eclipse/jgit.git',\n",
    "    'graph': jgit_graph\n",
    "})\n",
    "known_repos"
   ]
  },
  {
   "cell_type": "markdown",
   "metadata": {},
   "source": [
    "On 01.01.2021 the JGit project had 8,162 commits, according to GitHub web UI"
   ]
  },
  {
   "cell_type": "code",
   "execution_count": null,
   "metadata": {},
   "outputs": [
    {
     "name": "stdout",
     "output_type": "stream",
     "text": [
      "commit graph [3] of \"jgit\" project has\n",
      "- 8173 nodes / vertices / commits\n",
      "- 9853 edges\n",
      "- 1.20555 edge density, number of edges divided by number of nodes (vertices)\n",
      "- 1 sinks / leafs / roots in git parlance, nodes with no outgoing edges\n",
      "- 2 sources / roots / heads in git parlance, nodes with no incoming edge\n"
     ]
    }
   ],
   "source": [
    "graph_idx = 3\n",
    "print('commit graph [{}] of \"{}\" project has'.format(graph_idx, known_repos[graph_idx]['name']))\n",
    "print('- {} nodes / vertices / commits'.format(known_repos[graph_idx]['graph'].number_of_nodes()))\n",
    "print('- {} edges'.format(known_repos[graph_idx]['graph'].number_of_edges()))\n",
    "print('- {:.5f} edge density, number of edges divided by number of nodes (vertices)'.\n",
    "      format(known_repos[graph_idx]['graph'].number_of_edges() / known_repos[graph_idx]['graph'].number_of_nodes()))\n",
    "print('- {} sinks / leafs / roots in git parlance, nodes with no outgoing edges'.\n",
    "     format(len([n for n in known_repos[graph_idx]['graph'] if known_repos[graph_idx]['graph'].out_degree(n) == 0])))\n",
    "print('- {} sources / roots / heads in git parlance, nodes with no incoming edge'.\n",
    "     format(len([n for n in known_repos[graph_idx]['graph'] if known_repos[graph_idx]['graph'].in_degree(n) == 0])))"
   ]
  },
  {
   "cell_type": "markdown",
   "metadata": {},
   "source": [
    "### The Julia language repository"
   ]
  },
  {
   "cell_type": "markdown",
   "metadata": {},
   "source": [
    "The Julia Programming Language  \n",
    "<https://julialang.org/>\n",
    "\n",
    "Julia is a high-level, high-performance dynamic language for technical computing."
   ]
  },
  {
   "cell_type": "code",
   "execution_count": null,
   "metadata": {},
   "outputs": [
    {
     "name": "stdout",
     "output_type": "stream",
     "text": [
      "Wall time: 1.04 s\n"
     ]
    }
   ],
   "source": [
    "%%time\n",
    "julia_graph = commit_graph('https://github.com/JuliaLang/julia.git', 'julia')"
   ]
  },
  {
   "cell_type": "markdown",
   "metadata": {},
   "source": [
    "It takes around 32.7 seconds to run `commit_graph()` from scratch"
   ]
  },
  {
   "cell_type": "markdown",
   "metadata": {},
   "source": [
    "The Julia language repository had 48,658 commits on 01.01.2021"
   ]
  },
  {
   "cell_type": "code",
   "execution_count": null,
   "metadata": {},
   "outputs": [
    {
     "data": {
      "text/plain": [
       "[{'name': 'curl',\n",
       "  'url': 'https://github.com/curl/curl',\n",
       "  'graph': <networkx.classes.digraph.DiGraph at 0x14d549b1c70>},\n",
       " {'name': 'electron',\n",
       "  'url': 'https://github.com/electron/electron.git',\n",
       "  'graph': <networkx.classes.digraph.DiGraph at 0x14d549b17f0>},\n",
       " {'name': 'ffmpeg',\n",
       "  'url': 'https://github.com/FFmpeg/FFmpeg.git',\n",
       "  'graph': <networkx.classes.digraph.DiGraph at 0x14d549b1e50>},\n",
       " {'name': 'jgit',\n",
       "  'url': 'https://github.com/eclipse/jgit.git',\n",
       "  'graph': <networkx.classes.digraph.DiGraph at 0x14d61fc1280>},\n",
       " {'name': 'julia',\n",
       "  'url': 'https://github.com/JuliaLang/julia.git',\n",
       "  'homepage': 'https://julialang.org',\n",
       "  'graph': <networkx.classes.digraph.DiGraph at 0x14d61fc1d30>}]"
      ]
     },
     "execution_count": null,
     "metadata": {},
     "output_type": "execute_result"
    }
   ],
   "source": [
    "known_repos.append({\n",
    "    'name': 'julia',\n",
    "    'url': 'https://github.com/JuliaLang/julia.git',\n",
    "    'homepage': 'https://julialang.org',\n",
    "    'graph': julia_graph\n",
    "})\n",
    "known_repos"
   ]
  },
  {
   "cell_type": "code",
   "execution_count": null,
   "metadata": {},
   "outputs": [
    {
     "name": "stdout",
     "output_type": "stream",
     "text": [
      "commit graph [4] of \"julia\" project has\n",
      "- 56048 nodes / vertices / commits\n",
      "- 67547 edges\n",
      "- 1.20516 edge density, number of edges divided by number of nodes (vertices)\n",
      "- 5 sinks / leafs / roots in git parlance, nodes with no outgoing edges\n",
      "- 869 sources / roots / heads in git parlance, nodes with no incoming edge\n"
     ]
    }
   ],
   "source": [
    "graph_idx = 4\n",
    "print('commit graph [{}] of \"{}\" project has'.format(graph_idx, known_repos[graph_idx]['name']))\n",
    "print('- {} nodes / vertices / commits'.format(known_repos[graph_idx]['graph'].number_of_nodes()))\n",
    "print('- {} edges'.format(known_repos[graph_idx]['graph'].number_of_edges()))\n",
    "print('- {:.5f} edge density, number of edges divided by number of nodes (vertices)'.\n",
    "      format(known_repos[graph_idx]['graph'].number_of_edges() / known_repos[graph_idx]['graph'].number_of_nodes()))\n",
    "print('- {} sinks / leafs / roots in git parlance, nodes with no outgoing edges'.\n",
    "     format(len([n for n in known_repos[graph_idx]['graph'] if known_repos[graph_idx]['graph'].out_degree(n) == 0])))\n",
    "print('- {} sources / roots / heads in git parlance, nodes with no incoming edge'.\n",
    "     format(len([n for n in known_repos[graph_idx]['graph'] if known_repos[graph_idx]['graph'].in_degree(n) == 0])))"
   ]
  },
  {
   "cell_type": "markdown",
   "metadata": {},
   "source": [
    "### The Kotlin language repository"
   ]
  },
  {
   "cell_type": "markdown",
   "metadata": {},
   "source": [
    "The Kotlin Programming Language  \n",
    "https://kotlinlang.org/\n",
    "\n",
    "**Kotlin** is an open-source, statically typed programming language supported and developed by JetBrains and open-source contributors."
   ]
  },
  {
   "cell_type": "code",
   "execution_count": null,
   "metadata": {},
   "outputs": [
    {
     "name": "stdout",
     "output_type": "stream",
     "text": [
      "Wall time: 2.24 s\n"
     ]
    }
   ],
   "source": [
    "%%time\n",
    "kotlin_graph = commit_graph('https://github.com/JetBrains/kotlin.git', 'kotlin')"
   ]
  },
  {
   "cell_type": "code",
   "execution_count": null,
   "metadata": {},
   "outputs": [
    {
     "data": {
      "text/plain": [
       "[{'name': 'curl',\n",
       "  'url': 'https://github.com/curl/curl',\n",
       "  'graph': <networkx.classes.digraph.DiGraph at 0x14d549b1c70>},\n",
       " {'name': 'electron',\n",
       "  'url': 'https://github.com/electron/electron.git',\n",
       "  'graph': <networkx.classes.digraph.DiGraph at 0x14d549b17f0>},\n",
       " {'name': 'ffmpeg',\n",
       "  'url': 'https://github.com/FFmpeg/FFmpeg.git',\n",
       "  'graph': <networkx.classes.digraph.DiGraph at 0x14d549b1e50>},\n",
       " {'name': 'jgit',\n",
       "  'url': 'https://github.com/eclipse/jgit.git',\n",
       "  'graph': <networkx.classes.digraph.DiGraph at 0x14d61fc1280>},\n",
       " {'name': 'julia',\n",
       "  'url': 'https://github.com/JuliaLang/julia.git',\n",
       "  'homepage': 'https://julialang.org',\n",
       "  'graph': <networkx.classes.digraph.DiGraph at 0x14d61fc1d30>},\n",
       " {'url': 'https://github.com/JetBrains/kotlin.git',\n",
       "  'name': 'kotlin',\n",
       "  'homepage': 'https://kotlinlang.org/',\n",
       "  'graph': <networkx.classes.digraph.DiGraph at 0x14d66efa8e0>}]"
      ]
     },
     "execution_count": null,
     "metadata": {},
     "output_type": "execute_result"
    }
   ],
   "source": [
    "known_repos.append({\n",
    "    'url': 'https://github.com/JetBrains/kotlin.git',\n",
    "    'name': 'kotlin',\n",
    "    'homepage': 'https://kotlinlang.org/',\n",
    "    'graph': kotlin_graph,\n",
    "})\n",
    "known_repos"
   ]
  },
  {
   "cell_type": "markdown",
   "metadata": {},
   "source": [
    "GitHub repo @ 01.01.2021: 71,704 commits, 3,007 branches, 20,721 tags"
   ]
  },
  {
   "cell_type": "code",
   "execution_count": null,
   "metadata": {},
   "outputs": [
    {
     "name": "stdout",
     "output_type": "stream",
     "text": [
      "commit graph [5] of \"kotlin\" project has\n",
      "- 117495 nodes / vertices / commits\n",
      "- 119013 edges\n",
      "- 1.01292 edge density, number of edges divided by number of nodes (vertices)\n",
      "- 9 sinks / leafs / roots in git parlance, nodes with no outgoing edges\n",
      "- 2592 sources / roots / heads in git parlance, nodes with no incoming edge\n"
     ]
    }
   ],
   "source": [
    "graph_idx = 5\n",
    "print('commit graph [{}] of \"{}\" project has'.format(graph_idx, known_repos[graph_idx]['name']))\n",
    "print('- {} nodes / vertices / commits'.format(known_repos[graph_idx]['graph'].number_of_nodes()))\n",
    "print('- {} edges'.format(known_repos[graph_idx]['graph'].number_of_edges()))\n",
    "print('- {:.5f} edge density, number of edges divided by number of nodes (vertices)'.\n",
    "      format(known_repos[graph_idx]['graph'].number_of_edges() / known_repos[graph_idx]['graph'].number_of_nodes()))\n",
    "print('- {} sinks / leafs / roots in git parlance, nodes with no outgoing edges'.\n",
    "     format(len([n for n in known_repos[graph_idx]['graph'] if known_repos[graph_idx]['graph'].out_degree(n) == 0])))\n",
    "print('- {} sources / roots / heads in git parlance, nodes with no incoming edge'.\n",
    "     format(len([n for n in known_repos[graph_idx]['graph'] if known_repos[graph_idx]['graph'].in_degree(n) == 0])))"
   ]
  },
  {
   "cell_type": "markdown",
   "metadata": {},
   "source": [
    "### Linux repository"
   ]
  },
  {
   "cell_type": "markdown",
   "metadata": {},
   "source": [
    "Linux kernel source tree (on GitHub)"
   ]
  },
  {
   "cell_type": "code",
   "execution_count": null,
   "metadata": {},
   "outputs": [
    {
     "name": "stdout",
     "output_type": "stream",
     "text": [
      "Wall time: 14.2 s\n"
     ]
    }
   ],
   "source": [
    "%%time\n",
    "linux_graph = commit_graph('https://github.com/torvalds/linux.git', 'linux')"
   ]
  },
  {
   "cell_type": "markdown",
   "metadata": {},
   "source": [
    "Wall time: 1min 44s (full clone and extracting the commit graph)"
   ]
  },
  {
   "cell_type": "code",
   "execution_count": null,
   "metadata": {},
   "outputs": [
    {
     "data": {
      "text/plain": [
       "[{'name': 'curl',\n",
       "  'url': 'https://github.com/curl/curl',\n",
       "  'graph': <networkx.classes.digraph.DiGraph at 0x14d549b1c70>},\n",
       " {'name': 'electron',\n",
       "  'url': 'https://github.com/electron/electron.git',\n",
       "  'graph': <networkx.classes.digraph.DiGraph at 0x14d549b17f0>},\n",
       " {'name': 'ffmpeg',\n",
       "  'url': 'https://github.com/FFmpeg/FFmpeg.git',\n",
       "  'graph': <networkx.classes.digraph.DiGraph at 0x14d549b1e50>},\n",
       " {'name': 'jgit',\n",
       "  'url': 'https://github.com/eclipse/jgit.git',\n",
       "  'graph': <networkx.classes.digraph.DiGraph at 0x14d61fc1280>},\n",
       " {'name': 'julia',\n",
       "  'url': 'https://github.com/JuliaLang/julia.git',\n",
       "  'homepage': 'https://julialang.org',\n",
       "  'graph': <networkx.classes.digraph.DiGraph at 0x14d61fc1d30>},\n",
       " {'url': 'https://github.com/JetBrains/kotlin.git',\n",
       "  'name': 'kotlin',\n",
       "  'homepage': 'https://kotlinlang.org/',\n",
       "  'graph': <networkx.classes.digraph.DiGraph at 0x14d66efa8e0>},\n",
       " {'url': 'https://github.com/torvalds/linux.git',\n",
       "  'name': 'linux',\n",
       "  'graph': <networkx.classes.digraph.DiGraph at 0x14d61fc1490>}]"
      ]
     },
     "execution_count": null,
     "metadata": {},
     "output_type": "execute_result"
    }
   ],
   "source": [
    "known_repos.append({\n",
    "    'url': 'https://github.com/torvalds/linux.git',\n",
    "    'name': 'linux',\n",
    "    'graph': linux_graph,\n",
    "})\n",
    "known_repos"
   ]
  },
  {
   "cell_type": "markdown",
   "metadata": {},
   "source": [
    "982,030 commits,  1 branch,  679 tags"
   ]
  },
  {
   "cell_type": "code",
   "execution_count": null,
   "metadata": {},
   "outputs": [
    {
     "name": "stdout",
     "output_type": "stream",
     "text": [
      "commit graph [6] of \"linux\" project has\n",
      "- 982030 nodes / vertices / commits\n",
      "- 1061095 edges\n",
      "- 1.08051 edge density, number of edges divided by number of nodes (vertices)\n",
      "- 4 sinks / leafs / roots in git parlance, nodes with no outgoing edges\n",
      "- 1 sources / roots / heads in git parlance, nodes with no incoming edge\n"
     ]
    }
   ],
   "source": [
    "graph_idx = 6\n",
    "print('commit graph [{}] of \"{}\" project has'.format(graph_idx, known_repos[graph_idx]['name']))\n",
    "print('- {} nodes / vertices / commits'.format(known_repos[graph_idx]['graph'].number_of_nodes()))\n",
    "print('- {} edges'.format(known_repos[graph_idx]['graph'].number_of_edges()))\n",
    "print('- {:.5f} edge density, number of edges divided by number of nodes (vertices)'.\n",
    "      format(known_repos[graph_idx]['graph'].number_of_edges() / known_repos[graph_idx]['graph'].number_of_nodes()))\n",
    "print('- {} sinks / leafs / roots in git parlance, nodes with no outgoing edges'.\n",
    "     format(len([n for n in known_repos[graph_idx]['graph'] if known_repos[graph_idx]['graph'].out_degree(n) == 0])))\n",
    "print('- {} sources / roots / heads in git parlance, nodes with no incoming edge'.\n",
    "     format(len([n for n in known_repos[graph_idx]['graph'] if known_repos[graph_idx]['graph'].in_degree(n) == 0])))"
   ]
  },
  {
   "cell_type": "markdown",
   "metadata": {},
   "source": [
    "### Odoo repository"
   ]
  },
  {
   "cell_type": "markdown",
   "metadata": {},
   "source": [
    "Odoo. Open Source Apps To Grow Your Business.  \n",
    "<https://www.odoo.com/>\n",
    "\n",
    "**Odoo** is a suite of web based open source business apps."
   ]
  },
  {
   "cell_type": "code",
   "execution_count": null,
   "metadata": {},
   "outputs": [
    {
     "name": "stdout",
     "output_type": "stream",
     "text": [
      "Wall time: 1.72 s\n"
     ]
    }
   ],
   "source": [
    "%%time\n",
    "odoo_graph = commit_graph('https://github.com/odoo/odoo.git', 'odoo')"
   ]
  },
  {
   "cell_type": "markdown",
   "metadata": {},
   "source": [
    "Wall time 1min 4s (first time `commit_graph()`)"
   ]
  },
  {
   "cell_type": "code",
   "execution_count": null,
   "metadata": {},
   "outputs": [
    {
     "data": {
      "text/plain": [
       "{'curl': {'name': 'curl',\n",
       "  'url': 'https://github.com/curl/curl',\n",
       "  'graph': <networkx.classes.digraph.DiGraph at 0x14d549b1c70>},\n",
       " 'electron': {'name': 'electron',\n",
       "  'url': 'https://github.com/electron/electron.git',\n",
       "  'graph': <networkx.classes.digraph.DiGraph at 0x14d549b17f0>},\n",
       " 'ffmpeg': {'name': 'ffmpeg',\n",
       "  'url': 'https://github.com/FFmpeg/FFmpeg.git',\n",
       "  'graph': <networkx.classes.digraph.DiGraph at 0x14d549b1e50>},\n",
       " 'jgit': {'name': 'jgit',\n",
       "  'url': 'https://github.com/eclipse/jgit.git',\n",
       "  'graph': <networkx.classes.digraph.DiGraph at 0x14d61fc1280>},\n",
       " 'julia': {'name': 'julia',\n",
       "  'url': 'https://github.com/JuliaLang/julia.git',\n",
       "  'homepage': 'https://julialang.org',\n",
       "  'graph': <networkx.classes.digraph.DiGraph at 0x14d61fc1d30>},\n",
       " 'kotlin': {'url': 'https://github.com/JetBrains/kotlin.git',\n",
       "  'name': 'kotlin',\n",
       "  'homepage': 'https://kotlinlang.org/',\n",
       "  'graph': <networkx.classes.digraph.DiGraph at 0x14d66efa8e0>},\n",
       " 'linux': {'url': 'https://github.com/torvalds/linux.git',\n",
       "  'name': 'linux',\n",
       "  'graph': <networkx.classes.digraph.DiGraph at 0x14d61fc1490>}}"
      ]
     },
     "execution_count": null,
     "metadata": {},
     "output_type": "execute_result"
    }
   ],
   "source": [
    "known_repo = {repo['name']: repo for repo in known_repos}\n",
    "known_repo"
   ]
  },
  {
   "cell_type": "code",
   "execution_count": null,
   "metadata": {},
   "outputs": [
    {
     "data": {
      "text/plain": [
       "{'name': 'odoo',\n",
       " 'url': 'https://github.com/odoo/odoo.git',\n",
       " 'homepage': 'https://www.odoo.com/',\n",
       " 'graph': <networkx.classes.digraph.DiGraph at 0x14d549b1d30>}"
      ]
     },
     "execution_count": null,
     "metadata": {},
     "output_type": "execute_result"
    }
   ],
   "source": [
    "known_repo['odoo'] = {\n",
    "    'name': 'odoo',\n",
    "    'url': 'https://github.com/odoo/odoo.git',\n",
    "    'homepage': 'https://www.odoo.com/',\n",
    "    'graph': odoo_graph,\n",
    "}\n",
    "known_repo['odoo']"
   ]
  },
  {
   "cell_type": "code",
   "execution_count": null,
   "metadata": {},
   "outputs": [
    {
     "name": "stdout",
     "output_type": "stream",
     "text": [
      "commit graph of \"odoo\" project has:\n",
      "- 158324 nodes / vertices / commits\n",
      "- 184403 edges\n",
      "- 1.164719 edge density, number of edges divided by number of nodes (vertices)\n",
      "- 7 sinks / leafs / roots in git parlance, nodes with no outgoing edges\n",
      "- 33 sources / roots / heads in git parlance, nodes with no incoming edge\n"
     ]
    }
   ],
   "source": [
    "repo_name = 'odoo'\n",
    "print('commit graph of \"{}\" project has:'.format(repo_name))\n",
    "print('- {} nodes / vertices / commits'.format(known_repo[repo_name]['graph'].number_of_nodes()))\n",
    "print('- {} edges'.format(known_repo[repo_name]['graph'].number_of_edges()))\n",
    "print('- {:.6f} edge density, number of edges divided by number of nodes (vertices)'.\n",
    "      format(known_repo[repo_name]['graph'].number_of_edges() / known_repo[repo_name]['graph'].number_of_nodes()))\n",
    "print('- {} sinks / leafs / roots in git parlance, nodes with no outgoing edges'.\n",
    "     format(len([n for n in known_repo[repo_name]['graph'] if known_repo[repo_name]['graph'].out_degree(n) == 0])))\n",
    "print('- {} sources / roots / heads in git parlance, nodes with no incoming edge'.\n",
    "     format(len([n for n in known_repo[repo_name]['graph'] if known_repo[repo_name]['graph'].in_degree(n) == 0])))"
   ]
  },
  {
   "cell_type": "markdown",
   "metadata": {},
   "source": [
    "On GitHub @ 01.01.2021: 139,989 commits,  82 branches,  0 tags"
   ]
  },
  {
   "cell_type": "markdown",
   "metadata": {},
   "source": [
    "### OpenSSL repository"
   ]
  },
  {
   "cell_type": "markdown",
   "metadata": {},
   "source": [
    "**OpenSSL** is a robust, commercial-grade, full-featured Open Source Toolkit for the Transport Layer Security (TLS) protocol formerly known as the Secure Sockets Layer (SSL) protocol. The protocol implementation is based on a full-strength general purpose cryptographic library, which can also be used stand-alone.\n",
    "\n",
    "OpenSSL is descended from the SSLeay library developed by Eric A. Young and Tim J. Hudson.\n",
    "\n",
    "The official Home Page of the OpenSSL Project is <www.openssl.org>."
   ]
  },
  {
   "cell_type": "code",
   "execution_count": null,
   "metadata": {},
   "outputs": [
    {
     "name": "stdout",
     "output_type": "stream",
     "text": [
      "Wall time: 529 ms\n"
     ]
    }
   ],
   "source": [
    "%%time\n",
    "openssl_graph = commit_graph('https://github.com/openssl/openssl.git', 'openssl')"
   ]
  },
  {
   "cell_type": "markdown",
   "metadata": {},
   "source": [
    "Wall time 18 seconds (first time)"
   ]
  },
  {
   "cell_type": "code",
   "execution_count": null,
   "metadata": {},
   "outputs": [
    {
     "data": {
      "text/plain": [
       "{'name': 'openssl',\n",
       " 'url': 'https://github.com/openssl/openssl.git',\n",
       " 'homepage': 'https://www.openssl.org',\n",
       " 'graph': <networkx.classes.digraph.DiGraph at 0x14d569cfbb0>}"
      ]
     },
     "execution_count": null,
     "metadata": {},
     "output_type": "execute_result"
    }
   ],
   "source": [
    "known_repo['openssl'] = {\n",
    "    'name': 'openssl',\n",
    "    'url': 'https://github.com/openssl/openssl.git',\n",
    "    'homepage': 'https://www.openssl.org',\n",
    "    'graph': openssl_graph,\n",
    "}\n",
    "known_repo['openssl']"
   ]
  },
  {
   "cell_type": "code",
   "execution_count": null,
   "metadata": {},
   "outputs": [
    {
     "name": "stdout",
     "output_type": "stream",
     "text": [
      "commit graph of \"openssl\" project has:\n",
      "- 42818 nodes / vertices / commits\n",
      "- 42997 edges\n",
      "- 1.004180 edge density, number of edges divided by number of nodes (vertices)\n",
      "- 6 sinks / leafs / roots in git parlance, nodes with no outgoing edges\n",
      "- 19 sources / roots / heads in git parlance, nodes with no incoming edge\n"
     ]
    }
   ],
   "source": [
    "repo_name = 'openssl'\n",
    "print('commit graph of \"{}\" project has:'.format(repo_name))\n",
    "print('- {} nodes / vertices / commits'.format(known_repo[repo_name]['graph'].number_of_nodes()))\n",
    "print('- {} edges'.format(known_repo[repo_name]['graph'].number_of_edges()))\n",
    "print('- {:.6f} edge density, number of edges divided by number of nodes (vertices)'.\n",
    "      format(known_repo[repo_name]['graph'].number_of_edges() / known_repo[repo_name]['graph'].number_of_nodes()))\n",
    "print('- {} sinks / leafs / roots in git parlance, nodes with no outgoing edges'.\n",
    "     format(len([n for n in known_repo[repo_name]['graph'] if known_repo[repo_name]['graph'].out_degree(n) == 0])))\n",
    "print('- {} sources / roots / heads in git parlance, nodes with no incoming edge'.\n",
    "     format(len([n for n in known_repo[repo_name]['graph'] if known_repo[repo_name]['graph'].in_degree(n) == 0])))"
   ]
  },
  {
   "cell_type": "markdown",
   "metadata": {},
   "source": [
    "OpenSSL repo @ 01.01.2021: 27,812 commits, 20 branches, 320 tags"
   ]
  },
  {
   "cell_type": "markdown",
   "metadata": {},
   "source": [
    "### The Swift language repository"
   ]
  },
  {
   "cell_type": "markdown",
   "metadata": {},
   "source": [
    "The Swift Programming Language  \n",
    "<https://swift.org>"
   ]
  },
  {
   "cell_type": "markdown",
   "metadata": {},
   "source": [
    "**Swift** is a high-performance system programming language. It has a clean and modern syntax, offers seamless access to existing C and Objective-C code and frameworks, and is memory safe by default.\n",
    "\n",
    "Although inspired by Objective-C and many other languages, Swift is not itself a C-derived language. As a complete and independent language, Swift packages core features like flow control, data structures, and functions, with high-level constructs like objects, protocols, closures, and generics. Swift embraces modules, eliminating the need for headers and the code duplication they entail.\n",
    "\n",
    "To learn more about the programming language, visit [swift.org](https://swift.org/documentation/)."
   ]
  },
  {
   "cell_type": "code",
   "execution_count": null,
   "metadata": {},
   "outputs": [
    {
     "name": "stdout",
     "output_type": "stream",
     "text": [
      "Wall time: 2.65 s\n"
     ]
    }
   ],
   "source": [
    "%%time\n",
    "swift_graph = commit_graph('https://github.com/apple/swift.git', 'swift')"
   ]
  },
  {
   "cell_type": "markdown",
   "metadata": {},
   "source": [
    "Wall time: 41 s (first time)"
   ]
  },
  {
   "cell_type": "code",
   "execution_count": null,
   "metadata": {},
   "outputs": [
    {
     "data": {
      "text/plain": [
       "{'name': 'swift',\n",
       " 'url': 'https://github.com/apple/swift.git',\n",
       " 'homepage': 'https://swift.org',\n",
       " 'graph': <networkx.classes.digraph.DiGraph at 0x14d61fc1fd0>,\n",
       " 'n_nodes': 132444,\n",
       " 'n_edges': 176028}"
      ]
     },
     "execution_count": null,
     "metadata": {},
     "output_type": "execute_result"
    }
   ],
   "source": [
    "known_repo['swift'] = {\n",
    "    'name': 'swift',\n",
    "    'url': 'https://github.com/apple/swift.git',\n",
    "    'homepage': 'https://swift.org',\n",
    "    'graph': swift_graph,\n",
    "    'n_nodes': swift_graph.number_of_nodes(),\n",
    "    'n_edges': swift_graph.number_of_edges(),\n",
    "}\n",
    "known_repo['swift']"
   ]
  },
  {
   "cell_type": "code",
   "execution_count": null,
   "metadata": {},
   "outputs": [
    {
     "name": "stdout",
     "output_type": "stream",
     "text": [
      "commit graph of \"swift\" project has:\n",
      "- 132444 nodes / vertices / commits\n",
      "- 176028 edges\n",
      "- 1.329075 edge density, number of edges divided by number of nodes (vertices)\n",
      "- 1 sinks / leafs / roots in git parlance, nodes with no outgoing edges\n",
      "- 209 sources / roots / heads in git parlance, nodes with no incoming edge\n"
     ]
    }
   ],
   "source": [
    "repo_name = 'swift'\n",
    "print('commit graph of \"{}\" project has:'.format(repo_name))\n",
    "print('- {} nodes / vertices / commits'.format(known_repo[repo_name]['graph'].number_of_nodes()))\n",
    "print('- {} edges'.format(known_repo[repo_name]['graph'].number_of_edges()))\n",
    "print('- {:.6f} edge density, number of edges divided by number of nodes (vertices)'.\n",
    "      format(known_repo[repo_name]['graph'].number_of_edges() / known_repo[repo_name]['graph'].number_of_nodes()))\n",
    "print('- {} sinks / leafs / roots in git parlance, nodes with no outgoing edges'.\n",
    "     format(len([n for n in known_repo[repo_name]['graph'] if known_repo[repo_name]['graph'].out_degree(n) == 0])))\n",
    "print('- {} sources / roots / heads in git parlance, nodes with no incoming edge'.\n",
    "     format(len([n for n in known_repo[repo_name]['graph'] if known_repo[repo_name]['graph'].in_degree(n) == 0])))"
   ]
  },
  {
   "cell_type": "markdown",
   "metadata": {},
   "source": [
    "Swift repository on GitHub @ 01.01.2021: 114,559 commits"
   ]
  },
  {
   "cell_type": "markdown",
   "metadata": {},
   "source": [
    "### TensorFlow repository"
   ]
  },
  {
   "cell_type": "markdown",
   "metadata": {},
   "source": [
    "An Open Source Machine Learning Framework for Everyone  \n",
    "https://tensorflow.org"
   ]
  },
  {
   "cell_type": "markdown",
   "metadata": {},
   "source": [
    "**TensorFlow** is an end-to-end open source platform for machine learning. It has a comprehensive, flexible ecosystem of tools, libraries, and community resources that lets researchers push the state-of-the-art in ML and developers easily build and deploy ML-powered applications."
   ]
  },
  {
   "cell_type": "code",
   "execution_count": null,
   "metadata": {},
   "outputs": [
    {
     "name": "stdout",
     "output_type": "stream",
     "text": [
      "Wall time: 1.15 s\n"
     ]
    }
   ],
   "source": [
    "%%time\n",
    "tensorflow_graph = commit_graph('https://github.com/tensorflow/tensorflow.git', 'tensorflow')"
   ]
  },
  {
   "cell_type": "markdown",
   "metadata": {},
   "source": [
    "Wall time: 34.3 s (first time)"
   ]
  },
  {
   "cell_type": "code",
   "execution_count": null,
   "metadata": {},
   "outputs": [
    {
     "data": {
      "text/plain": [
       "{'name': 'tensorflow',\n",
       " 'url': 'https://github.com/tensorflow/tensorflow.git',\n",
       " 'homepage': 'https://tensorflow.org',\n",
       " 'graph': <networkx.classes.digraph.DiGraph at 0x14d549b1490>,\n",
       " 'n_nodes': 105236,\n",
       " 'n_edges': 115687}"
      ]
     },
     "execution_count": null,
     "metadata": {},
     "output_type": "execute_result"
    }
   ],
   "source": [
    "known_repo['tensorflow'] = {\n",
    "    'name': 'tensorflow',\n",
    "    'url': 'https://github.com/tensorflow/tensorflow.git',\n",
    "    'homepage': 'https://tensorflow.org',\n",
    "    'graph': tensorflow_graph,\n",
    "    'n_nodes': tensorflow_graph.number_of_nodes(),\n",
    "    'n_edges': tensorflow_graph.number_of_edges(),\n",
    "}\n",
    "known_repo['tensorflow']"
   ]
  },
  {
   "cell_type": "code",
   "execution_count": null,
   "metadata": {},
   "outputs": [
    {
     "name": "stdout",
     "output_type": "stream",
     "text": [
      "commit graph of \"tensorflow\" project has:\n",
      "- 105236 nodes / vertices / commits\n",
      "- 115687 edges\n",
      "- 1.099310 edge density, number of edges divided by number of nodes (vertices)\n",
      "- 3 sinks / leafs / roots in git parlance, nodes with no outgoing edges\n",
      "- 32 sources / roots / heads in git parlance, nodes with no incoming edge\n"
     ]
    }
   ],
   "source": [
    "repo_name = 'tensorflow'\n",
    "print('commit graph of \"{}\" project has:'.format(repo_name))\n",
    "print('- {} nodes / vertices / commits'.format(known_repo[repo_name]['n_nodes']))\n",
    "print('- {} edges'.format(known_repo[repo_name]['n_edges']))\n",
    "print('- {:.6f} edge density, number of edges divided by number of nodes (vertices)'.\n",
    "      format(known_repo[repo_name]['n_edges'] / known_repo[repo_name]['n_nodes']))\n",
    "print('- {} sinks / leafs / roots in git parlance, nodes with no outgoing edges'.\n",
    "     format(len([n for n in known_repo[repo_name]['graph'] if known_repo[repo_name]['graph'].out_degree(n) == 0])))\n",
    "print('- {} sources / roots / heads in git parlance, nodes with no incoming edge'.\n",
    "     format(len([n for n in known_repo[repo_name]['graph'] if known_repo[repo_name]['graph'].in_degree(n) == 0])))"
   ]
  },
  {
   "cell_type": "markdown",
   "metadata": {},
   "source": [
    "TensorFlow repository on GitHub @ 01.01.2021: 102,131 commits,  36 branches"
   ]
  },
  {
   "cell_type": "markdown",
   "metadata": {},
   "source": [
    "### The TypeScript language repository"
   ]
  },
  {
   "cell_type": "markdown",
   "metadata": {},
   "source": [
    "TypeScript is a superset of JavaScript that compiles to clean JavaScript output.  \n",
    "www.typescriptlang.org"
   ]
  },
  {
   "cell_type": "markdown",
   "metadata": {},
   "source": [
    "**TypeScript** is a language for application-scale JavaScript. TypeScript adds optional types to JavaScript that support tools for large-scale JavaScript applications for any browser, for any host, on any OS. TypeScript compiles to readable, standards-based JavaScript."
   ]
  },
  {
   "cell_type": "code",
   "execution_count": null,
   "metadata": {},
   "outputs": [
    {
     "name": "stdout",
     "output_type": "stream",
     "text": [
      "Wall time: 397 ms\n"
     ]
    }
   ],
   "source": [
    "%%time\n",
    "typescript_graph = commit_graph('https://github.com/microsoft/TypeScript.git', 'typescript')"
   ]
  },
  {
   "cell_type": "markdown",
   "metadata": {},
   "source": [
    "Wall time: 23.4 s (first time)"
   ]
  },
  {
   "cell_type": "code",
   "execution_count": null,
   "metadata": {},
   "outputs": [
    {
     "data": {
      "text/plain": [
       "{'name': 'typescript',\n",
       " 'url': 'https://github.com/microsoft/TypeScript.git',\n",
       " 'homepage': 'https://www.typescriptlang.org/',\n",
       " 'graph': <networkx.classes.digraph.DiGraph at 0x14d66efad90>,\n",
       " 'n_nodes': 35486,\n",
       " 'n_edges': 43895}"
      ]
     },
     "execution_count": null,
     "metadata": {},
     "output_type": "execute_result"
    }
   ],
   "source": [
    "known_repo['typescript'] = {\n",
    "    'name': 'typescript',\n",
    "    'url': 'https://github.com/microsoft/TypeScript.git',\n",
    "    'homepage': 'https://www.typescriptlang.org/',\n",
    "    'graph': typescript_graph,\n",
    "    'n_nodes': typescript_graph.number_of_nodes(),\n",
    "    'n_edges': typescript_graph.number_of_edges(),\n",
    "}\n",
    "known_repo['typescript']"
   ]
  },
  {
   "cell_type": "code",
   "execution_count": null,
   "metadata": {},
   "outputs": [
    {
     "name": "stdout",
     "output_type": "stream",
     "text": [
      "commit graph of \"typescript\" project has:\n",
      "- 35486 nodes / vertices / commits\n",
      "- 43895 edges\n",
      "- 1.236967 edge density, number of edges divided by number of nodes (vertices)\n",
      "- 1 sinks / leafs / roots in git parlance, nodes with no outgoing edges\n",
      "- 419 sources / roots / heads in git parlance, nodes with no incoming edge\n"
     ]
    }
   ],
   "source": [
    "repo_name = 'typescript'\n",
    "print('commit graph of \"{}\" project has:'.format(repo_name))\n",
    "print('- {} nodes / vertices / commits'.format(known_repo[repo_name]['n_nodes']))\n",
    "print('- {} edges'.format(known_repo[repo_name]['n_edges']))\n",
    "print('- {:.6f} edge density, number of edges divided by number of nodes (vertices)'.\n",
    "      format(known_repo[repo_name]['n_edges'] / known_repo[repo_name]['n_nodes']))\n",
    "print('- {} sinks / leafs / roots in git parlance, nodes with no outgoing edges'.\n",
    "     format(len([n for n in known_repo[repo_name]['graph'] if known_repo[repo_name]['graph'].out_degree(n) == 0])))\n",
    "print('- {} sources / roots / heads in git parlance, nodes with no incoming edge'.\n",
    "     format(len([n for n in known_repo[repo_name]['graph'] if known_repo[repo_name]['graph'].in_degree(n) == 0])))"
   ]
  },
  {
   "cell_type": "markdown",
   "metadata": {},
   "source": [
    "TypeScript repository on GitHub @ 01.01.2021: 31,596 commits, 455 branches"
   ]
  },
  {
   "cell_type": "markdown",
   "metadata": {},
   "source": [
    "### Git project repository"
   ]
  },
  {
   "cell_type": "markdown",
   "metadata": {},
   "source": [
    "<https://github.com/git/git> is Git Source Code Mirror - This is a publish-only repository and all pull requests are ignored.  \n",
    "https://git-scm.com/"
   ]
  },
  {
   "cell_type": "markdown",
   "metadata": {},
   "source": [
    "**Git** is a fast, scalable, distributed revision control system with an unusually rich command set that provides both high-level operations and full access to internals."
   ]
  },
  {
   "cell_type": "code",
   "execution_count": null,
   "metadata": {},
   "outputs": [
    {
     "name": "stdout",
     "output_type": "stream",
     "text": [
      "Wall time: 824 ms\n"
     ]
    }
   ],
   "source": [
    "%%time\n",
    "git_graph = commit_graph('https://github.com/git/git.git', 'git.git')"
   ]
  },
  {
   "cell_type": "code",
   "execution_count": null,
   "metadata": {},
   "outputs": [
    {
     "data": {
      "text/plain": [
       "{'name': 'git.git',\n",
       " 'graph_name': 'git-commit_graph',\n",
       " 'url': 'https://github.com/git/git.git',\n",
       " 'homepage': 'https://git-scm.com/',\n",
       " 'graph': <networkx.classes.digraph.DiGraph at 0x14d66efa2e0>,\n",
       " 'n_nodes': 63829,\n",
       " 'n_edges': 79664}"
      ]
     },
     "execution_count": null,
     "metadata": {},
     "output_type": "execute_result"
    }
   ],
   "source": [
    "known_repo['git.git'] = {\n",
    "    'name': 'git.git',\n",
    "    'graph_name': _repo_graph_name('repos/git.git'),\n",
    "    'url': 'https://github.com/git/git.git',\n",
    "    'homepage': 'https://git-scm.com/',\n",
    "    'graph': git_graph,\n",
    "    'n_nodes': git_graph.number_of_nodes(),\n",
    "    'n_edges': git_graph.number_of_edges(),\n",
    "}\n",
    "known_repo['git.git']"
   ]
  },
  {
   "cell_type": "code",
   "execution_count": null,
   "metadata": {},
   "outputs": [
    {
     "name": "stdout",
     "output_type": "stream",
     "text": [
      "commit graph of \"git.git\" project has:\n",
      "- 63829 nodes / vertices / commits\n",
      "- 79664 edges\n",
      "- 1.248085 edge density, number of edges divided by number of nodes (vertices)\n",
      "- 9 sinks / leafs / roots in git parlance, nodes with no outgoing edges\n",
      "- 3 sources / roots / heads in git parlance, nodes with no incoming edge\n"
     ]
    }
   ],
   "source": [
    "repo_name = 'git.git'\n",
    "print('commit graph of \"{}\" project has:'.format(repo_name))\n",
    "print('- {} nodes / vertices / commits'.format(known_repo[repo_name]['n_nodes']))\n",
    "print('- {} edges'.format(known_repo[repo_name]['n_edges']))\n",
    "print('- {:.6f} edge density, number of edges divided by number of nodes (vertices)'.\n",
    "      format(known_repo[repo_name]['n_edges'] / known_repo[repo_name]['n_nodes']))\n",
    "print('- {} sinks / leafs / roots in git parlance, nodes with no outgoing edges'.\n",
    "     format(len([n for n in known_repo[repo_name]['graph'] if known_repo[repo_name]['graph'].out_degree(n) == 0])))\n",
    "print('- {} sources / roots / heads in git parlance, nodes with no incoming edge'.\n",
    "     format(len([n for n in known_repo[repo_name]['graph'] if known_repo[repo_name]['graph'].in_degree(n) == 0])))"
   ]
  },
  {
   "cell_type": "markdown",
   "metadata": {},
   "source": [
    "Git.git repository on GitHub @ 01.01.2021: 61,475 commits,  5 branches"
   ]
  },
  {
   "cell_type": "markdown",
   "metadata": {},
   "source": [
    "### Gerrit repository"
   ]
  },
  {
   "cell_type": "markdown",
   "metadata": {},
   "source": [
    "**Gerrit Code Review** is a free, web-based team code collaboration tool. Software developers in a team can review each other's modifications on their source code using a Web browser and approve or reject those changes. It integrates closely with Git, a distributed version control system.\n",
    "\n",
    "https://www.gerritcodereview.com/"
   ]
  },
  {
   "cell_type": "code",
   "execution_count": null,
   "metadata": {},
   "outputs": [
    {
     "name": "stdout",
     "output_type": "stream",
     "text": [
      "Wall time: 580 ms\n"
     ]
    }
   ],
   "source": [
    "%%time\n",
    "gerrit_graph = commit_graph('https://gerrit.googlesource.com/gerrit', 'gerrit')"
   ]
  },
  {
   "cell_type": "markdown",
   "metadata": {},
   "source": [
    "Wall time: 1min 2s (first time)"
   ]
  },
  {
   "cell_type": "code",
   "execution_count": null,
   "metadata": {},
   "outputs": [
    {
     "name": "stdout",
     "output_type": "stream",
     "text": [
      "Wall time: 68 ms\n"
     ]
    },
    {
     "data": {
      "text/plain": [
       "{'name': 'gerrit',\n",
       " 'graph_name': 'gerrit-commit_graph',\n",
       " 'url': 'https://gerrit.googlesource.com/gerrit',\n",
       " 'homepage': 'https://www.gerritcodereview.com/',\n",
       " 'graph': <networkx.classes.digraph.DiGraph at 0x14d9516e4f0>,\n",
       " 'n_nodes': 47687,\n",
       " 'n_edges': 63944}"
      ]
     },
     "execution_count": null,
     "metadata": {},
     "output_type": "execute_result"
    }
   ],
   "source": [
    "%%time\n",
    "known_repo['gerrit'] = {\n",
    "    'name': 'gerrit',\n",
    "    'graph_name': _repo_graph_name('repos/gerrit'),\n",
    "    'url': 'https://gerrit.googlesource.com/gerrit',\n",
    "    'homepage': 'https://www.gerritcodereview.com/',\n",
    "    'graph': gerrit_graph,\n",
    "    'n_nodes': gerrit_graph.number_of_nodes(),\n",
    "    'n_edges': gerrit_graph.number_of_edges(),\n",
    "}\n",
    "known_repo['gerrit']"
   ]
  },
  {
   "cell_type": "code",
   "execution_count": null,
   "metadata": {},
   "outputs": [
    {
     "name": "stdout",
     "output_type": "stream",
     "text": [
      "commit graph of \"gerrit\" project has:\n",
      "- 47687 nodes / vertices / commits\n",
      "- 63944 edges\n",
      "- 1.340911 edge density, number of edges divided by number of nodes (vertices)\n",
      "- 4 sinks / leafs / roots in git parlance, nodes with no outgoing edges\n",
      "- 6 sources / roots / heads in git parlance, nodes with no incoming edge\n"
     ]
    }
   ],
   "source": [
    "repo_name = 'gerrit'\n",
    "print('commit graph of \"{}\" project has:'.format(repo_name))\n",
    "print('- {} nodes / vertices / commits'.format(known_repo[repo_name]['n_nodes']))\n",
    "print('- {} edges'.format(known_repo[repo_name]['n_edges']))\n",
    "print('- {:.6f} edge density, number of edges divided by number of nodes (vertices)'.\n",
    "      format(known_repo[repo_name]['n_edges'] / known_repo[repo_name]['n_nodes']))\n",
    "print('- {} sinks / leafs / roots in git parlance, nodes with no outgoing edges'.\n",
    "     format(len([n for n in known_repo[repo_name]['graph'] if known_repo[repo_name]['graph'].out_degree(n) == 0])))\n",
    "print('- {} sources / roots / heads in git parlance, nodes with no incoming edge'.\n",
    "     format(len([n for n in known_repo[repo_name]['graph'] if known_repo[repo_name]['graph'].in_degree(n) == 0])))"
   ]
  },
  {
   "cell_type": "markdown",
   "metadata": {},
   "source": [
    "### Android-base repository"
   ]
  },
  {
   "cell_type": "code",
   "execution_count": null,
   "metadata": {},
   "outputs": [
    {
     "name": "stdout",
     "output_type": "stream",
     "text": [
      "Wall time: 17.5 s\n"
     ]
    }
   ],
   "source": [
    "%%time\n",
    "android_graph = commit_graph('https://android.googlesource.com/platform/frameworks/base/', 'android-base', rescan=True)"
   ]
  },
  {
   "cell_type": "markdown",
   "metadata": {},
   "source": [
    "Wall time: 2min 9s (first time), 20.7 s (rescan)"
   ]
  },
  {
   "cell_type": "code",
   "execution_count": null,
   "metadata": {},
   "outputs": [],
   "source": [
    "#%%time\n",
    "#!git clone --filter=tree:0 --no-checkout https://android.googlesource.com/platform/frameworks/base/ repos/android-base"
   ]
  },
  {
   "cell_type": "code",
   "execution_count": null,
   "metadata": {},
   "outputs": [
    {
     "data": {
      "text/plain": [
       "{'name': 'android-base',\n",
       " 'url': 'https://android.googlesource.com/platform/frameworks/base/',\n",
       " 'graph': <networkx.classes.digraph.DiGraph at 0x14d9516e9a0>,\n",
       " 'n_nodes': 559423,\n",
       " 'n_edges': 984070}"
      ]
     },
     "execution_count": null,
     "metadata": {},
     "output_type": "execute_result"
    }
   ],
   "source": [
    "known_repo['android-base'] = {\n",
    "    'name': 'android-base',\n",
    "    'url': 'https://android.googlesource.com/platform/frameworks/base/',\n",
    "    'graph': android_graph,\n",
    "    'n_nodes': android_graph.number_of_nodes(),\n",
    "    'n_edges': android_graph.number_of_edges(),\n",
    "}\n",
    "known_repo['android-base']"
   ]
  },
  {
   "cell_type": "code",
   "execution_count": null,
   "metadata": {},
   "outputs": [
    {
     "name": "stdout",
     "output_type": "stream",
     "text": [
      "commit graph of \"android-base\" project has:\n",
      "- 559423 nodes / vertices / commits\n",
      "- 984070 edges\n",
      "- 1.759080 edge density, number of edges divided by number of nodes (vertices)\n",
      "- 3 sinks / leafs / roots in git parlance, nodes with no outgoing edges\n",
      "- 1 sources / roots / heads in git parlance, nodes with no incoming edge\n"
     ]
    }
   ],
   "source": [
    "repo_name = 'android-base'\n",
    "print('commit graph of \"{}\" project has:'.format(repo_name))\n",
    "print('- {} nodes / vertices / commits'.format(known_repo[repo_name]['n_nodes']))\n",
    "print('- {} edges'.format(known_repo[repo_name]['n_edges']))\n",
    "print('- {:.6f} edge density, number of edges divided by number of nodes (vertices)'.\n",
    "      format(known_repo[repo_name]['n_edges'] / known_repo[repo_name]['n_nodes']))\n",
    "print('- {} sinks / leafs / roots in git parlance, nodes with no outgoing edges'.\n",
    "     format(len([n for n in known_repo[repo_name]['graph'] if known_repo[repo_name]['graph'].out_degree(n) == 0])))\n",
    "print('- {} sources / roots / heads in git parlance, nodes with no incoming edge'.\n",
    "     format(len([n for n in known_repo[repo_name]['graph'] if known_repo[repo_name]['graph'].in_degree(n) == 0])))"
   ]
  },
  {
   "cell_type": "markdown",
   "metadata": {},
   "source": [
    "### Chromium repository"
   ]
  },
  {
   "cell_type": "markdown",
   "metadata": {},
   "source": [
    "**Chromium** is an open-source browser project that aims to build a safer, faster, and more stable way for all users to experience the web.\n",
    "\n",
    "The project's web site is https://www.chromium.org."
   ]
  },
  {
   "cell_type": "code",
   "execution_count": null,
   "metadata": {},
   "outputs": [
    {
     "name": "stdout",
     "output_type": "stream",
     "text": [
      "Wall time: 39.3 s\n"
     ]
    }
   ],
   "source": [
    "%%time\n",
    "chromium_graph = commit_graph('https://chromium.googlesource.com/chromium/src', 'chromium')"
   ]
  },
  {
   "cell_type": "markdown",
   "metadata": {},
   "source": [
    "Wall time: 39min 52s (first time, possibly failed), rescan: 39.3 s"
   ]
  },
  {
   "cell_type": "code",
   "execution_count": null,
   "metadata": {},
   "outputs": [
    {
     "data": {
      "text/plain": [
       "{'name': 'chromium',\n",
       " 'url': 'https://chromium.googlesource.com/chromium/src',\n",
       " 'homepage': 'https://www.chromium.org',\n",
       " 'graph': <networkx.classes.digraph.DiGraph at 0x14d549b16d0>,\n",
       " 'n_nodes': 961204,\n",
       " 'n_edges': 961263}"
      ]
     },
     "execution_count": null,
     "metadata": {},
     "output_type": "execute_result"
    }
   ],
   "source": [
    "known_repo['chromium'] = {\n",
    "    'name': 'chromium',\n",
    "    'url': 'https://chromium.googlesource.com/chromium/src',\n",
    "    'homepage': 'https://www.chromium.org',\n",
    "    'graph': chromium_graph,\n",
    "    'n_nodes': chromium_graph.number_of_nodes(),\n",
    "    'n_edges': chromium_graph.number_of_edges(),\n",
    "}\n",
    "known_repo['chromium']"
   ]
  },
  {
   "cell_type": "code",
   "execution_count": null,
   "metadata": {},
   "outputs": [
    {
     "name": "stdout",
     "output_type": "stream",
     "text": [
      "commit graph of \"chromium\" project has:\n",
      "- 961204 nodes / vertices / commits\n",
      "- 961263 edges\n",
      "- 1.000061 edge density, number of edges divided by number of nodes (vertices)\n",
      "- 3 sinks / leafs / roots in git parlance, nodes with no outgoing edges\n",
      "- 1 sources / roots / heads in git parlance, nodes with no incoming edge\n"
     ]
    }
   ],
   "source": [
    "repo_name = 'chromium'\n",
    "print('commit graph of \"{}\" project has:'.format(repo_name))\n",
    "print('- {} nodes / vertices / commits'.format(known_repo[repo_name]['n_nodes']))\n",
    "print('- {} edges'.format(known_repo[repo_name]['n_edges']))\n",
    "print('- {:.6f} edge density, number of edges divided by number of nodes (vertices)'.\n",
    "      format(known_repo[repo_name]['n_edges'] / known_repo[repo_name]['n_nodes']))\n",
    "print('- {} sinks / leafs / roots in git parlance, nodes with no outgoing edges'.\n",
    "     format(len([n for n in known_repo[repo_name]['graph'] if known_repo[repo_name]['graph'].out_degree(n) == 0])))\n",
    "print('- {} sources / roots / heads in git parlance, nodes with no incoming edge'.\n",
    "     format(len([n for n in known_repo[repo_name]['graph'] if known_repo[repo_name]['graph'].in_degree(n) == 0])))"
   ]
  },
  {
   "cell_type": "markdown",
   "metadata": {},
   "source": [
    "## Summary"
   ]
  },
  {
   "cell_type": "markdown",
   "metadata": {},
   "source": [
    "Imports for data analysis"
   ]
  },
  {
   "cell_type": "code",
   "execution_count": null,
   "metadata": {},
   "outputs": [],
   "source": [
    "import pandas as pd"
   ]
  },
  {
   "cell_type": "code",
   "execution_count": null,
   "metadata": {},
   "outputs": [
    {
     "name": "stdout",
     "output_type": "stream",
     "text": [
      "... processing curl\n",
      "... processing electron\n",
      "... processing ffmpeg\n",
      "... processing jgit\n",
      "... processing julia\n",
      "... processing kotlin\n",
      "... processing linux\n",
      "... processing odoo\n",
      "... processing openssl\n",
      "... processing swift\n",
      "... processing tensorflow\n",
      "... processing typescript\n",
      "... processing git.git\n",
      "... processing gerrit\n",
      "... processing android-base\n",
      "... processing chromium\n"
     ]
    }
   ],
   "source": [
    "for name, repo in known_repo.items():\n",
    "    print('... processing {}'.format(name))\n",
    "    if 'n_nodes' not in repo:\n",
    "        repo['n_nodes'] = repo['graph'].number_of_nodes()\n",
    "    if 'n_edges' not in repo:\n",
    "        repo['n_edges'] = repo['graph'].number_of_edges()"
   ]
  },
  {
   "cell_type": "code",
   "execution_count": null,
   "metadata": {},
   "outputs": [
    {
     "data": {
      "text/html": [
       "<div>\n",
       "<style scoped>\n",
       "    .dataframe tbody tr th:only-of-type {\n",
       "        vertical-align: middle;\n",
       "    }\n",
       "\n",
       "    .dataframe tbody tr th {\n",
       "        vertical-align: top;\n",
       "    }\n",
       "\n",
       "    .dataframe thead th {\n",
       "        text-align: right;\n",
       "    }\n",
       "</style>\n",
       "<table border=\"1\" class=\"dataframe\">\n",
       "  <thead>\n",
       "    <tr style=\"text-align: right;\">\n",
       "      <th></th>\n",
       "      <th>url</th>\n",
       "      <th>n_nodes</th>\n",
       "      <th>n_edges</th>\n",
       "      <th>n_edges / n_nodes</th>\n",
       "    </tr>\n",
       "  </thead>\n",
       "  <tbody>\n",
       "    <tr>\n",
       "      <th>jgit</th>\n",
       "      <td>https://github.com/eclipse/jgit.git</td>\n",
       "      <td>8173</td>\n",
       "      <td>9853</td>\n",
       "      <td>1.205555</td>\n",
       "    </tr>\n",
       "    <tr>\n",
       "      <th>curl</th>\n",
       "      <td>https://github.com/curl/curl</td>\n",
       "      <td>26609</td>\n",
       "      <td>26631</td>\n",
       "      <td>1.000827</td>\n",
       "    </tr>\n",
       "    <tr>\n",
       "      <th>electron</th>\n",
       "      <td>https://github.com/electron/electron.git</td>\n",
       "      <td>29956</td>\n",
       "      <td>34167</td>\n",
       "      <td>1.140573</td>\n",
       "    </tr>\n",
       "    <tr>\n",
       "      <th>typescript</th>\n",
       "      <td>https://github.com/microsoft/TypeScript.git</td>\n",
       "      <td>35486</td>\n",
       "      <td>43895</td>\n",
       "      <td>1.236967</td>\n",
       "    </tr>\n",
       "    <tr>\n",
       "      <th>openssl</th>\n",
       "      <td>https://github.com/openssl/openssl.git</td>\n",
       "      <td>42818</td>\n",
       "      <td>42997</td>\n",
       "      <td>1.004180</td>\n",
       "    </tr>\n",
       "    <tr>\n",
       "      <th>gerrit</th>\n",
       "      <td>https://gerrit.googlesource.com/gerrit</td>\n",
       "      <td>47687</td>\n",
       "      <td>63944</td>\n",
       "      <td>1.340911</td>\n",
       "    </tr>\n",
       "    <tr>\n",
       "      <th>julia</th>\n",
       "      <td>https://github.com/JuliaLang/julia.git</td>\n",
       "      <td>56048</td>\n",
       "      <td>67547</td>\n",
       "      <td>1.205163</td>\n",
       "    </tr>\n",
       "    <tr>\n",
       "      <th>git.git</th>\n",
       "      <td>https://github.com/git/git.git</td>\n",
       "      <td>63829</td>\n",
       "      <td>79664</td>\n",
       "      <td>1.248085</td>\n",
       "    </tr>\n",
       "    <tr>\n",
       "      <th>tensorflow</th>\n",
       "      <td>https://github.com/tensorflow/tensorflow.git</td>\n",
       "      <td>105236</td>\n",
       "      <td>115687</td>\n",
       "      <td>1.099310</td>\n",
       "    </tr>\n",
       "    <tr>\n",
       "      <th>kotlin</th>\n",
       "      <td>https://github.com/JetBrains/kotlin.git</td>\n",
       "      <td>117495</td>\n",
       "      <td>119013</td>\n",
       "      <td>1.012920</td>\n",
       "    </tr>\n",
       "    <tr>\n",
       "      <th>ffmpeg</th>\n",
       "      <td>https://github.com/FFmpeg/FFmpeg.git</td>\n",
       "      <td>120583</td>\n",
       "      <td>130606</td>\n",
       "      <td>1.083121</td>\n",
       "    </tr>\n",
       "    <tr>\n",
       "      <th>swift</th>\n",
       "      <td>https://github.com/apple/swift.git</td>\n",
       "      <td>132444</td>\n",
       "      <td>176028</td>\n",
       "      <td>1.329075</td>\n",
       "    </tr>\n",
       "    <tr>\n",
       "      <th>odoo</th>\n",
       "      <td>https://github.com/odoo/odoo.git</td>\n",
       "      <td>158324</td>\n",
       "      <td>184403</td>\n",
       "      <td>1.164719</td>\n",
       "    </tr>\n",
       "    <tr>\n",
       "      <th>android-base</th>\n",
       "      <td>https://android.googlesource.com/platform/fram...</td>\n",
       "      <td>559423</td>\n",
       "      <td>984070</td>\n",
       "      <td>1.759080</td>\n",
       "    </tr>\n",
       "    <tr>\n",
       "      <th>chromium</th>\n",
       "      <td>https://chromium.googlesource.com/chromium/src</td>\n",
       "      <td>961204</td>\n",
       "      <td>961263</td>\n",
       "      <td>1.000061</td>\n",
       "    </tr>\n",
       "    <tr>\n",
       "      <th>linux</th>\n",
       "      <td>https://github.com/torvalds/linux.git</td>\n",
       "      <td>982030</td>\n",
       "      <td>1061095</td>\n",
       "      <td>1.080512</td>\n",
       "    </tr>\n",
       "  </tbody>\n",
       "</table>\n",
       "</div>"
      ],
      "text/plain": [
       "                                                            url  n_nodes  \\\n",
       "jgit                        https://github.com/eclipse/jgit.git     8173   \n",
       "curl                               https://github.com/curl/curl    26609   \n",
       "electron               https://github.com/electron/electron.git    29956   \n",
       "typescript          https://github.com/microsoft/TypeScript.git    35486   \n",
       "openssl                  https://github.com/openssl/openssl.git    42818   \n",
       "gerrit                   https://gerrit.googlesource.com/gerrit    47687   \n",
       "julia                    https://github.com/JuliaLang/julia.git    56048   \n",
       "git.git                          https://github.com/git/git.git    63829   \n",
       "tensorflow         https://github.com/tensorflow/tensorflow.git   105236   \n",
       "kotlin                  https://github.com/JetBrains/kotlin.git   117495   \n",
       "ffmpeg                     https://github.com/FFmpeg/FFmpeg.git   120583   \n",
       "swift                        https://github.com/apple/swift.git   132444   \n",
       "odoo                           https://github.com/odoo/odoo.git   158324   \n",
       "android-base  https://android.googlesource.com/platform/fram...   559423   \n",
       "chromium         https://chromium.googlesource.com/chromium/src   961204   \n",
       "linux                     https://github.com/torvalds/linux.git   982030   \n",
       "\n",
       "              n_edges  n_edges / n_nodes  \n",
       "jgit             9853           1.205555  \n",
       "curl            26631           1.000827  \n",
       "electron        34167           1.140573  \n",
       "typescript      43895           1.236967  \n",
       "openssl         42997           1.004180  \n",
       "gerrit          63944           1.340911  \n",
       "julia           67547           1.205163  \n",
       "git.git         79664           1.248085  \n",
       "tensorflow     115687           1.099310  \n",
       "kotlin         119013           1.012920  \n",
       "ffmpeg         130606           1.083121  \n",
       "swift          176028           1.329075  \n",
       "odoo           184403           1.164719  \n",
       "android-base   984070           1.759080  \n",
       "chromium       961263           1.000061  \n",
       "linux         1061095           1.080512  "
      ]
     },
     "execution_count": null,
     "metadata": {},
     "output_type": "execute_result"
    }
   ],
   "source": [
    "known_repo_df = pd.DataFrame.from_dict(known_repo, orient='index',\n",
    "                                       columns=['url', 'n_nodes', 'n_edges']).astype({'url': 'str'})\n",
    "known_repo_df['n_edges / n_nodes'] = known_repo_df['n_edges'] / known_repo_df['n_nodes']\n",
    "known_repo_df.sort_values('n_nodes')"
   ]
  },
  {
   "cell_type": "code",
   "execution_count": null,
   "metadata": {},
   "outputs": [
    {
     "data": {
      "text/plain": [
       "url                   object\n",
       "n_nodes                int64\n",
       "n_edges                int64\n",
       "n_edges / n_nodes    float64\n",
       "dtype: object"
      ]
     },
     "execution_count": null,
     "metadata": {},
     "output_type": "execute_result"
    }
   ],
   "source": [
    "known_repo_df.dtypes"
   ]
  }
 ],
 "metadata": {
  "kernelspec": {
   "display_name": "Python 3",
   "language": "python",
   "name": "python3"
  }
 },
 "nbformat": 4,
 "nbformat_minor": 4
}
