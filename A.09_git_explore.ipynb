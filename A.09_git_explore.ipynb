{
 "cells": [
  {
   "cell_type": "raw",
   "metadata": {},
   "source": [
    "---\n",
    "description: This is appendix for chapter [`09_git.ipynb`](09_git.ipynb)\n",
    "output-file: a.09_git_explore.html\n",
    "title: Exploring extraction of commit graphs from Git repositories, and examining\n",
    "  their shape and stats\n",
    "\n",
    "---\n",
    "\n"
   ]
  },
  {
   "cell_type": "code",
   "execution_count": null,
   "metadata": {},
   "outputs": [],
   "source": [
    "#| output: false\n",
    "%load_ext autoreload\n",
    "%autoreload 2"
   ]
  },
  {
   "cell_type": "markdown",
   "metadata": {},
   "source": [
    "Necessary imports"
   ]
  },
  {
   "cell_type": "code",
   "execution_count": null,
   "metadata": {},
   "outputs": [],
   "source": [
    "# creating graphs in Python\n",
    "import networkx as nx\n",
    "# calling git commands\n",
    "import subprocess\n",
    "# checking for existence of paths, and manipulating paths\n",
    "from pathlib import Path"
   ]
  },
  {
   "cell_type": "markdown",
   "metadata": {},
   "source": [
    "## Cloning git.git repository, and extracting and saving the commit graph"
   ]
  },
  {
   "cell_type": "markdown",
   "metadata": {},
   "source": [
    "Why it is important to use sparse clone - it is much faster, and takes up less space.  For example for git.git repository we have the following (all times are wall time, and subject to interference from other CPU load):\n",
    "- full clone: 54s\n",
    "- mirror: 1min 19s\n",
    "- sparse: 14.9s - 19.4s"
   ]
  },
  {
   "cell_type": "markdown",
   "metadata": {},
   "source": [
    "Prepare the directory to store repositories (note: `mkdir -d <directory>` should show no error if `<directory>` exists, but it is not portable).\n",
    "\n",
    "Clone example repository (for exploration).  Might give errors if repository already exists."
   ]
  },
  {
   "cell_type": "code",
   "execution_count": null,
   "metadata": {},
   "outputs": [],
   "source": [
    "# create the directory to store cloned repositories, if it does not exist\n",
    "Path(\"repos\").mkdir(exist_ok=True)"
   ]
  },
  {
   "cell_type": "code",
   "execution_count": null,
   "metadata": {},
   "outputs": [
    {
     "name": "stdout",
     "output_type": "stream",
     "text": [
      "Wall time: 1.05 s\n"
     ]
    },
    {
     "name": "stderr",
     "output_type": "stream",
     "text": [
      "fatal: destination path 'git.git' already exists and is not an empty directory.\n"
     ]
    }
   ],
   "source": [
    "%%time\n",
    "!git -C repos clone --mirror --filter=tree:0 --quiet https://github.com/git/git.git"
   ]
  },
  {
   "cell_type": "markdown",
   "metadata": {},
   "source": [
    "Extract the history of the project"
   ]
  },
  {
   "cell_type": "code",
   "execution_count": null,
   "metadata": {},
   "outputs": [],
   "source": [
    "# create the directory to store datasets\n",
    "Path(\"datasets\").mkdir(exist_ok=True)"
   ]
  },
  {
   "cell_type": "code",
   "execution_count": null,
   "metadata": {},
   "outputs": [
    {
     "name": "stdout",
     "output_type": "stream",
     "text": [
      "Wall time: 6.81 s\n"
     ]
    }
   ],
   "source": [
    "%%time\n",
    "!git -C repos/git.git log --format=\"%h %p\" --topo-order --branches >datasets/git-commit_graph.adjlist.txt"
   ]
  },
  {
   "cell_type": "markdown",
   "metadata": {},
   "source": [
    "It takes a few seconds on a laptop with HDD to extract the commit graph (for all branches), storing results in a `git-commit_graph.adjlist.txt` text file in the adjacent list format in `datasets/` subdirectory"
   ]
  },
  {
   "cell_type": "code",
   "execution_count": null,
   "metadata": {},
   "outputs": [
    {
     "name": "stdout",
     "output_type": "stream",
     "text": [
      "Wall time: 663 ms\n"
     ]
    }
   ],
   "source": [
    "%%time\n",
    "graph_git = nx.read_adjlist(\"datasets/git-commit_graph.adjlist.txt\", create_using=nx.DiGraph)"
   ]
  },
  {
   "cell_type": "markdown",
   "metadata": {},
   "source": [
    "It takes less than a second to create NetworkX graph for a commit graph"
   ]
  },
  {
   "cell_type": "code",
   "execution_count": null,
   "metadata": {},
   "outputs": [
    {
     "name": "stdout",
     "output_type": "stream",
     "text": [
      "commit-graph of git repository graph has 63829 nodes and 79664 edges\n",
      "is directed:   True\n",
      "is DAG:        True\n",
      "example nodes: ['836aadd78', 'a93475d10', '55fce44a3', '6d9d59c31', '084bd2a9a']\n"
     ]
    }
   ],
   "source": [
    "print('commit-graph of git repository graph has {} nodes and {} edges'.format(\n",
    "      graph_git.number_of_nodes(),\n",
    "      graph_git.number_of_edges()))\n",
    "print('is directed:   {}'.format(graph_git.is_directed()))\n",
    "print('is DAG:        {}'.format(nx.is_directed_acyclic_graph(graph_git)))\n",
    "print('example nodes: {}'.format(list(graph_git.nodes)[:5]))"
   ]
  },
  {
   "cell_type": "code",
   "execution_count": null,
   "metadata": {},
   "outputs": [
    {
     "name": "stdout",
     "output_type": "stream",
     "text": [
      "403 ms ± 32 ms per loop (mean ± std. dev. of 7 runs, 1 loop each)\n"
     ]
    }
   ],
   "source": [
    "# compress\n",
    "%timeit nx.write_adjlist(graph_git, 'datasets/git-commit_graph.adjlist.txt.gz')"
   ]
  },
  {
   "cell_type": "markdown",
   "metadata": {},
   "source": [
    "It takes around 0.6-0.8 seconds to write it back gzip-compressed in the adjacency list format as `git-commit_graph.adjlist.txt.gz`"
   ]
  },
  {
   "cell_type": "markdown",
   "metadata": {},
   "source": [
    "### Testing different graph output formats"
   ]
  },
  {
   "cell_type": "code",
   "execution_count": null,
   "metadata": {},
   "outputs": [],
   "source": [
    "#%%time\n",
    "#nx.write_graph6(graph_git, 'datasets/git-commit_graph.g6')"
   ]
  },
  {
   "cell_type": "markdown",
   "metadata": {},
   "source": [
    "It turns out that the [graph6 / sparse6 format](https://networkx.org/documentation/stable/reference/readwrite/sparsegraph6.html)\n",
    "is not a good choice for storing the commit graph for the following reasons:\n",
    "- NetworkX does not support digraph6 format; neither `write_graph6` not `write_sparse6` are implemented for directed graphs\n",
    "- the [digraph6 format](http://users.cecs.anu.edu.au/~bdm/data/formats.txt) is dense graph format, storing the encoded adjacency matrix; there is no disparse6 or digraph6sparse format\n",
    "- SparseGraph6 formats do not store node/vertex names, which might be needed for future computations or visualizations"
   ]
  },
  {
   "cell_type": "code",
   "execution_count": null,
   "metadata": {},
   "outputs": [],
   "source": [
    "import pickle"
   ]
  },
  {
   "cell_type": "code",
   "execution_count": null,
   "metadata": {},
   "outputs": [
    {
     "name": "stdout",
     "output_type": "stream",
     "text": [
      "edgelist.txt:             Wall time: 244 ms\n",
      "multiline_adjlist.txt:    Wall time: 186 ms\n",
      "edgelist.txt.gz:          Wall time: 819 ms\n",
      "multiline_adjlist.txt.gz: Wall time: 1.06 s\n",
      "gexf.gz:                  Wall time: 5.34 s\n",
      "graphml.gz:               Wall time: 5.01 s\n",
      "pajek.gz:                 Wall time: 3.14 s\n"
     ]
    }
   ],
   "source": [
    "print('edgelist.txt:            ', end=' ', flush=True)\n",
    "%time nx.write_edgelist(graph_git, 'datasets/git-commit_graph.edgelist.txt')\n",
    "print('multiline_adjlist.txt:   ', end=' ', flush=True)\n",
    "%time nx.write_multiline_adjlist(graph_git, 'datasets/git-commit_graph.multiline_adjlist.txt')\n",
    "print('edgelist.txt.gz:         ', end=' ', flush=True)\n",
    "%time nx.write_edgelist(graph_git, 'datasets/git-commit_graph.edgelist.txt.gz')\n",
    "print('multiline_adjlist.txt.gz:', end=' ', flush=True)\n",
    "%time nx.write_multiline_adjlist(graph_git, 'datasets/git-commit_graph.multiline_adjlist.txt.gz')\n",
    "print('gexf.gz:                 ', end=' ', flush=True)\n",
    "%time nx.write_gexf(graph_git, 'datasets/git-commit_graph.gexf.gz')\n",
    "print('graphml.gz:              ', end=' ', flush=True)\n",
    "%time nx.write_graphml(graph_git, 'datasets/git-commit_graph.graphml.gz')\n",
    "print('pajek.gz:                ', end=' ', flush=True)\n",
    "%time nx.write_pajek(graph_git, 'datasets/git-commit_graph.pajek.gz')"
   ]
  },
  {
   "cell_type": "code",
   "execution_count": null,
   "metadata": {},
   "outputs": [
    {
     "name": "stdout",
     "output_type": "stream",
     "text": [
      "gpickle.gz:               "
     ]
    }
   ],
   "source": [
    "#print('gpickle.gz:              ', end=' ', flush=True)\n",
    "#%time nx.write_gpickle(graph_git, 'datasets/git-commit_graph.gpickle.gz')  # removed in NetworkX 3.x"
   ]
  },
  {
   "cell_type": "code",
   "execution_count": null,
   "metadata": {},
   "outputs": [
    {
     "name": "stdout",
     "output_type": "stream",
     "text": [
      "gpickle.gz:               Wall time: 273 ms\n"
     ]
    }
   ],
   "source": [
    "%%time\n",
    "print('gpickle.gz:              ', end=' ', flush=True)\n",
    "with open('datasets/git-commit_graph.gpickle.gz', 'wb') as f:\n",
    "    pickle.dump(graph_git, f, pickle.HIGHEST_PROTOCOL)"
   ]
  },
  {
   "cell_type": "code",
   "execution_count": null,
   "metadata": {},
   "outputs": [],
   "source": [
    "import pandas as pd"
   ]
  },
  {
   "cell_type": "code",
   "execution_count": null,
   "metadata": {},
   "outputs": [
    {
     "data": {
      "text/html": [
       "<div>\n",
       "<style scoped>\n",
       "    .dataframe tbody tr th:only-of-type {\n",
       "        vertical-align: middle;\n",
       "    }\n",
       "\n",
       "    .dataframe tbody tr th {\n",
       "        vertical-align: top;\n",
       "    }\n",
       "\n",
       "    .dataframe thead th {\n",
       "        text-align: right;\n",
       "    }\n",
       "</style>\n",
       "<table border=\"1\" class=\"dataframe\">\n",
       "  <thead>\n",
       "    <tr style=\"text-align: right;\">\n",
       "      <th></th>\n",
       "      <th>source</th>\n",
       "      <th>target</th>\n",
       "    </tr>\n",
       "  </thead>\n",
       "  <tbody>\n",
       "    <tr>\n",
       "      <th>0</th>\n",
       "      <td>836aadd78</td>\n",
       "      <td>a93475d10</td>\n",
       "    </tr>\n",
       "    <tr>\n",
       "      <th>1</th>\n",
       "      <td>836aadd78</td>\n",
       "      <td>55fce44a3</td>\n",
       "    </tr>\n",
       "    <tr>\n",
       "      <th>2</th>\n",
       "      <td>a93475d10</td>\n",
       "      <td>df525e622</td>\n",
       "    </tr>\n",
       "    <tr>\n",
       "      <th>3</th>\n",
       "      <td>55fce44a3</td>\n",
       "      <td>6d9d59c31</td>\n",
       "    </tr>\n",
       "    <tr>\n",
       "      <th>4</th>\n",
       "      <td>6d9d59c31</td>\n",
       "      <td>084bd2a9a</td>\n",
       "    </tr>\n",
       "    <tr>\n",
       "      <th>...</th>\n",
       "      <td>...</td>\n",
       "      <td>...</td>\n",
       "    </tr>\n",
       "    <tr>\n",
       "      <th>79659</th>\n",
       "      <td>24778e335</td>\n",
       "      <td>19b2860cb</td>\n",
       "    </tr>\n",
       "    <tr>\n",
       "      <th>79660</th>\n",
       "      <td>19b2860cb</td>\n",
       "      <td>bf0c6e839</td>\n",
       "    </tr>\n",
       "    <tr>\n",
       "      <th>79661</th>\n",
       "      <td>bf0c6e839</td>\n",
       "      <td>e497ea2a9</td>\n",
       "    </tr>\n",
       "    <tr>\n",
       "      <th>79662</th>\n",
       "      <td>e497ea2a9</td>\n",
       "      <td>8bc9a0c76</td>\n",
       "    </tr>\n",
       "    <tr>\n",
       "      <th>79663</th>\n",
       "      <td>8bc9a0c76</td>\n",
       "      <td>e83c51633</td>\n",
       "    </tr>\n",
       "  </tbody>\n",
       "</table>\n",
       "<p>79664 rows × 2 columns</p>\n",
       "</div>"
      ],
      "text/plain": [
       "          source     target\n",
       "0      836aadd78  a93475d10\n",
       "1      836aadd78  55fce44a3\n",
       "2      a93475d10  df525e622\n",
       "3      55fce44a3  6d9d59c31\n",
       "4      6d9d59c31  084bd2a9a\n",
       "...          ...        ...\n",
       "79659  24778e335  19b2860cb\n",
       "79660  19b2860cb  bf0c6e839\n",
       "79661  bf0c6e839  e497ea2a9\n",
       "79662  e497ea2a9  8bc9a0c76\n",
       "79663  8bc9a0c76  e83c51633\n",
       "\n",
       "[79664 rows x 2 columns]"
      ]
     },
     "execution_count": null,
     "metadata": {},
     "output_type": "execute_result"
    }
   ],
   "source": [
    "graph_git_df = nx.to_pandas_edgelist(graph_git)\n",
    "graph_git_df"
   ]
  },
  {
   "cell_type": "code",
   "execution_count": null,
   "metadata": {},
   "outputs": [
    {
     "name": "stdout",
     "output_type": "stream",
     "text": [
      "Wall time: 1.07 s\n"
     ]
    }
   ],
   "source": [
    "%%time\n",
    "graph_git_df.to_pickle('datasets/git-commit_graph.df_edgelist.pickle.gz')"
   ]
  },
  {
   "cell_type": "code",
   "execution_count": null,
   "metadata": {},
   "outputs": [
    {
     "name": "stdout",
     "output_type": "stream",
     "text": [
      "Wall time: 1.04 s\n"
     ]
    }
   ],
   "source": [
    "%%time\n",
    "graph_git_df.to_csv('datasets/git-commit_graph.df_edgelist.csv.gz')"
   ]
  },
  {
   "cell_type": "markdown",
   "metadata": {},
   "source": [
    "Both `to_feather()` and `to_parquet()` need `pyarrow` module installed (the latter might use `fastparquet` instead)"
   ]
  },
  {
   "cell_type": "code",
   "execution_count": null,
   "metadata": {},
   "outputs": [
    {
     "name": "stdout",
     "output_type": "stream",
     "text": [
      "Wall time: 587 ms\n"
     ]
    }
   ],
   "source": [
    "%%time\n",
    "try:\n",
    "    graph_git_df.to_feather('datasets/git-commit_graph.df_edgelist.feather')\n",
    "except ImportError:\n",
    "    print(\"Missing optional dependency 'pyarrow' required to save dataframe to the feather format\")"
   ]
  },
  {
   "cell_type": "code",
   "execution_count": null,
   "metadata": {},
   "outputs": [
    {
     "name": "stdout",
     "output_type": "stream",
     "text": [
      "Wall time: 1.18 s\n"
     ]
    }
   ],
   "source": [
    "%%time\n",
    "try:\n",
    "    graph_git_df.to_parquet('datasets/git-commit_graph.df_edgelist.parquet')\n",
    "except ImportError:\n",
    "    print(\"Missing optional dependency 'pyarrow' or 'fastparquet' required to save dataframe to the parquet format\")"
   ]
  },
  {
   "cell_type": "markdown",
   "metadata": {},
   "source": [
    "`to_hdf()` needs `tables` module installed (PyTables)."
   ]
  },
  {
   "cell_type": "code",
   "execution_count": null,
   "metadata": {},
   "outputs": [
    {
     "name": "stdout",
     "output_type": "stream",
     "text": [
      "Wall time: 2.6 s\n"
     ]
    }
   ],
   "source": [
    "%%time\n",
    "try:\n",
    "    graph_git_df.to_hdf('datasets/git-commit_graph.df_edgelist.hdf5', 'df_edgelist', mode='w', complevel=6)\n",
    "except ImportError:\n",
    "    print(\"Missing optional dependency 'table' required to save dataframe to the HDF5 format\")"
   ]
  },
  {
   "cell_type": "markdown",
   "metadata": {},
   "source": [
    "### Comparing the filesize of different graph output formats"
   ]
  },
  {
   "cell_type": "markdown",
   "metadata": {},
   "source": [
    "Previously `!dir datasets` was used, but\n",
    "- it is not portable (on Linux it only lists files, instead of showing among others file size information)\n",
    "- on MS Windows where it works for this purpose, it includes unnecessary information"
   ]
  },
  {
   "cell_type": "code",
   "execution_count": null,
   "metadata": {},
   "outputs": [
    {
     "data": {
      "text/plain": [
       "['git-commit_graph-df_reachability_sample.csv.gz      338527',\n",
       " 'git-commit_graph.adjlist.txt.gz                     581624',\n",
       " 'git-commit_graph.df_edgelist.csv.gz                 808989',\n",
       " 'git-commit_graph.df_edgelist.pickle.gz              668474',\n",
       " 'git-commit_graph.df_nodedata.csv.gz                 773957',\n",
       " 'git-commit_graph.edgelist.txt.gz                    606109',\n",
       " 'git-commit_graph.gexf.gz                           1524987',\n",
       " 'git-commit_graph.gpickle.gz                        3851388',\n",
       " 'git-commit_graph.graphml.gz                        1109122',\n",
       " 'git-commit_graph.info.csv.gz                       1785780',\n",
       " 'git-commit_graph.info.pickle.gz                    1467752',\n",
       " 'git-commit_graph.multiline_adjlist.txt.gz           638575',\n",
       " 'git-commit_graph.pajek.gz                           876408']"
      ]
     },
     "execution_count": null,
     "metadata": {},
     "output_type": "execute_result"
    }
   ],
   "source": [
    "[\"{name:<50} {size:>7}\".format(name=p.name,size=p.stat().st_size) for p in Path(\"datasets\").glob(\"git*.gz\")]"
   ]
  },
  {
   "cell_type": "code",
   "execution_count": null,
   "metadata": {},
   "outputs": [
    {
     "data": {
      "text/plain": [
       "['git-commit_graph.adjlist.txt                       1434939',\n",
       " 'git-commit_graph.df_edgelist.csv                   4383858',\n",
       " 'git-commit_graph.df_edgelist.feather               1918282',\n",
       " 'git-commit_graph.df_edgelist.hdf5                  2421869',\n",
       " 'git-commit_graph.df_edgelist.parquet               1617488',\n",
       " 'git-commit_graph.edgelist.txt                      1832272',\n",
       " 'git-commit_graph.hdf5                              3803473',\n",
       " 'git-commit_graph.info.hdf5                         1382956',\n",
       " 'git-commit_graph.info.parquet                      3164039',\n",
       " 'git-commit_graph.multiline_adjlist.txt             1801780']"
      ]
     },
     "execution_count": null,
     "metadata": {},
     "output_type": "execute_result"
    }
   ],
   "source": [
    "[\"{name:<50} {size:>7}\".format(name=p.name,size=p.stat().st_size) for p in Path(\"datasets\").glob(\"git*\") if not p.match(\"*.gz\")]"
   ]
  },
  {
   "cell_type": "markdown",
   "metadata": {},
   "source": [
    ":::{.callout-note}\n",
    "\n",
    "the information below was gathered for `git log --all`, not `git log --branches` as it is done now, so the exact sizes will be different\n",
    "\n",
    ":::"
   ]
  },
  {
   "cell_type": "code",
   "execution_count": null,
   "metadata": {},
   "outputs": [
    {
     "data": {
      "text/html": [
       "<div>\n",
       "<style scoped>\n",
       "    .dataframe tbody tr th:only-of-type {\n",
       "        vertical-align: middle;\n",
       "    }\n",
       "\n",
       "    .dataframe tbody tr th {\n",
       "        vertical-align: top;\n",
       "    }\n",
       "\n",
       "    .dataframe thead th {\n",
       "        text-align: right;\n",
       "    }\n",
       "</style>\n",
       "<table border=\"1\" class=\"dataframe\">\n",
       "  <thead>\n",
       "    <tr style=\"text-align: right;\">\n",
       "      <th></th>\n",
       "      <th>filename</th>\n",
       "      <th>size [bytes]</th>\n",
       "      <th>size uncompressed [bytes]</th>\n",
       "      <th>time [s]</th>\n",
       "    </tr>\n",
       "  </thead>\n",
       "  <tbody>\n",
       "    <tr>\n",
       "      <th>0</th>\n",
       "      <td>git-commit_graph.adjlist.txt</td>\n",
       "      <td>2875179</td>\n",
       "      <td>2875179</td>\n",
       "      <td>NaN</td>\n",
       "    </tr>\n",
       "    <tr>\n",
       "      <th>1</th>\n",
       "      <td>git-commit_graph.adjlist.txt.gz</td>\n",
       "      <td>1173712</td>\n",
       "      <td>2875369</td>\n",
       "      <td>0.910</td>\n",
       "    </tr>\n",
       "    <tr>\n",
       "      <th>2</th>\n",
       "      <td>git-commit_graph.multiline_adjlist.txt</td>\n",
       "      <td>3610938</td>\n",
       "      <td>3610938</td>\n",
       "      <td>0.456</td>\n",
       "    </tr>\n",
       "    <tr>\n",
       "      <th>3</th>\n",
       "      <td>git-commit_graph.edgelist.txt</td>\n",
       "      <td>3692282</td>\n",
       "      <td>3692282</td>\n",
       "      <td>0.624</td>\n",
       "    </tr>\n",
       "    <tr>\n",
       "      <th>4</th>\n",
       "      <td>git-commit_graph.gpickle.gz</td>\n",
       "      <td>3254690</td>\n",
       "      <td>7712162</td>\n",
       "      <td>4.920</td>\n",
       "    </tr>\n",
       "    <tr>\n",
       "      <th>5</th>\n",
       "      <td>git-commit_graph.gexf.gz</td>\n",
       "      <td>3063783</td>\n",
       "      <td>16419236</td>\n",
       "      <td>9.490</td>\n",
       "    </tr>\n",
       "    <tr>\n",
       "      <th>6</th>\n",
       "      <td>git-commit_graph.graphml.gz</td>\n",
       "      <td>2231397</td>\n",
       "      <td>10305482</td>\n",
       "      <td>4.740</td>\n",
       "    </tr>\n",
       "    <tr>\n",
       "      <th>7</th>\n",
       "      <td>git-commit_graph.pajek.gz</td>\n",
       "      <td>1754236</td>\n",
       "      <td>6682509</td>\n",
       "      <td>6.740</td>\n",
       "    </tr>\n",
       "    <tr>\n",
       "      <th>8</th>\n",
       "      <td>git-commit_graph.df_edgelist.pickle.gz</td>\n",
       "      <td>1332691</td>\n",
       "      <td>2736191</td>\n",
       "      <td>1.900</td>\n",
       "    </tr>\n",
       "    <tr>\n",
       "      <th>9</th>\n",
       "      <td>git-commit_graph.df_edgelist.feather</td>\n",
       "      <td>3857818</td>\n",
       "      <td>3857818</td>\n",
       "      <td>0.487</td>\n",
       "    </tr>\n",
       "    <tr>\n",
       "      <th>10</th>\n",
       "      <td>git-commit_graph.df_edgelist.parquet</td>\n",
       "      <td>3116020</td>\n",
       "      <td>3116020</td>\n",
       "      <td>0.333</td>\n",
       "    </tr>\n",
       "    <tr>\n",
       "      <th>11</th>\n",
       "      <td>git-commit_graph.df_edgelist.csv</td>\n",
       "      <td>4383858</td>\n",
       "      <td>4383858</td>\n",
       "      <td>NaN</td>\n",
       "    </tr>\n",
       "    <tr>\n",
       "      <th>12</th>\n",
       "      <td>git-commit_graph.df_edgelist.csv.gz</td>\n",
       "      <td>1629263</td>\n",
       "      <td>4383858</td>\n",
       "      <td>1.200</td>\n",
       "    </tr>\n",
       "    <tr>\n",
       "      <th>13</th>\n",
       "      <td>git-commit_graph.df_edgelist.hdf5</td>\n",
       "      <td>3808521</td>\n",
       "      <td>5077784</td>\n",
       "      <td>0.244</td>\n",
       "    </tr>\n",
       "  </tbody>\n",
       "</table>\n",
       "</div>"
      ],
      "text/plain": [
       "                                  filename  size [bytes]  \\\n",
       "0             git-commit_graph.adjlist.txt       2875179   \n",
       "1          git-commit_graph.adjlist.txt.gz       1173712   \n",
       "2   git-commit_graph.multiline_adjlist.txt       3610938   \n",
       "3            git-commit_graph.edgelist.txt       3692282   \n",
       "4              git-commit_graph.gpickle.gz       3254690   \n",
       "5                 git-commit_graph.gexf.gz       3063783   \n",
       "6              git-commit_graph.graphml.gz       2231397   \n",
       "7                git-commit_graph.pajek.gz       1754236   \n",
       "8   git-commit_graph.df_edgelist.pickle.gz       1332691   \n",
       "9     git-commit_graph.df_edgelist.feather       3857818   \n",
       "10    git-commit_graph.df_edgelist.parquet       3116020   \n",
       "11        git-commit_graph.df_edgelist.csv       4383858   \n",
       "12     git-commit_graph.df_edgelist.csv.gz       1629263   \n",
       "13       git-commit_graph.df_edgelist.hdf5       3808521   \n",
       "\n",
       "    size uncompressed [bytes]  time [s]  \n",
       "0                     2875179       NaN  \n",
       "1                     2875369     0.910  \n",
       "2                     3610938     0.456  \n",
       "3                     3692282     0.624  \n",
       "4                     7712162     4.920  \n",
       "5                    16419236     9.490  \n",
       "6                    10305482     4.740  \n",
       "7                     6682509     6.740  \n",
       "8                     2736191     1.900  \n",
       "9                     3857818     0.487  \n",
       "10                    3116020     0.333  \n",
       "11                    4383858       NaN  \n",
       "12                    4383858     1.200  \n",
       "13                    5077784     0.244  "
      ]
     },
     "execution_count": null,
     "metadata": {},
     "output_type": "execute_result"
    }
   ],
   "source": [
    "import io\n",
    "\n",
    "csv = u\"\"\"filename;size [bytes];size uncompressed [bytes];time [s]\n",
    "git-commit_graph.adjlist.txt;2875179;2875179\n",
    "git-commit_graph.adjlist.txt.gz;1173712;2875369;0.910\n",
    "git-commit_graph.multiline_adjlist.txt;3610938;3610938;0.456\n",
    "git-commit_graph.edgelist.txt;3692282;3692282;0.624\n",
    "git-commit_graph.gpickle.gz;3254690;7712162;4.92\n",
    "git-commit_graph.gexf.gz;3063783;16419236;9.49\n",
    "git-commit_graph.graphml.gz;2231397;10305482;4.74\n",
    "git-commit_graph.pajek.gz;1754236;6682509;6.74\n",
    "git-commit_graph.df_edgelist.pickle.gz;1332691;2736191;1.9\n",
    "git-commit_graph.df_edgelist.feather;3857818;3857818;0.487\n",
    "git-commit_graph.df_edgelist.parquet;3116020;3116020;0.333\n",
    "git-commit_graph.df_edgelist.csv;4383858;4383858\n",
    "git-commit_graph.df_edgelist.csv.gz;1629263;4383858;1.2\n",
    "git-commit_graph.df_edgelist.hdf5;3808521;5077784;0.244\n",
    "\"\"\"\n",
    "\n",
    "csv_stream = io.StringIO(csv)\n",
    "table_sizes=pd.read_csv(csv_stream,sep=';') # ,index_col=0\n",
    "table_sizes"
   ]
  },
  {
   "cell_type": "code",
   "execution_count": null,
   "metadata": {},
   "outputs": [
    {
     "data": {
      "text/plain": [
       "filename                      object\n",
       "size [bytes]                   int64\n",
       "size uncompressed [bytes]      int64\n",
       "time [s]                     float64\n",
       "dtype: object"
      ]
     },
     "execution_count": null,
     "metadata": {},
     "output_type": "execute_result"
    }
   ],
   "source": [
    "table_sizes.dtypes"
   ]
  },
  {
   "cell_type": "code",
   "execution_count": null,
   "metadata": {},
   "outputs": [
    {
     "data": {
      "text/html": [
       "<div>\n",
       "<style scoped>\n",
       "    .dataframe tbody tr th:only-of-type {\n",
       "        vertical-align: middle;\n",
       "    }\n",
       "\n",
       "    .dataframe tbody tr th {\n",
       "        vertical-align: top;\n",
       "    }\n",
       "\n",
       "    .dataframe thead th {\n",
       "        text-align: right;\n",
       "    }\n",
       "</style>\n",
       "<table border=\"1\" class=\"dataframe\">\n",
       "  <thead>\n",
       "    <tr style=\"text-align: right;\">\n",
       "      <th></th>\n",
       "      <th>filename</th>\n",
       "      <th>size [bytes]</th>\n",
       "      <th>size uncompressed [bytes]</th>\n",
       "      <th>time [s]</th>\n",
       "    </tr>\n",
       "  </thead>\n",
       "  <tbody>\n",
       "    <tr>\n",
       "      <th>1</th>\n",
       "      <td>git-commit_graph.adjlist.txt.gz</td>\n",
       "      <td>1173712</td>\n",
       "      <td>2875369</td>\n",
       "      <td>0.910</td>\n",
       "    </tr>\n",
       "    <tr>\n",
       "      <th>8</th>\n",
       "      <td>git-commit_graph.df_edgelist.pickle.gz</td>\n",
       "      <td>1332691</td>\n",
       "      <td>2736191</td>\n",
       "      <td>1.900</td>\n",
       "    </tr>\n",
       "    <tr>\n",
       "      <th>12</th>\n",
       "      <td>git-commit_graph.df_edgelist.csv.gz</td>\n",
       "      <td>1629263</td>\n",
       "      <td>4383858</td>\n",
       "      <td>1.200</td>\n",
       "    </tr>\n",
       "    <tr>\n",
       "      <th>7</th>\n",
       "      <td>git-commit_graph.pajek.gz</td>\n",
       "      <td>1754236</td>\n",
       "      <td>6682509</td>\n",
       "      <td>6.740</td>\n",
       "    </tr>\n",
       "    <tr>\n",
       "      <th>6</th>\n",
       "      <td>git-commit_graph.graphml.gz</td>\n",
       "      <td>2231397</td>\n",
       "      <td>10305482</td>\n",
       "      <td>4.740</td>\n",
       "    </tr>\n",
       "    <tr>\n",
       "      <th>0</th>\n",
       "      <td>git-commit_graph.adjlist.txt</td>\n",
       "      <td>2875179</td>\n",
       "      <td>2875179</td>\n",
       "      <td>NaN</td>\n",
       "    </tr>\n",
       "    <tr>\n",
       "      <th>5</th>\n",
       "      <td>git-commit_graph.gexf.gz</td>\n",
       "      <td>3063783</td>\n",
       "      <td>16419236</td>\n",
       "      <td>9.490</td>\n",
       "    </tr>\n",
       "    <tr>\n",
       "      <th>10</th>\n",
       "      <td>git-commit_graph.df_edgelist.parquet</td>\n",
       "      <td>3116020</td>\n",
       "      <td>3116020</td>\n",
       "      <td>0.333</td>\n",
       "    </tr>\n",
       "    <tr>\n",
       "      <th>4</th>\n",
       "      <td>git-commit_graph.gpickle.gz</td>\n",
       "      <td>3254690</td>\n",
       "      <td>7712162</td>\n",
       "      <td>4.920</td>\n",
       "    </tr>\n",
       "    <tr>\n",
       "      <th>2</th>\n",
       "      <td>git-commit_graph.multiline_adjlist.txt</td>\n",
       "      <td>3610938</td>\n",
       "      <td>3610938</td>\n",
       "      <td>0.456</td>\n",
       "    </tr>\n",
       "    <tr>\n",
       "      <th>3</th>\n",
       "      <td>git-commit_graph.edgelist.txt</td>\n",
       "      <td>3692282</td>\n",
       "      <td>3692282</td>\n",
       "      <td>0.624</td>\n",
       "    </tr>\n",
       "    <tr>\n",
       "      <th>13</th>\n",
       "      <td>git-commit_graph.df_edgelist.hdf5</td>\n",
       "      <td>3808521</td>\n",
       "      <td>5077784</td>\n",
       "      <td>0.244</td>\n",
       "    </tr>\n",
       "    <tr>\n",
       "      <th>9</th>\n",
       "      <td>git-commit_graph.df_edgelist.feather</td>\n",
       "      <td>3857818</td>\n",
       "      <td>3857818</td>\n",
       "      <td>0.487</td>\n",
       "    </tr>\n",
       "    <tr>\n",
       "      <th>11</th>\n",
       "      <td>git-commit_graph.df_edgelist.csv</td>\n",
       "      <td>4383858</td>\n",
       "      <td>4383858</td>\n",
       "      <td>NaN</td>\n",
       "    </tr>\n",
       "  </tbody>\n",
       "</table>\n",
       "</div>"
      ],
      "text/plain": [
       "                                  filename  size [bytes]  \\\n",
       "1          git-commit_graph.adjlist.txt.gz       1173712   \n",
       "8   git-commit_graph.df_edgelist.pickle.gz       1332691   \n",
       "12     git-commit_graph.df_edgelist.csv.gz       1629263   \n",
       "7                git-commit_graph.pajek.gz       1754236   \n",
       "6              git-commit_graph.graphml.gz       2231397   \n",
       "0             git-commit_graph.adjlist.txt       2875179   \n",
       "5                 git-commit_graph.gexf.gz       3063783   \n",
       "10    git-commit_graph.df_edgelist.parquet       3116020   \n",
       "4              git-commit_graph.gpickle.gz       3254690   \n",
       "2   git-commit_graph.multiline_adjlist.txt       3610938   \n",
       "3            git-commit_graph.edgelist.txt       3692282   \n",
       "13       git-commit_graph.df_edgelist.hdf5       3808521   \n",
       "9     git-commit_graph.df_edgelist.feather       3857818   \n",
       "11        git-commit_graph.df_edgelist.csv       4383858   \n",
       "\n",
       "    size uncompressed [bytes]  time [s]  \n",
       "1                     2875369     0.910  \n",
       "8                     2736191     1.900  \n",
       "12                    4383858     1.200  \n",
       "7                     6682509     6.740  \n",
       "6                    10305482     4.740  \n",
       "0                     2875179       NaN  \n",
       "5                    16419236     9.490  \n",
       "10                    3116020     0.333  \n",
       "4                     7712162     4.920  \n",
       "2                     3610938     0.456  \n",
       "3                     3692282     0.624  \n",
       "13                    5077784     0.244  \n",
       "9                     3857818     0.487  \n",
       "11                    4383858       NaN  "
      ]
     },
     "execution_count": null,
     "metadata": {},
     "output_type": "execute_result"
    }
   ],
   "source": [
    "table_sizes.sort_values(by='size [bytes]')"
   ]
  },
  {
   "cell_type": "code",
   "execution_count": null,
   "metadata": {},
   "outputs": [
    {
     "data": {
      "text/html": [
       "<div>\n",
       "<style scoped>\n",
       "    .dataframe tbody tr th:only-of-type {\n",
       "        vertical-align: middle;\n",
       "    }\n",
       "\n",
       "    .dataframe tbody tr th {\n",
       "        vertical-align: top;\n",
       "    }\n",
       "\n",
       "    .dataframe thead th {\n",
       "        text-align: right;\n",
       "    }\n",
       "</style>\n",
       "<table border=\"1\" class=\"dataframe\">\n",
       "  <thead>\n",
       "    <tr style=\"text-align: right;\">\n",
       "      <th></th>\n",
       "      <th>filename</th>\n",
       "      <th>size [bytes]</th>\n",
       "      <th>size uncompressed [bytes]</th>\n",
       "      <th>time [s]</th>\n",
       "    </tr>\n",
       "  </thead>\n",
       "  <tbody>\n",
       "    <tr>\n",
       "      <th>8</th>\n",
       "      <td>git-commit_graph.df_edgelist.pickle.gz</td>\n",
       "      <td>1332691</td>\n",
       "      <td>2736191</td>\n",
       "      <td>1.900</td>\n",
       "    </tr>\n",
       "    <tr>\n",
       "      <th>0</th>\n",
       "      <td>git-commit_graph.adjlist.txt</td>\n",
       "      <td>2875179</td>\n",
       "      <td>2875179</td>\n",
       "      <td>NaN</td>\n",
       "    </tr>\n",
       "    <tr>\n",
       "      <th>1</th>\n",
       "      <td>git-commit_graph.adjlist.txt.gz</td>\n",
       "      <td>1173712</td>\n",
       "      <td>2875369</td>\n",
       "      <td>0.910</td>\n",
       "    </tr>\n",
       "    <tr>\n",
       "      <th>10</th>\n",
       "      <td>git-commit_graph.df_edgelist.parquet</td>\n",
       "      <td>3116020</td>\n",
       "      <td>3116020</td>\n",
       "      <td>0.333</td>\n",
       "    </tr>\n",
       "    <tr>\n",
       "      <th>2</th>\n",
       "      <td>git-commit_graph.multiline_adjlist.txt</td>\n",
       "      <td>3610938</td>\n",
       "      <td>3610938</td>\n",
       "      <td>0.456</td>\n",
       "    </tr>\n",
       "    <tr>\n",
       "      <th>3</th>\n",
       "      <td>git-commit_graph.edgelist.txt</td>\n",
       "      <td>3692282</td>\n",
       "      <td>3692282</td>\n",
       "      <td>0.624</td>\n",
       "    </tr>\n",
       "    <tr>\n",
       "      <th>9</th>\n",
       "      <td>git-commit_graph.df_edgelist.feather</td>\n",
       "      <td>3857818</td>\n",
       "      <td>3857818</td>\n",
       "      <td>0.487</td>\n",
       "    </tr>\n",
       "    <tr>\n",
       "      <th>11</th>\n",
       "      <td>git-commit_graph.df_edgelist.csv</td>\n",
       "      <td>4383858</td>\n",
       "      <td>4383858</td>\n",
       "      <td>NaN</td>\n",
       "    </tr>\n",
       "    <tr>\n",
       "      <th>12</th>\n",
       "      <td>git-commit_graph.df_edgelist.csv.gz</td>\n",
       "      <td>1629263</td>\n",
       "      <td>4383858</td>\n",
       "      <td>1.200</td>\n",
       "    </tr>\n",
       "    <tr>\n",
       "      <th>13</th>\n",
       "      <td>git-commit_graph.df_edgelist.hdf5</td>\n",
       "      <td>3808521</td>\n",
       "      <td>5077784</td>\n",
       "      <td>0.244</td>\n",
       "    </tr>\n",
       "    <tr>\n",
       "      <th>7</th>\n",
       "      <td>git-commit_graph.pajek.gz</td>\n",
       "      <td>1754236</td>\n",
       "      <td>6682509</td>\n",
       "      <td>6.740</td>\n",
       "    </tr>\n",
       "    <tr>\n",
       "      <th>4</th>\n",
       "      <td>git-commit_graph.gpickle.gz</td>\n",
       "      <td>3254690</td>\n",
       "      <td>7712162</td>\n",
       "      <td>4.920</td>\n",
       "    </tr>\n",
       "    <tr>\n",
       "      <th>6</th>\n",
       "      <td>git-commit_graph.graphml.gz</td>\n",
       "      <td>2231397</td>\n",
       "      <td>10305482</td>\n",
       "      <td>4.740</td>\n",
       "    </tr>\n",
       "    <tr>\n",
       "      <th>5</th>\n",
       "      <td>git-commit_graph.gexf.gz</td>\n",
       "      <td>3063783</td>\n",
       "      <td>16419236</td>\n",
       "      <td>9.490</td>\n",
       "    </tr>\n",
       "  </tbody>\n",
       "</table>\n",
       "</div>"
      ],
      "text/plain": [
       "                                  filename  size [bytes]  \\\n",
       "8   git-commit_graph.df_edgelist.pickle.gz       1332691   \n",
       "0             git-commit_graph.adjlist.txt       2875179   \n",
       "1          git-commit_graph.adjlist.txt.gz       1173712   \n",
       "10    git-commit_graph.df_edgelist.parquet       3116020   \n",
       "2   git-commit_graph.multiline_adjlist.txt       3610938   \n",
       "3            git-commit_graph.edgelist.txt       3692282   \n",
       "9     git-commit_graph.df_edgelist.feather       3857818   \n",
       "11        git-commit_graph.df_edgelist.csv       4383858   \n",
       "12     git-commit_graph.df_edgelist.csv.gz       1629263   \n",
       "13       git-commit_graph.df_edgelist.hdf5       3808521   \n",
       "7                git-commit_graph.pajek.gz       1754236   \n",
       "4              git-commit_graph.gpickle.gz       3254690   \n",
       "6              git-commit_graph.graphml.gz       2231397   \n",
       "5                 git-commit_graph.gexf.gz       3063783   \n",
       "\n",
       "    size uncompressed [bytes]  time [s]  \n",
       "8                     2736191     1.900  \n",
       "0                     2875179       NaN  \n",
       "1                     2875369     0.910  \n",
       "10                    3116020     0.333  \n",
       "2                     3610938     0.456  \n",
       "3                     3692282     0.624  \n",
       "9                     3857818     0.487  \n",
       "11                    4383858       NaN  \n",
       "12                    4383858     1.200  \n",
       "13                    5077784     0.244  \n",
       "7                     6682509     6.740  \n",
       "4                     7712162     4.920  \n",
       "6                    10305482     4.740  \n",
       "5                    16419236     9.490  "
      ]
     },
     "execution_count": null,
     "metadata": {},
     "output_type": "execute_result"
    }
   ],
   "source": [
    "table_sizes.sort_values(by='size uncompressed [bytes]')"
   ]
  },
  {
   "cell_type": "markdown",
   "metadata": {},
   "source": [
    "### Summary of findings"
   ]
  },
  {
   "cell_type": "markdown",
   "metadata": {},
   "source": [
    "<u>Storing DataFrame of edgelist data</u>\n",
    "\n",
    "The DataFrame is created using `nx.to_pandas_edgelist(graph)`"
   ]
  },
  {
   "cell_type": "markdown",
   "metadata": {},
   "source": [
    "The smallest file is the result of storing DataFrame of edgelist data as gzipped pickle (written using Pandas' `to_pickle()`) - the **\\*.df_edgelist.pickle.gz** file.\n",
    "\n",
    "- Advantages:\n",
    "  - 2nd smallest size\n",
    "  - no extra modules to install\n",
    "  - preserves types\n",
    "- Disadvantages:\n",
    "  - Python-specific\n",
    "  - unsafe\n",
    "  - slow (?)"
   ]
  },
  {
   "cell_type": "markdown",
   "metadata": {},
   "source": [
    "Next smallest is, surprisingly, gzipped CSV representing DataFrame of edgelist data (written using Pandas' `to_csv()`) - the **\\*.df_edgelist.csv.gz** file.\n",
    "\n",
    "- Advantages:\n",
    "  - 3rd smallest size\n",
    "  - no extra modules to install\n",
    "  - universal format\n",
    "- Disadvantages:\n",
    "  - slow (?)"
   ]
  },
  {
   "cell_type": "markdown",
   "metadata": {},
   "source": [
    "The fast interchange formats, [Feather](https://github.com/wesm/feather) and [Parquet](https://parquet.apache.org/) turned out to produce quite large files; they are however 4th smallest and 2nd smallest, respectively, among uncompressed formats.\n",
    "\n",
    "**_Feather_** provides a binary columnar serialization for data frames. It is designed to make reading and writing data frames efficient, and to make sharing data across data analysis languages easy.\n",
    "\n",
    "Feather is designed to faithfully serialize and de-serialize `DataFrame`s, supporting all of the pandas dtypes, including extension dtypes such as categorical and datetime with tz.\n",
    "\n",
    "**_Apache Parquet_** provides a _partitioned_ binary columnar serialization for data frames. It is designed to make reading and writing data frames efficient, and to make sharing data across data analysis languages easy. Parquet can use a variety of compression techniques (default is to use 'snappy') to shrink the file size as much as possible while still maintaining good read performance.\n",
    "\n",
    "Parquet is designed to faithfully serialize and de-serialize `DataFrame`s, supporting all of the pandas dtypes, including extension dtypes such as datetime with tz.\n",
    "\n",
    "- Advantages:\n",
    "  - universal, cross language\n",
    "  - preserves types\n",
    "  - fast\n",
    "  - [support for CUDA](https://arrow.apache.org/docs/python/cuda.html)\n",
    "- Disadvantages:\n",
    "  - requires `pyarrow` package to be installed\n",
    "  - quite large file size"
   ]
  },
  {
   "cell_type": "markdown",
   "metadata": {},
   "source": [
    "The **_HDF5_** format has the advantage of being able to store multiple `DataFrame`s in a single file, for example one `DataFrame` to hold edgelist data to define the graph connections, and one `DataFrame` holding various per vertex (per node) rechablity index data.  Unfortunately, even internally compressed it has one of larger file sizes (and largest compressed).\n",
    "\n",
    "[Hierarchical Data Format (HDF)](https://portal.hdfgroup.org/display/HDF5/HDF5) is self-describing, allowing an application to interpret the structure and contents of a file with no outside information. One HDF file can hold a mix of related objects which can be accessed as a group or as individual objects.\n",
    "\n",
    "The `to_hdf()` method in Pandas uses the `HDFStore` in the background, which in turn utilizes the [PyTables](https://www.pytables.org/) library.\n",
    "\n",
    "- Advantages:\n",
    "  - universal, cross language\n",
    "  - preserves types\n",
    "  - can store multiple `DataFrame`s\n",
    "- Disadvantages:\n",
    "  - large file size\n",
    "  - requires `tables` package to be installed (PyTables)\n",
    "  - slow (?)\n",
    "  - unsafe (because of serializing object-dtype data with pickle)"
   ]
  },
  {
   "cell_type": "markdown",
   "metadata": {},
   "source": [
    "----\n",
    "<u>Storing NetworkX DiGraph directly</u>"
   ]
  },
  {
   "cell_type": "markdown",
   "metadata": {},
   "source": [
    "Except for the adjacency lists format (**\\*.adjlist.txt**), which cannot store any additional data (not even per-edge), the multi-line adjacency lists (**\\*.multiline_adjlist.txt**) and edge lists (**\\*.edgelist.txt**) formats have file sizes larger than the Parquet storing `DataFrame` of edge lists.  Note however that they are uncompressed.\n",
    "\n",
    "The adjacency list format can be created directly by appropriate Git command.\n",
    "\n",
    "Because those formats cannot store per-node data, they are not considered for use."
   ]
  },
  {
   "cell_type": "markdown",
   "metadata": {},
   "source": [
    "Among specialized graph file formats, which I assume can store both per-node and per-edge data, **_Pajek_** format is smallest (compressed), and 4th smallest among all considered storage formats.  It is also smallest uncompressed among similar file formats."
   ]
  },
  {
   "cell_type": "markdown",
   "metadata": {},
   "source": [
    "Writing NetworkX graphs as Python pickles using `write_gpickle()` (\\***.gpickle.gz**) results in quite large file compressed, one of the largest files uncompressed.\n",
    "\n",
    "On the other hand NetworkX graphs can contain any hashable Python object as node (not just integers and strings). For arbitrary data types it may be difficult to represent the data as text. In that case using Python pickles to store the graph data can be used."
   ]
  },
  {
   "cell_type": "markdown",
   "metadata": {},
   "source": [
    "## Examining computing and storing reachability labels and other per-node data"
   ]
  },
  {
   "cell_type": "code",
   "execution_count": null,
   "metadata": {},
   "outputs": [],
   "source": [
    "from git_commit_graph_ext.labelling.levels import *\n",
    "from git_commit_graph_ext.labelling.dfs_intervals import *"
   ]
  },
  {
   "cell_type": "code",
   "execution_count": null,
   "metadata": {},
   "outputs": [],
   "source": [
    "import numpy as np"
   ]
  },
  {
   "cell_type": "markdown",
   "metadata": {},
   "source": [
    "### Computing reachability labels for git.git commit graph"
   ]
  },
  {
   "cell_type": "code",
   "execution_count": null,
   "metadata": {},
   "outputs": [
    {
     "name": "stdout",
     "output_type": "stream",
     "text": [
      "git.git commit graph\n",
      "graph has 63829 nodes and 79664 edges\n",
      "\n",
      "find levels:\n",
      "Wall time: 669 ms\n",
      "\n",
      "find min-post intervals:\n",
      "Wall time: 1.93 s\n",
      "\n",
      "find min-post intervals (graph+tree):\n",
      "Wall time: 1.68 s\n"
     ]
    }
   ],
   "source": [
    "print('git.git commit graph')\n",
    "graph = graph_git\n",
    "\n",
    "print('graph has {} nodes and {} edges'.format(graph.number_of_nodes(), graph.number_of_edges()))\n",
    "\n",
    "print('\\nfind levels:')\n",
    "%time graph.lvl = find_levels(graph)\n",
    "print('\\nfind min-post intervals:')\n",
    "%time graph.mpi = find_dfs_intervals(graph)\n",
    "print('\\nfind min-post intervals (graph+tree):')\n",
    "%time graph.mpi_ext = find_dfs_intervals_extra(graph)"
   ]
  },
  {
   "cell_type": "markdown",
   "metadata": {},
   "source": [
    "All times to calculate different graph indices for git.git commit graph take around few second."
   ]
  },
  {
   "cell_type": "code",
   "execution_count": null,
   "metadata": {},
   "outputs": [
    {
     "name": "stdout",
     "output_type": "stream",
     "text": [
      "git.git commit graph\n"
     ]
    },
    {
     "data": {
      "text/html": [
       "<div>\n",
       "<style scoped>\n",
       "    .dataframe tbody tr th:only-of-type {\n",
       "        vertical-align: middle;\n",
       "    }\n",
       "\n",
       "    .dataframe tbody tr th {\n",
       "        vertical-align: top;\n",
       "    }\n",
       "\n",
       "    .dataframe thead th {\n",
       "        text-align: right;\n",
       "    }\n",
       "</style>\n",
       "<table border=\"1\" class=\"dataframe\">\n",
       "  <thead>\n",
       "    <tr style=\"text-align: right;\">\n",
       "      <th></th>\n",
       "      <th>level</th>\n",
       "      <th>in degree</th>\n",
       "      <th>out degree</th>\n",
       "      <th>degree</th>\n",
       "      <th>f_min</th>\n",
       "      <th>min</th>\n",
       "      <th>post</th>\n",
       "    </tr>\n",
       "  </thead>\n",
       "  <tbody>\n",
       "    <tr>\n",
       "      <th>e83c51633</th>\n",
       "      <td>0</td>\n",
       "      <td>1</td>\n",
       "      <td>0</td>\n",
       "      <td>1</td>\n",
       "      <td>1</td>\n",
       "      <td>1</td>\n",
       "      <td>1</td>\n",
       "    </tr>\n",
       "    <tr>\n",
       "      <th>8bc9a0c76</th>\n",
       "      <td>1</td>\n",
       "      <td>1</td>\n",
       "      <td>1</td>\n",
       "      <td>2</td>\n",
       "      <td>1</td>\n",
       "      <td>1</td>\n",
       "      <td>2</td>\n",
       "    </tr>\n",
       "    <tr>\n",
       "      <th>e497ea2a9</th>\n",
       "      <td>2</td>\n",
       "      <td>1</td>\n",
       "      <td>1</td>\n",
       "      <td>2</td>\n",
       "      <td>1</td>\n",
       "      <td>1</td>\n",
       "      <td>3</td>\n",
       "    </tr>\n",
       "    <tr>\n",
       "      <th>bf0c6e839</th>\n",
       "      <td>3</td>\n",
       "      <td>1</td>\n",
       "      <td>1</td>\n",
       "      <td>2</td>\n",
       "      <td>1</td>\n",
       "      <td>1</td>\n",
       "      <td>4</td>\n",
       "    </tr>\n",
       "    <tr>\n",
       "      <th>19b2860cb</th>\n",
       "      <td>4</td>\n",
       "      <td>1</td>\n",
       "      <td>1</td>\n",
       "      <td>2</td>\n",
       "      <td>1</td>\n",
       "      <td>1</td>\n",
       "      <td>5</td>\n",
       "    </tr>\n",
       "    <tr>\n",
       "      <th>...</th>\n",
       "      <td>...</td>\n",
       "      <td>...</td>\n",
       "      <td>...</td>\n",
       "      <td>...</td>\n",
       "      <td>...</td>\n",
       "      <td>...</td>\n",
       "      <td>...</td>\n",
       "    </tr>\n",
       "    <tr>\n",
       "      <th>e6d102643</th>\n",
       "      <td>21094</td>\n",
       "      <td>1</td>\n",
       "      <td>2</td>\n",
       "      <td>3</td>\n",
       "      <td>1</td>\n",
       "      <td>63662</td>\n",
       "      <td>63825</td>\n",
       "    </tr>\n",
       "    <tr>\n",
       "      <th>4c6c5054a</th>\n",
       "      <td>21095</td>\n",
       "      <td>1</td>\n",
       "      <td>2</td>\n",
       "      <td>3</td>\n",
       "      <td>1</td>\n",
       "      <td>63662</td>\n",
       "      <td>63826</td>\n",
       "    </tr>\n",
       "    <tr>\n",
       "      <th>f29945cb3</th>\n",
       "      <td>21096</td>\n",
       "      <td>1</td>\n",
       "      <td>2</td>\n",
       "      <td>3</td>\n",
       "      <td>1</td>\n",
       "      <td>63662</td>\n",
       "      <td>63827</td>\n",
       "    </tr>\n",
       "    <tr>\n",
       "      <th>b16af9417</th>\n",
       "      <td>21097</td>\n",
       "      <td>1</td>\n",
       "      <td>2</td>\n",
       "      <td>3</td>\n",
       "      <td>1</td>\n",
       "      <td>63662</td>\n",
       "      <td>63828</td>\n",
       "    </tr>\n",
       "    <tr>\n",
       "      <th>45daf8777</th>\n",
       "      <td>21098</td>\n",
       "      <td>0</td>\n",
       "      <td>2</td>\n",
       "      <td>2</td>\n",
       "      <td>1</td>\n",
       "      <td>63662</td>\n",
       "      <td>63829</td>\n",
       "    </tr>\n",
       "  </tbody>\n",
       "</table>\n",
       "<p>63829 rows × 7 columns</p>\n",
       "</div>"
      ],
      "text/plain": [
       "           level  in degree  out degree  degree  f_min    min   post\n",
       "e83c51633      0          1           0       1      1      1      1\n",
       "8bc9a0c76      1          1           1       2      1      1      2\n",
       "e497ea2a9      2          1           1       2      1      1      3\n",
       "bf0c6e839      3          1           1       2      1      1      4\n",
       "19b2860cb      4          1           1       2      1      1      5\n",
       "...          ...        ...         ...     ...    ...    ...    ...\n",
       "e6d102643  21094          1           2       3      1  63662  63825\n",
       "4c6c5054a  21095          1           2       3      1  63662  63826\n",
       "f29945cb3  21096          1           2       3      1  63662  63827\n",
       "b16af9417  21097          1           2       3      1  63662  63828\n",
       "45daf8777  21098          0           2       2      1  63662  63829\n",
       "\n",
       "[63829 rows x 7 columns]"
      ]
     },
     "execution_count": null,
     "metadata": {},
     "output_type": "execute_result"
    }
   ],
   "source": [
    "# calculating parameters of the git.git commit graphs: distribution of in-degree, out-degree and level\n",
    "print('git.git commit graph')\n",
    "graph = graph_git\n",
    "\n",
    "graph_info_df=pd.DataFrame.from_dict(graph.lvl,orient='index').rename(columns={0: 'level'})\n",
    "graph_info_df.index.name='node'\n",
    "graph_info_df['in degree']=pd.Series(dict(graph.in_degree()))\n",
    "graph_info_df['out degree']=pd.Series(dict(graph.out_degree()))\n",
    "graph_info_df['degree']=graph_info_df['in degree']+graph_info_df['out degree']\n",
    "\n",
    "graph_info_df = pd.concat([graph_info_df,\n",
    "                           pd.DataFrame.from_dict(graph.mpi_ext,orient='index',columns=['f_min','min','post'])],\n",
    "                          axis=1,join='inner')\n",
    "\n",
    "graph_info_df"
   ]
  },
  {
   "cell_type": "code",
   "execution_count": null,
   "metadata": {},
   "outputs": [
    {
     "data": {
      "text/plain": [
       "level         int64\n",
       "in degree     int64\n",
       "out degree    int64\n",
       "degree        int64\n",
       "f_min         int64\n",
       "min           int64\n",
       "post          int64\n",
       "dtype: object"
      ]
     },
     "execution_count": null,
     "metadata": {},
     "output_type": "execute_result"
    }
   ],
   "source": [
    "graph_info_df.dtypes"
   ]
  },
  {
   "cell_type": "code",
   "execution_count": null,
   "metadata": {},
   "outputs": [
    {
     "data": {
      "text/plain": [
       "Index(['level', 'in degree', 'out degree', 'degree', 'f_min', 'min', 'post'], dtype='object')"
      ]
     },
     "execution_count": null,
     "metadata": {},
     "output_type": "execute_result"
    }
   ],
   "source": [
    "graph_info_df.columns"
   ]
  },
  {
   "cell_type": "code",
   "execution_count": null,
   "metadata": {},
   "outputs": [
    {
     "data": {
      "text/html": [
       "<div>\n",
       "<style scoped>\n",
       "    .dataframe tbody tr th:only-of-type {\n",
       "        vertical-align: middle;\n",
       "    }\n",
       "\n",
       "    .dataframe tbody tr th {\n",
       "        vertical-align: top;\n",
       "    }\n",
       "\n",
       "    .dataframe thead th {\n",
       "        text-align: right;\n",
       "    }\n",
       "</style>\n",
       "<table border=\"1\" class=\"dataframe\">\n",
       "  <thead>\n",
       "    <tr style=\"text-align: right;\">\n",
       "      <th></th>\n",
       "      <th>level</th>\n",
       "      <th>in degree</th>\n",
       "      <th>out degree</th>\n",
       "      <th>degree</th>\n",
       "      <th>f_min</th>\n",
       "      <th>min</th>\n",
       "      <th>post</th>\n",
       "    </tr>\n",
       "  </thead>\n",
       "  <tbody>\n",
       "    <tr>\n",
       "      <th>count</th>\n",
       "      <td>63829.000000</td>\n",
       "      <td>63829.000000</td>\n",
       "      <td>63829.000000</td>\n",
       "      <td>63829.000000</td>\n",
       "      <td>63829.000000</td>\n",
       "      <td>63829.000000</td>\n",
       "      <td>63829.000000</td>\n",
       "    </tr>\n",
       "    <tr>\n",
       "      <th>mean</th>\n",
       "      <td>11774.655439</td>\n",
       "      <td>1.248085</td>\n",
       "      <td>1.248085</td>\n",
       "      <td>2.496169</td>\n",
       "      <td>2122.979116</td>\n",
       "      <td>23913.162168</td>\n",
       "      <td>31915.000000</td>\n",
       "    </tr>\n",
       "    <tr>\n",
       "      <th>std</th>\n",
       "      <td>6198.793361</td>\n",
       "      <td>1.556817</td>\n",
       "      <td>0.436128</td>\n",
       "      <td>1.602244</td>\n",
       "      <td>10631.734068</td>\n",
       "      <td>21750.776061</td>\n",
       "      <td>18425.989503</td>\n",
       "    </tr>\n",
       "    <tr>\n",
       "      <th>min</th>\n",
       "      <td>0.000000</td>\n",
       "      <td>0.000000</td>\n",
       "      <td>0.000000</td>\n",
       "      <td>1.000000</td>\n",
       "      <td>1.000000</td>\n",
       "      <td>1.000000</td>\n",
       "      <td>1.000000</td>\n",
       "    </tr>\n",
       "    <tr>\n",
       "      <th>25%</th>\n",
       "      <td>7003.000000</td>\n",
       "      <td>1.000000</td>\n",
       "      <td>1.000000</td>\n",
       "      <td>2.000000</td>\n",
       "      <td>1.000000</td>\n",
       "      <td>1.000000</td>\n",
       "      <td>15958.000000</td>\n",
       "    </tr>\n",
       "    <tr>\n",
       "      <th>50%</th>\n",
       "      <td>12695.000000</td>\n",
       "      <td>1.000000</td>\n",
       "      <td>1.000000</td>\n",
       "      <td>2.000000</td>\n",
       "      <td>1.000000</td>\n",
       "      <td>21878.000000</td>\n",
       "      <td>31915.000000</td>\n",
       "    </tr>\n",
       "    <tr>\n",
       "      <th>75%</th>\n",
       "      <td>17120.000000</td>\n",
       "      <td>1.000000</td>\n",
       "      <td>1.000000</td>\n",
       "      <td>3.000000</td>\n",
       "      <td>1.000000</td>\n",
       "      <td>43554.000000</td>\n",
       "      <td>47872.000000</td>\n",
       "    </tr>\n",
       "    <tr>\n",
       "      <th>max</th>\n",
       "      <td>21136.000000</td>\n",
       "      <td>110.000000</td>\n",
       "      <td>10.000000</td>\n",
       "      <td>111.000000</td>\n",
       "      <td>62308.000000</td>\n",
       "      <td>63662.000000</td>\n",
       "      <td>63829.000000</td>\n",
       "    </tr>\n",
       "  </tbody>\n",
       "</table>\n",
       "</div>"
      ],
      "text/plain": [
       "              level     in degree    out degree        degree         f_min  \\\n",
       "count  63829.000000  63829.000000  63829.000000  63829.000000  63829.000000   \n",
       "mean   11774.655439      1.248085      1.248085      2.496169   2122.979116   \n",
       "std     6198.793361      1.556817      0.436128      1.602244  10631.734068   \n",
       "min        0.000000      0.000000      0.000000      1.000000      1.000000   \n",
       "25%     7003.000000      1.000000      1.000000      2.000000      1.000000   \n",
       "50%    12695.000000      1.000000      1.000000      2.000000      1.000000   \n",
       "75%    17120.000000      1.000000      1.000000      3.000000      1.000000   \n",
       "max    21136.000000    110.000000     10.000000    111.000000  62308.000000   \n",
       "\n",
       "                min          post  \n",
       "count  63829.000000  63829.000000  \n",
       "mean   23913.162168  31915.000000  \n",
       "std    21750.776061  18425.989503  \n",
       "min        1.000000      1.000000  \n",
       "25%        1.000000  15958.000000  \n",
       "50%    21878.000000  31915.000000  \n",
       "75%    43554.000000  47872.000000  \n",
       "max    63662.000000  63829.000000  "
      ]
     },
     "execution_count": null,
     "metadata": {},
     "output_type": "execute_result"
    }
   ],
   "source": [
    "graph_info_df.describe()"
   ]
  },
  {
   "cell_type": "markdown",
   "metadata": {},
   "source": [
    "The git.git repository (state for December 2020) has, in all its branches\n",
    "- around 64k commits\n",
    "- maximum level of around 21k (around 1/3 of number of commits)\n",
    "- mean out-degree of 1.25"
   ]
  },
  {
   "cell_type": "markdown",
   "metadata": {},
   "source": [
    "### Visualizing topological level stats for git.git commit graph"
   ]
  },
  {
   "cell_type": "markdown",
   "metadata": {},
   "source": [
    "Imports for plots"
   ]
  },
  {
   "cell_type": "code",
   "execution_count": null,
   "metadata": {},
   "outputs": [],
   "source": [
    "%matplotlib inline\n",
    "import matplotlib.pyplot as plt\n",
    "import seaborn as sns"
   ]
  },
  {
   "cell_type": "code",
   "execution_count": null,
   "metadata": {},
   "outputs": [],
   "source": [
    "sns.set()"
   ]
  },
  {
   "cell_type": "markdown",
   "metadata": {},
   "source": [
    "Histogram for backward topological levels"
   ]
  },
  {
   "cell_type": "code",
   "execution_count": null,
   "metadata": {},
   "outputs": [
    {
     "data": {
      "image/png": "[encoded data removed]",
      "text/plain": [
       "<Figure size 432x288 with 1 Axes>"
      ]
     },
     "metadata": {},
     "output_type": "display_data"
    }
   ],
   "source": [
    "plt.title('Histogram of levels')\n",
    "plt.xlabel('Level')\n",
    "graph_info_df['level'].plot.hist(bins=50)\n",
    "plt.draw()"
   ]
  },
  {
   "cell_type": "markdown",
   "metadata": {},
   "source": [
    "Plot of counts for backward topological levels"
   ]
  },
  {
   "cell_type": "code",
   "execution_count": null,
   "metadata": {},
   "outputs": [
    {
     "data": {
      "image/png": "[encoded data removed]",
      "text/plain": [
       "<Figure size 432x288 with 1 Axes>"
      ]
     },
     "metadata": {},
     "output_type": "display_data"
    }
   ],
   "source": [
    "level_counts=graph_info_df['level'].value_counts()\n",
    "\n",
    "level_counts_df=pd.DataFrame({'level counts': level_counts})\n",
    "level_counts_df.index.name='level'\n",
    "level_counts_df.sort_index(inplace=True)\n",
    "level_counts_df.plot()\n",
    "\n",
    "plt.title('%s commit graph - number of nodes with given level' %\n",
    "          'git.git')\n",
    "plt.xlabel('level of node / vertex')\n",
    "plt.ylabel('number of nodes / vertices')\n",
    "plt.show()"
   ]
  },
  {
   "cell_type": "markdown",
   "metadata": {},
   "source": [
    "Histogram of counts for backward topological levels"
   ]
  },
  {
   "cell_type": "code",
   "execution_count": null,
   "metadata": {},
   "outputs": [
    {
     "data": {
      "text/plain": [
       "count    21137.000000\n",
       "mean         3.019776\n",
       "std          3.477064\n",
       "min          1.000000\n",
       "25%          1.000000\n",
       "50%          2.000000\n",
       "75%          4.000000\n",
       "max        112.000000\n",
       "Name: level, dtype: float64"
      ]
     },
     "execution_count": null,
     "metadata": {},
     "output_type": "execute_result"
    },
    {
     "data": {
      "image/png": "[encoded data removed]",
      "text/plain": [
       "<Figure size 432x288 with 1 Axes>"
      ]
     },
     "metadata": {},
     "output_type": "display_data"
    }
   ],
   "source": [
    "level_counts=graph_info_df['level'].value_counts()\n",
    "\n",
    "plt.title('Histogram of level counts\\n'+'Number of levels with given count of nodes')\n",
    "plt.xlabel('Level value count\\n'+'number of commits with given level')\n",
    "level_counts.plot.hist(bins=50)\n",
    "\n",
    "level_counts.describe()"
   ]
  },
  {
   "cell_type": "markdown",
   "metadata": {},
   "source": [
    "Sanity checking the computed level counts; nodes with backward topological level of zero are sink nodes, with out-degree of 0.\n",
    "\n",
    "Thus the number of nodes with level of 0 should be equal to number of nodes with out-degree of 0."
   ]
  },
  {
   "cell_type": "code",
   "execution_count": null,
   "metadata": {},
   "outputs": [
    {
     "name": "stdout",
     "output_type": "stream",
     "text": [
      "git.git commit graph\n",
      "there are   3 nodes with  in-degree of 0\n",
      "there are   9 nodes with out-degree of 0: ['7d77f2e9c', '1bd90415d', '0ca71b373', '16d6b8ab6', 'cb07fc2a2', '161332a52', '2744b2344', '1db95b00a', 'e83c51633']\n",
      "there are   9 nodes with level of 0\n"
     ]
    },
    {
     "data": {
      "text/html": [
       "<div>\n",
       "<style scoped>\n",
       "    .dataframe tbody tr th:only-of-type {\n",
       "        vertical-align: middle;\n",
       "    }\n",
       "\n",
       "    .dataframe tbody tr th {\n",
       "        vertical-align: top;\n",
       "    }\n",
       "\n",
       "    .dataframe thead th {\n",
       "        text-align: right;\n",
       "    }\n",
       "</style>\n",
       "<table border=\"1\" class=\"dataframe\">\n",
       "  <thead>\n",
       "    <tr style=\"text-align: right;\">\n",
       "      <th></th>\n",
       "      <th>level</th>\n",
       "      <th>in degree</th>\n",
       "      <th>out degree</th>\n",
       "      <th>degree</th>\n",
       "      <th>f_min</th>\n",
       "      <th>min</th>\n",
       "      <th>post</th>\n",
       "    </tr>\n",
       "  </thead>\n",
       "  <tbody>\n",
       "    <tr>\n",
       "      <th>e83c51633</th>\n",
       "      <td>0</td>\n",
       "      <td>1</td>\n",
       "      <td>0</td>\n",
       "      <td>1</td>\n",
       "      <td>1</td>\n",
       "      <td>1</td>\n",
       "      <td>1</td>\n",
       "    </tr>\n",
       "    <tr>\n",
       "      <th>1db95b00a</th>\n",
       "      <td>0</td>\n",
       "      <td>1</td>\n",
       "      <td>0</td>\n",
       "      <td>1</td>\n",
       "      <td>799</td>\n",
       "      <td>799</td>\n",
       "      <td>799</td>\n",
       "    </tr>\n",
       "    <tr>\n",
       "      <th>2744b2344</th>\n",
       "      <td>0</td>\n",
       "      <td>1</td>\n",
       "      <td>0</td>\n",
       "      <td>1</td>\n",
       "      <td>1149</td>\n",
       "      <td>1149</td>\n",
       "      <td>1149</td>\n",
       "    </tr>\n",
       "    <tr>\n",
       "      <th>161332a52</th>\n",
       "      <td>0</td>\n",
       "      <td>1</td>\n",
       "      <td>0</td>\n",
       "      <td>1</td>\n",
       "      <td>5044</td>\n",
       "      <td>5044</td>\n",
       "      <td>5044</td>\n",
       "    </tr>\n",
       "    <tr>\n",
       "      <th>cb07fc2a2</th>\n",
       "      <td>0</td>\n",
       "      <td>1</td>\n",
       "      <td>0</td>\n",
       "      <td>1</td>\n",
       "      <td>8137</td>\n",
       "      <td>8137</td>\n",
       "      <td>8137</td>\n",
       "    </tr>\n",
       "    <tr>\n",
       "      <th>16d6b8ab6</th>\n",
       "      <td>0</td>\n",
       "      <td>1</td>\n",
       "      <td>0</td>\n",
       "      <td>1</td>\n",
       "      <td>10300</td>\n",
       "      <td>10300</td>\n",
       "      <td>10300</td>\n",
       "    </tr>\n",
       "    <tr>\n",
       "      <th>0ca71b373</th>\n",
       "      <td>0</td>\n",
       "      <td>1</td>\n",
       "      <td>0</td>\n",
       "      <td>1</td>\n",
       "      <td>28384</td>\n",
       "      <td>28384</td>\n",
       "      <td>28384</td>\n",
       "    </tr>\n",
       "    <tr>\n",
       "      <th>1bd90415d</th>\n",
       "      <td>0</td>\n",
       "      <td>1</td>\n",
       "      <td>0</td>\n",
       "      <td>1</td>\n",
       "      <td>61749</td>\n",
       "      <td>61749</td>\n",
       "      <td>61749</td>\n",
       "    </tr>\n",
       "    <tr>\n",
       "      <th>7d77f2e9c</th>\n",
       "      <td>0</td>\n",
       "      <td>1</td>\n",
       "      <td>0</td>\n",
       "      <td>1</td>\n",
       "      <td>62308</td>\n",
       "      <td>62308</td>\n",
       "      <td>62308</td>\n",
       "    </tr>\n",
       "  </tbody>\n",
       "</table>\n",
       "</div>"
      ],
      "text/plain": [
       "           level  in degree  out degree  degree  f_min    min   post\n",
       "e83c51633      0          1           0       1      1      1      1\n",
       "1db95b00a      0          1           0       1    799    799    799\n",
       "2744b2344      0          1           0       1   1149   1149   1149\n",
       "161332a52      0          1           0       1   5044   5044   5044\n",
       "cb07fc2a2      0          1           0       1   8137   8137   8137\n",
       "16d6b8ab6      0          1           0       1  10300  10300  10300\n",
       "0ca71b373      0          1           0       1  28384  28384  28384\n",
       "1bd90415d      0          1           0       1  61749  61749  61749\n",
       "7d77f2e9c      0          1           0       1  62308  62308  62308"
      ]
     },
     "execution_count": null,
     "metadata": {},
     "output_type": "execute_result"
    }
   ],
   "source": [
    "# sanity checking level counts\n",
    "\n",
    "print('git.git commit graph')\n",
    "graph = graph_git\n",
    "\n",
    "sinks  =[n for n in graph if graph.out_degree(n) == 0]\n",
    "sources=[n for n in graph if graph.in_degree(n)  == 0]\n",
    "print('there are {:3d} nodes with  in-degree of 0'.format(len(sources)))\n",
    "print('there are {:3d} nodes with out-degree of 0: {}'.format(len(sinks),sinks))\n",
    "print('there are {:3d} nodes with level of 0'.format(level_counts.at[0]))\n",
    "\n",
    "graph_info_df[graph_info_df['level']==0]"
   ]
  },
  {
   "cell_type": "markdown",
   "metadata": {},
   "source": [
    "### Visualizing in-degree and out-degree in git.git commit graph"
   ]
  },
  {
   "cell_type": "code",
   "execution_count": null,
   "metadata": {},
   "outputs": [
    {
     "data": {
      "image/png": "[encoded data removed]",
      "text/plain": [
       "<Figure size 432x288 with 2 Axes>"
      ]
     },
     "metadata": {},
     "output_type": "display_data"
    }
   ],
   "source": [
    "graph_info_df[['in degree','out degree']].hist(bins=10)\n",
    "plt.show()"
   ]
  },
  {
   "cell_type": "code",
   "execution_count": null,
   "metadata": {},
   "outputs": [
    {
     "data": {
      "image/png": "[encoded data removed]",
      "text/plain": [
       "<Figure size 432x288 with 2 Axes>"
      ]
     },
     "metadata": {},
     "output_type": "display_data"
    }
   ],
   "source": [
    "graph_info_df.hist(column=['in degree','out degree'],bins=10,range=(0,10))\n",
    "plt.show()"
   ]
  },
  {
   "cell_type": "code",
   "execution_count": null,
   "metadata": {},
   "outputs": [
    {
     "data": {
      "image/png": "[encoded data removed]",
      "text/plain": [
       "<Figure size 432x288 with 1 Axes>"
      ]
     },
     "metadata": {},
     "output_type": "display_data"
    }
   ],
   "source": [
    "graph_info_df[['in degree','out degree']].plot.hist(bins=51,alpha=0.4,range=(0,50))\n",
    "plt.show()"
   ]
  },
  {
   "cell_type": "markdown",
   "metadata": {},
   "source": [
    "For a graph that follows the power law (for example small-world or scale-free graphs),\n",
    "the distribution of degrees should be a straight line on log-log scale.\n",
    "\n",
    "For example the plot below (taken from the KONECT handbook, Figure 7a)\n",
    "shows the degree distribution and cumulative degree distribution\n",
    "for the Wikipedia election network ([EL](http://konect.cc/networks/elec/)).\n",
    "\n",
    "![The degree distribution and cumulative degree distribution for the Wikipedia election network (EL)](images/konect/KONECT_handbook-fig_7a-degree_distribution_Wikipedia_election_network.png)"
   ]
  },
  {
   "cell_type": "markdown",
   "metadata": {},
   "source": [
    "Below there is the same graph for the commit graph of the git.git repository"
   ]
  },
  {
   "cell_type": "code",
   "execution_count": null,
   "metadata": {},
   "outputs": [
    {
     "data": {
      "image/png": "[encoded data removed]",
      "text/plain": [
       "<Figure size 576x504 with 1 Axes>"
      ]
     },
     "metadata": {},
     "output_type": "display_data"
    }
   ],
   "source": [
    "degree_count_df=graph_info_df['degree'].value_counts(sort=False)\\\n",
    "                    .to_frame(name='Frequency').rename_axis('degree')\\\n",
    "                    .sort_index()\n",
    "degree_count_df['Degree (d)'] = degree_count_df.index\n",
    "\n",
    "degree_count_df.plot(kind='scatter',x='Degree (d)',y='Frequency',color='#0000ff',\n",
    "                     figsize=(8,7),logx=True,logy=True,\n",
    "                     title='git.git commit graph')\n",
    "sns.set_style('ticks', {\"xtick.major.size\": 20, \"ytick.major.size\": 20})\n",
    "plt.xlim([.8, 1e4])\n",
    "plt.ylim([1., 7e4])\n",
    "plt.show()\n",
    "#degree_count_df"
   ]
  },
  {
   "cell_type": "markdown",
   "metadata": {},
   "source": [
    "Note that degrees span the range up to around $10^2$ in the case of git.git commit graph, not $10^4$ of the Wikipedia elections network.\n",
    "Note also that degree of 1 is an outlier; it does not lie on the line through other points."
   ]
  },
  {
   "cell_type": "markdown",
   "metadata": {},
   "source": [
    "Below there is in/outdegree comparison plot for the git.git commit graph"
   ]
  },
  {
   "cell_type": "code",
   "execution_count": null,
   "metadata": {},
   "outputs": [
    {
     "data": {
      "text/html": [
       "<div>\n",
       "<style scoped>\n",
       "    .dataframe tbody tr th:only-of-type {\n",
       "        vertical-align: middle;\n",
       "    }\n",
       "\n",
       "    .dataframe tbody tr th {\n",
       "        vertical-align: top;\n",
       "    }\n",
       "\n",
       "    .dataframe thead th {\n",
       "        text-align: right;\n",
       "    }\n",
       "</style>\n",
       "<table border=\"1\" class=\"dataframe\">\n",
       "  <thead>\n",
       "    <tr style=\"text-align: right;\">\n",
       "      <th></th>\n",
       "      <th>level</th>\n",
       "      <th>in degree</th>\n",
       "      <th>out degree</th>\n",
       "      <th>degree</th>\n",
       "      <th>f_min</th>\n",
       "      <th>min</th>\n",
       "      <th>post</th>\n",
       "    </tr>\n",
       "  </thead>\n",
       "  <tbody>\n",
       "    <tr>\n",
       "      <th>e83c51633</th>\n",
       "      <td>0</td>\n",
       "      <td>1</td>\n",
       "      <td>0</td>\n",
       "      <td>1</td>\n",
       "      <td>1</td>\n",
       "      <td>1</td>\n",
       "      <td>1</td>\n",
       "    </tr>\n",
       "    <tr>\n",
       "      <th>8bc9a0c76</th>\n",
       "      <td>1</td>\n",
       "      <td>1</td>\n",
       "      <td>1</td>\n",
       "      <td>2</td>\n",
       "      <td>1</td>\n",
       "      <td>1</td>\n",
       "      <td>2</td>\n",
       "    </tr>\n",
       "    <tr>\n",
       "      <th>e497ea2a9</th>\n",
       "      <td>2</td>\n",
       "      <td>1</td>\n",
       "      <td>1</td>\n",
       "      <td>2</td>\n",
       "      <td>1</td>\n",
       "      <td>1</td>\n",
       "      <td>3</td>\n",
       "    </tr>\n",
       "    <tr>\n",
       "      <th>bf0c6e839</th>\n",
       "      <td>3</td>\n",
       "      <td>1</td>\n",
       "      <td>1</td>\n",
       "      <td>2</td>\n",
       "      <td>1</td>\n",
       "      <td>1</td>\n",
       "      <td>4</td>\n",
       "    </tr>\n",
       "    <tr>\n",
       "      <th>19b2860cb</th>\n",
       "      <td>4</td>\n",
       "      <td>1</td>\n",
       "      <td>1</td>\n",
       "      <td>2</td>\n",
       "      <td>1</td>\n",
       "      <td>1</td>\n",
       "      <td>5</td>\n",
       "    </tr>\n",
       "    <tr>\n",
       "      <th>...</th>\n",
       "      <td>...</td>\n",
       "      <td>...</td>\n",
       "      <td>...</td>\n",
       "      <td>...</td>\n",
       "      <td>...</td>\n",
       "      <td>...</td>\n",
       "      <td>...</td>\n",
       "    </tr>\n",
       "    <tr>\n",
       "      <th>e6d102643</th>\n",
       "      <td>21094</td>\n",
       "      <td>1</td>\n",
       "      <td>2</td>\n",
       "      <td>3</td>\n",
       "      <td>1</td>\n",
       "      <td>63662</td>\n",
       "      <td>63825</td>\n",
       "    </tr>\n",
       "    <tr>\n",
       "      <th>4c6c5054a</th>\n",
       "      <td>21095</td>\n",
       "      <td>1</td>\n",
       "      <td>2</td>\n",
       "      <td>3</td>\n",
       "      <td>1</td>\n",
       "      <td>63662</td>\n",
       "      <td>63826</td>\n",
       "    </tr>\n",
       "    <tr>\n",
       "      <th>f29945cb3</th>\n",
       "      <td>21096</td>\n",
       "      <td>1</td>\n",
       "      <td>2</td>\n",
       "      <td>3</td>\n",
       "      <td>1</td>\n",
       "      <td>63662</td>\n",
       "      <td>63827</td>\n",
       "    </tr>\n",
       "    <tr>\n",
       "      <th>b16af9417</th>\n",
       "      <td>21097</td>\n",
       "      <td>1</td>\n",
       "      <td>2</td>\n",
       "      <td>3</td>\n",
       "      <td>1</td>\n",
       "      <td>63662</td>\n",
       "      <td>63828</td>\n",
       "    </tr>\n",
       "    <tr>\n",
       "      <th>45daf8777</th>\n",
       "      <td>21098</td>\n",
       "      <td>0</td>\n",
       "      <td>2</td>\n",
       "      <td>2</td>\n",
       "      <td>1</td>\n",
       "      <td>63662</td>\n",
       "      <td>63829</td>\n",
       "    </tr>\n",
       "  </tbody>\n",
       "</table>\n",
       "<p>63829 rows × 7 columns</p>\n",
       "</div>"
      ],
      "text/plain": [
       "           level  in degree  out degree  degree  f_min    min   post\n",
       "e83c51633      0          1           0       1      1      1      1\n",
       "8bc9a0c76      1          1           1       2      1      1      2\n",
       "e497ea2a9      2          1           1       2      1      1      3\n",
       "bf0c6e839      3          1           1       2      1      1      4\n",
       "19b2860cb      4          1           1       2      1      1      5\n",
       "...          ...        ...         ...     ...    ...    ...    ...\n",
       "e6d102643  21094          1           2       3      1  63662  63825\n",
       "4c6c5054a  21095          1           2       3      1  63662  63826\n",
       "f29945cb3  21096          1           2       3      1  63662  63827\n",
       "b16af9417  21097          1           2       3      1  63662  63828\n",
       "45daf8777  21098          0           2       2      1  63662  63829\n",
       "\n",
       "[63829 rows x 7 columns]"
      ]
     },
     "execution_count": null,
     "metadata": {},
     "output_type": "execute_result"
    }
   ],
   "source": [
    "graph_info_df"
   ]
  },
  {
   "cell_type": "code",
   "execution_count": null,
   "metadata": {},
   "outputs": [
    {
     "data": {
      "image/png": "[encoded data removed]",
      "text/plain": [
       "<Figure size 360x360 with 1 Axes>"
      ]
     },
     "metadata": {},
     "output_type": "display_data"
    }
   ],
   "source": [
    "grid=sns.relplot(data=graph_info_df,x='out degree',y='in degree',\n",
    "                 kind='scatter',color='#0000ff')\n",
    "ax=grid.axes[0][0]\n",
    "ax.set_title('git.git commit graph')\n",
    "#ax.set_xscale('log')\n",
    "#ax.set_yscale('log')\n",
    "plt.show()"
   ]
  },
  {
   "cell_type": "markdown",
   "metadata": {},
   "source": [
    "### Visualizing min-post intervals in git.git commit graphs"
   ]
  },
  {
   "cell_type": "code",
   "execution_count": null,
   "metadata": {},
   "outputs": [
    {
     "data": {
      "image/png": "[encoded data removed]",
      "text/plain": [
       "<Figure size 432x288 with 2 Axes>"
      ]
     },
     "metadata": {},
     "output_type": "display_data"
    },
    {
     "data": {
      "image/png": "[encoded data removed]",
      "text/plain": [
       "<Figure size 432x288 with 1 Axes>"
      ]
     },
     "metadata": {},
     "output_type": "display_data"
    }
   ],
   "source": [
    "graph_info_df.hist(column=['f_min','min'],bins=20)\n",
    "graph_info_df[['f_min','min']].plot.hist(bins=50,alpha=0.5)\n",
    "plt.show()"
   ]
  },
  {
   "cell_type": "markdown",
   "metadata": {},
   "source": [
    "Normalized intervals (interval divide by post-visit order number)"
   ]
  },
  {
   "cell_type": "code",
   "execution_count": null,
   "metadata": {},
   "outputs": [
    {
     "data": {
      "text/html": [
       "<div>\n",
       "<style scoped>\n",
       "    .dataframe tbody tr th:only-of-type {\n",
       "        vertical-align: middle;\n",
       "    }\n",
       "\n",
       "    .dataframe tbody tr th {\n",
       "        vertical-align: top;\n",
       "    }\n",
       "\n",
       "    .dataframe thead th {\n",
       "        text-align: right;\n",
       "    }\n",
       "</style>\n",
       "<table border=\"1\" class=\"dataframe\">\n",
       "  <thead>\n",
       "    <tr style=\"text-align: right;\">\n",
       "      <th></th>\n",
       "      <th>level</th>\n",
       "      <th>in degree</th>\n",
       "      <th>out degree</th>\n",
       "      <th>degree</th>\n",
       "      <th>f_min</th>\n",
       "      <th>min</th>\n",
       "      <th>post</th>\n",
       "      <th>|interval|</th>\n",
       "      <th>|interval|/post</th>\n",
       "      <th>|f_interval|</th>\n",
       "      <th>|f_interval|/post</th>\n",
       "    </tr>\n",
       "  </thead>\n",
       "  <tbody>\n",
       "    <tr>\n",
       "      <th>e83c51633</th>\n",
       "      <td>0</td>\n",
       "      <td>1</td>\n",
       "      <td>0</td>\n",
       "      <td>1</td>\n",
       "      <td>1</td>\n",
       "      <td>1</td>\n",
       "      <td>1</td>\n",
       "      <td>0</td>\n",
       "      <td>0.000000</td>\n",
       "      <td>0</td>\n",
       "      <td>0.000000</td>\n",
       "    </tr>\n",
       "    <tr>\n",
       "      <th>8bc9a0c76</th>\n",
       "      <td>1</td>\n",
       "      <td>1</td>\n",
       "      <td>1</td>\n",
       "      <td>2</td>\n",
       "      <td>1</td>\n",
       "      <td>1</td>\n",
       "      <td>2</td>\n",
       "      <td>1</td>\n",
       "      <td>0.500000</td>\n",
       "      <td>1</td>\n",
       "      <td>0.500000</td>\n",
       "    </tr>\n",
       "    <tr>\n",
       "      <th>e497ea2a9</th>\n",
       "      <td>2</td>\n",
       "      <td>1</td>\n",
       "      <td>1</td>\n",
       "      <td>2</td>\n",
       "      <td>1</td>\n",
       "      <td>1</td>\n",
       "      <td>3</td>\n",
       "      <td>2</td>\n",
       "      <td>0.666667</td>\n",
       "      <td>2</td>\n",
       "      <td>0.666667</td>\n",
       "    </tr>\n",
       "    <tr>\n",
       "      <th>bf0c6e839</th>\n",
       "      <td>3</td>\n",
       "      <td>1</td>\n",
       "      <td>1</td>\n",
       "      <td>2</td>\n",
       "      <td>1</td>\n",
       "      <td>1</td>\n",
       "      <td>4</td>\n",
       "      <td>3</td>\n",
       "      <td>0.750000</td>\n",
       "      <td>3</td>\n",
       "      <td>0.750000</td>\n",
       "    </tr>\n",
       "    <tr>\n",
       "      <th>19b2860cb</th>\n",
       "      <td>4</td>\n",
       "      <td>1</td>\n",
       "      <td>1</td>\n",
       "      <td>2</td>\n",
       "      <td>1</td>\n",
       "      <td>1</td>\n",
       "      <td>5</td>\n",
       "      <td>4</td>\n",
       "      <td>0.800000</td>\n",
       "      <td>4</td>\n",
       "      <td>0.800000</td>\n",
       "    </tr>\n",
       "    <tr>\n",
       "      <th>...</th>\n",
       "      <td>...</td>\n",
       "      <td>...</td>\n",
       "      <td>...</td>\n",
       "      <td>...</td>\n",
       "      <td>...</td>\n",
       "      <td>...</td>\n",
       "      <td>...</td>\n",
       "      <td>...</td>\n",
       "      <td>...</td>\n",
       "      <td>...</td>\n",
       "      <td>...</td>\n",
       "    </tr>\n",
       "    <tr>\n",
       "      <th>e6d102643</th>\n",
       "      <td>21094</td>\n",
       "      <td>1</td>\n",
       "      <td>2</td>\n",
       "      <td>3</td>\n",
       "      <td>1</td>\n",
       "      <td>63662</td>\n",
       "      <td>63825</td>\n",
       "      <td>163</td>\n",
       "      <td>0.002554</td>\n",
       "      <td>63824</td>\n",
       "      <td>0.999984</td>\n",
       "    </tr>\n",
       "    <tr>\n",
       "      <th>4c6c5054a</th>\n",
       "      <td>21095</td>\n",
       "      <td>1</td>\n",
       "      <td>2</td>\n",
       "      <td>3</td>\n",
       "      <td>1</td>\n",
       "      <td>63662</td>\n",
       "      <td>63826</td>\n",
       "      <td>164</td>\n",
       "      <td>0.002569</td>\n",
       "      <td>63825</td>\n",
       "      <td>0.999984</td>\n",
       "    </tr>\n",
       "    <tr>\n",
       "      <th>f29945cb3</th>\n",
       "      <td>21096</td>\n",
       "      <td>1</td>\n",
       "      <td>2</td>\n",
       "      <td>3</td>\n",
       "      <td>1</td>\n",
       "      <td>63662</td>\n",
       "      <td>63827</td>\n",
       "      <td>165</td>\n",
       "      <td>0.002585</td>\n",
       "      <td>63826</td>\n",
       "      <td>0.999984</td>\n",
       "    </tr>\n",
       "    <tr>\n",
       "      <th>b16af9417</th>\n",
       "      <td>21097</td>\n",
       "      <td>1</td>\n",
       "      <td>2</td>\n",
       "      <td>3</td>\n",
       "      <td>1</td>\n",
       "      <td>63662</td>\n",
       "      <td>63828</td>\n",
       "      <td>166</td>\n",
       "      <td>0.002601</td>\n",
       "      <td>63827</td>\n",
       "      <td>0.999984</td>\n",
       "    </tr>\n",
       "    <tr>\n",
       "      <th>45daf8777</th>\n",
       "      <td>21098</td>\n",
       "      <td>0</td>\n",
       "      <td>2</td>\n",
       "      <td>2</td>\n",
       "      <td>1</td>\n",
       "      <td>63662</td>\n",
       "      <td>63829</td>\n",
       "      <td>167</td>\n",
       "      <td>0.002616</td>\n",
       "      <td>63828</td>\n",
       "      <td>0.999984</td>\n",
       "    </tr>\n",
       "  </tbody>\n",
       "</table>\n",
       "<p>63829 rows × 11 columns</p>\n",
       "</div>"
      ],
      "text/plain": [
       "           level  in degree  out degree  degree  f_min    min   post  \\\n",
       "e83c51633      0          1           0       1      1      1      1   \n",
       "8bc9a0c76      1          1           1       2      1      1      2   \n",
       "e497ea2a9      2          1           1       2      1      1      3   \n",
       "bf0c6e839      3          1           1       2      1      1      4   \n",
       "19b2860cb      4          1           1       2      1      1      5   \n",
       "...          ...        ...         ...     ...    ...    ...    ...   \n",
       "e6d102643  21094          1           2       3      1  63662  63825   \n",
       "4c6c5054a  21095          1           2       3      1  63662  63826   \n",
       "f29945cb3  21096          1           2       3      1  63662  63827   \n",
       "b16af9417  21097          1           2       3      1  63662  63828   \n",
       "45daf8777  21098          0           2       2      1  63662  63829   \n",
       "\n",
       "           |interval|  |interval|/post  |f_interval|  |f_interval|/post  \n",
       "e83c51633           0         0.000000             0           0.000000  \n",
       "8bc9a0c76           1         0.500000             1           0.500000  \n",
       "e497ea2a9           2         0.666667             2           0.666667  \n",
       "bf0c6e839           3         0.750000             3           0.750000  \n",
       "19b2860cb           4         0.800000             4           0.800000  \n",
       "...               ...              ...           ...                ...  \n",
       "e6d102643         163         0.002554         63824           0.999984  \n",
       "4c6c5054a         164         0.002569         63825           0.999984  \n",
       "f29945cb3         165         0.002585         63826           0.999984  \n",
       "b16af9417         166         0.002601         63827           0.999984  \n",
       "45daf8777         167         0.002616         63828           0.999984  \n",
       "\n",
       "[63829 rows x 11 columns]"
      ]
     },
     "execution_count": null,
     "metadata": {},
     "output_type": "execute_result"
    }
   ],
   "source": [
    "graph_info_df['|interval|']=graph_info_df['post'] - graph_info_df['min']\n",
    "graph_info_df['|interval|/post']=graph_info_df['|interval|']/graph_info_df['post']\n",
    "graph_info_df['|f_interval|']=graph_info_df['post'] - graph_info_df['f_min']\n",
    "graph_info_df['|f_interval|/post']=graph_info_df['|f_interval|']/graph_info_df['post']\n",
    "graph_info_df"
   ]
  },
  {
   "cell_type": "code",
   "execution_count": null,
   "metadata": {},
   "outputs": [
    {
     "data": {
      "text/html": [
       "<div>\n",
       "<style scoped>\n",
       "    .dataframe tbody tr th:only-of-type {\n",
       "        vertical-align: middle;\n",
       "    }\n",
       "\n",
       "    .dataframe tbody tr th {\n",
       "        vertical-align: top;\n",
       "    }\n",
       "\n",
       "    .dataframe thead th {\n",
       "        text-align: right;\n",
       "    }\n",
       "</style>\n",
       "<table border=\"1\" class=\"dataframe\">\n",
       "  <thead>\n",
       "    <tr style=\"text-align: right;\">\n",
       "      <th></th>\n",
       "      <th>level</th>\n",
       "      <th>in degree</th>\n",
       "      <th>out degree</th>\n",
       "      <th>degree</th>\n",
       "      <th>f_min</th>\n",
       "      <th>min</th>\n",
       "      <th>post</th>\n",
       "      <th>|interval|</th>\n",
       "      <th>|interval|/post</th>\n",
       "      <th>|f_interval|</th>\n",
       "      <th>|f_interval|/post</th>\n",
       "    </tr>\n",
       "  </thead>\n",
       "  <tbody>\n",
       "    <tr>\n",
       "      <th>count</th>\n",
       "      <td>63829.000000</td>\n",
       "      <td>63829.000000</td>\n",
       "      <td>63829.000000</td>\n",
       "      <td>63829.000000</td>\n",
       "      <td>63829.000000</td>\n",
       "      <td>63829.000000</td>\n",
       "      <td>63829.000000</td>\n",
       "      <td>63829.000000</td>\n",
       "      <td>63829.000000</td>\n",
       "      <td>63829.000000</td>\n",
       "      <td>63829.000000</td>\n",
       "    </tr>\n",
       "    <tr>\n",
       "      <th>mean</th>\n",
       "      <td>11774.655439</td>\n",
       "      <td>1.248085</td>\n",
       "      <td>1.248085</td>\n",
       "      <td>2.496169</td>\n",
       "      <td>2122.979116</td>\n",
       "      <td>23913.162168</td>\n",
       "      <td>31915.000000</td>\n",
       "      <td>8001.837832</td>\n",
       "      <td>0.303827</td>\n",
       "      <td>29792.020884</td>\n",
       "      <td>0.947877</td>\n",
       "    </tr>\n",
       "    <tr>\n",
       "      <th>std</th>\n",
       "      <td>6198.793361</td>\n",
       "      <td>1.556817</td>\n",
       "      <td>0.436128</td>\n",
       "      <td>1.602244</td>\n",
       "      <td>10631.734068</td>\n",
       "      <td>21750.776061</td>\n",
       "      <td>18425.989503</td>\n",
       "      <td>15664.880755</td>\n",
       "      <td>0.458586</td>\n",
       "      <td>18603.735072</td>\n",
       "      <td>0.212082</td>\n",
       "    </tr>\n",
       "    <tr>\n",
       "      <th>min</th>\n",
       "      <td>0.000000</td>\n",
       "      <td>0.000000</td>\n",
       "      <td>0.000000</td>\n",
       "      <td>1.000000</td>\n",
       "      <td>1.000000</td>\n",
       "      <td>1.000000</td>\n",
       "      <td>1.000000</td>\n",
       "      <td>0.000000</td>\n",
       "      <td>0.000000</td>\n",
       "      <td>0.000000</td>\n",
       "      <td>0.000000</td>\n",
       "    </tr>\n",
       "    <tr>\n",
       "      <th>25%</th>\n",
       "      <td>7003.000000</td>\n",
       "      <td>1.000000</td>\n",
       "      <td>1.000000</td>\n",
       "      <td>2.000000</td>\n",
       "      <td>1.000000</td>\n",
       "      <td>1.000000</td>\n",
       "      <td>15958.000000</td>\n",
       "      <td>1.000000</td>\n",
       "      <td>0.000037</td>\n",
       "      <td>13660.000000</td>\n",
       "      <td>0.999923</td>\n",
       "    </tr>\n",
       "    <tr>\n",
       "      <th>50%</th>\n",
       "      <td>12695.000000</td>\n",
       "      <td>1.000000</td>\n",
       "      <td>1.000000</td>\n",
       "      <td>2.000000</td>\n",
       "      <td>1.000000</td>\n",
       "      <td>21878.000000</td>\n",
       "      <td>31915.000000</td>\n",
       "      <td>7.000000</td>\n",
       "      <td>0.000282</td>\n",
       "      <td>29954.000000</td>\n",
       "      <td>0.999966</td>\n",
       "    </tr>\n",
       "    <tr>\n",
       "      <th>75%</th>\n",
       "      <td>17120.000000</td>\n",
       "      <td>1.000000</td>\n",
       "      <td>1.000000</td>\n",
       "      <td>3.000000</td>\n",
       "      <td>1.000000</td>\n",
       "      <td>43554.000000</td>\n",
       "      <td>47872.000000</td>\n",
       "      <td>7365.000000</td>\n",
       "      <td>0.999864</td>\n",
       "      <td>45942.000000</td>\n",
       "      <td>0.999978</td>\n",
       "    </tr>\n",
       "    <tr>\n",
       "      <th>max</th>\n",
       "      <td>21136.000000</td>\n",
       "      <td>110.000000</td>\n",
       "      <td>10.000000</td>\n",
       "      <td>111.000000</td>\n",
       "      <td>62308.000000</td>\n",
       "      <td>63662.000000</td>\n",
       "      <td>63829.000000</td>\n",
       "      <td>61747.000000</td>\n",
       "      <td>0.999984</td>\n",
       "      <td>63828.000000</td>\n",
       "      <td>0.999984</td>\n",
       "    </tr>\n",
       "  </tbody>\n",
       "</table>\n",
       "</div>"
      ],
      "text/plain": [
       "              level     in degree    out degree        degree         f_min  \\\n",
       "count  63829.000000  63829.000000  63829.000000  63829.000000  63829.000000   \n",
       "mean   11774.655439      1.248085      1.248085      2.496169   2122.979116   \n",
       "std     6198.793361      1.556817      0.436128      1.602244  10631.734068   \n",
       "min        0.000000      0.000000      0.000000      1.000000      1.000000   \n",
       "25%     7003.000000      1.000000      1.000000      2.000000      1.000000   \n",
       "50%    12695.000000      1.000000      1.000000      2.000000      1.000000   \n",
       "75%    17120.000000      1.000000      1.000000      3.000000      1.000000   \n",
       "max    21136.000000    110.000000     10.000000    111.000000  62308.000000   \n",
       "\n",
       "                min          post    |interval|  |interval|/post  \\\n",
       "count  63829.000000  63829.000000  63829.000000     63829.000000   \n",
       "mean   23913.162168  31915.000000   8001.837832         0.303827   \n",
       "std    21750.776061  18425.989503  15664.880755         0.458586   \n",
       "min        1.000000      1.000000      0.000000         0.000000   \n",
       "25%        1.000000  15958.000000      1.000000         0.000037   \n",
       "50%    21878.000000  31915.000000      7.000000         0.000282   \n",
       "75%    43554.000000  47872.000000   7365.000000         0.999864   \n",
       "max    63662.000000  63829.000000  61747.000000         0.999984   \n",
       "\n",
       "       |f_interval|  |f_interval|/post  \n",
       "count  63829.000000       63829.000000  \n",
       "mean   29792.020884           0.947877  \n",
       "std    18603.735072           0.212082  \n",
       "min        0.000000           0.000000  \n",
       "25%    13660.000000           0.999923  \n",
       "50%    29954.000000           0.999966  \n",
       "75%    45942.000000           0.999978  \n",
       "max    63828.000000           0.999984  "
      ]
     },
     "execution_count": null,
     "metadata": {},
     "output_type": "execute_result"
    }
   ],
   "source": [
    "graph_info_df.describe()"
   ]
  },
  {
   "cell_type": "code",
   "execution_count": null,
   "metadata": {},
   "outputs": [
    {
     "data": {
      "image/png": "[encoded data removed]",
      "text/plain": [
       "<Figure size 432x288 with 1 Axes>"
      ]
     },
     "metadata": {},
     "output_type": "display_data"
    },
    {
     "data": {
      "image/png": "[encoded data removed]",
      "text/plain": [
       "<Figure size 432x288 with 1 Axes>"
      ]
     },
     "metadata": {},
     "output_type": "display_data"
    },
    {
     "data": {
      "image/png": "[encoded data removed]",
      "text/plain": [
       "<Figure size 432x288 with 1 Axes>"
      ]
     },
     "metadata": {},
     "output_type": "display_data"
    },
    {
     "data": {
      "image/png": "[encoded data removed]",
      "text/plain": [
       "<Figure size 432x288 with 1 Axes>"
      ]
     },
     "metadata": {},
     "output_type": "display_data"
    }
   ],
   "source": [
    "graph_info_df.hist(column=['min'],bins=50,color='m')\n",
    "graph_info_df.hist(column=['min'],bins=50,log=True,color='m')\n",
    "graph_info_df.hist(column=['f_min'],bins=50,color='#800080')\n",
    "graph_info_df.hist(column=['f_min'],bins=50,log=True,color='#800080')\n",
    "plt.show()"
   ]
  },
  {
   "cell_type": "code",
   "execution_count": null,
   "metadata": {},
   "outputs": [
    {
     "data": {
      "image/png": "[encoded data removed]",
      "text/plain": [
       "<Figure size 432x288 with 1 Axes>"
      ]
     },
     "metadata": {},
     "output_type": "display_data"
    },
    {
     "data": {
      "image/png": "[encoded data removed]",
      "text/plain": [
       "<Figure size 432x288 with 1 Axes>"
      ]
     },
     "metadata": {},
     "output_type": "display_data"
    }
   ],
   "source": [
    "graph_info_df.hist(column=['|interval|'],bins=50,log=True)\n",
    "graph_info_df.hist(column=['|interval|/post'],bins=50,log=True)\n",
    "plt.show()"
   ]
  },
  {
   "cell_type": "code",
   "execution_count": null,
   "metadata": {},
   "outputs": [
    {
     "data": {
      "image/png": "[encoded data removed]",
      "text/plain": [
       "<Figure size 432x288 with 1 Axes>"
      ]
     },
     "metadata": {},
     "output_type": "display_data"
    }
   ],
   "source": [
    "graph_info_df['|interval|/post'].plot.kde(bw_method=0.05,ind=np.linspace(0,1,200))\n",
    "plt.title('kernel density estimator, bw=0.05, logscale')\n",
    "plt.xlabel('|interval|/post')\n",
    "plt.gca().set_yscale(\"log\", nonpositive='clip')\n",
    "plt.show()"
   ]
  },
  {
   "cell_type": "code",
   "execution_count": null,
   "metadata": {},
   "outputs": [
    {
     "data": {
      "image/png": "[encoded data removed]",
      "text/plain": [
       "<Figure size 432x288 with 1 Axes>"
      ]
     },
     "metadata": {},
     "output_type": "display_data"
    }
   ],
   "source": [
    "graph_info_df.hist(column=['|interval|/post'],bins=40,log=True)\n",
    "graph_info_df['|interval|/post'].plot.kde(ind=np.linspace(0,1,500),color='k')\n",
    "plt.title('histogram of relative size of the min-post tree interval\\n'+'kernel density estimator, logscale')\n",
    "plt.xlabel('|interval|/post')\n",
    "plt.gca().set_yscale(\"log\", nonpositive='clip')\n",
    "plt.show()"
   ]
  },
  {
   "cell_type": "code",
   "execution_count": null,
   "metadata": {},
   "outputs": [
    {
     "data": {
      "image/png": "[encoded data removed]",
      "text/plain": [
       "<Figure size 432x288 with 1 Axes>"
      ]
     },
     "metadata": {},
     "output_type": "display_data"
    },
    {
     "data": {
      "image/png": "[encoded data removed]",
      "text/plain": [
       "<Figure size 432x288 with 1 Axes>"
      ]
     },
     "metadata": {},
     "output_type": "display_data"
    },
    {
     "data": {
      "image/png": "[encoded data removed]",
      "text/plain": [
       "<Figure size 432x288 with 1 Axes>"
      ]
     },
     "metadata": {},
     "output_type": "display_data"
    }
   ],
   "source": [
    "graph_info_df.hist(column=['|f_interval|'],bins=50,color='g')\n",
    "graph_info_df.hist(column=['|f_interval|/post'],bins=50,color='c')\n",
    "graph_info_df.hist(column=['|f_interval|/post'],bins=50,log=True,color='c')\n",
    "plt.show()"
   ]
  },
  {
   "cell_type": "markdown",
   "metadata": {},
   "source": [
    "### Storing computed reachability labels and related stats"
   ]
  },
  {
   "cell_type": "code",
   "execution_count": null,
   "metadata": {},
   "outputs": [
    {
     "data": {
      "text/plain": [
       "'datasets/git-commit_graph.hdf5'"
      ]
     },
     "execution_count": null,
     "metadata": {},
     "output_type": "execute_result"
    }
   ],
   "source": [
    "from shutil import copyfile\n",
    "copyfile('datasets/git-commit_graph.df_edgelist.hdf5', 'datasets/git-commit_graph.hdf5')"
   ]
  },
  {
   "cell_type": "code",
   "execution_count": null,
   "metadata": {},
   "outputs": [
    {
     "name": "stdout",
     "output_type": "stream",
     "text": [
      "pickle.gz:  Wall time: 3.8 s\n",
      "csv.gz:     Wall time: 2.11 s\n",
      "hdf (full): Wall time: 316 ms\n",
      "hdf (appd): Wall time: 321 ms\n"
     ]
    }
   ],
   "source": [
    "print('pickle.gz: ', end=' ', flush=True)\n",
    "%time graph_info_df.to_pickle('datasets/git-commit_graph.info.pickle.gz')\n",
    "print('csv.gz:    ', end=' ', flush=True)\n",
    "%time graph_info_df.to_csv('datasets/git-commit_graph.info.csv.gz')\n",
    "print('hdf (full):', end=' ', flush=True)\n",
    "%time graph_info_df.to_hdf('datasets/git-commit_graph.info.hdf5', 'df', mode='w', complevel=6)\n",
    "print('hdf (appd):', end=' ', flush=True)\n",
    "%time graph_info_df.to_hdf('datasets/git-commit_graph.hdf5', 'df_info', mode='a', complevel=6)"
   ]
  },
  {
   "cell_type": "markdown",
   "metadata": {},
   "source": [
    "Saving to `pickle.gz` and `csv.gz` file format takes few seconds, saving to HDF file format takes less than 0.5s"
   ]
  },
  {
   "cell_type": "code",
   "execution_count": null,
   "metadata": {},
   "outputs": [],
   "source": [
    "# feather does not support non-numerical index, IIRC\n",
    "#%time graph_info_df.to_feather('datasets/git-commit_graph.info.feather')"
   ]
  },
  {
   "cell_type": "code",
   "execution_count": null,
   "metadata": {},
   "outputs": [
    {
     "name": "stdout",
     "output_type": "stream",
     "text": [
      "Wall time: 468 ms\n"
     ]
    }
   ],
   "source": [
    "%%time\n",
    "try:\n",
    "    graph_info_df.to_parquet('datasets/git-commit_graph.info.parquet')\n",
    "except ImportError:\n",
    "    print(\"Missing optional dependency 'pyarrow' required\")"
   ]
  },
  {
   "cell_type": "code",
   "execution_count": null,
   "metadata": {},
   "outputs": [
    {
     "data": {
      "text/plain": [
       "['git-commit_graph.info.csv.gz                       1785780',\n",
       " 'git-commit_graph.info.hdf5                         1382956',\n",
       " 'git-commit_graph.info.parquet                      3164039',\n",
       " 'git-commit_graph.info.pickle.gz                    1465333']"
      ]
     },
     "execution_count": null,
     "metadata": {},
     "output_type": "execute_result"
    }
   ],
   "source": [
    "[\"{name:<50} {size:>7}\".format(name=p.name,size=p.stat().st_size) for p in Path(\"datasets\").glob(\"*.info.*\")]"
   ]
  },
  {
   "cell_type": "code",
   "execution_count": null,
   "metadata": {},
   "outputs": [
    {
     "data": {
      "text/plain": [
       "['git-commit_graph.hdf5                              3803473']"
      ]
     },
     "execution_count": null,
     "metadata": {},
     "output_type": "execute_result"
    }
   ],
   "source": [
    "[\"{name:<50} {size:>7}\".format(name=p.name,size=p.stat().st_size) for p in Path(\"datasets\").glob(\"git-commit_graph.hdf5\")]"
   ]
  },
  {
   "cell_type": "markdown",
   "metadata": {},
   "source": [
    "Note that the sizes below are for `git log --all`, not current `git log --branches`, but the relative sizes should be similar"
   ]
  },
  {
   "cell_type": "code",
   "execution_count": null,
   "metadata": {},
   "outputs": [
    {
     "data": {
      "text/html": [
       "<div>\n",
       "<style scoped>\n",
       "    .dataframe tbody tr th:only-of-type {\n",
       "        vertical-align: middle;\n",
       "    }\n",
       "\n",
       "    .dataframe tbody tr th {\n",
       "        vertical-align: top;\n",
       "    }\n",
       "\n",
       "    .dataframe thead th {\n",
       "        text-align: right;\n",
       "    }\n",
       "</style>\n",
       "<table border=\"1\" class=\"dataframe\">\n",
       "  <thead>\n",
       "    <tr style=\"text-align: right;\">\n",
       "      <th></th>\n",
       "      <th>filename</th>\n",
       "      <th>size [bytes]</th>\n",
       "      <th>time [s]</th>\n",
       "    </tr>\n",
       "  </thead>\n",
       "  <tbody>\n",
       "    <tr>\n",
       "      <th>0</th>\n",
       "      <td>datasets/git-commit_graph.info.pickle.gz</td>\n",
       "      <td>2833650</td>\n",
       "      <td>6.800</td>\n",
       "    </tr>\n",
       "    <tr>\n",
       "      <th>1</th>\n",
       "      <td>datasets/git-commit_graph.info.csv.gz</td>\n",
       "      <td>3681511</td>\n",
       "      <td>5.260</td>\n",
       "    </tr>\n",
       "    <tr>\n",
       "      <th>2</th>\n",
       "      <td>datasets/git-commit_graph.info.parquet</td>\n",
       "      <td>6079159</td>\n",
       "      <td>0.345</td>\n",
       "    </tr>\n",
       "    <tr>\n",
       "      <th>3</th>\n",
       "      <td>datasets/git-commit_graph.info.hdf5</td>\n",
       "      <td>2735986</td>\n",
       "      <td>0.674</td>\n",
       "    </tr>\n",
       "    <tr>\n",
       "      <th>4</th>\n",
       "      <td>datasets/git-commit_graph.hdf5</td>\n",
       "      <td>6548777</td>\n",
       "      <td>0.672</td>\n",
       "    </tr>\n",
       "  </tbody>\n",
       "</table>\n",
       "</div>"
      ],
      "text/plain": [
       "                                   filename  size [bytes]  time [s]\n",
       "0  datasets/git-commit_graph.info.pickle.gz       2833650     6.800\n",
       "1     datasets/git-commit_graph.info.csv.gz       3681511     5.260\n",
       "2    datasets/git-commit_graph.info.parquet       6079159     0.345\n",
       "3       datasets/git-commit_graph.info.hdf5       2735986     0.674\n",
       "4            datasets/git-commit_graph.hdf5       6548777     0.672"
      ]
     },
     "execution_count": null,
     "metadata": {},
     "output_type": "execute_result"
    }
   ],
   "source": [
    "csv = u\"\"\"filename;size [bytes];time [s]\n",
    "datasets/git-commit_graph.info.pickle.gz;2833650;6.8\n",
    "datasets/git-commit_graph.info.csv.gz;3681511;5.26\n",
    "datasets/git-commit_graph.info.parquet;6079159;0.345 \n",
    "datasets/git-commit_graph.info.hdf5;2735986;0.674\n",
    "datasets/git-commit_graph.hdf5;6548777;0.672\n",
    "\"\"\"\n",
    "\n",
    "csv_stream = io.StringIO(csv)\n",
    "table_sizes_2=pd.read_csv(csv_stream,sep=';') # ,index_col=0\n",
    "table_sizes_2"
   ]
  },
  {
   "cell_type": "code",
   "execution_count": null,
   "metadata": {},
   "outputs": [
    {
     "data": {
      "text/html": [
       "<div>\n",
       "<style scoped>\n",
       "    .dataframe tbody tr th:only-of-type {\n",
       "        vertical-align: middle;\n",
       "    }\n",
       "\n",
       "    .dataframe tbody tr th {\n",
       "        vertical-align: top;\n",
       "    }\n",
       "\n",
       "    .dataframe thead th {\n",
       "        text-align: right;\n",
       "    }\n",
       "</style>\n",
       "<table border=\"1\" class=\"dataframe\">\n",
       "  <thead>\n",
       "    <tr style=\"text-align: right;\">\n",
       "      <th></th>\n",
       "      <th>filename</th>\n",
       "      <th>size [bytes]</th>\n",
       "      <th>time [s]</th>\n",
       "    </tr>\n",
       "  </thead>\n",
       "  <tbody>\n",
       "    <tr>\n",
       "      <th>3</th>\n",
       "      <td>datasets/git-commit_graph.info.hdf5</td>\n",
       "      <td>2735986</td>\n",
       "      <td>0.674</td>\n",
       "    </tr>\n",
       "    <tr>\n",
       "      <th>0</th>\n",
       "      <td>datasets/git-commit_graph.info.pickle.gz</td>\n",
       "      <td>2833650</td>\n",
       "      <td>6.800</td>\n",
       "    </tr>\n",
       "    <tr>\n",
       "      <th>1</th>\n",
       "      <td>datasets/git-commit_graph.info.csv.gz</td>\n",
       "      <td>3681511</td>\n",
       "      <td>5.260</td>\n",
       "    </tr>\n",
       "    <tr>\n",
       "      <th>2</th>\n",
       "      <td>datasets/git-commit_graph.info.parquet</td>\n",
       "      <td>6079159</td>\n",
       "      <td>0.345</td>\n",
       "    </tr>\n",
       "    <tr>\n",
       "      <th>4</th>\n",
       "      <td>datasets/git-commit_graph.hdf5</td>\n",
       "      <td>6548777</td>\n",
       "      <td>0.672</td>\n",
       "    </tr>\n",
       "  </tbody>\n",
       "</table>\n",
       "</div>"
      ],
      "text/plain": [
       "                                   filename  size [bytes]  time [s]\n",
       "3       datasets/git-commit_graph.info.hdf5       2735986     0.674\n",
       "0  datasets/git-commit_graph.info.pickle.gz       2833650     6.800\n",
       "1     datasets/git-commit_graph.info.csv.gz       3681511     5.260\n",
       "2    datasets/git-commit_graph.info.parquet       6079159     0.345\n",
       "4            datasets/git-commit_graph.hdf5       6548777     0.672"
      ]
     },
     "execution_count": null,
     "metadata": {},
     "output_type": "execute_result"
    }
   ],
   "source": [
    "table_sizes_2.sort_values(by='size [bytes]')"
   ]
  },
  {
   "cell_type": "code",
   "execution_count": null,
   "metadata": {},
   "outputs": [
    {
     "data": {
      "text/html": [
       "<div>\n",
       "<style scoped>\n",
       "    .dataframe tbody tr th:only-of-type {\n",
       "        vertical-align: middle;\n",
       "    }\n",
       "\n",
       "    .dataframe tbody tr th {\n",
       "        vertical-align: top;\n",
       "    }\n",
       "\n",
       "    .dataframe thead th {\n",
       "        text-align: right;\n",
       "    }\n",
       "</style>\n",
       "<table border=\"1\" class=\"dataframe\">\n",
       "  <thead>\n",
       "    <tr style=\"text-align: right;\">\n",
       "      <th></th>\n",
       "      <th>filename</th>\n",
       "      <th>size [bytes]</th>\n",
       "      <th>time [s]</th>\n",
       "    </tr>\n",
       "  </thead>\n",
       "  <tbody>\n",
       "    <tr>\n",
       "      <th>2</th>\n",
       "      <td>datasets/git-commit_graph.info.parquet</td>\n",
       "      <td>6079159</td>\n",
       "      <td>0.345</td>\n",
       "    </tr>\n",
       "    <tr>\n",
       "      <th>4</th>\n",
       "      <td>datasets/git-commit_graph.hdf5</td>\n",
       "      <td>6548777</td>\n",
       "      <td>0.672</td>\n",
       "    </tr>\n",
       "    <tr>\n",
       "      <th>3</th>\n",
       "      <td>datasets/git-commit_graph.info.hdf5</td>\n",
       "      <td>2735986</td>\n",
       "      <td>0.674</td>\n",
       "    </tr>\n",
       "    <tr>\n",
       "      <th>1</th>\n",
       "      <td>datasets/git-commit_graph.info.csv.gz</td>\n",
       "      <td>3681511</td>\n",
       "      <td>5.260</td>\n",
       "    </tr>\n",
       "    <tr>\n",
       "      <th>0</th>\n",
       "      <td>datasets/git-commit_graph.info.pickle.gz</td>\n",
       "      <td>2833650</td>\n",
       "      <td>6.800</td>\n",
       "    </tr>\n",
       "  </tbody>\n",
       "</table>\n",
       "</div>"
      ],
      "text/plain": [
       "                                   filename  size [bytes]  time [s]\n",
       "2    datasets/git-commit_graph.info.parquet       6079159     0.345\n",
       "4            datasets/git-commit_graph.hdf5       6548777     0.672\n",
       "3       datasets/git-commit_graph.info.hdf5       2735986     0.674\n",
       "1     datasets/git-commit_graph.info.csv.gz       3681511     5.260\n",
       "0  datasets/git-commit_graph.info.pickle.gz       2833650     6.800"
      ]
     },
     "execution_count": null,
     "metadata": {},
     "output_type": "execute_result"
    }
   ],
   "source": [
    "table_sizes_2.sort_values(by='time [s]')"
   ]
  },
  {
   "cell_type": "markdown",
   "metadata": {},
   "source": [
    "### Summary of findings"
   ]
  },
  {
   "cell_type": "markdown",
   "metadata": {},
   "source": [
    "Strangely,smallest files size this time is given when storing using the **_HDF5_** (with `compresslevel=6`) format, which is also 2nd fastest.\n",
    "\n",
    "Saving `DataFrame` using the **_Parquet_** format is fastest, but this time it gives the largest size of the file (except for `git-commit_graph.hdf5`, which stores both commit graph in edge list format, and per-node information)\n",
    "\n",
    "Saving as **\\*.pickle.gz** or **\\*.csv.gz** is slowest and second slowest, while both being in the middlle with respect to file sizes (the pickle-based format gives smaller file size)."
   ]
  }
 ],
 "metadata": {
  "kernelspec": {
   "display_name": "python3",
   "language": "python",
   "name": "python3"
  }
 },
 "nbformat": 4,
 "nbformat_minor": 4
}
