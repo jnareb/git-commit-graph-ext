{
 "cells": [
  {
   "cell_type": "markdown",
   "metadata": {},
   "source": [
    "# Graphs in Python"
   ]
  },
  {
   "cell_type": "markdown",
   "metadata": {},
   "source": [
    "This notebooks describes various tools that can be used to work with graphs in Python.\n",
    "\n",
    "The [Network Chart - The Python Graph Gallery](https://python-graph-gallery.com/network-chart/)\n",
    "uses mainly [NetworkX](https://networkx.github.io/documentation/stable/index.html) library\n",
    "for showing examples of [network diagrams / charts](https://www.data-to-viz.com/graph/network.html) (or graphs),\n",
    "but also mentions [Graph Tool](https://graph-tool.skewed.de/) library\n",
    "for consideration, especially concerning high dimension networks."
   ]
  },
  {
   "cell_type": "markdown",
   "metadata": {},
   "source": [
    "**List of considered libraries**\n",
    "\n",
    "- [**NetworkX**](https://networkx.org/documentation/stable/index.html)\n",
    "(and [cuGraph](https://github.com/rapidsai/cugraph) from [RAPIDS](https://rapids.ai/))\n",
    "- [Graph Tool](https://graph-tool.skewed.de/)\n",
    "- [Snap.py](http://snap.stanford.edu/snappy/index.html) interface to [SNAP](http://snap.stanford.edu/snap/) (Stanford Network Analysis Platform)\n",
    "- [NetworKit](https://networkit.github.io/)"
   ]
  },
  {
   "cell_type": "markdown",
   "metadata": {},
   "source": [
    "## Python graph libraries"
   ]
  },
  {
   "cell_type": "markdown",
   "metadata": {},
   "source": [
    "![networkx-logo](https://networkx.org/_static/networkx_logo.svg)\n",
    "\n",
    "- [NetworkX library](https://networkx.org/documentation/stable/index.html) -- data structures for graphs (or networks) along with graph algorithms, generators, and drawing tools\n",
    "  - Data structures for graphs, digraphs, and multigraphs\n",
    "  - Many standard graph algorithms\n",
    "  - Network structure and analysis measures\n",
    "  - Nodes can be \"anything\" (e.g., text, images, XML records),  \n",
    "    Edges can hold arbitrary data (e.g., weights, time-series)\n",
    "\n",
    "  \n",
    "- [cuGraph](https://github.com/rapidsai/cugraph) - GPU Graph Analytics\n",
    "  - [RAPIDS](https://rapids.ai/) Graph Analytics Library\n",
    "  - Process data found in [GPU DataFrames (cuDF)](https://github.com/rapidsai/cudf), with the Pandas-like API\n",
    "  - NetworkX-like API to allow existing code to be ported with minimal effort into RAPIDS\n",
    "  - _current limitations:_ Vertex IDs are expected to be contiguous integers starting from 0 (renumbering can be done automatically)  \n",
    "    the renumbered vertex IDs need to be representable in 32-bit integers"
   ]
  },
  {
   "cell_type": "markdown",
   "metadata": {},
   "source": [
    "![graph-tool-logo](https://graph-tool.skewed.de/static/img/graph-tool-logo.svg)**graph-tool**\n",
    "\n",
    "- [Graph Tool library](https://graph-tool.skewed.de/) -- the core data structures and algorithms are implemented in C++\n",
    "  - Based heavily on the [Boost Graph C++ Library](https://www.boost.org/doc/libs/release/libs/graph)\n",
    "  - Many algorithms are implemented in parallel using OpenMP\n",
    "  - Support for arbitrary vertex, edge or graph properties\n",
    "  - An extensive array of features is included, such as graph statistics, centrality measures, standard topological algorithms\n",
    "  - Graph-tool has its own layout algorithms and versatile, interactive drawing routines based on cairo and GTK+, but it can also work as a very comfortable interface to the excellent [graphviz](https://www.graphviz.org/) package\n",
    "\n",
    "Drawing in Jupyter Notebooks described e.g. in https://gist.github.com/jg-you/2ce69ffccf6f3ed17c09e5d7b2695f1c"
   ]
  },
  {
   "cell_type": "markdown",
   "metadata": {},
   "source": [
    "![snap-logo](http://snap.stanford.edu/images/snap_logo.png)\n",
    "\n",
    "- [Snap.py](http://snap.stanford.edu/snappy/index.html) is a Python interface for SNAP (Stanford Network Analysis Platform)\n",
    "  - [SNAP](http://snap.stanford.edu/snap/) is a general purpose, high performance system in C++ for analysis and manipulation of large networks\n",
    "  - Most of the SNAP functionality is available via Snap.py in Python\n",
    "  - It efficiently manipulates large graphs, calculates structural properties, generates regular and random graphs, and supports attributes on nodes and edges\n",
    "  - Nodes, edges and attributes in a graph or a network can be changed dynamically during the computation"
   ]
  },
  {
   "cell_type": "markdown",
   "metadata": {},
   "source": [
    "<img style=\"background-color: black;\" src=\"https://networkit.github.io/_static/logo_bw_inv.png\" alt=\"networkit-logo\" width=\"30%\"/>\n",
    "\n",
    "- [NetworKit](https://networkit.github.io/) is a growing [open-source toolkit](https://github.com/kit-parco/networkit) for large-scale network analysis.\n",
    "  - High-performance algorithms are written in C++ and exposed to Python via the Cython toolchain\n",
    "  - Documented in [NetworKit UserGuide](https://github.com/kit-parco/networkit/blob/Dev/notebooks/User-Guide.ipynb) notebook\n",
    "  - Seamless integration with Python libraries for scientific computing and data analysis, e.g.\n",
    "    - pandas for data framework processing and analytics,\n",
    "    - matplotlib for plotting,\n",
    "    - networkx for additional network analysis tasks, or\n",
    "    - numpy and scipy for numerical and scientific computing"
   ]
  },
  {
   "cell_type": "markdown",
   "metadata": {},
   "source": [
    "<!-- ![igraph-logo](https://igraph.org/img/igraph_logo_black.svg) -->\n",
    "<img src=\"https://igraph.org/img/igraph_logo_black.svg\" width=\"20%\" />\n",
    "\n",
    "- [iGraph](https://igraph.org/) is a collection of network analysis tools with the emphasis on **efficiency**, **portability** and ease of use.\n",
    "  - [open source](https://github.com/igraph) and free\n",
    "  - the source code of igraph packages is written in C\n",
    "  - can be programmed in \n",
    "    [Python](https://igraph.org/python),\n",
    "    [R](https://igraph.org/r),\n",
    "    [Mathematica](http://szhorvat.net/mathematica/IGraphM),\n",
    "    and [C/C++](https://igraph.org/c)\n",
    "  - python-igraph documentation:\n",
    "    [User's Manual with Tutorial](https://igraph.org/python/doc/tutorial/),\n",
    "    [API reference](https://igraph.org/python/doc/api/index.html)\n",
    "    - supports inline plots within a Jupyter notebook via both the Cairo and matplotlib backend\n",
    "    - you can generate graph from edges stored in a _pandas.DataFrame_\n",
    "  - capable of handling large networks efficiently\n",
    "  - interactive and non-interactive usage are both supported"
   ]
  },
  {
   "cell_type": "markdown",
   "metadata": {},
   "source": [
    "- [python-graph](https://github.com/Shoobx/python-graph) -- A library for working with graphs in Python\n",
    "  - no documentation (?)"
   ]
  },
  {
   "cell_type": "markdown",
   "metadata": {},
   "source": [
    "## Examples"
   ]
  },
  {
   "cell_type": "markdown",
   "metadata": {},
   "source": [
    "First, we need to import appropriate libraries"
   ]
  },
  {
   "cell_type": "code",
   "execution_count": null,
   "metadata": {},
   "outputs": [],
   "source": [
    "#@title Imports for graphs (NetworkX and matplotlib)\n",
    "import networkx as nx\n",
    "#import matplotlib.pyplot as plt"
   ]
  },
  {
   "cell_type": "markdown",
   "metadata": {},
   "source": [
    "Let's create crown DAG (Directed Acyclic Graph), know as $S_3^0$ graph:"
   ]
  },
  {
   "cell_type": "code",
   "execution_count": null,
   "metadata": {},
   "outputs": [],
   "source": [
    "#@title Create a crown DAG known as $S_3^0$ graph\n",
    "DG=nx.DiGraph()\n",
    "DG.add_nodes_from([1,2,3,4,'u','v'])\n",
    "DG.add_edges_from([(1,2),(3,4),(1,'v'),(3,'v'),('u',2),('u',4)])"
   ]
  },
  {
   "cell_type": "markdown",
   "metadata": {},
   "source": [
    "Draw the $S_3^0$ graph using \\[automatic\\] shell layout,  \n",
    "using `draw_shell` from networkx"
   ]
  },
  {
   "cell_type": "code",
   "execution_count": null,
   "metadata": {},
   "outputs": [
    {
     "data": {
      "image/png": "[encoded data removed]",
      "text/plain": [
       "<Figure size 432x288 with 1 Axes>"
      ]
     },
     "metadata": {},
     "output_type": "display_data"
    }
   ],
   "source": [
    "#@title Draw the $S_3^0$ graph using [automatic] shell layout\n",
    "nx.draw_shell(DG,with_labels=True,node_size=500,width=2.0)"
   ]
  },
  {
   "cell_type": "markdown",
   "metadata": {},
   "source": [
    "See https://networkx.github.io/documentation/stable/auto_examples/index.html for more examples"
   ]
  }
 ],
 "metadata": {
  "kernelspec": {
   "display_name": "Python 3",
   "language": "python",
   "name": "python3"
  }
 },
 "nbformat": 4,
 "nbformat_minor": 4
}
