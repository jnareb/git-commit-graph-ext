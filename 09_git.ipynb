{
 "cells": [
  {
   "cell_type": "code",
   "execution_count": null,
   "metadata": {},
   "outputs": [],
   "source": [
    "#default_exp commit_graph"
   ]
  },
  {
   "cell_type": "code",
   "execution_count": null,
   "metadata": {},
   "outputs": [],
   "source": [
    "#hide_output\n",
    "%load_ext autoreload\n",
    "%autoreload 2"
   ]
  },
  {
   "cell_type": "markdown",
   "metadata": {},
   "source": [
    "# Extracting commit graphs from Git repositories\n",
    "> Interacting with Git repositories in Python, extracting commit history from them, and turning it into NetworkX DiGraph"
   ]
  },
  {
   "cell_type": "markdown",
   "metadata": {},
   "source": [
    "Imports for the `commit_graph` module"
   ]
  },
  {
   "cell_type": "code",
   "execution_count": null,
   "metadata": {},
   "outputs": [],
   "source": [
    "#export\n",
    "# creating graphs in Python\n",
    "import networkx as nx\n",
    "# calling git commands\n",
    "import subprocess\n",
    "# checking for existence of paths, and manipulating paths\n",
    "from pathlib import Path\n",
    "# data analysis and manipulation\n",
    "import pandas as pd\n",
    "# reachability labels\n",
    "from git_commit_graph_ext.labelling.levels import find_levels\n",
    "from git_commit_graph_ext.labelling.dfs_intervals import find_dfs_intervals, find_dfs_intervals_extra"
   ]
  },
  {
   "cell_type": "markdown",
   "metadata": {},
   "source": [
    "Imports for plotting"
   ]
  },
  {
   "cell_type": "code",
   "execution_count": null,
   "metadata": {},
   "outputs": [],
   "source": [
    "%matplotlib inline\n",
    "import matplotlib.pyplot as plt"
   ]
  },
  {
   "cell_type": "markdown",
   "metadata": {},
   "source": [
    "## Interacting with Git repositories in Python"
   ]
  },
  {
   "cell_type": "markdown",
   "metadata": {},
   "source": [
    "There are various ways of interacting with Git repositories from Python code:\n",
    "\n",
    "- shelling out and running `git` directly (for example using `import subprocess`)\n",
    "- using [GitPython][] (`import git`)\n",
    "- using [pygit2][] (`import pygit2`) - Python bindings to libgit2 library\n",
    "\n",
    "[GitPython]: https://gitpython.readthedocs.io/\n",
    "[pygit2]: https://www.pygit2.org/"
   ]
  },
  {
   "cell_type": "markdown",
   "metadata": {},
   "source": [
    "**GitPython** is a python library used to interact with git repositories, high-level like git-porcelain, or low-level like git-plumbing.\n",
    "\n",
    "It provides abstractions of git objects for easy access of repository data, and additionally allows you to access the git repository more directly using either a pure python implementation, or the faster, but more resource intensive git command implementation.\n",
    "\n",
    "The object database implementation is optimized for handling large quantities of objects and large datasets, which is achieved by using low-level structures and data streaming. \n",
    "\n",
    "<u>_NOTE:_</u> Promisory objects (in sparse clone, `--filter=tree:0`) might be not supported.\n",
    "\n",
    "```python\n",
    "import git\n",
    "\n",
    "repo = git.Repo.clone_from(url, path, ['--mirror', '--filter=tree:0'])\n",
    "repo = git.Repo(path) # just open the repository\n",
    "```"
   ]
  },
  {
   "cell_type": "markdown",
   "metadata": {},
   "source": [
    "**Pygit2** is a set of Python bindings to the libgit2 shared library, libgit2 implements the core of Git.\n",
    "\n",
    "<u>_NOTE:_</u> It is quite low level, and not everything is implemented yet (especially new features).\n",
    "\n",
    "```python\n",
    "import pygit2\n",
    "\n",
    "pygit2.clone_repository(url, path, bare=True) # no support for filters?\n",
    "repo = pygit2.Repository(path)\n",
    "```"
   ]
  },
  {
   "cell_type": "markdown",
   "metadata": {},
   "source": [
    "The **subprocess** module in the Python standard library allows you to spawn new processes, connect to their input/output/error pipes, and obtain their return codes.\n",
    "\n",
    "The recommended approach to invoking subprocesses is to use the `run()` function for all use cases it can handle.\n",
    "\n",
    "```python\n",
    "import subprocess\n",
    "\n",
    "subprocess.run(['git', 'clone', '--mirror', '--filter=tree:0', '--quiet', url, path])\n",
    "```"
   ]
  },
  {
   "cell_type": "markdown",
   "metadata": {},
   "source": [
    "## Cloning git.git repository, and extracting and saving the commit graph"
   ]
  },
  {
   "cell_type": "markdown",
   "metadata": {},
   "source": [
    "> Note: The exploration was moved to the Appendix for this notebook: [`A.09_git_explore.ipynb`](A.09_git_explore.ipynb)"
   ]
  },
  {
   "cell_type": "markdown",
   "metadata": {},
   "source": [
    "### Summary of off-the-record findings about cloning repositories"
   ]
  },
  {
   "cell_type": "markdown",
   "metadata": {},
   "source": [
    "Why it is important to use sparse clone - it is much faster, and takes up less space.  For example for git.git repository we have the following (all times are wall time, and subject to interference from other CPU load):\n",
    "- full clone: 54s\n",
    "- mirror: 1min 19s\n",
    "- sparse: 14.9s - 19.4s"
   ]
  },
  {
   "cell_type": "markdown",
   "metadata": {},
   "source": [
    "### Summary of findings of testing different graph output formats (saving graph to a file)"
   ]
  },
  {
   "cell_type": "markdown",
   "metadata": {},
   "source": [
    "<u>Storing DataFrame of edgelist data</u>\n",
    "\n",
    "The DataFrame is created using `nx.to_pandas_edgelist(graph)`"
   ]
  },
  {
   "cell_type": "markdown",
   "metadata": {},
   "source": [
    "The smallest file is the result of storing DataFrame of edgelist data as gzipped pickle (written using Pandas' `to_pickle()`) - the **\\*.df_edgelist.pickle.gz** file.\n",
    "\n",
    "- Advantages:\n",
    "  - 2nd smallest size\n",
    "  - no extra modules to install\n",
    "  - preserves types\n",
    "- Disadvantages:\n",
    "  - Python-specific\n",
    "  - unsafe\n",
    "  - slow (?)"
   ]
  },
  {
   "cell_type": "markdown",
   "metadata": {},
   "source": [
    "Next smallest is, surprisingly, gzipped CSV representing DataFrame of edgelist data (written using Pandas' `to_csv()`) - the **\\*.df_edgelist.csv.gz** file.\n",
    "\n",
    "- Advantages:\n",
    "  - 3rd smallest size\n",
    "  - no extra modules to install\n",
    "  - universal format\n",
    "- Disadvantages:\n",
    "  - slow (?)"
   ]
  },
  {
   "cell_type": "markdown",
   "metadata": {},
   "source": [
    "The fast interchange formats, [Feather](https://github.com/wesm/feather) and [Parquet](https://parquet.apache.org/) turned out to produce quite large files; they are however 4th smallest and 2nd smallest, respectively, among uncompressed formats.\n",
    "\n",
    "**_Feather_** provides a binary columnar serialization for data frames. It is designed to make reading and writing data frames efficient, and to make sharing data across data analysis languages easy.\n",
    "\n",
    "Feather is designed to faithfully serialize and de-serialize `DataFrame`s, supporting all of the pandas dtypes, including extension dtypes such as categorical and datetime with tz.\n",
    "\n",
    "**_Apache Parquet_** provides a _partitioned_ binary columnar serialization for data frames. It is designed to make reading and writing data frames efficient, and to make sharing data across data analysis languages easy. Parquet can use a variety of compression techniques (default is to use 'snappy') to shrink the file size as much as possible while still maintaining good read performance.\n",
    "\n",
    "Parquet is designed to faithfully serialize and de-serialize `DataFrame`s, supporting all of the pandas dtypes, including extension dtypes such as datetime with tz.\n",
    "\n",
    "- Advantages:\n",
    "  - universal, cross language\n",
    "  - preserves types\n",
    "  - fast\n",
    "- Disadvantages:\n",
    "  - requires `pyarrow` package to be installed\n",
    "  - quite large file size"
   ]
  },
  {
   "cell_type": "markdown",
   "metadata": {},
   "source": [
    "The **_HDF5_** format has the advantage of being able to store multiple `DataFrame`s in a single file, for example one `DataFrame` to hold edgelist data to define the graph connections, and one `DataFrame` holding various per vertex (per node) rechablity index data.  Unfortunately, even internally compressed it has one of larger file sizes (and largest compressed).\n",
    "\n",
    "[Hierarchical Data Format (HDF)](https://portal.hdfgroup.org/display/HDF5/HDF5) is self-describing, allowing an application to interpret the structure and contents of a file with no outside information. One HDF file can hold a mix of related objects which can be accessed as a group or as individual objects.\n",
    "\n",
    "The `to_hdf()` method in Pandas uses the `HDFStore` in the background, which in turn utilizes the [PyTables](https://www.pytables.org/) library.\n",
    "\n",
    "- Advantages:\n",
    "  - universal, cross language\n",
    "  - preserves types\n",
    "  - can store multiple `DataFrame`s\n",
    "- Disadvantages:\n",
    "  - large file size\n",
    "  - requires `tables` package to be installed (PyTables)\n",
    "  - slow (?)\n",
    "  - unsafe (because of serializing object-dtype data with pickle)"
   ]
  },
  {
   "cell_type": "markdown",
   "metadata": {},
   "source": [
    "----\n",
    "<u>Storing NetworkX DiGraph directly</u>"
   ]
  },
  {
   "cell_type": "markdown",
   "metadata": {},
   "source": [
    "It turns out that the [graph6 / sparse6 format](https://networkx.org/documentation/stable/reference/readwrite/sparsegraph6.html)\n",
    "is not a good choice for storing the commit graph for the following reasons:\n",
    "- NetworkX does not support digraph6 format; neither `write_graph6` not `write_sparse6` are implemented for directed graphs\n",
    "- the [digraph6 format](http://users.cecs.anu.edu.au/~bdm/data/formats.txt) is dense graph format, storing the encoded adjacency matrix; there is no disparse6 or digraph6sparse format\n",
    "- SparseGraph6 formats do not store node/vertex names, which might be needed for future computations or visualizations"
   ]
  },
  {
   "cell_type": "markdown",
   "metadata": {},
   "source": [
    "Except for the adjacency lists format (**\\*.adjlist.txt**), which cannot store any additional data (not even per-edge), the multi-line adjacency lists (**\\*.multiline_adjlist.txt**) and edge lists (**\\*.edgelist.txt**) formats have file sizes larger than the Parquet storing `DataFrame` of edge lists.  Note however that they are uncompressed.\n",
    "\n",
    "The adjacency list format can be created directly by appropriate Git command.\n",
    "\n",
    "Because those formats cannot store per-node data, they are not considered for use."
   ]
  },
  {
   "cell_type": "markdown",
   "metadata": {},
   "source": [
    "Among specialized graph file formats, which I assume can store both per-node and per-edge data, **_Pajek_** format is smallest (compressed), and 4th smallest among all considered storage formats.  It is also smallest uncompressed among similar file formats."
   ]
  },
  {
   "cell_type": "markdown",
   "metadata": {},
   "source": [
    "Writing NetworkX graphs as Python pickles using `write_gpickle()` (\\***.gpickle.gz**) results in quite large file compressed, one of the largest files uncompressed.\n",
    "\n",
    "On the other hand NetworkX graphs can contain any hashable Python object as node (not just integers and strings). For arbitrary data types it may be difficult to represent the data as text. In that case using Python pickles to store the graph data can be used."
   ]
  },
  {
   "cell_type": "markdown",
   "metadata": {},
   "source": [
    "## Examining computing and storing reachability labels and other per-node data"
   ]
  },
  {
   "cell_type": "markdown",
   "metadata": {},
   "source": [
    "> Note: The exploration was moved to the Appendix for this notebook: [`A.09_git_explore.ipynb`](A.09_git_explore.ipynb)"
   ]
  },
  {
   "cell_type": "code",
   "execution_count": null,
   "metadata": {},
   "outputs": [],
   "source": [
    "from git_commit_graph_ext.labelling.levels import *\n",
    "from git_commit_graph_ext.labelling.dfs_intervals import *"
   ]
  },
  {
   "cell_type": "code",
   "execution_count": null,
   "metadata": {},
   "outputs": [],
   "source": [
    "import numpy as np"
   ]
  },
  {
   "cell_type": "markdown",
   "metadata": {},
   "source": [
    "### Summary of findings of storing computed reachability labels and related stats"
   ]
  },
  {
   "cell_type": "markdown",
   "metadata": {},
   "source": [
    "Strangely,smallest files size this time is given when storing using the **_HDF5_** (with `compresslevel=6`) format, which is also 2nd fastest.\n",
    "\n",
    "Saving `DataFrame` using the **_Parquet_** format is fastest, but this time it gives the largest size of the file\n",
    "\n",
    "Saving as **\\*.pickle.gz** or **\\*.csv.gz** is slowest and second slowest, while both being in the middlle with respect to file sizes (the pickle-based format gives smaller file size)."
   ]
  },
  {
   "cell_type": "markdown",
   "metadata": {},
   "source": [
    "## Functions for creating the commit-graph out of repository, computing labelling, etc"
   ]
  },
  {
   "cell_type": "markdown",
   "metadata": {},
   "source": [
    "Those directories would be needed for tests:\n",
    "- `repos` for storing cloned Git repositories\n",
    "- `datasets` for storing extracted commit graphs, and other data"
   ]
  },
  {
   "cell_type": "code",
   "execution_count": null,
   "metadata": {},
   "outputs": [],
   "source": [
    "Path(\"repos\").mkdir(exist_ok=True)\n",
    "Path(\"datasets\").mkdir(exist_ok=True)"
   ]
  },
  {
   "cell_type": "markdown",
   "metadata": {},
   "source": [
    "### Functions for cloning the repository"
   ]
  },
  {
   "cell_type": "markdown",
   "metadata": {},
   "source": [
    "Because the repository is needed only to extract the commit graph from it, therefore to save time and disk space sparse clone will be used.\n",
    "\n",
    "This strongly suggests using the Git command line."
   ]
  },
  {
   "cell_type": "code",
   "execution_count": null,
   "metadata": {},
   "outputs": [],
   "source": [
    "#export\n",
    "def sparse_clone(url, repo_name=None, repos_dir=\"repos\"):\n",
    "    \"\"\"Clone Git repository by URL using sparse/partial clone\n",
    "\n",
    "    The \"Sparse Clone\" or the \"Partial Clone\" feature is a performance\n",
    "    optimization for Git that allows Git to function without having\n",
    "    a complete copy of the repository.  The goal of this feature is to allow\n",
    "    Git better handle extremely large repositories, or in this case store\n",
    "    the repository using less disk space.\n",
    "\n",
    "    To retrieve the commit graph out of the git repository only commit\n",
    "    objects are needed, so all tree and blob objects can be omitted from the\n",
    "    clone.\n",
    "\n",
    "    Using sparse clone is much more efficient: the process is faster, and\n",
    "    the resulting repository takes much less disk space than full clone.\n",
    "\n",
    "    NOTE: Use of partial clone requires that the user be online and the origin\n",
    "    remote or other promisor remotes be available for on-demand fetching\n",
    "    of missing objects, unless the user can stay within the pre-selected\n",
    "    subset of objects.\n",
    "\n",
    "    see: https://git-scm.com/docs/git-clone\n",
    "    see: https://git-scm.com/docs/git-rev-list#Documentation/git-rev-list.txt---filterltfilter-specgt\n",
    "    see: https://github.com/git/git/blob/master/Documentation/technical/partial-clone.txt\n",
    "\n",
    "    Parameters\n",
    "    ----------\n",
    "    url : str\n",
    "        The repository to be cloned, in most cases it would be public URL\n",
    "        that can be used to clone the remote repository.\n",
    "\n",
    "    repo_name: str\n",
    "        The name of a new directory to clone into. The \"humanish\" part of\n",
    "        the source repository (of the `url` parameter) is used if no directory\n",
    "        is explicitly given (`repo` for `/path/to/repo.git` and `foo` for\n",
    "        `host.xz:foo/.git`).  Cloning into an existing directory is only\n",
    "        allowed if the directory is empty.\n",
    "\n",
    "    repos_dir : str\n",
    "        The directory where to put cloned repository into.\n",
    "        By default \"repos\" is used.\n",
    "    \"\"\"\n",
    "    cmd = ['git']\n",
    "    if repos_dir:\n",
    "        cmd.extend(['-C', repos_dir])\n",
    "    cmd.extend(['clone', '--mirror', '--filter=tree:0', '--quiet', url])\n",
    "    if repo_name:\n",
    "        cmd.append(repo_name)\n",
    "    subprocess.run(cmd)"
   ]
  },
  {
   "cell_type": "markdown",
   "metadata": {},
   "source": [
    "Let's **test** **`sparse_clone()`**, for example using quite small and archived [`https://github.com/githubtraining/hellogitworld`](https://github.com/githubtraining/hellogitworld) \"Hello Git World\" sample training repository."
   ]
  },
  {
   "cell_type": "code",
   "execution_count": null,
   "metadata": {},
   "outputs": [
    {
     "name": "stdout",
     "output_type": "stream",
     "text": [
      "ok - repository exists as directory after cloning\n",
      "ok - and it looks like a git repository\n",
      "ok - cloned repository has correct url\n"
     ]
    }
   ],
   "source": [
    "# remove the test repository, if exists\n",
    "from shutil import rmtree\n",
    "\n",
    "repo_url=\"https://github.com/githubtraining/hellogitworld\"\n",
    "repo_path=\"repos/hellogitworld.git\"\n",
    "#rmtree(repo_path, ignore_errors=True)\n",
    "\n",
    "# clone the repository\n",
    "sparse_clone(repo_url, repo_name=repo_path, repos_dir=None)\n",
    "\n",
    "# the directory should exist, and be a directory\n",
    "assert Path(repo_path).is_dir()\n",
    "print('ok - repository exists as directory after cloning')\n",
    "# it should look like a git repository\n",
    "assert (Path(repo_path) / \"HEAD\").is_file()\n",
    "assert (Path(repo_path) / \"objects\").is_dir()\n",
    "print('ok - and it looks like a git repository')\n",
    "\n",
    "#!git -C repos/hellogitworld.git config --get remote.origin.url\n",
    "#!git -C repos/hellogitworld.git remote show -n origin\n",
    "\n",
    "# NOTE: `capture_output` was added in Python 3.7, GitHub CI runs Python 3.6\n",
    "assert subprocess.run(['git', '-C', repo_path, 'config', '--get', 'remote.origin.url'],\n",
    "                      stdout=subprocess.PIPE).stdout.decode(\"utf-8\").strip() == repo_url\n",
    "print('ok - cloned repository has correct url')\n",
    "\n",
    "# attempt cleanup after the test, which may not work on MS Windows\n",
    "#rmtree(repo_path, ignore_errors=True)"
   ]
  },
  {
   "cell_type": "markdown",
   "metadata": {},
   "source": [
    "If repository exists, there is no need to clone it"
   ]
  },
  {
   "cell_type": "code",
   "execution_count": null,
   "metadata": {},
   "outputs": [],
   "source": [
    "#export\n",
    "def get_repo(url, repo_path, refresh=False):\n",
    "    \"\"\"Clone Git repository into given path, if needed\n",
    "\n",
    "    If the path given by `repo_path` does not exist, or `refresh` is true,\n",
    "    clone Git repository at `url` for later extraction of the commit graph.\n",
    "\n",
    "    see: `sparse_clone()`\n",
    "\n",
    "    Parameters\n",
    "    ----------\n",
    "    url : str\n",
    "        The repository to be cloned, in most cases it would be public URL\n",
    "        that can be used to clone the remote repository.\n",
    "\n",
    "    repo_path: str\n",
    "        The pathname under which one can find resulting Git repository.\n",
    "\n",
    "    refresh: bool\n",
    "        Whether to re-clone the repository if `repo_path` path exists.\n",
    "        Default is false, to not perform a clone if not needed.\n",
    "    \"\"\"\n",
    "    if refresh or not Path(repo_path).exists():\n",
    "        sparse_clone(url, repo_name=repo_path, repos_dir=\"\")"
   ]
  },
  {
   "cell_type": "markdown",
   "metadata": {},
   "source": [
    "### Functions for extracting the commit graph out of git repository"
   ]
  },
  {
   "cell_type": "markdown",
   "metadata": {},
   "source": [
    "Using Git commands, we can easily create text file that store commit-graph information in the adjacency list format, from which it is easy to create a NetworkX graph (`DiGraph`).  Shortened object identifiers (shortened SHA-1) will be used to identify commits which are nodes / vertices of the commit graph."
   ]
  },
  {
   "cell_type": "code",
   "execution_count": null,
   "metadata": {},
   "outputs": [],
   "source": [
    "#export\n",
    "def _repo_path_to_out_path(repo_path, out_dir=\"datasets\"):\n",
    "    \"\"\"Create filename for storing adjacency list out of repository path\n",
    "\n",
    "    This is a helper function used, among others, in `repo_generate_adjlist()`\n",
    "    and `repo_adjlist_to_graph()`.\n",
    "\n",
    "    Parameters\n",
    "    ----------\n",
    "    repo_path : str\n",
    "        Path to the Git repository\n",
    "\n",
    "    out_dir : str\n",
    "        Directory where extracted commit graph data would be stored.\n",
    "        Defaults to \"datasets\".\n",
    "\n",
    "    Returns\n",
    "    -------\n",
    "    Path\n",
    "        Path to the file storing the commit graph in the adjacency list\n",
    "        file format.\n",
    "\n",
    "        see: https://networkx.org/documentation/stable/reference/readwrite/adjlist.html\n",
    "    \"\"\"\n",
    "    # The `out_dir` should not be None\n",
    "    if out_dir is None:\n",
    "        out_dir = \".\"\n",
    "    # generate the name of the output file, as `pathlib.Path` object\n",
    "    # removing the '*.git' extension / suffix from `repo_path`, if needed\n",
    "    out_pathname = Path(out_dir) / (Path(repo_path).stem + \"-commit_graph.adjlist.txt\")\n",
    "\n",
    "    return out_pathname\n",
    "\n",
    "\n",
    "def repo_generate_adjlist(repo_path, out_dir=\"datasets\", refresh=False):\n",
    "    \"\"\"Generate graph of revisions in the adjacency list format\n",
    "\n",
    "    Can be read with `nx.read_adjlist()`; don't forget to ensure that\n",
    "    NetworkX generates _directed_ graph.\n",
    "\n",
    "    >>>> path = repo_generate_adjlist(\"repos/git.git\")\n",
    "    >>>> graph = nx.read_adjlist(path, create_using=nx.DiGraph)\n",
    "\n",
    "    By default it does not recreate the file if it exists already,\n",
    "    unless `refresh=True` argument is passed.\n",
    "\n",
    "    Format\n",
    "    ------\n",
    "    The adjacency list format consists of lines with node labels.  The first\n",
    "    label in a line is the source node. Further labels in the line are\n",
    "    considered target nodes and are added to the graph along with an edge\n",
    "    between the source node and target node.\n",
    "\n",
    "    The graph with edges a-b, a-c, d-e can be represented as the following\n",
    "    adjacency list (anything following the # in a line is a comment):\n",
    "\n",
    "    > a b c # source target target\n",
    "    > d e\n",
    "\n",
    "    see: https://networkx.org/documentation/stable/reference/readwrite/adjlist.html\n",
    "\n",
    "    Parameters\n",
    "    ----------\n",
    "    repo_path : str\n",
    "        Path to the Git repository\n",
    "\n",
    "    out_dir : str\n",
    "        Directory where extracted commit graph data would be stored.\n",
    "        Defaults to \"datasets\".\n",
    "\n",
    "    refresh : bool\n",
    "        Whether to regenerate the file with the commit graph in adjacency\n",
    "        format if it exists.  Defaults to false.\n",
    "\n",
    "    Returns\n",
    "    -------\n",
    "    Path\n",
    "        Path where the commit graph in the adjacency file format\n",
    "        can be found.\n",
    "    \"\"\"\n",
    "    out_pathname = _repo_path_to_out_path(repo_path, out_dir=out_dir)\n",
    "    # generate the adjacency list using git-log command; note: skip pull requests\n",
    "    if refresh or not out_pathname.exists():\n",
    "        with out_pathname.open(\"w\") as outfile:\n",
    "            subprocess.run(['git', '-C', repo_path,\n",
    "                            'log', '--format=%h %p', '--topo-order', '--branches'],\n",
    "                           stdout=outfile)\n",
    "    return out_pathname"
   ]
  },
  {
   "cell_type": "markdown",
   "metadata": {},
   "source": [
    "Let's **test** the easy-to-test internal function **`_repo_name_to_out_path()`**."
   ]
  },
  {
   "cell_type": "code",
   "execution_count": null,
   "metadata": {},
   "outputs": [],
   "source": [
    "assert _repo_path_to_out_path('repos/example.git') == Path('datasets/example-commit_graph.adjlist.txt')\n",
    "assert _repo_path_to_out_path('repos/example.git', out_dir='data') == Path('data/example-commit_graph.adjlist.txt')"
   ]
  },
  {
   "cell_type": "markdown",
   "metadata": {},
   "source": [
    "To process the commit graph, we need to create a NetworkX directed graph from it, using generated adjacency list file."
   ]
  },
  {
   "cell_type": "code",
   "execution_count": null,
   "metadata": {},
   "outputs": [],
   "source": [
    "#export\n",
    "def repo_adjlist_to_graph(repo_path, datasets_dir=\"datasets\"):\n",
    "    \"\"\"Create `DiGraph` out of adjacency list file created from it\n",
    "\n",
    "    NOTE: the `repo_to_graph()` function is safer to use, as it generates\n",
    "    the graph of commits in the adjacency list file format of needed.\n",
    "\n",
    "    Parameters\n",
    "    ----------\n",
    "    repo_path : str\n",
    "        Path to the Git repository\n",
    "\n",
    "    datasets_dir : str\n",
    "        Directory where extracted commit graph data would be stored.\n",
    "        Defaults to \"datasets\".\n",
    "\n",
    "    Returns\n",
    "    -------\n",
    "    nx.DiGraph\n",
    "        Directed graph of revisions as NetworkX's `DiGraph`\n",
    "    \"\"\"\n",
    "    out_pathname = _repo_path_to_out_path(repo_path, out_dir=datasets_dir)\n",
    "    return nx.read_adjlist(out_pathname, create_using=nx.DiGraph)"
   ]
  },
  {
   "cell_type": "markdown",
   "metadata": {},
   "source": [
    "Tying it all together, to get a directed graph of revision history of a given repository into NetworkX `DiGraph`, we need to create a sparse clone of a repository if it does not exist, write log of revision history in adjacency list format if the file does not exist, and create the commit graph as NetworkX `DiGraph`."
   ]
  },
  {
   "cell_type": "code",
   "execution_count": null,
   "metadata": {},
   "outputs": [],
   "source": [
    "#export\n",
    "def repo_to_graph(repo_path, datasets_dir=\"datasets\", refresh=False):\n",
    "    \"\"\"Create a graph of commits for given local repository\n",
    "\n",
    "    It uses existing file with the commit graph in the adjacency list file\n",
    "    format, unless refresh is requested with `refresh=True`.  Automatically\n",
    "    generates such file if it does not exist.\n",
    "\n",
    "    Parameters\n",
    "    ----------\n",
    "    repo_path : str\n",
    "        Path to the local Git repository\n",
    "\n",
    "    datasets_dir : str\n",
    "        Directory where extracted commit graph data can be stored, or will\n",
    "        be stored.  Defaults to \"datasets\".\n",
    "\n",
    "    refresh : bool\n",
    "        Whether to regenerate the file with the commit graph in adjacency\n",
    "        format if it exists.  Defaults to false.\n",
    "\n",
    "    Returns\n",
    "    -------\n",
    "    nx.DiGraph\n",
    "        Directed graph of revisions as NetworkX's `DiGraph`\n",
    "    \"\"\"\n",
    "    out_pathname = repo_generate_adjlist(repo_path, out_dir=datasets_dir, refresh=refresh)\n",
    "    return nx.read_adjlist(out_pathname, create_using=nx.DiGraph)\n",
    "\n",
    "\n",
    "def commit_graph(url, repo_name,\n",
    "                 repos_dir=\"repos\", datasets_dir=\"datasets\",\n",
    "                 reclone=False, rescan=False):\n",
    "    \"\"\"Create a graph of commits for given remote repository, stored locally\n",
    "\n",
    "    Given a Git repository `url`, clone it as `repo_name` in `repo_dir`\n",
    "    directory, then create a graph of its commits as NetworkX `DiGraph`.\n",
    "\n",
    "    Avoids re-cloning of the remote repository unless `reclone=True` is\n",
    "    passed, and avoids rescanning the local copy of the repository if file\n",
    "    in the adjacency list format with the commit graph information exists\n",
    "    unless `rescan=True` is passed.\n",
    "\n",
    "    Parameters\n",
    "    ----------\n",
    "    url : str\n",
    "        The repository to be cloned, in most cases it would be public URL\n",
    "        that can be used to clone the remote repository.\n",
    "\n",
    "    repo_name: str\n",
    "        The name of a new directory to clone into (or in other words name\n",
    "        of local clone of the remote repository).\n",
    "\n",
    "    repos_dir : str\n",
    "        The directory where to put cloned repository into.\n",
    "        By default \"repos\" is used.\n",
    "\n",
    "    datasets_dir : str\n",
    "        Directory where extracted commit graph data can be stored, or will\n",
    "        be stored.  Defaults to \"datasets\".\n",
    "\n",
    "    reclone : bool\n",
    "        Whether to re-clone the repository if the local clone exists.\n",
    "        Default is false, to not perform a clone if not needed.\n",
    "\n",
    "    rescan : bool\n",
    "        Whether to regenerate the file with the commit graph in adjacency\n",
    "        format if it exists.  Defaults to false.\n",
    "\n",
    "    Returns\n",
    "    -------\n",
    "    nx.DiGraph\n",
    "        Directed graph of revisions as NetworkX's `DiGraph`\n",
    "    \"\"\"\n",
    "    repo_path = Path(repos_dir) / repo_name\n",
    "    get_repo(url, repo_path, refresh=reclone)\n",
    "    graph = repo_to_graph(repo_path, datasets_dir=datasets_dir, refresh=rescan)\n",
    "    graph.name = repo_name\n",
    "    return graph"
   ]
  },
  {
   "cell_type": "markdown",
   "metadata": {},
   "source": [
    "Instead of testing all those functions one by one, let's simply **test the final one**, namely **`commit_graph()`**, which would would as an integration test.  It would stress test almost all other functions."
   ]
  },
  {
   "cell_type": "code",
   "execution_count": null,
   "metadata": {},
   "outputs": [
    {
     "name": "stdout",
     "output_type": "stream",
     "text": [
      "ok - commit_graph() result is `DiGraph`\n",
      "ok - number of nodes 55 matches 55 commits on all branches\n",
      "ok - number of edges 53 matches\n",
      "ok - number of sources 6 matches 6 independent branches\n",
      "ok - number of sinks 4 matches number of unrelated branches\n",
      "ok - all node names looks like object identifiers (are hexdigits)\n"
     ]
    }
   ],
   "source": [
    "# remove the test repository\n",
    "from shutil import rmtree\n",
    "# check the format of node names\n",
    "import re\n",
    "\n",
    "repo_url=\"https://github.com/githubtraining/hellogitworld\"\n",
    "repo_path=\"repos/hellogitworld.git\"\n",
    "repo_name=\"hellogitworld.git\"\n",
    "#rmtree(repo_path, ignore_errors=True)\n",
    "\n",
    "# get commit graph of remote repository\n",
    "graph = commit_graph(repo_url, repo_name, rescan=True)\n",
    "\n",
    "# find sinks (roots in git terminology) and sources (heads in git terminology)\n",
    "sinks  =[n for n in graph if graph.out_degree(n) == 0]\n",
    "sources=[n for n in graph if graph.in_degree(n)  == 0]\n",
    "\n",
    "assert isinstance(graph, nx.DiGraph)\n",
    "print('ok - commit_graph() result is `DiGraph`')\n",
    "# this is an archived repository, so it should not change at all\n",
    "assert graph.number_of_nodes() == 55\n",
    "print('ok - number of nodes {:d} matches 55 commits on all branches'.format(graph.number_of_nodes()))\n",
    "assert graph.number_of_edges() == 53\n",
    "print('ok - number of edges {:d} matches'.format(graph.number_of_edges()))\n",
    "assert len(sources) == 6\n",
    "print('ok - number of sources {:d} matches 6 independent branches'.format(len(sources)))\n",
    "assert len(sinks) == 4\n",
    "print('ok - number of sinks {:d} matches number of unrelated branches'.format(len(sinks)))\n",
    "\n",
    "id_regexp = re.compile(r'^[0-9a-f]+$')\n",
    "assert all([id_regexp.fullmatch(node) is not None for node in graph.nodes])\n",
    "print('ok - all node names looks like object identifiers (are hexdigits)')\n",
    "\n",
    "# attempt cleanup\n",
    "#rmtree(repo_path, ignore_errors=True)"
   ]
  },
  {
   "cell_type": "markdown",
   "metadata": {},
   "source": [
    "The <https://github.com/githubtraining/hellogitworld> repository has:\n",
    "- 26 commits on the 'master' branch\n",
    "- 55 commits on all branches\n",
    "- 345 commits among all references, including pull requests (5 open, 156 closed)"
   ]
  },
  {
   "cell_type": "code",
   "execution_count": null,
   "metadata": {},
   "outputs": [
    {
     "data": {
      "image/png": "[encoded data removed]",
      "text/plain": [
       "<Figure size 576x432 with 1 Axes>"
      ]
     },
     "metadata": {},
     "output_type": "display_data"
    }
   ],
   "source": [
    "# this plot is here to check if the number of edges found is plausible\n",
    "try:\n",
    "    import pydot\n",
    "    \n",
    "    fig=plt.figure(figsize=(8,6))\n",
    "    plt.suptitle('The commit graph of https://github.com/githubtraining/hellogitworld repository')\n",
    "    plt.title(\"drawn using 'dot' algorithm from GraphViz, via 'pydot' module\")\n",
    "    pos=nx.drawing.nx_pydot.pydot_layout(graph, prog='dot')\n",
    "    nx.draw(graph, pos=pos,\n",
    "            node_size=80,width=1.0,node_color='#FF7F00')\n",
    "    nx.draw_networkx_nodes(graph, pos=pos, nodelist=sources,\n",
    "                           node_size=90,node_color='#FF1100')\n",
    "    nx.draw_networkx_nodes(graph, pos=pos, nodelist=sinks,\n",
    "                           node_size=60,node_color='#FFDD00')\n",
    "    plt.draw()\n",
    "except ModuleNotFoundError:\n",
    "    print(\"'pydot' module not installed\")"
   ]
  },
  {
   "cell_type": "markdown",
   "metadata": {},
   "source": [
    "### Functions for computing reachability labels, and saving them and graph to a file (TODO)\n",
    "> Note: those functions are not strictly speaking git-specific\n",
    "\n",
    "> TODO: move those to `10_checkpoint.ipynb` (currently not existing)"
   ]
  },
  {
   "cell_type": "code",
   "execution_count": null,
   "metadata": {},
   "outputs": [
    {
     "name": "stdout",
     "output_type": "stream",
     "text": [
      "the commit graph of hellogitworld.git repository has 55 nodes and 53 edges\n"
     ]
    }
   ],
   "source": [
    "# before tests (test fixture)\n",
    "repo_url=\"https://github.com/githubtraining/hellogitworld\"\n",
    "repo_path=\"repos/hellogitworld.git\"\n",
    "repo_name=\"hellogitworld.git\"\n",
    "#rmtree(repo_path, ignore_errors=True)\n",
    "\n",
    "# get commit graph of remote repository, without re-cloning or re-computing\n",
    "repo_graph = commit_graph(repo_url, repo_name)\n",
    "\n",
    "# check that it worked\n",
    "print(\"the commit graph of {} repository has {:d} nodes and {:d} edges\".\n",
    "      format(repo_name, repo_graph.number_of_nodes(), repo_graph.number_of_edges()))"
   ]
  },
  {
   "cell_type": "markdown",
   "metadata": {},
   "source": [
    "Helper function to get basename for saving graph and/or graph data to a file (as a dataset)."
   ]
  },
  {
   "cell_type": "code",
   "execution_count": null,
   "metadata": {},
   "outputs": [],
   "source": [
    "#export\n",
    "def _repo_basename(repo_path):\n",
    "    \"\"\"Create name of repository out of its pathname\n",
    "\n",
    "    This is a helper function used, among others, in ...\n",
    "\n",
    "    Examples:\n",
    "    ---------\n",
    "    >>>> _repo_basename('hellogitworld')\n",
    "    'hellogitworld'\n",
    "    >>>> _repo_basename('repos/hellogitworld.git')\n",
    "    'hellogitworld'\n",
    "\n",
    "    Parameters\n",
    "    ----------\n",
    "    repo_path : str\n",
    "        Path to the Git repository, for example 'hellogitworld',\n",
    "        or 'hellogitworld.git', or 'repos/hellogitworld.git', or 'repos/hellogitworld/.git'\n",
    "        for Git repository cloned from <https://github.com/githubtraining/hellogitworld>\n",
    "    \n",
    "    Returns\n",
    "    -------\n",
    "    str\n",
    "        The name of repository, to be later used as a base for commit graph name,\n",
    "        and the pathname of a file where to save information about thw history\n",
    "        structure of the repository.\n",
    "    \"\"\"\n",
    "    # generate the name of the output file, as `pathlib.Path` object\n",
    "    # removing the '*.git' extension / suffix from `repo_path`, if needed\n",
    "    out_pathname = Path(repo_name).stem\n",
    "\n",
    "    # convert it to string\n",
    "    return str(out_pathname)\n",
    "\n",
    "\n",
    "def _commit_graph_name(repo_name):\n",
    "    \"\"\"Create the name of a commit graph out of repository name.\n",
    "    \n",
    "    This is a helper function used, among others, in ...\n",
    "\n",
    "    Examples:\n",
    "    ---------\n",
    "    >>>> _commit_graph_name('hellogitworld')\n",
    "    'hellogitworld-commit_graph'\n",
    "    \n",
    "    Parameters\n",
    "    ----------\n",
    "    repo_name : str\n",
    "        The name of the repository, for example the result of calling the\n",
    "        `_repo_basename()` function.\n",
    "    \n",
    "    Returns\n",
    "    -------\n",
    "    str\n",
    "        The name of the commit graph of the repository, to be used as a base\n",
    "        for the pathname of a file where to save information about the history\n",
    "        structure of the repository.\n",
    "    \"\"\"\n",
    "    return repo_name + '-commit_graph'\n",
    "\n",
    "\n",
    "def _repo_graph_name(repo_path):\n",
    "    \"\"\"Create the name of a commit graph out of repository path (its pathname)\n",
    "    \n",
    "    This is a helper function used, among others, in ...\n",
    "\n",
    "    Examples:\n",
    "    ---------\n",
    "    >>>> _repo_graph_name('repos/hellogitworld.git')\n",
    "    'hellogitworld-commit_graph'\n",
    "    \n",
    "    Parameters\n",
    "    ----------\n",
    "    repo_path : str\n",
    "        Path to the Git repository (`<graph>.name` can be used), for example\n",
    "        'hellogitworld', or 'hellogitworld.git', or 'repos/hellogitworld.git',\n",
    "        or 'repos/hellogitworld/.git' for Git repository cloned from\n",
    "        <https://github.com/githubtraining/hellogitworld>\n",
    "    \n",
    "    Returns\n",
    "    -------\n",
    "    str\n",
    "        The name of the commit graph of the repository, to be used as a base\n",
    "        for the pathname of a file where to save information about the history\n",
    "        structure of the repository.\n",
    "    \"\"\"\n",
    "    return _commit_graph_name(_repo_basename(repo_path))\n",
    "\n"
   ]
  },
  {
   "cell_type": "markdown",
   "metadata": {},
   "source": [
    "<u>Test</u> that examples from the docstring works:"
   ]
  },
  {
   "cell_type": "code",
   "execution_count": null,
   "metadata": {},
   "outputs": [],
   "source": [
    "assert _repo_basename('hellogitworld') == 'hellogitworld'\n",
    "assert _repo_basename('hellogitworld.git') == 'hellogitworld'\n",
    "assert _repo_basename('repos/hellogitworld.git') == 'hellogitworld'\n",
    "assert _repo_basename('repos/hellogitworld/.git') == 'hellogitworld'"
   ]
  },
  {
   "cell_type": "code",
   "execution_count": null,
   "metadata": {},
   "outputs": [],
   "source": [
    "assert _commit_graph_name('hellogitworld') == 'hellogitworld-commit_graph'"
   ]
  },
  {
   "cell_type": "code",
   "execution_count": null,
   "metadata": {},
   "outputs": [],
   "source": [
    "assert _repo_graph_name('repos/hellogitworld.git') == 'hellogitworld-commit_graph'"
   ]
  },
  {
   "cell_type": "code",
   "execution_count": null,
   "metadata": {},
   "outputs": [],
   "source": [
    "#export\n",
    "def _savefile_name(graph_name, out_dir='datasets', kind='df_edgelist', file_format='csv.gz'):\n",
    "    \"\"\"Create filename for storing graph structure and other graph data\n",
    "    \n",
    "    This is a helper function used, among others, in ...\n",
    "    \n",
    "    Examples:\n",
    "    ---------\n",
    "    >>>> _savefile_name('example_graph')\n",
    "    Path('datasets/example_graph.df_edgelist.csv.gz')\n",
    "    \n",
    "    Parameters\n",
    "    ----------\n",
    "    graph_name : str\n",
    "        Name of the graph (`<graph>.name` can be used).\n",
    "        \n",
    "    out_dir : str\n",
    "        Directory where saved commit graph data would be stored.\n",
    "        Defaults to \"datasets\".\n",
    "        \n",
    "    kind : str\n",
    "        What type of data is stored in a file, and in what representation.\n",
    "        The default value is 'df_edgelist', used to store graph structure in\n",
    "        the edge list format in a `pandas.DataFrame`.\n",
    "        \n",
    "    file_format : str\n",
    "        Format of a file, for example how the `DataFrame` is saved.\n",
    "        Defaults to 'csv.gz' (gzip-compressed Comma Separated Values).\n",
    "        \n",
    "    Returns\n",
    "    -------\n",
    "    Path\n",
    "        Path to the file storing the graph structure or graph data in\n",
    "        the appropriate representation and appropriate file format.\n",
    "    \"\"\"\n",
    "    # The `out_dir` should not be None\n",
    "    if out_dir is None:\n",
    "        out_dir = \".\"\n",
    "\n",
    "    # compose the basename of the pathname\n",
    "    filename = graph_name\n",
    "    # TODO: there would special case for saving to HDF5 files, which can\n",
    "    # store multiple data in a single file, so there would be no need\n",
    "    # to add <kind> to basename of such output file\n",
    "    if kind is not None and kind != '':\n",
    "        filename += '.' + kind\n",
    "    if file_format is not None and file_format != '':\n",
    "        filename += '.' + file_format\n",
    "    # generate the name of the output file, as `pathlib.Path` object\n",
    "    return Path(out_dir) / filename\n",
    "\n",
    "\n",
    "def _out_basename(graph_name, out_dir='datasets'):\n",
    "    return _savefile_name(graph_name, out_dir=out_dir, kind=None, file_format=None)\n",
    "\n",
    "\n",
    "def _repo_graph_savefile(repo_path, out_dir='datasets'):\n",
    "    \"\"\"Create filename for storing adjacency list out of repository path\n",
    "\n",
    "    This is a helper function used, among others, in ...\n",
    "\n",
    "    Examples:\n",
    "    ---------\n",
    "    >>>> _repo_graph_savefile('repos/hellogitworld.git')\n",
    "    Path('datasets/hellogitworld-commit_graph.adjlist.txt')\n",
    "    >>>> _repo_graph_savefile('repos/hellogitworld.git', out_dir='data')\n",
    "    Path('data/hellogitworld-commit_graph.adjlist.txt')\n",
    "\n",
    "    Parameters\n",
    "    ----------\n",
    "    repo_path : str\n",
    "        Path to the Git repository, for example 'hellogitworld',\n",
    "        or 'hellogitworld.git', or 'repos/hellogitworld.git', or 'repos/hellogitworld/.git'\n",
    "        for Git repository cloned from <https://github.com/githubtraining/hellogitworld>\n",
    "\n",
    "    out_dir : str\n",
    "        Directory where extracted commit graph data would be stored.\n",
    "        Defaults to \"datasets\".\n",
    "\n",
    "    Returns\n",
    "    -------\n",
    "    Path\n",
    "        Path to the file storing the commit graph in the adjacency list\n",
    "        file format.\n",
    "\n",
    "        see: https://networkx.org/documentation/stable/reference/readwrite/adjlist.html\n",
    "    \"\"\"\n",
    "    graph_name = _repo_graph_name(repo_path)\n",
    "    return _savefile_name(graph_name, out_dir=out_dir, kind='adjlist', file_format='txt')"
   ]
  },
  {
   "cell_type": "markdown",
   "metadata": {},
   "source": [
    "<u>Test</u> that examples from the docstring works:"
   ]
  },
  {
   "cell_type": "code",
   "execution_count": null,
   "metadata": {},
   "outputs": [],
   "source": [
    "assert _savefile_name('example_graph') == Path('datasets/example_graph.df_edgelist.csv.gz')\n",
    "assert _repo_graph_savefile('repos/hellogitworld.git') == Path('datasets/hellogitworld-commit_graph.adjlist.txt')\n",
    "assert _repo_graph_savefile('repos/hellogitworld.git', out_dir='data') == Path('data/hellogitworld-commit_graph.adjlist.txt')"
   ]
  },
  {
   "cell_type": "markdown",
   "metadata": {},
   "source": [
    "Save graph to a `DataFrame` (saving containing edgelist information), and restore it."
   ]
  },
  {
   "cell_type": "code",
   "execution_count": null,
   "metadata": {},
   "outputs": [],
   "source": [
    "#export\n",
    "def graph_to_dataframe(graph):\n",
    "    return nx.to_pandas_edgelist(graph)\n",
    "\n",
    "\n",
    "def dataframe_to_graph(df):\n",
    "    return nx.from_pandas_edgelist(df, create_using=nx.DiGraph)\n",
    "\n"
   ]
  },
  {
   "cell_type": "markdown",
   "metadata": {},
   "source": [
    "<u>Test</u> that saving to the `DataFrame` and restoring from it works correctly,... up to nodes that are not connected -- those cannot be stored using only edge list data, but with addition of node list it should be possible to restore graph exactly:"
   ]
  },
  {
   "cell_type": "code",
   "execution_count": null,
   "metadata": {},
   "outputs": [
    {
     "name": "stdout",
     "output_type": "stream",
     "text": [
      "ok - number of rows in dataframe with edgelist 53 matches number of edges 53\n",
      "ok - number of edges 53 in restored graph matches number of edges 53 in the original\n",
      "ok - all edges from the original graph got restored\n",
      "ok - all restored nodes are in the original graph\n"
     ]
    }
   ],
   "source": [
    "repo_graph_df = graph_to_dataframe(repo_graph)\n",
    "assert len(repo_graph_df.index) == repo_graph.number_of_edges()\n",
    "print('ok - number of rows in dataframe with edgelist {} matches number of edges {}'.\n",
    "      format(len(repo_graph_df.index), repo_graph.number_of_edges()))\n",
    "restored_graph = dataframe_to_graph(repo_graph_df)\n",
    "assert restored_graph.number_of_edges() == repo_graph.number_of_edges()\n",
    "print('ok - number of edges {} in restored graph matches number of edges {} in the original'.\n",
    "      format(restored_graph.number_of_edges(), repo_graph.number_of_edges()))\n",
    "assert restored_graph.edges == repo_graph.edges\n",
    "print('ok - all edges from the original graph got restored')\n",
    "assert set(restored_graph).issubset(repo_graph)\n",
    "print('ok - all restored nodes are in the original graph')"
   ]
  },
  {
   "cell_type": "markdown",
   "metadata": {},
   "source": [
    "Save graph to a file (via `DataFrame` containing edgelist information), and restore it"
   ]
  },
  {
   "cell_type": "code",
   "execution_count": null,
   "metadata": {},
   "outputs": [],
   "source": [
    "#export\n",
    "def save_graph_df(df, graph_name, datasets_dir='datasets', output_format='csv.gz', overwrite=False):\n",
    "    filename = _savefile_name(graph_name, out_dir=datasets_dir,\n",
    "                              kind='df_edgelist', file_format=output_format)\n",
    "    print('-> filename:', filename)\n",
    "    if not overwrite and Path(filename).is_file():\n",
    "        return\n",
    "    if output_format == 'csv' or output_format == 'csv.gz':\n",
    "        df.to_csv(filename)\n",
    "    else:\n",
    "        raise NotImplementedError(\"Writing to '{}' format is not supported\".format(output_format))\n",
    "\n",
    "\n",
    "def save_graph(graph, graph_name=None, datasets_dir='datasets', output_format='csv.gz', overwrite=False):\n",
    "    df = graph_to_dataframe(graph)\n",
    "    # if `graph_name` is not given, check the `name` attribute of the `graph`\n",
    "    if graph_name is None:\n",
    "        # NOTE: \"'name' in graph\" checks if there is node named 'name' in the graph\n",
    "        if hasattr(graph, 'name'):\n",
    "            graph_name = graph.name\n",
    "        else:\n",
    "            raise RuntimeError(\"Neither 'graph_name' parameter given, nor 'graph' has 'name' attribute\")\n",
    "\n",
    "    print('-> graph_name:', graph_name)\n",
    "    save_graph_df(df, graph_name,\n",
    "                  datasets_dir=datasets_dir, output_format=output_format, overwrite=overwrite)\n",
    "\n",
    "\n",
    "def load_graph_df_from_file(filename, input_format='csv.gz'):\n",
    "    if input_format == 'csv' or input_format == 'csv.gz':\n",
    "        return pd.read_csv(filename, index_col=0)\n",
    "    else:\n",
    "        raise NotImplementedError(\"Reading from '{}' format is not supported\".format(input_format))\n",
    "\n",
    "\n",
    "def load_graph_df(graph_name, datasets_dir='datasets', input_format='csv.gz'):\n",
    "    filename = _savefile_name(graph_name, out_dir=datasets_dir,\n",
    "                              kind='df_edgelist', file_format=input_format)\n",
    "    print('<- filename:', filename)\n",
    "    return load_graph_df_from_file(filename, input_format=input_format)\n",
    "\n"
   ]
  },
  {
   "cell_type": "markdown",
   "metadata": {},
   "source": [
    "<u>Test</u> saving graph structure (via `DataFrame`) to a file, and restoring / reading such `DataFrame`."
   ]
  },
  {
   "cell_type": "code",
   "execution_count": null,
   "metadata": {},
   "outputs": [
    {
     "name": "stdout",
     "output_type": "stream",
     "text": [
      "repository path: repos/hellogitworld.git\n",
      "saving commit graph of: hellogitworld.git\n",
      "graph.name = hellogitworld.git\n",
      "commit graph name: hellogitworld-commit_graph\n",
      "testing save_graph()\n",
      "-> graph_name: hellogitworld.git\n",
      "-> filename: datasets\\hellogitworld.git.df_edgelist.csv.gz\n",
      "testing save_graph_df()\n",
      "-> filename: datasets\\hellogitworld-commit_graph.df_edgelist.csv.gz\n",
      "there should be appropriately named file in the list below:\n"
     ]
    },
    {
     "data": {
      "text/plain": [
       "['hellogitworld-commit_graph.adjlist.txt                 868',\n",
       " 'hellogitworld-commit_graph.df_edgelist.csv.gz          523',\n",
       " 'hellogitworld.git.df_edgelist.csv.gz                   514']"
      ]
     },
     "execution_count": null,
     "metadata": {},
     "output_type": "execute_result"
    }
   ],
   "source": [
    "print('repository path: {}'.format(repo_path))\n",
    "print('saving commit graph of: {}'.format(repo_name))\n",
    "print('graph.name = {}'.format(repo_graph.name))\n",
    "print('commit graph name: {}'.format(_repo_graph_name(repo_path)))\n",
    "print('testing save_graph()')\n",
    "save_graph(repo_graph)\n",
    "print('testing save_graph_df()')\n",
    "save_graph_df(repo_graph_df, graph_name=_repo_graph_name(repo_path))\n",
    "print('there should be appropriately named file in the list below:')\n",
    "[\"{name:<50} {size:>7}\".format(name=p.name,size=p.stat().st_size) for p in Path(\"datasets\").glob(\"hellogitworld*\")]"
   ]
  },
  {
   "cell_type": "code",
   "execution_count": null,
   "metadata": {},
   "outputs": [
    {
     "name": "stdout",
     "output_type": "stream",
     "text": [
      "restoring commit graph of: hellogitworld.git\n",
      "<- filename: datasets\\hellogitworld.git.df_edgelist.csv.gz\n",
      "ok - dataset and restored dataset are equal\n"
     ]
    }
   ],
   "source": [
    "print('restoring commit graph of: {}'.format(repo_name))\n",
    "df = load_graph_df(repo_name)\n",
    "assert repo_graph_df.equals(df)\n",
    "print('ok - dataset and restored dataset are equal')"
   ]
  },
  {
   "cell_type": "markdown",
   "metadata": {},
   "source": [
    "Compute levels and min-post intervals for a graph, and store them as attributes of the graph object"
   ]
  },
  {
   "cell_type": "code",
   "execution_count": null,
   "metadata": {},
   "outputs": [],
   "source": [
    "#export\n",
    "def compute_reachability_labels(graph, recompute=False):\n",
    "    if recompute or not hasattr(graph, 'lvl'):\n",
    "        graph.lvl = find_levels(graph)\n",
    "    if recompute or not hasattr(graph, 'mpi_ext'):\n",
    "        graph.mpi_ext = find_dfs_intervals_extra(graph)\n",
    "    return graph\n",
    "\n"
   ]
  },
  {
   "cell_type": "markdown",
   "metadata": {},
   "source": [
    "<u>Test</u> computing reachability labels and saving them as attributes of the graph object"
   ]
  },
  {
   "cell_type": "code",
   "execution_count": null,
   "metadata": {},
   "outputs": [
    {
     "name": "stdout",
     "output_type": "stream",
     "text": [
      "compute reachability labels for hellogitworld.git commit graph\n",
      "we should see lvl and mpi_ext among dict-values attributes\n",
      "- graph\n",
      "- lvl\n",
      "- mpi_ext\n",
      "ok - graph has both \"lvl\" and \"mpi_ext\" attributes\n",
      "reachability labels should be computed for all nodes\n",
      "ok - both lvl and mpi_ext keys are all 55 graph nodes\n"
     ]
    }
   ],
   "source": [
    "print('compute reachability labels for {} commit graph'.format(repo_name))\n",
    "compute_reachability_labels(repo_graph)\n",
    "\n",
    "print('we should see {} and {} among dict-values attributes'.format('lvl', 'mpi_ext'))\n",
    "for (attr,val) in repo_graph.__dict__.items():\n",
    "    if isinstance(val, dict) and not attr.startswith('_'):\n",
    "        print('- {:s}'.format(attr))\n",
    "assert hasattr(repo_graph, 'lvl')\n",
    "assert hasattr(repo_graph, 'mpi_ext')\n",
    "print('ok - graph has both \"{}\" and \"{}\" attributes'.format('lvl', 'mpi_ext'))\n",
    "        \n",
    "print('reachability labels should be computed for all nodes')\n",
    "assert set(repo_graph.lvl.keys()) == set(repo_graph.nodes)\n",
    "assert set(repo_graph.mpi_ext.keys()) == set(repo_graph.nodes)\n",
    "print('ok - both lvl and mpi_ext keys are all {} graph nodes'.format(len(repo_graph.nodes)))"
   ]
  },
  {
   "cell_type": "markdown",
   "metadata": {},
   "source": [
    "Store reachability labels and per-node information in a `DataFrame`"
   ]
  },
  {
   "cell_type": "code",
   "execution_count": null,
   "metadata": {},
   "outputs": [],
   "source": [
    "#export\n",
    "def graph_data_to_dataframe(graph, append_to=None):\n",
    "    compute_reachability_labels(graph)\n",
    "\n",
    "    # create the DataFrame and name its index\n",
    "    df = pd.DataFrame.from_dict(graph.mpi_ext, orient='index', columns=['f_min', 'min', 'post'])\n",
    "    df.index.name = 'node'\n",
    "    # add other reachability labels\n",
    "    df['level'] = pd.Series(graph.lvl)\n",
    "    # add and compute other data\n",
    "    df['in degree'] = pd.Series(dict(graph.in_degree()))\n",
    "    df['out degree'] = pd.Series(dict(graph.out_degree()))\n",
    "    df['degree'] = df['in degree'] + df['out degree']\n",
    "\n",
    "    # append if needed\n",
    "    if append_to:\n",
    "        df = pd.concat([append_to, df], axis=1, join='inner')\n",
    "\n",
    "    return df\n",
    "\n"
   ]
  },
  {
   "cell_type": "markdown",
   "metadata": {},
   "source": [
    "<u>Test</u> computing all per-node data for a graph and storing them in `DataFrame`"
   ]
  },
  {
   "cell_type": "code",
   "execution_count": null,
   "metadata": {},
   "outputs": [
    {
     "name": "stdout",
     "output_type": "stream",
     "text": [
      "check that the dataframe has all the columns\n",
      "- columns: ['f_min', 'min', 'post', 'level', 'in degree', 'out degree', 'degree']\n",
      "check that the dataframe has all the rows\n",
      "- rows:    ['ef7bebf', 'ebbbf77', '45a30ea', '9805760', '435ffce']...\n"
     ]
    },
    {
     "data": {
      "text/html": [
       "<div>\n",
       "<style scoped>\n",
       "    .dataframe tbody tr th:only-of-type {\n",
       "        vertical-align: middle;\n",
       "    }\n",
       "\n",
       "    .dataframe tbody tr th {\n",
       "        vertical-align: top;\n",
       "    }\n",
       "\n",
       "    .dataframe thead th {\n",
       "        text-align: right;\n",
       "    }\n",
       "</style>\n",
       "<table border=\"1\" class=\"dataframe\">\n",
       "  <thead>\n",
       "    <tr style=\"text-align: right;\">\n",
       "      <th></th>\n",
       "      <th>f_min</th>\n",
       "      <th>min</th>\n",
       "      <th>post</th>\n",
       "      <th>level</th>\n",
       "      <th>in degree</th>\n",
       "      <th>out degree</th>\n",
       "      <th>degree</th>\n",
       "    </tr>\n",
       "    <tr>\n",
       "      <th>node</th>\n",
       "      <th></th>\n",
       "      <th></th>\n",
       "      <th></th>\n",
       "      <th></th>\n",
       "      <th></th>\n",
       "      <th></th>\n",
       "      <th></th>\n",
       "    </tr>\n",
       "  </thead>\n",
       "  <tbody>\n",
       "    <tr>\n",
       "      <th>755fd57</th>\n",
       "      <td>1</td>\n",
       "      <td>1</td>\n",
       "      <td>1</td>\n",
       "      <td>0</td>\n",
       "      <td>1</td>\n",
       "      <td>0</td>\n",
       "      <td>1</td>\n",
       "    </tr>\n",
       "    <tr>\n",
       "      <th>32c2737</th>\n",
       "      <td>1</td>\n",
       "      <td>1</td>\n",
       "      <td>2</td>\n",
       "      <td>1</td>\n",
       "      <td>1</td>\n",
       "      <td>1</td>\n",
       "      <td>2</td>\n",
       "    </tr>\n",
       "    <tr>\n",
       "      <th>dc64fe4</th>\n",
       "      <td>1</td>\n",
       "      <td>1</td>\n",
       "      <td>3</td>\n",
       "      <td>2</td>\n",
       "      <td>2</td>\n",
       "      <td>1</td>\n",
       "      <td>3</td>\n",
       "    </tr>\n",
       "    <tr>\n",
       "      <th>9cdb160</th>\n",
       "      <td>1</td>\n",
       "      <td>1</td>\n",
       "      <td>4</td>\n",
       "      <td>3</td>\n",
       "      <td>1</td>\n",
       "      <td>1</td>\n",
       "      <td>2</td>\n",
       "    </tr>\n",
       "    <tr>\n",
       "      <th>f5ed019</th>\n",
       "      <td>1</td>\n",
       "      <td>1</td>\n",
       "      <td>5</td>\n",
       "      <td>4</td>\n",
       "      <td>1</td>\n",
       "      <td>1</td>\n",
       "      <td>2</td>\n",
       "    </tr>\n",
       "  </tbody>\n",
       "</table>\n",
       "</div>"
      ],
      "text/plain": [
       "         f_min  min  post  level  in degree  out degree  degree\n",
       "node                                                           \n",
       "755fd57      1    1     1      0          1           0       1\n",
       "32c2737      1    1     2      1          1           1       2\n",
       "dc64fe4      1    1     3      2          2           1       3\n",
       "9cdb160      1    1     4      3          1           1       2\n",
       "f5ed019      1    1     5      4          1           1       2"
      ]
     },
     "execution_count": null,
     "metadata": {},
     "output_type": "execute_result"
    }
   ],
   "source": [
    "df = graph_data_to_dataframe(repo_graph)\n",
    "\n",
    "print('check that the dataframe has all the columns')\n",
    "assert set(df.columns) == set(['level', 'f_min', 'min', 'post', 'in degree', 'out degree', 'degree'])\n",
    "print('- columns: {}'.format(df.columns.tolist()))\n",
    "\n",
    "print('check that the dataframe has all the rows')\n",
    "assert set(df.index) == set(repo_graph.nodes)\n",
    "print('- rows:    {}...'.format(list(repo_graph.nodes)[0:5]))\n",
    "\n",
    "df.head()"
   ]
  },
  {
   "cell_type": "markdown",
   "metadata": {},
   "source": [
    "Compute and save graph structure, its reachability labels and other per-node info to a file, and restore it.  \n",
    "Don't redo calculations that can be retrieved from a file."
   ]
  },
  {
   "cell_type": "markdown",
   "metadata": {},
   "source": [
    "**TODO**"
   ]
  },
  {
   "cell_type": "markdown",
   "metadata": {},
   "source": [
    "----"
   ]
  },
  {
   "cell_type": "code",
   "execution_count": null,
   "metadata": {},
   "outputs": [
    {
     "name": "stdout",
     "output_type": "stream",
     "text": [
      "Converted 01_tools.ipynb.\n",
      "Converted 02_related.ipynb.\n",
      "Converted 03_example_graphs.ipynb.\n",
      "Converted 05_reachability_index.ipynb.\n",
      "Converted 06_levels.ipynb.\n",
      "Converted 07_interval_labels.ipynb.\n",
      "Converted 08_reach.ipynb.\n",
      "Converted 09_git.ipynb.\n",
      "Converted A.09_git_explore.ipynb.\n",
      "Converted index.ipynb.\n"
     ]
    }
   ],
   "source": [
    "#hide\n",
    "# this should be the last cell of the notebook\n",
    "from nbdev.export import notebook2script\n",
    "notebook2script()"
   ]
  }
 ],
 "metadata": {
  "kernelspec": {
   "display_name": "Python 3",
   "language": "python",
   "name": "python3"
  }
 },
 "nbformat": 4,
 "nbformat_minor": 4
}
