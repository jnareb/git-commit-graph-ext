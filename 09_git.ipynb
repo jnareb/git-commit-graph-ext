{
 "cells": [
  {
   "cell_type": "code",
   "execution_count": null,
   "metadata": {},
   "outputs": [],
   "source": [
    "#default_exp commit_graph"
   ]
  },
  {
   "cell_type": "code",
   "execution_count": null,
   "metadata": {},
   "outputs": [],
   "source": [
    "#hide_output\n",
    "%load_ext autoreload\n",
    "%autoreload 2"
   ]
  },
  {
   "cell_type": "markdown",
   "metadata": {},
   "source": [
    "# Extracting commit graphs from Git repositories\n",
    "> Interacting with Git repositories in Python, extracting commit history from them, and turning it into NetworkX DiGraph"
   ]
  },
  {
   "cell_type": "markdown",
   "metadata": {},
   "source": [
    "Imports for the `commit_graph` module"
   ]
  },
  {
   "cell_type": "code",
   "execution_count": null,
   "metadata": {},
   "outputs": [],
   "source": [
    "#export\n",
    "# creating graphs in Python\n",
    "import networkx as nx\n",
    "# calling git commands\n",
    "import subprocess\n",
    "# checking for existence of paths, and manipulating paths\n",
    "from pathlib import Path"
   ]
  },
  {
   "cell_type": "markdown",
   "metadata": {},
   "source": [
    "## Interacting with Git repositories in Python"
   ]
  },
  {
   "cell_type": "markdown",
   "metadata": {},
   "source": [
    "There are various ways of interacting with Git repositories from Python code:\n",
    "\n",
    "- shelling out and running `git` directly (for example using `import subprocess`)\n",
    "- using [GitPython][] (`import git`)\n",
    "- using [pygit2][] (`import pygit2`) - Python bindings to libgit2 library\n",
    "\n",
    "[GitPython]: https://gitpython.readthedocs.io/\n",
    "[pygit2]: https://www.pygit2.org/"
   ]
  },
  {
   "cell_type": "markdown",
   "metadata": {},
   "source": [
    "**GitPython** is a python library used to interact with git repositories, high-level like git-porcelain, or low-level like git-plumbing.\n",
    "\n",
    "It provides abstractions of git objects for easy access of repository data, and additionally allows you to access the git repository more directly using either a pure python implementation, or the faster, but more resource intensive git command implementation.\n",
    "\n",
    "The object database implementation is optimized for handling large quantities of objects and large datasets, which is achieved by using low-level structures and data streaming. \n",
    "\n",
    "<u>_NOTE:_</u> Promisory objects (in sparse clone, `--filter=tree:0`) might be not supported.\n",
    "\n",
    "```python\n",
    "import git\n",
    "\n",
    "repo = git.Repo.clone_from(url, path, ['--mirror', '--filter=tree:0'])\n",
    "repo = git.Repo(path) # just open the repository\n",
    "```"
   ]
  },
  {
   "cell_type": "markdown",
   "metadata": {},
   "source": [
    "**Pygit2** is a set of Python bindings to the libgit2 shared library, libgit2 implements the core of Git.\n",
    "\n",
    "<u>_NOTE:_</u> It is quite low level, and not everything is implemented yet (especially new features).\n",
    "\n",
    "```python\n",
    "import pygit2\n",
    "\n",
    "pygit2.clone_repository(url, path, bare=True) # no support for filters?\n",
    "repo = pygit2.Repository(path)\n",
    "```"
   ]
  },
  {
   "cell_type": "markdown",
   "metadata": {},
   "source": [
    "The **subprocess** module in the Python standard library allows you to spawn new processes, connect to their input/output/error pipes, and obtain their return codes.\n",
    "\n",
    "The recommended approach to invoking subprocesses is to use the `run()` function for all use cases it can handle.\n",
    "\n",
    "```python\n",
    "import subprocess\n",
    "\n",
    "subprocess.run(['git', 'clone', '--mirror', '--filter=tree:0', '--quiet', url, path])\n",
    "```"
   ]
  },
  {
   "cell_type": "markdown",
   "metadata": {},
   "source": [
    "## Cloning git.git repository, and extracting and saving the commit graph"
   ]
  },
  {
   "cell_type": "markdown",
   "metadata": {},
   "source": [
    "Why it is important to use sparse clone - it is much faster, and takes up less space.  For example for git.git repository we have the following (all times are wall time, and subject to interference from other CPU load):\n",
    "- full clone: 54s\n",
    "- mirror: 1min 19s\n",
    "- sparse: 14.9s - 19.4s"
   ]
  },
  {
   "cell_type": "markdown",
   "metadata": {},
   "source": [
    "Prepare the directory to store repositories (note: `mkdir -d <directory>` should show no error if `<directory>` exists.  \n",
    "Clone example repository (for exploration)."
   ]
  },
  {
   "cell_type": "code",
   "execution_count": null,
   "metadata": {},
   "outputs": [],
   "source": [
    "Path(\"repos\").mkdir(exist_ok=True)"
   ]
  },
  {
   "cell_type": "code",
   "execution_count": null,
   "metadata": {},
   "outputs": [
    {
     "name": "stdout",
     "output_type": "stream",
     "text": [
      "Wall time: 14.9 s\n"
     ]
    }
   ],
   "source": [
    "%%time\n",
    "!git -C repos clone --mirror --filter=tree:0 --quiet https://github.com/git/git.git"
   ]
  },
  {
   "cell_type": "markdown",
   "metadata": {},
   "source": [
    "Extract the history of the project"
   ]
  },
  {
   "cell_type": "code",
   "execution_count": null,
   "metadata": {},
   "outputs": [],
   "source": [
    "Path(\"datasets\").mkdir(exist_ok=True)"
   ]
  },
  {
   "cell_type": "code",
   "execution_count": null,
   "metadata": {},
   "outputs": [
    {
     "name": "stdout",
     "output_type": "stream",
     "text": [
      "Wall time: 10.6 s\n"
     ]
    }
   ],
   "source": [
    "%%time\n",
    "!git -C repos/git.git log --format=\"%h %p\" --topo-order --all >datasets/git-commit_graph.adjlist.txt"
   ]
  },
  {
   "cell_type": "code",
   "execution_count": null,
   "metadata": {},
   "outputs": [
    {
     "name": "stdout",
     "output_type": "stream",
     "text": [
      "commit-graph of git repository graph has 126983 nodes and 160534 edges\n",
      "is directed:   True\n",
      "Wall time: 4.13 s\n"
     ]
    }
   ],
   "source": [
    "%%time\n",
    "graph_git = nx.read_adjlist(\"datasets/git-commit_graph.adjlist.txt\", create_using=nx.DiGraph)\n",
    "print('commit-graph of git repository graph has {} nodes and {} edges'.format(\n",
    "      graph_git.number_of_nodes(),\n",
    "      graph_git.number_of_edges()))\n",
    "print('is directed:   {}'.format(graph_git.is_directed()))"
   ]
  },
  {
   "cell_type": "code",
   "execution_count": null,
   "metadata": {},
   "outputs": [
    {
     "name": "stdout",
     "output_type": "stream",
     "text": [
      "example nodes: ['836aadd78', 'a93475d10', '55fce44a3', '6d9d59c31', '084bd2a9a']\n"
     ]
    }
   ],
   "source": [
    "print('example nodes: {}'.format(list(graph_git.nodes)[:5]))"
   ]
  },
  {
   "cell_type": "code",
   "execution_count": null,
   "metadata": {},
   "outputs": [
    {
     "name": "stdout",
     "output_type": "stream",
     "text": [
      "910 ms ± 43.4 ms per loop (mean ± std. dev. of 7 runs, 1 loop each)\n"
     ]
    }
   ],
   "source": [
    "# compress\n",
    "%timeit nx.write_adjlist(graph_git, 'datasets/git-commit_graph.adjlist.txt.gz')"
   ]
  },
  {
   "cell_type": "markdown",
   "metadata": {},
   "source": [
    "### Testing different graph output formats"
   ]
  },
  {
   "cell_type": "code",
   "execution_count": null,
   "metadata": {},
   "outputs": [],
   "source": [
    "#%%time\n",
    "#nx.write_graph6(graph_git, 'datasets/git-commit_graph.g6')"
   ]
  },
  {
   "cell_type": "markdown",
   "metadata": {},
   "source": [
    "It turns out that the [graph6 / sparse6 format](https://networkx.org/documentation/stable/reference/readwrite/sparsegraph6.html)\n",
    "is not a good choice for storing the commit graph for the following reasons:\n",
    "- NetworkX does not support digraph6 format; neither `write_graph6` not `write_sparse6` are implemented for directed graphs\n",
    "- the [digraph6 format](http://users.cecs.anu.edu.au/~bdm/data/formats.txt) is dense graph format, storing the encoded adjacency matrix; there is no disparse6 or digraph6sparse format\n",
    "- SparseGraph6 formats do not store node/vertex names, which might be needed for future computations or visualizations"
   ]
  },
  {
   "cell_type": "code",
   "execution_count": null,
   "metadata": {},
   "outputs": [
    {
     "name": "stdout",
     "output_type": "stream",
     "text": [
      "Wall time: 624 ms\n",
      "Wall time: 456 ms\n",
      "Wall time: 9.49 s\n",
      "Wall time: 4.92 s\n",
      "Wall time: 4.74 s\n",
      "Wall time: 6.74 s\n"
     ]
    }
   ],
   "source": [
    "%time nx.write_edgelist(graph_git, 'datasets/git-commit_graph.edgelist.txt')\n",
    "%time nx.write_multiline_adjlist(graph_git, 'datasets/git-commit_graph.multiline_adjlist.txt')\n",
    "%time nx.write_gexf(graph_git, 'datasets/git-commit_graph.gexf.gz')\n",
    "%time nx.write_gpickle(graph_git, 'datasets/git-commit_graph.gpickle.gz')\n",
    "%time nx.write_graphml(graph_git, 'datasets/git-commit_graph.graphml.gz')\n",
    "%time nx.write_pajek(graph_git, 'datasets/git-commit_graph.pajek.gz')"
   ]
  },
  {
   "cell_type": "code",
   "execution_count": null,
   "metadata": {},
   "outputs": [],
   "source": [
    "import pandas as pd"
   ]
  },
  {
   "cell_type": "code",
   "execution_count": null,
   "metadata": {},
   "outputs": [
    {
     "data": {
      "text/html": [
       "<div>\n",
       "<style scoped>\n",
       "    .dataframe tbody tr th:only-of-type {\n",
       "        vertical-align: middle;\n",
       "    }\n",
       "\n",
       "    .dataframe tbody tr th {\n",
       "        vertical-align: top;\n",
       "    }\n",
       "\n",
       "    .dataframe thead th {\n",
       "        text-align: right;\n",
       "    }\n",
       "</style>\n",
       "<table border=\"1\" class=\"dataframe\">\n",
       "  <thead>\n",
       "    <tr style=\"text-align: right;\">\n",
       "      <th></th>\n",
       "      <th>source</th>\n",
       "      <th>target</th>\n",
       "    </tr>\n",
       "  </thead>\n",
       "  <tbody>\n",
       "    <tr>\n",
       "      <th>0</th>\n",
       "      <td>836aadd78</td>\n",
       "      <td>a93475d10</td>\n",
       "    </tr>\n",
       "    <tr>\n",
       "      <th>1</th>\n",
       "      <td>836aadd78</td>\n",
       "      <td>55fce44a3</td>\n",
       "    </tr>\n",
       "    <tr>\n",
       "      <th>2</th>\n",
       "      <td>a93475d10</td>\n",
       "      <td>df525e622</td>\n",
       "    </tr>\n",
       "    <tr>\n",
       "      <th>3</th>\n",
       "      <td>55fce44a3</td>\n",
       "      <td>6d9d59c31</td>\n",
       "    </tr>\n",
       "    <tr>\n",
       "      <th>4</th>\n",
       "      <td>6d9d59c31</td>\n",
       "      <td>084bd2a9a</td>\n",
       "    </tr>\n",
       "    <tr>\n",
       "      <th>...</th>\n",
       "      <td>...</td>\n",
       "      <td>...</td>\n",
       "    </tr>\n",
       "    <tr>\n",
       "      <th>160529</th>\n",
       "      <td>24778e335</td>\n",
       "      <td>19b2860cb</td>\n",
       "    </tr>\n",
       "    <tr>\n",
       "      <th>160530</th>\n",
       "      <td>19b2860cb</td>\n",
       "      <td>bf0c6e839</td>\n",
       "    </tr>\n",
       "    <tr>\n",
       "      <th>160531</th>\n",
       "      <td>bf0c6e839</td>\n",
       "      <td>e497ea2a9</td>\n",
       "    </tr>\n",
       "    <tr>\n",
       "      <th>160532</th>\n",
       "      <td>e497ea2a9</td>\n",
       "      <td>8bc9a0c76</td>\n",
       "    </tr>\n",
       "    <tr>\n",
       "      <th>160533</th>\n",
       "      <td>8bc9a0c76</td>\n",
       "      <td>e83c51633</td>\n",
       "    </tr>\n",
       "  </tbody>\n",
       "</table>\n",
       "<p>160534 rows × 2 columns</p>\n",
       "</div>"
      ],
      "text/plain": [
       "           source     target\n",
       "0       836aadd78  a93475d10\n",
       "1       836aadd78  55fce44a3\n",
       "2       a93475d10  df525e622\n",
       "3       55fce44a3  6d9d59c31\n",
       "4       6d9d59c31  084bd2a9a\n",
       "...           ...        ...\n",
       "160529  24778e335  19b2860cb\n",
       "160530  19b2860cb  bf0c6e839\n",
       "160531  bf0c6e839  e497ea2a9\n",
       "160532  e497ea2a9  8bc9a0c76\n",
       "160533  8bc9a0c76  e83c51633\n",
       "\n",
       "[160534 rows x 2 columns]"
      ]
     },
     "execution_count": null,
     "metadata": {},
     "output_type": "execute_result"
    }
   ],
   "source": [
    "graph_git_df = nx.to_pandas_edgelist(graph_git)\n",
    "graph_git_df"
   ]
  },
  {
   "cell_type": "code",
   "execution_count": null,
   "metadata": {},
   "outputs": [
    {
     "name": "stdout",
     "output_type": "stream",
     "text": [
      "Wall time: 1.9 s\n"
     ]
    }
   ],
   "source": [
    "%%time\n",
    "graph_git_df.to_pickle('datasets/git-commit_graph.df_edgelist.pickle.gz')"
   ]
  },
  {
   "cell_type": "code",
   "execution_count": null,
   "metadata": {},
   "outputs": [
    {
     "name": "stdout",
     "output_type": "stream",
     "text": [
      "Wall time: 1.2 s\n"
     ]
    }
   ],
   "source": [
    "%%time\n",
    "graph_git_df.to_csv('datasets/git-commit_graph.df_edgelist.csv.gz')"
   ]
  },
  {
   "cell_type": "markdown",
   "metadata": {},
   "source": [
    "Both `to_feather()` and `to_parquet()` need `pyarrow` module installed (the latter might use `fastparquet` instead)"
   ]
  },
  {
   "cell_type": "code",
   "execution_count": null,
   "metadata": {},
   "outputs": [
    {
     "name": "stdout",
     "output_type": "stream",
     "text": [
      "Wall time: 487 ms\n"
     ]
    }
   ],
   "source": [
    "%%time\n",
    "try:\n",
    "    graph_git_df.to_feather('datasets/git-commit_graph.df_edgelist.feather')\n",
    "except ImportError:\n",
    "    print(\"Missing optional dependency 'pyarrow' required to save dataframe to the feather format\")"
   ]
  },
  {
   "cell_type": "code",
   "execution_count": null,
   "metadata": {},
   "outputs": [
    {
     "name": "stdout",
     "output_type": "stream",
     "text": [
      "Wall time: 157 ms\n"
     ]
    }
   ],
   "source": [
    "%%time\n",
    "try:\n",
    "    graph_git_df.to_parquet('datasets/git-commit_graph.df_edgelist.parquet')\n",
    "except ImportError:\n",
    "    print(\"Missing optional dependency 'pyarrow' or 'fastparquet' required to save dataframe to the parquet format\")"
   ]
  },
  {
   "cell_type": "code",
   "execution_count": null,
   "metadata": {},
   "outputs": [
    {
     "name": "stdout",
     "output_type": "stream",
     "text": [
      "Wall time: 244 ms\n"
     ]
    }
   ],
   "source": [
    "%%time\n",
    "graph_git_df.to_hdf('datasets/git-commit_graph.df_edgelist.hdf5', 'df_edgelist', mode='w', complevel=6)"
   ]
  },
  {
   "cell_type": "markdown",
   "metadata": {},
   "source": [
    "### Comparing the filesize of different graph output formats"
   ]
  },
  {
   "cell_type": "code",
   "execution_count": null,
   "metadata": {},
   "outputs": [
    {
     "name": "stdout",
     "output_type": "stream",
     "text": [
      " Volume in drive C has no label.\n",
      " Volume Serial Number is 1291-749D\n",
      "\n",
      " Directory of C:\\Users\\jnare\\OneDrive\\Dokumenty\\GitHub\\git-commit-graph-ext\\datasets\n",
      "\n",
      "14.12.2020  15:37    <DIR>          .\n",
      "14.12.2020  15:37    <DIR>          ..\n",
      "14.12.2020  11:45         2˙875˙179 git-commit_graph.adjlist.txt\n",
      "14.12.2020  15:37         1˙173˙712 git-commit_graph.adjlist.txt.gz\n",
      "14.12.2020  12:05         4˙383˙858 git-commit_graph.df_edgelist.csv\n",
      "14.12.2020  12:05         1˙629˙263 git-commit_graph.df_edgelist.csv.gz\n",
      "14.12.2020  11:45         3˙857˙818 git-commit_graph.df_edgelist.feather\n",
      "14.12.2020  13:51         3˙808˙521 git-commit_graph.df_edgelist.hdf5\n",
      "14.12.2020  11:45         3˙116˙020 git-commit_graph.df_edgelist.parquet\n",
      "14.12.2020  11:45         1˙332˙691 git-commit_graph.df_edgelist.pickle.gz\n",
      "14.12.2020  12:32         3˙692˙282 git-commit_graph.edgelist.txt\n",
      "14.12.2020  12:32         3˙063˙783 git-commit_graph.gexf.gz\n",
      "14.12.2020  12:32         3˙254˙690 git-commit_graph.gpickle.gz\n",
      "14.12.2020  12:32         2˙231˙397 git-commit_graph.graphml.gz\n",
      "14.12.2020  12:32         3˙610˙938 git-commit_graph.multiline_adjlist.txt\n",
      "14.12.2020  12:32         1˙754˙236 git-commit_graph.pajek.gz\n",
      "              14 File(s)     39˙784˙388 bytes\n",
      "               2 Dir(s)  695˙712˙038˙912 bytes free\n"
     ]
    }
   ],
   "source": [
    "!dir datasets"
   ]
  },
  {
   "cell_type": "code",
   "execution_count": null,
   "metadata": {},
   "outputs": [
    {
     "data": {
      "text/html": [
       "<div>\n",
       "<style scoped>\n",
       "    .dataframe tbody tr th:only-of-type {\n",
       "        vertical-align: middle;\n",
       "    }\n",
       "\n",
       "    .dataframe tbody tr th {\n",
       "        vertical-align: top;\n",
       "    }\n",
       "\n",
       "    .dataframe thead th {\n",
       "        text-align: right;\n",
       "    }\n",
       "</style>\n",
       "<table border=\"1\" class=\"dataframe\">\n",
       "  <thead>\n",
       "    <tr style=\"text-align: right;\">\n",
       "      <th></th>\n",
       "      <th>filename</th>\n",
       "      <th>size [bytes]</th>\n",
       "      <th>size uncompressed [bytes]</th>\n",
       "      <th>time [s]</th>\n",
       "    </tr>\n",
       "  </thead>\n",
       "  <tbody>\n",
       "    <tr>\n",
       "      <th>0</th>\n",
       "      <td>git-commit_graph.adjlist.txt</td>\n",
       "      <td>2875179</td>\n",
       "      <td>2875179</td>\n",
       "      <td>NaN</td>\n",
       "    </tr>\n",
       "    <tr>\n",
       "      <th>1</th>\n",
       "      <td>git-commit_graph.adjlist.txt.gz</td>\n",
       "      <td>1173712</td>\n",
       "      <td>2875369</td>\n",
       "      <td>0.910</td>\n",
       "    </tr>\n",
       "    <tr>\n",
       "      <th>2</th>\n",
       "      <td>git-commit_graph.multiline_adjlist.txt</td>\n",
       "      <td>3610938</td>\n",
       "      <td>3610938</td>\n",
       "      <td>0.456</td>\n",
       "    </tr>\n",
       "    <tr>\n",
       "      <th>3</th>\n",
       "      <td>git-commit_graph.edgelist.txt</td>\n",
       "      <td>3692282</td>\n",
       "      <td>3692282</td>\n",
       "      <td>0.624</td>\n",
       "    </tr>\n",
       "    <tr>\n",
       "      <th>4</th>\n",
       "      <td>git-commit_graph.gpickle.gz</td>\n",
       "      <td>3254690</td>\n",
       "      <td>7712162</td>\n",
       "      <td>4.920</td>\n",
       "    </tr>\n",
       "    <tr>\n",
       "      <th>5</th>\n",
       "      <td>git-commit_graph.gexf.gz</td>\n",
       "      <td>3063783</td>\n",
       "      <td>16419236</td>\n",
       "      <td>9.490</td>\n",
       "    </tr>\n",
       "    <tr>\n",
       "      <th>6</th>\n",
       "      <td>git-commit_graph.graphml.gz</td>\n",
       "      <td>2231397</td>\n",
       "      <td>10305482</td>\n",
       "      <td>4.740</td>\n",
       "    </tr>\n",
       "    <tr>\n",
       "      <th>7</th>\n",
       "      <td>git-commit_graph.pajek.gz</td>\n",
       "      <td>1754236</td>\n",
       "      <td>6682509</td>\n",
       "      <td>6.740</td>\n",
       "    </tr>\n",
       "    <tr>\n",
       "      <th>8</th>\n",
       "      <td>git-commit_graph.df_edgelist.pickle.gz</td>\n",
       "      <td>1332691</td>\n",
       "      <td>2736191</td>\n",
       "      <td>1.900</td>\n",
       "    </tr>\n",
       "    <tr>\n",
       "      <th>9</th>\n",
       "      <td>git-commit_graph.df_edgelist.feather</td>\n",
       "      <td>3857818</td>\n",
       "      <td>3857818</td>\n",
       "      <td>0.487</td>\n",
       "    </tr>\n",
       "    <tr>\n",
       "      <th>10</th>\n",
       "      <td>git-commit_graph.df_edgelist.parquet</td>\n",
       "      <td>3116020</td>\n",
       "      <td>3116020</td>\n",
       "      <td>0.333</td>\n",
       "    </tr>\n",
       "    <tr>\n",
       "      <th>11</th>\n",
       "      <td>git-commit_graph.df_edgelist.csv</td>\n",
       "      <td>4383858</td>\n",
       "      <td>4383858</td>\n",
       "      <td>NaN</td>\n",
       "    </tr>\n",
       "    <tr>\n",
       "      <th>12</th>\n",
       "      <td>git-commit_graph.df_edgelist.csv.gz</td>\n",
       "      <td>1629263</td>\n",
       "      <td>4383858</td>\n",
       "      <td>1.200</td>\n",
       "    </tr>\n",
       "    <tr>\n",
       "      <th>13</th>\n",
       "      <td>git-commit_graph.df_edgelist.hdf5</td>\n",
       "      <td>3808521</td>\n",
       "      <td>5077784</td>\n",
       "      <td>0.244</td>\n",
       "    </tr>\n",
       "  </tbody>\n",
       "</table>\n",
       "</div>"
      ],
      "text/plain": [
       "                                  filename  size [bytes]  \\\n",
       "0             git-commit_graph.adjlist.txt       2875179   \n",
       "1          git-commit_graph.adjlist.txt.gz       1173712   \n",
       "2   git-commit_graph.multiline_adjlist.txt       3610938   \n",
       "3            git-commit_graph.edgelist.txt       3692282   \n",
       "4              git-commit_graph.gpickle.gz       3254690   \n",
       "5                 git-commit_graph.gexf.gz       3063783   \n",
       "6              git-commit_graph.graphml.gz       2231397   \n",
       "7                git-commit_graph.pajek.gz       1754236   \n",
       "8   git-commit_graph.df_edgelist.pickle.gz       1332691   \n",
       "9     git-commit_graph.df_edgelist.feather       3857818   \n",
       "10    git-commit_graph.df_edgelist.parquet       3116020   \n",
       "11        git-commit_graph.df_edgelist.csv       4383858   \n",
       "12     git-commit_graph.df_edgelist.csv.gz       1629263   \n",
       "13       git-commit_graph.df_edgelist.hdf5       3808521   \n",
       "\n",
       "    size uncompressed [bytes]  time [s]  \n",
       "0                     2875179       NaN  \n",
       "1                     2875369     0.910  \n",
       "2                     3610938     0.456  \n",
       "3                     3692282     0.624  \n",
       "4                     7712162     4.920  \n",
       "5                    16419236     9.490  \n",
       "6                    10305482     4.740  \n",
       "7                     6682509     6.740  \n",
       "8                     2736191     1.900  \n",
       "9                     3857818     0.487  \n",
       "10                    3116020     0.333  \n",
       "11                    4383858       NaN  \n",
       "12                    4383858     1.200  \n",
       "13                    5077784     0.244  "
      ]
     },
     "execution_count": null,
     "metadata": {},
     "output_type": "execute_result"
    }
   ],
   "source": [
    "import io\n",
    "\n",
    "csv = u\"\"\"filename;size [bytes];size uncompressed [bytes];time [s]\n",
    "git-commit_graph.adjlist.txt;2875179;2875179\n",
    "git-commit_graph.adjlist.txt.gz;1173712;2875369;0.910\n",
    "git-commit_graph.multiline_adjlist.txt;3610938;3610938;0.456\n",
    "git-commit_graph.edgelist.txt;3692282;3692282;0.624\n",
    "git-commit_graph.gpickle.gz;3254690;7712162;4.92\n",
    "git-commit_graph.gexf.gz;3063783;16419236;9.49\n",
    "git-commit_graph.graphml.gz;2231397;10305482;4.74\n",
    "git-commit_graph.pajek.gz;1754236;6682509;6.74\n",
    "git-commit_graph.df_edgelist.pickle.gz;1332691;2736191;1.9\n",
    "git-commit_graph.df_edgelist.feather;3857818;3857818;0.487\n",
    "git-commit_graph.df_edgelist.parquet;3116020;3116020;0.333\n",
    "git-commit_graph.df_edgelist.csv;4383858;4383858\n",
    "git-commit_graph.df_edgelist.csv.gz;1629263;4383858;1.2\n",
    "git-commit_graph.df_edgelist.hdf5;3808521;5077784;0.244\n",
    "\"\"\"\n",
    "\n",
    "csv_stream = io.StringIO(csv)\n",
    "table_sizes=pd.read_csv(csv_stream,sep=';') # ,index_col=0\n",
    "table_sizes"
   ]
  },
  {
   "cell_type": "code",
   "execution_count": null,
   "metadata": {},
   "outputs": [
    {
     "data": {
      "text/plain": [
       "filename                      object\n",
       "size [bytes]                   int64\n",
       "size uncompressed [bytes]      int64\n",
       "time [s]                     float64\n",
       "dtype: object"
      ]
     },
     "execution_count": null,
     "metadata": {},
     "output_type": "execute_result"
    }
   ],
   "source": [
    "table_sizes.dtypes"
   ]
  },
  {
   "cell_type": "code",
   "execution_count": null,
   "metadata": {},
   "outputs": [
    {
     "data": {
      "text/html": [
       "<div>\n",
       "<style scoped>\n",
       "    .dataframe tbody tr th:only-of-type {\n",
       "        vertical-align: middle;\n",
       "    }\n",
       "\n",
       "    .dataframe tbody tr th {\n",
       "        vertical-align: top;\n",
       "    }\n",
       "\n",
       "    .dataframe thead th {\n",
       "        text-align: right;\n",
       "    }\n",
       "</style>\n",
       "<table border=\"1\" class=\"dataframe\">\n",
       "  <thead>\n",
       "    <tr style=\"text-align: right;\">\n",
       "      <th></th>\n",
       "      <th>filename</th>\n",
       "      <th>size [bytes]</th>\n",
       "      <th>size uncompressed [bytes]</th>\n",
       "      <th>time [s]</th>\n",
       "    </tr>\n",
       "  </thead>\n",
       "  <tbody>\n",
       "    <tr>\n",
       "      <th>1</th>\n",
       "      <td>git-commit_graph.adjlist.txt.gz</td>\n",
       "      <td>1173712</td>\n",
       "      <td>2875179</td>\n",
       "      <td>0.910</td>\n",
       "    </tr>\n",
       "    <tr>\n",
       "      <th>8</th>\n",
       "      <td>git-commit_graph.df_edgelist.pickle.gz</td>\n",
       "      <td>1332691</td>\n",
       "      <td>2736191</td>\n",
       "      <td>1.900</td>\n",
       "    </tr>\n",
       "    <tr>\n",
       "      <th>12</th>\n",
       "      <td>git-commit_graph.df_edgelist.csv.gz</td>\n",
       "      <td>1629263</td>\n",
       "      <td>4383858</td>\n",
       "      <td>1.200</td>\n",
       "    </tr>\n",
       "    <tr>\n",
       "      <th>7</th>\n",
       "      <td>git-commit_graph.pajek.gz</td>\n",
       "      <td>1754236</td>\n",
       "      <td>6682509</td>\n",
       "      <td>6.740</td>\n",
       "    </tr>\n",
       "    <tr>\n",
       "      <th>6</th>\n",
       "      <td>git-commit_graph.graphml.gz</td>\n",
       "      <td>2231397</td>\n",
       "      <td>10305482</td>\n",
       "      <td>4.740</td>\n",
       "    </tr>\n",
       "    <tr>\n",
       "      <th>0</th>\n",
       "      <td>git-commit_graph.adjlist.txt</td>\n",
       "      <td>2875179</td>\n",
       "      <td>2875179</td>\n",
       "      <td>NaN</td>\n",
       "    </tr>\n",
       "    <tr>\n",
       "      <th>5</th>\n",
       "      <td>git-commit_graph.gexf.gz</td>\n",
       "      <td>3063783</td>\n",
       "      <td>16419236</td>\n",
       "      <td>9.490</td>\n",
       "    </tr>\n",
       "    <tr>\n",
       "      <th>10</th>\n",
       "      <td>git-commit_graph.df_edgelist.parquet</td>\n",
       "      <td>3116020</td>\n",
       "      <td>3116020</td>\n",
       "      <td>0.333</td>\n",
       "    </tr>\n",
       "    <tr>\n",
       "      <th>4</th>\n",
       "      <td>git-commit_graph.gpickle.gz</td>\n",
       "      <td>3254690</td>\n",
       "      <td>7712162</td>\n",
       "      <td>4.920</td>\n",
       "    </tr>\n",
       "    <tr>\n",
       "      <th>2</th>\n",
       "      <td>git-commit_graph.multiline_adjlist.txt</td>\n",
       "      <td>3610938</td>\n",
       "      <td>3610938</td>\n",
       "      <td>0.456</td>\n",
       "    </tr>\n",
       "    <tr>\n",
       "      <th>3</th>\n",
       "      <td>git-commit_graph.edgelist.txt</td>\n",
       "      <td>3692282</td>\n",
       "      <td>3610938</td>\n",
       "      <td>0.624</td>\n",
       "    </tr>\n",
       "    <tr>\n",
       "      <th>13</th>\n",
       "      <td>git-commit_graph.df_edgelist.hdf5</td>\n",
       "      <td>3808521</td>\n",
       "      <td>5077784</td>\n",
       "      <td>0.244</td>\n",
       "    </tr>\n",
       "    <tr>\n",
       "      <th>9</th>\n",
       "      <td>git-commit_graph.df_edgelist.feather</td>\n",
       "      <td>3857818</td>\n",
       "      <td>3857818</td>\n",
       "      <td>0.487</td>\n",
       "    </tr>\n",
       "    <tr>\n",
       "      <th>11</th>\n",
       "      <td>git-commit_graph.df_edgelist.csv</td>\n",
       "      <td>4383858</td>\n",
       "      <td>4383858</td>\n",
       "      <td>NaN</td>\n",
       "    </tr>\n",
       "  </tbody>\n",
       "</table>\n",
       "</div>"
      ],
      "text/plain": [
       "                                  filename  size [bytes]  \\\n",
       "1          git-commit_graph.adjlist.txt.gz       1173712   \n",
       "8   git-commit_graph.df_edgelist.pickle.gz       1332691   \n",
       "12     git-commit_graph.df_edgelist.csv.gz       1629263   \n",
       "7                git-commit_graph.pajek.gz       1754236   \n",
       "6              git-commit_graph.graphml.gz       2231397   \n",
       "0             git-commit_graph.adjlist.txt       2875179   \n",
       "5                 git-commit_graph.gexf.gz       3063783   \n",
       "10    git-commit_graph.df_edgelist.parquet       3116020   \n",
       "4              git-commit_graph.gpickle.gz       3254690   \n",
       "2   git-commit_graph.multiline_adjlist.txt       3610938   \n",
       "3            git-commit_graph.edgelist.txt       3692282   \n",
       "13       git-commit_graph.df_edgelist.hdf5       3808521   \n",
       "9     git-commit_graph.df_edgelist.feather       3857818   \n",
       "11        git-commit_graph.df_edgelist.csv       4383858   \n",
       "\n",
       "    size uncompressed [bytes]  time [s]  \n",
       "1                     2875179     0.910  \n",
       "8                     2736191     1.900  \n",
       "12                    4383858     1.200  \n",
       "7                     6682509     6.740  \n",
       "6                    10305482     4.740  \n",
       "0                     2875179       NaN  \n",
       "5                    16419236     9.490  \n",
       "10                    3116020     0.333  \n",
       "4                     7712162     4.920  \n",
       "2                     3610938     0.456  \n",
       "3                     3610938     0.624  \n",
       "13                    5077784     0.244  \n",
       "9                     3857818     0.487  \n",
       "11                    4383858       NaN  "
      ]
     },
     "execution_count": null,
     "metadata": {},
     "output_type": "execute_result"
    }
   ],
   "source": [
    "table_sizes.sort_values(by='size [bytes]')"
   ]
  },
  {
   "cell_type": "code",
   "execution_count": null,
   "metadata": {},
   "outputs": [
    {
     "data": {
      "text/html": [
       "<div>\n",
       "<style scoped>\n",
       "    .dataframe tbody tr th:only-of-type {\n",
       "        vertical-align: middle;\n",
       "    }\n",
       "\n",
       "    .dataframe tbody tr th {\n",
       "        vertical-align: top;\n",
       "    }\n",
       "\n",
       "    .dataframe thead th {\n",
       "        text-align: right;\n",
       "    }\n",
       "</style>\n",
       "<table border=\"1\" class=\"dataframe\">\n",
       "  <thead>\n",
       "    <tr style=\"text-align: right;\">\n",
       "      <th></th>\n",
       "      <th>filename</th>\n",
       "      <th>size [bytes]</th>\n",
       "      <th>size uncompressed [bytes]</th>\n",
       "      <th>time [s]</th>\n",
       "    </tr>\n",
       "  </thead>\n",
       "  <tbody>\n",
       "    <tr>\n",
       "      <th>8</th>\n",
       "      <td>git-commit_graph.df_edgelist.pickle.gz</td>\n",
       "      <td>1332691</td>\n",
       "      <td>2736191</td>\n",
       "      <td>1.900</td>\n",
       "    </tr>\n",
       "    <tr>\n",
       "      <th>0</th>\n",
       "      <td>git-commit_graph.adjlist.txt</td>\n",
       "      <td>2875179</td>\n",
       "      <td>2875179</td>\n",
       "      <td>NaN</td>\n",
       "    </tr>\n",
       "    <tr>\n",
       "      <th>1</th>\n",
       "      <td>git-commit_graph.adjlist.txt.gz</td>\n",
       "      <td>1173712</td>\n",
       "      <td>2875179</td>\n",
       "      <td>0.910</td>\n",
       "    </tr>\n",
       "    <tr>\n",
       "      <th>10</th>\n",
       "      <td>git-commit_graph.df_edgelist.parquet</td>\n",
       "      <td>3116020</td>\n",
       "      <td>3116020</td>\n",
       "      <td>0.333</td>\n",
       "    </tr>\n",
       "    <tr>\n",
       "      <th>2</th>\n",
       "      <td>git-commit_graph.multiline_adjlist.txt</td>\n",
       "      <td>3610938</td>\n",
       "      <td>3610938</td>\n",
       "      <td>0.456</td>\n",
       "    </tr>\n",
       "    <tr>\n",
       "      <th>3</th>\n",
       "      <td>git-commit_graph.edgelist.txt</td>\n",
       "      <td>3692282</td>\n",
       "      <td>3610938</td>\n",
       "      <td>0.624</td>\n",
       "    </tr>\n",
       "    <tr>\n",
       "      <th>9</th>\n",
       "      <td>git-commit_graph.df_edgelist.feather</td>\n",
       "      <td>3857818</td>\n",
       "      <td>3857818</td>\n",
       "      <td>0.487</td>\n",
       "    </tr>\n",
       "    <tr>\n",
       "      <th>11</th>\n",
       "      <td>git-commit_graph.df_edgelist.csv</td>\n",
       "      <td>4383858</td>\n",
       "      <td>4383858</td>\n",
       "      <td>NaN</td>\n",
       "    </tr>\n",
       "    <tr>\n",
       "      <th>12</th>\n",
       "      <td>git-commit_graph.df_edgelist.csv.gz</td>\n",
       "      <td>1629263</td>\n",
       "      <td>4383858</td>\n",
       "      <td>1.200</td>\n",
       "    </tr>\n",
       "    <tr>\n",
       "      <th>13</th>\n",
       "      <td>git-commit_graph.df_edgelist.hdf5</td>\n",
       "      <td>3808521</td>\n",
       "      <td>5077784</td>\n",
       "      <td>0.244</td>\n",
       "    </tr>\n",
       "    <tr>\n",
       "      <th>7</th>\n",
       "      <td>git-commit_graph.pajek.gz</td>\n",
       "      <td>1754236</td>\n",
       "      <td>6682509</td>\n",
       "      <td>6.740</td>\n",
       "    </tr>\n",
       "    <tr>\n",
       "      <th>4</th>\n",
       "      <td>git-commit_graph.gpickle.gz</td>\n",
       "      <td>3254690</td>\n",
       "      <td>7712162</td>\n",
       "      <td>4.920</td>\n",
       "    </tr>\n",
       "    <tr>\n",
       "      <th>6</th>\n",
       "      <td>git-commit_graph.graphml.gz</td>\n",
       "      <td>2231397</td>\n",
       "      <td>10305482</td>\n",
       "      <td>4.740</td>\n",
       "    </tr>\n",
       "    <tr>\n",
       "      <th>5</th>\n",
       "      <td>git-commit_graph.gexf.gz</td>\n",
       "      <td>3063783</td>\n",
       "      <td>16419236</td>\n",
       "      <td>9.490</td>\n",
       "    </tr>\n",
       "  </tbody>\n",
       "</table>\n",
       "</div>"
      ],
      "text/plain": [
       "                                  filename  size [bytes]  \\\n",
       "8   git-commit_graph.df_edgelist.pickle.gz       1332691   \n",
       "0             git-commit_graph.adjlist.txt       2875179   \n",
       "1          git-commit_graph.adjlist.txt.gz       1173712   \n",
       "10    git-commit_graph.df_edgelist.parquet       3116020   \n",
       "2   git-commit_graph.multiline_adjlist.txt       3610938   \n",
       "3            git-commit_graph.edgelist.txt       3692282   \n",
       "9     git-commit_graph.df_edgelist.feather       3857818   \n",
       "11        git-commit_graph.df_edgelist.csv       4383858   \n",
       "12     git-commit_graph.df_edgelist.csv.gz       1629263   \n",
       "13       git-commit_graph.df_edgelist.hdf5       3808521   \n",
       "7                git-commit_graph.pajek.gz       1754236   \n",
       "4              git-commit_graph.gpickle.gz       3254690   \n",
       "6              git-commit_graph.graphml.gz       2231397   \n",
       "5                 git-commit_graph.gexf.gz       3063783   \n",
       "\n",
       "    size uncompressed [bytes]  time [s]  \n",
       "8                     2736191     1.900  \n",
       "0                     2875179       NaN  \n",
       "1                     2875179     0.910  \n",
       "10                    3116020     0.333  \n",
       "2                     3610938     0.456  \n",
       "3                     3610938     0.624  \n",
       "9                     3857818     0.487  \n",
       "11                    4383858       NaN  \n",
       "12                    4383858     1.200  \n",
       "13                    5077784     0.244  \n",
       "7                     6682509     6.740  \n",
       "4                     7712162     4.920  \n",
       "6                    10305482     4.740  \n",
       "5                    16419236     9.490  "
      ]
     },
     "execution_count": null,
     "metadata": {},
     "output_type": "execute_result"
    }
   ],
   "source": [
    "table_sizes.sort_values(by='size uncompressed [bytes]')"
   ]
  },
  {
   "cell_type": "markdown",
   "metadata": {},
   "source": [
    "### Summary of findings"
   ]
  },
  {
   "cell_type": "markdown",
   "metadata": {},
   "source": [
    "<u>Storing DataFrame of edgelist data</u>\n",
    "\n",
    "The DataFrame is created using `nx.to_pandas_edgelist(graph)`"
   ]
  },
  {
   "cell_type": "markdown",
   "metadata": {},
   "source": [
    "The smallest file is the result of storing DataFrame of edgelist data as gzipped pickle (written using Pandas' `to_pickle()`) - the **\\*.df_edgelist.pickle.gz** file.\n",
    "\n",
    "- Advantages:\n",
    "  - 2nd smallest size\n",
    "  - no extra modules to install\n",
    "  - preserves types\n",
    "- Disadvantages:\n",
    "  - Python-specific\n",
    "  - unsafe\n",
    "  - slow (?)"
   ]
  },
  {
   "cell_type": "markdown",
   "metadata": {},
   "source": [
    "Next smallest is, surprisingly, gzipped CSV representing DataFrame of edgelist data (written using Pandas' `to_csv()`) - the **\\*.df_edgelist.csv.gz** file.\n",
    "\n",
    "- Advantages:\n",
    "  - 3rd smallest size\n",
    "  - no extra modules to install\n",
    "  - universal format\n",
    "- Disadvantages:\n",
    "  - slow (?)"
   ]
  },
  {
   "cell_type": "markdown",
   "metadata": {},
   "source": [
    "The fast interchange formats, [Feather](https://github.com/wesm/feather) and [Parquet](https://parquet.apache.org/) turned out to produce quite large files; they are however 4th smallest and 2nd smallest, respectively, among uncompressed formats.\n",
    "\n",
    "**_Feather_** provides a binary columnar serialization for data frames. It is designed to make reading and writing data frames efficient, and to make sharing data across data analysis languages easy.\n",
    "\n",
    "Feather is designed to faithfully serialize and de-serialize `DataFrame`s, supporting all of the pandas dtypes, including extension dtypes such as categorical and datetime with tz.\n",
    "\n",
    "**_Apache Parquet_** provides a _partitioned_ binary columnar serialization for data frames. It is designed to make reading and writing data frames efficient, and to make sharing data across data analysis languages easy. Parquet can use a variety of compression techniques (default is to use 'snappy') to shrink the file size as much as possible while still maintaining good read performance.\n",
    "\n",
    "Parquet is designed to faithfully serialize and de-serialize `DataFrame`s, supporting all of the pandas dtypes, including extension dtypes such as datetime with tz.\n",
    "\n",
    "- Advantages:\n",
    "  - universal, cross language\n",
    "  - preserves types\n",
    "  - fast\n",
    "- Disadvantages:\n",
    "  - requires `pyarrow` package to be installed\n",
    "  - quite large file size"
   ]
  },
  {
   "cell_type": "markdown",
   "metadata": {},
   "source": [
    "The **_HDF5_** format has the advantage of being able to store multiple `DataFrame`s in a single file, for example one `DataFrame` to hold edgelist data to define the graph connections, and one `DataFrame` holding various per vertex (per node) rechablity index data.  Unfortunately, even internally compressed it has one of larger file sizes (and largest compressed).\n",
    "\n",
    "[Hierarchical Data Format (HDF)](https://portal.hdfgroup.org/display/HDF5/HDF5) is self-describing, allowing an application to interpret the structure and contents of a file with no outside information. One HDF file can hold a mix of related objects which can be accessed as a group or as individual objects.\n",
    "\n",
    "The `to_hdf()` method in Pandas uses the `HDFStore` in the background, which in turn utilizes the [PyTables](https://www.pytables.org/) library.\n",
    "\n",
    "- Advantages:\n",
    "  - universal, cross language\n",
    "  - preserves types\n",
    "  - no extra modules to install (?)\n",
    "  - can store multiple `DataFrame`s\n",
    "- Disadvantages:\n",
    "  - large file size\n",
    "  - slow (?)\n",
    "  - unsafe (because of serializing object-dtype data with pickle)"
   ]
  },
  {
   "cell_type": "markdown",
   "metadata": {},
   "source": [
    "----\n",
    "<u>Storing NetworkX DiGraph directly</u>"
   ]
  },
  {
   "cell_type": "markdown",
   "metadata": {},
   "source": [
    "Except for the adjacency lists format (**\\*.adjlist.txt**), which cannot store any additional data (not even per-edge), the multi-line adjacency lists (**\\*.multiline_adjlist.txt**) and edge lists (**\\*.edgelist.txt**) formats have file sizes larger than the Parquet storing `DataFrame` of edge lists.  Note however that they are uncompressed.\n",
    "\n",
    "The adjacency list format can be created directly by appropriate Git command.\n",
    "\n",
    "Because those formats cannot store per-node data, they are not considered for use."
   ]
  },
  {
   "cell_type": "markdown",
   "metadata": {},
   "source": [
    "Among specialized graph file formats, which I assume can store both per-node and per-edge data, **_Pajek_** format is smallest (compressed), and 4th smallest among all considered storage formats.  It is also smallest uncompressed among similar file formats."
   ]
  },
  {
   "cell_type": "markdown",
   "metadata": {},
   "source": [
    "Writing NetworkX graphs as Python pickles using `write_gpickle()` (\\***.gpickle.gz**) results in quite large file compressed, one of the largest files uncompressed.\n",
    "\n",
    "On the other hand NetworkX graphs can contain any hashable Python object as node (not just integers and strings). For arbitrary data types it may be difficult to represent the data as text. In that case using Python pickles to store the graph data can be used."
   ]
  },
  {
   "cell_type": "markdown",
   "metadata": {},
   "source": [
    "## Examining computing and storing reachability labels and other per-node data"
   ]
  },
  {
   "cell_type": "code",
   "execution_count": null,
   "metadata": {},
   "outputs": [],
   "source": [
    "from git_commit_graph_ext.labelling.levels import *\n",
    "from git_commit_graph_ext.labelling.dfs_intervals import *"
   ]
  },
  {
   "cell_type": "code",
   "execution_count": null,
   "metadata": {},
   "outputs": [],
   "source": [
    "import numpy as np"
   ]
  },
  {
   "cell_type": "markdown",
   "metadata": {},
   "source": [
    "### Computing reachability labels for git.git commit graph"
   ]
  },
  {
   "cell_type": "code",
   "execution_count": null,
   "metadata": {},
   "outputs": [
    {
     "name": "stdout",
     "output_type": "stream",
     "text": [
      "git.git commit graph\n",
      "graph has 126983 nodes and 160534 edges\n",
      "find levels:\n",
      "Wall time: 4.66 s\n",
      "\n",
      "find min-post intervals:\n",
      "Wall time: 11.1 s\n",
      "\n",
      "find min-post intervals (graph+tree):\n",
      "Wall time: 3.94 s\n"
     ]
    }
   ],
   "source": [
    "print('git.git commit graph')\n",
    "graph = graph_git\n",
    "\n",
    "print('graph has {} nodes and {} edges'.format(graph.number_of_nodes(), graph.number_of_edges()))\n",
    "\n",
    "print('find levels:')\n",
    "%time graph.lvl = find_levels(graph)\n",
    "print('\\nfind min-post intervals:')\n",
    "%time graph.mpi = find_dfs_intervals(graph)\n",
    "print('\\nfind min-post intervals (graph+tree):')\n",
    "%time graph.mpi_ext = find_dfs_intervals_extra(graph)"
   ]
  },
  {
   "cell_type": "markdown",
   "metadata": {},
   "source": [
    "All times to calculate different graph indices for git.git commit graph take around few second."
   ]
  },
  {
   "cell_type": "code",
   "execution_count": null,
   "metadata": {},
   "outputs": [
    {
     "name": "stdout",
     "output_type": "stream",
     "text": [
      "git.git commit graph\n"
     ]
    },
    {
     "data": {
      "text/html": [
       "<div>\n",
       "<style scoped>\n",
       "    .dataframe tbody tr th:only-of-type {\n",
       "        vertical-align: middle;\n",
       "    }\n",
       "\n",
       "    .dataframe tbody tr th {\n",
       "        vertical-align: top;\n",
       "    }\n",
       "\n",
       "    .dataframe thead th {\n",
       "        text-align: right;\n",
       "    }\n",
       "</style>\n",
       "<table border=\"1\" class=\"dataframe\">\n",
       "  <thead>\n",
       "    <tr style=\"text-align: right;\">\n",
       "      <th></th>\n",
       "      <th>level</th>\n",
       "      <th>in degree</th>\n",
       "      <th>out degree</th>\n",
       "      <th>f_min</th>\n",
       "      <th>min</th>\n",
       "      <th>post</th>\n",
       "    </tr>\n",
       "  </thead>\n",
       "  <tbody>\n",
       "    <tr>\n",
       "      <th>e83c51633</th>\n",
       "      <td>0</td>\n",
       "      <td>1</td>\n",
       "      <td>0</td>\n",
       "      <td>1</td>\n",
       "      <td>1</td>\n",
       "      <td>1</td>\n",
       "    </tr>\n",
       "    <tr>\n",
       "      <th>8bc9a0c76</th>\n",
       "      <td>1</td>\n",
       "      <td>1</td>\n",
       "      <td>1</td>\n",
       "      <td>1</td>\n",
       "      <td>1</td>\n",
       "      <td>2</td>\n",
       "    </tr>\n",
       "    <tr>\n",
       "      <th>e497ea2a9</th>\n",
       "      <td>2</td>\n",
       "      <td>1</td>\n",
       "      <td>1</td>\n",
       "      <td>1</td>\n",
       "      <td>1</td>\n",
       "      <td>3</td>\n",
       "    </tr>\n",
       "    <tr>\n",
       "      <th>bf0c6e839</th>\n",
       "      <td>3</td>\n",
       "      <td>1</td>\n",
       "      <td>1</td>\n",
       "      <td>1</td>\n",
       "      <td>1</td>\n",
       "      <td>4</td>\n",
       "    </tr>\n",
       "    <tr>\n",
       "      <th>19b2860cb</th>\n",
       "      <td>4</td>\n",
       "      <td>1</td>\n",
       "      <td>1</td>\n",
       "      <td>1</td>\n",
       "      <td>1</td>\n",
       "      <td>5</td>\n",
       "    </tr>\n",
       "    <tr>\n",
       "      <th>...</th>\n",
       "      <td>...</td>\n",
       "      <td>...</td>\n",
       "      <td>...</td>\n",
       "      <td>...</td>\n",
       "      <td>...</td>\n",
       "      <td>...</td>\n",
       "    </tr>\n",
       "    <tr>\n",
       "      <th>6380b97d5</th>\n",
       "      <td>10986</td>\n",
       "      <td>1</td>\n",
       "      <td>1</td>\n",
       "      <td>1</td>\n",
       "      <td>126951</td>\n",
       "      <td>126979</td>\n",
       "    </tr>\n",
       "    <tr>\n",
       "      <th>ca865d923</th>\n",
       "      <td>10987</td>\n",
       "      <td>1</td>\n",
       "      <td>1</td>\n",
       "      <td>1</td>\n",
       "      <td>126951</td>\n",
       "      <td>126980</td>\n",
       "    </tr>\n",
       "    <tr>\n",
       "      <th>84b4fb665</th>\n",
       "      <td>10988</td>\n",
       "      <td>1</td>\n",
       "      <td>1</td>\n",
       "      <td>1</td>\n",
       "      <td>126951</td>\n",
       "      <td>126981</td>\n",
       "    </tr>\n",
       "    <tr>\n",
       "      <th>38970e663</th>\n",
       "      <td>10989</td>\n",
       "      <td>1</td>\n",
       "      <td>1</td>\n",
       "      <td>1</td>\n",
       "      <td>126951</td>\n",
       "      <td>126982</td>\n",
       "    </tr>\n",
       "    <tr>\n",
       "      <th>8d737f860</th>\n",
       "      <td>10990</td>\n",
       "      <td>0</td>\n",
       "      <td>1</td>\n",
       "      <td>1</td>\n",
       "      <td>126951</td>\n",
       "      <td>126983</td>\n",
       "    </tr>\n",
       "  </tbody>\n",
       "</table>\n",
       "<p>126983 rows × 6 columns</p>\n",
       "</div>"
      ],
      "text/plain": [
       "           level  in degree  out degree  f_min     min    post\n",
       "e83c51633      0          1           0      1       1       1\n",
       "8bc9a0c76      1          1           1      1       1       2\n",
       "e497ea2a9      2          1           1      1       1       3\n",
       "bf0c6e839      3          1           1      1       1       4\n",
       "19b2860cb      4          1           1      1       1       5\n",
       "...          ...        ...         ...    ...     ...     ...\n",
       "6380b97d5  10986          1           1      1  126951  126979\n",
       "ca865d923  10987          1           1      1  126951  126980\n",
       "84b4fb665  10988          1           1      1  126951  126981\n",
       "38970e663  10989          1           1      1  126951  126982\n",
       "8d737f860  10990          0           1      1  126951  126983\n",
       "\n",
       "[126983 rows x 6 columns]"
      ]
     },
     "execution_count": null,
     "metadata": {},
     "output_type": "execute_result"
    }
   ],
   "source": [
    "# calculating parameters of the git.git commit graphs: distribution of in-degree, out-degree and level\n",
    "print('git.git commit graph')\n",
    "graph = graph_git\n",
    "\n",
    "graph_info_df=pd.DataFrame.from_dict(graph.lvl,orient='index').rename(columns={0: 'level'})\n",
    "graph_info_df.index.name='node'\n",
    "graph_info_df['in degree']=pd.Series(dict(graph.in_degree()))\n",
    "graph_info_df['out degree']=pd.Series(dict(graph.out_degree()))\n",
    "\n",
    "graph_info_df = pd.concat([graph_info_df,\n",
    "                           pd.DataFrame.from_dict(graph.mpi_ext,orient='index',columns=['f_min','min','post'])],\n",
    "                          axis=1,join='inner')\n",
    "\n",
    "graph_info_df"
   ]
  },
  {
   "cell_type": "code",
   "execution_count": null,
   "metadata": {},
   "outputs": [
    {
     "data": {
      "text/plain": [
       "level         int64\n",
       "in degree     int64\n",
       "out degree    int64\n",
       "f_min         int64\n",
       "min           int64\n",
       "post          int64\n",
       "dtype: object"
      ]
     },
     "execution_count": null,
     "metadata": {},
     "output_type": "execute_result"
    }
   ],
   "source": [
    "graph_info_df.dtypes"
   ]
  },
  {
   "cell_type": "code",
   "execution_count": null,
   "metadata": {},
   "outputs": [
    {
     "data": {
      "text/html": [
       "<div>\n",
       "<style scoped>\n",
       "    .dataframe tbody tr th:only-of-type {\n",
       "        vertical-align: middle;\n",
       "    }\n",
       "\n",
       "    .dataframe tbody tr th {\n",
       "        vertical-align: top;\n",
       "    }\n",
       "\n",
       "    .dataframe thead th {\n",
       "        text-align: right;\n",
       "    }\n",
       "</style>\n",
       "<table border=\"1\" class=\"dataframe\">\n",
       "  <thead>\n",
       "    <tr style=\"text-align: right;\">\n",
       "      <th></th>\n",
       "      <th>level</th>\n",
       "      <th>in degree</th>\n",
       "      <th>out degree</th>\n",
       "      <th>f_min</th>\n",
       "      <th>min</th>\n",
       "      <th>post</th>\n",
       "    </tr>\n",
       "  </thead>\n",
       "  <tbody>\n",
       "    <tr>\n",
       "      <th>count</th>\n",
       "      <td>126983.000000</td>\n",
       "      <td>126983.000000</td>\n",
       "      <td>126983.000000</td>\n",
       "      <td>126983.000000</td>\n",
       "      <td>126983.000000</td>\n",
       "      <td>126983.000000</td>\n",
       "    </tr>\n",
       "    <tr>\n",
       "      <th>mean</th>\n",
       "      <td>17096.879448</td>\n",
       "      <td>1.264216</td>\n",
       "      <td>1.264216</td>\n",
       "      <td>1070.047455</td>\n",
       "      <td>57752.315034</td>\n",
       "      <td>63492.000000</td>\n",
       "    </tr>\n",
       "    <tr>\n",
       "      <th>std</th>\n",
       "      <td>8805.617403</td>\n",
       "      <td>1.753767</td>\n",
       "      <td>0.443233</td>\n",
       "      <td>7630.315032</td>\n",
       "      <td>40076.581628</td>\n",
       "      <td>36656.978954</td>\n",
       "    </tr>\n",
       "    <tr>\n",
       "      <th>min</th>\n",
       "      <td>0.000000</td>\n",
       "      <td>0.000000</td>\n",
       "      <td>0.000000</td>\n",
       "      <td>1.000000</td>\n",
       "      <td>1.000000</td>\n",
       "      <td>1.000000</td>\n",
       "    </tr>\n",
       "    <tr>\n",
       "      <th>25%</th>\n",
       "      <td>11575.500000</td>\n",
       "      <td>1.000000</td>\n",
       "      <td>1.000000</td>\n",
       "      <td>1.000000</td>\n",
       "      <td>21636.000000</td>\n",
       "      <td>31746.500000</td>\n",
       "    </tr>\n",
       "    <tr>\n",
       "      <th>50%</th>\n",
       "      <td>16893.000000</td>\n",
       "      <td>1.000000</td>\n",
       "      <td>1.000000</td>\n",
       "      <td>1.000000</td>\n",
       "      <td>61901.000000</td>\n",
       "      <td>63492.000000</td>\n",
       "    </tr>\n",
       "    <tr>\n",
       "      <th>75%</th>\n",
       "      <td>20930.000000</td>\n",
       "      <td>1.000000</td>\n",
       "      <td>2.000000</td>\n",
       "      <td>1.000000</td>\n",
       "      <td>91690.000000</td>\n",
       "      <td>95237.500000</td>\n",
       "    </tr>\n",
       "    <tr>\n",
       "      <th>max</th>\n",
       "      <td>37458.000000</td>\n",
       "      <td>115.000000</td>\n",
       "      <td>10.000000</td>\n",
       "      <td>62460.000000</td>\n",
       "      <td>126951.000000</td>\n",
       "      <td>126983.000000</td>\n",
       "    </tr>\n",
       "  </tbody>\n",
       "</table>\n",
       "</div>"
      ],
      "text/plain": [
       "               level      in degree     out degree          f_min  \\\n",
       "count  126983.000000  126983.000000  126983.000000  126983.000000   \n",
       "mean    17096.879448       1.264216       1.264216    1070.047455   \n",
       "std      8805.617403       1.753767       0.443233    7630.315032   \n",
       "min         0.000000       0.000000       0.000000       1.000000   \n",
       "25%     11575.500000       1.000000       1.000000       1.000000   \n",
       "50%     16893.000000       1.000000       1.000000       1.000000   \n",
       "75%     20930.000000       1.000000       2.000000       1.000000   \n",
       "max     37458.000000     115.000000      10.000000   62460.000000   \n",
       "\n",
       "                 min           post  \n",
       "count  126983.000000  126983.000000  \n",
       "mean    57752.315034   63492.000000  \n",
       "std     40076.581628   36656.978954  \n",
       "min         1.000000       1.000000  \n",
       "25%     21636.000000   31746.500000  \n",
       "50%     61901.000000   63492.000000  \n",
       "75%     91690.000000   95237.500000  \n",
       "max    126951.000000  126983.000000  "
      ]
     },
     "execution_count": null,
     "metadata": {},
     "output_type": "execute_result"
    }
   ],
   "source": [
    "graph_info_df.describe()"
   ]
  },
  {
   "cell_type": "markdown",
   "metadata": {},
   "source": [
    "### Visualizing topological level stats for git.git commit graph"
   ]
  },
  {
   "cell_type": "markdown",
   "metadata": {},
   "source": [
    "Imports for plots"
   ]
  },
  {
   "cell_type": "code",
   "execution_count": null,
   "metadata": {},
   "outputs": [],
   "source": [
    "import matplotlib.pyplot as plt\n",
    "import seaborn as sns"
   ]
  },
  {
   "cell_type": "code",
   "execution_count": null,
   "metadata": {},
   "outputs": [],
   "source": [
    "sns.set()"
   ]
  },
  {
   "cell_type": "markdown",
   "metadata": {},
   "source": [
    "Histogram for backward topological levels"
   ]
  },
  {
   "cell_type": "code",
   "execution_count": null,
   "metadata": {},
   "outputs": [
    {
     "data": {
      "image/png": "[encoded data removed]",
      "text/plain": [
       "<Figure size 432x288 with 1 Axes>"
      ]
     },
     "metadata": {},
     "output_type": "display_data"
    }
   ],
   "source": [
    "plt.title('Histogram of levels')\n",
    "plt.xlabel('Level')\n",
    "graph_info_df['level'].plot.hist(bins=50)\n",
    "plt.draw()"
   ]
  },
  {
   "cell_type": "code",
   "execution_count": null,
   "metadata": {},
   "outputs": [
    {
     "data": {
      "image/png": "[encoded data removed]",
      "text/plain": [
       "<Figure size 432x288 with 1 Axes>"
      ]
     },
     "metadata": {},
     "output_type": "display_data"
    }
   ],
   "source": [
    "level_counts=graph_info_df['level'].value_counts()\n",
    "\n",
    "level_counts_df=pd.DataFrame({'level counts': level_counts})\n",
    "level_counts_df.index.name='level'\n",
    "level_counts_df.sort_index(inplace=True)\n",
    "level_counts_df.plot()\n",
    "\n",
    "plt.title('%s commit graph - number of nodes with given level' %\n",
    "          'git.git')\n",
    "plt.xlabel('level of node / vertex')\n",
    "plt.ylabel('number of nodes / vertices')\n",
    "plt.show()"
   ]
  },
  {
   "cell_type": "code",
   "execution_count": null,
   "metadata": {},
   "outputs": [
    {
     "data": {
      "text/plain": [
       "count    37459.000000\n",
       "mean         3.389920\n",
       "std          4.309552\n",
       "min          1.000000\n",
       "25%          1.000000\n",
       "50%          2.000000\n",
       "75%          4.000000\n",
       "max        120.000000\n",
       "Name: level, dtype: float64"
      ]
     },
     "execution_count": null,
     "metadata": {},
     "output_type": "execute_result"
    },
    {
     "data": {
      "image/png": "[encoded data removed]",
      "text/plain": [
       "<Figure size 432x288 with 1 Axes>"
      ]
     },
     "metadata": {},
     "output_type": "display_data"
    }
   ],
   "source": [
    "level_counts=graph_info_df['level'].value_counts()\n",
    "\n",
    "plt.title('Histogram of level counts\\n'+'Number of levels with given count of nodes')\n",
    "plt.xlabel('Level value count\\n'+'number of commits with given level')\n",
    "level_counts.plot.hist(bins=50)\n",
    "\n",
    "level_counts.describe()"
   ]
  },
  {
   "cell_type": "markdown",
   "metadata": {},
   "source": [
    "Sanity checking the computed level counts; nodes with backward topological level of zero are sink nodes, with out-degree of 0.\n",
    "\n",
    "Thus the number of nodes with level of 0 should be equal to number of nodes with out-degree of 0."
   ]
  },
  {
   "cell_type": "code",
   "execution_count": null,
   "metadata": {},
   "outputs": [
    {
     "name": "stdout",
     "output_type": "stream",
     "text": [
      "git.git commit graph\n",
      "there are 868 nodes with  in-degree of 0\n",
      "there are   9 nodes with out-degree of 0: ['7d77f2e9c', '1bd90415d', '0ca71b373', '16d6b8ab6', 'cb07fc2a2', '161332a52', '2744b2344', '1db95b00a', 'e83c51633']\n",
      "there are   9 nodes with level of 0\n"
     ]
    },
    {
     "data": {
      "text/html": [
       "<div>\n",
       "<style scoped>\n",
       "    .dataframe tbody tr th:only-of-type {\n",
       "        vertical-align: middle;\n",
       "    }\n",
       "\n",
       "    .dataframe tbody tr th {\n",
       "        vertical-align: top;\n",
       "    }\n",
       "\n",
       "    .dataframe thead th {\n",
       "        text-align: right;\n",
       "    }\n",
       "</style>\n",
       "<table border=\"1\" class=\"dataframe\">\n",
       "  <thead>\n",
       "    <tr style=\"text-align: right;\">\n",
       "      <th></th>\n",
       "      <th>level</th>\n",
       "      <th>in degree</th>\n",
       "      <th>out degree</th>\n",
       "      <th>f_min</th>\n",
       "      <th>min</th>\n",
       "      <th>post</th>\n",
       "    </tr>\n",
       "  </thead>\n",
       "  <tbody>\n",
       "    <tr>\n",
       "      <th>e83c51633</th>\n",
       "      <td>0</td>\n",
       "      <td>1</td>\n",
       "      <td>0</td>\n",
       "      <td>1</td>\n",
       "      <td>1</td>\n",
       "      <td>1</td>\n",
       "    </tr>\n",
       "    <tr>\n",
       "      <th>1db95b00a</th>\n",
       "      <td>0</td>\n",
       "      <td>1</td>\n",
       "      <td>0</td>\n",
       "      <td>799</td>\n",
       "      <td>799</td>\n",
       "      <td>799</td>\n",
       "    </tr>\n",
       "    <tr>\n",
       "      <th>2744b2344</th>\n",
       "      <td>0</td>\n",
       "      <td>1</td>\n",
       "      <td>0</td>\n",
       "      <td>1149</td>\n",
       "      <td>1149</td>\n",
       "      <td>1149</td>\n",
       "    </tr>\n",
       "    <tr>\n",
       "      <th>161332a52</th>\n",
       "      <td>0</td>\n",
       "      <td>1</td>\n",
       "      <td>0</td>\n",
       "      <td>5044</td>\n",
       "      <td>5044</td>\n",
       "      <td>5044</td>\n",
       "    </tr>\n",
       "    <tr>\n",
       "      <th>cb07fc2a2</th>\n",
       "      <td>0</td>\n",
       "      <td>1</td>\n",
       "      <td>0</td>\n",
       "      <td>8137</td>\n",
       "      <td>8137</td>\n",
       "      <td>8137</td>\n",
       "    </tr>\n",
       "    <tr>\n",
       "      <th>16d6b8ab6</th>\n",
       "      <td>0</td>\n",
       "      <td>1</td>\n",
       "      <td>0</td>\n",
       "      <td>10300</td>\n",
       "      <td>10300</td>\n",
       "      <td>10300</td>\n",
       "    </tr>\n",
       "    <tr>\n",
       "      <th>0ca71b373</th>\n",
       "      <td>0</td>\n",
       "      <td>1</td>\n",
       "      <td>0</td>\n",
       "      <td>28384</td>\n",
       "      <td>28384</td>\n",
       "      <td>28384</td>\n",
       "    </tr>\n",
       "    <tr>\n",
       "      <th>1bd90415d</th>\n",
       "      <td>0</td>\n",
       "      <td>1</td>\n",
       "      <td>0</td>\n",
       "      <td>61901</td>\n",
       "      <td>61901</td>\n",
       "      <td>61901</td>\n",
       "    </tr>\n",
       "    <tr>\n",
       "      <th>7d77f2e9c</th>\n",
       "      <td>0</td>\n",
       "      <td>1</td>\n",
       "      <td>0</td>\n",
       "      <td>62460</td>\n",
       "      <td>62460</td>\n",
       "      <td>62460</td>\n",
       "    </tr>\n",
       "  </tbody>\n",
       "</table>\n",
       "</div>"
      ],
      "text/plain": [
       "           level  in degree  out degree  f_min    min   post\n",
       "e83c51633      0          1           0      1      1      1\n",
       "1db95b00a      0          1           0    799    799    799\n",
       "2744b2344      0          1           0   1149   1149   1149\n",
       "161332a52      0          1           0   5044   5044   5044\n",
       "cb07fc2a2      0          1           0   8137   8137   8137\n",
       "16d6b8ab6      0          1           0  10300  10300  10300\n",
       "0ca71b373      0          1           0  28384  28384  28384\n",
       "1bd90415d      0          1           0  61901  61901  61901\n",
       "7d77f2e9c      0          1           0  62460  62460  62460"
      ]
     },
     "execution_count": null,
     "metadata": {},
     "output_type": "execute_result"
    }
   ],
   "source": [
    "# sanity checking level counts\n",
    "\n",
    "print('git.git commit graph')\n",
    "graph = graph_git\n",
    "\n",
    "sinks  =[n for n in graph if graph.out_degree(n) == 0]\n",
    "sources=[n for n in graph if graph.in_degree(n)  == 0]\n",
    "print('there are {:3d} nodes with  in-degree of 0'.format(len(sources)))\n",
    "print('there are {:3d} nodes with out-degree of 0: {}'.format(len(sinks),sinks))\n",
    "print('there are {:3d} nodes with level of 0'.format(level_counts.at[0]))\n",
    "\n",
    "graph_info_df[graph_info_df['level']==0]"
   ]
  },
  {
   "cell_type": "markdown",
   "metadata": {},
   "source": [
    "### Visualizing in-degree and out-degree in git.git commit graph"
   ]
  },
  {
   "cell_type": "code",
   "execution_count": null,
   "metadata": {},
   "outputs": [
    {
     "data": {
      "image/png": "[encoded data removed]",
      "text/plain": [
       "<Figure size 432x288 with 2 Axes>"
      ]
     },
     "metadata": {},
     "output_type": "display_data"
    }
   ],
   "source": [
    "graph_info_df[['in degree','out degree']].hist(bins=10)\n",
    "plt.show()"
   ]
  },
  {
   "cell_type": "code",
   "execution_count": null,
   "metadata": {},
   "outputs": [
    {
     "data": {
      "image/png": "[encoded data removed]",
      "text/plain": [
       "<Figure size 432x288 with 2 Axes>"
      ]
     },
     "metadata": {},
     "output_type": "display_data"
    }
   ],
   "source": [
    "graph_info_df.hist(column=['in degree','out degree'],bins=10,range=(0,10))\n",
    "plt.show()"
   ]
  },
  {
   "cell_type": "code",
   "execution_count": null,
   "metadata": {},
   "outputs": [
    {
     "data": {
      "image/png": "[encoded data removed]",
      "text/plain": [
       "<Figure size 432x288 with 1 Axes>"
      ]
     },
     "metadata": {},
     "output_type": "display_data"
    }
   ],
   "source": [
    "graph_info_df[['in degree','out degree']].plot.hist(bins=51,alpha=0.4,range=(0,50))\n",
    "plt.show()"
   ]
  },
  {
   "cell_type": "markdown",
   "metadata": {},
   "source": [
    "### Visualizing min-post intervals in git.git commit graphs"
   ]
  },
  {
   "cell_type": "code",
   "execution_count": null,
   "metadata": {},
   "outputs": [
    {
     "data": {
      "image/png": "[encoded data removed]",
      "text/plain": [
       "<Figure size 432x288 with 2 Axes>"
      ]
     },
     "metadata": {},
     "output_type": "display_data"
    },
    {
     "data": {
      "image/png": "[encoded data removed]",
      "text/plain": [
       "<Figure size 432x288 with 1 Axes>"
      ]
     },
     "metadata": {},
     "output_type": "display_data"
    }
   ],
   "source": [
    "graph_info_df.hist(column=['f_min','min'],bins=20)\n",
    "graph_info_df[['f_min','min']].plot.hist(bins=50,alpha=0.5)\n",
    "plt.show()"
   ]
  },
  {
   "cell_type": "code",
   "execution_count": null,
   "metadata": {},
   "outputs": [
    {
     "data": {
      "text/html": [
       "<div>\n",
       "<style scoped>\n",
       "    .dataframe tbody tr th:only-of-type {\n",
       "        vertical-align: middle;\n",
       "    }\n",
       "\n",
       "    .dataframe tbody tr th {\n",
       "        vertical-align: top;\n",
       "    }\n",
       "\n",
       "    .dataframe thead th {\n",
       "        text-align: right;\n",
       "    }\n",
       "</style>\n",
       "<table border=\"1\" class=\"dataframe\">\n",
       "  <thead>\n",
       "    <tr style=\"text-align: right;\">\n",
       "      <th></th>\n",
       "      <th>level</th>\n",
       "      <th>in degree</th>\n",
       "      <th>out degree</th>\n",
       "      <th>f_min</th>\n",
       "      <th>min</th>\n",
       "      <th>post</th>\n",
       "      <th>|interval|</th>\n",
       "      <th>|interval|/post</th>\n",
       "      <th>|f_interval|</th>\n",
       "      <th>|f_interval|/post</th>\n",
       "    </tr>\n",
       "  </thead>\n",
       "  <tbody>\n",
       "    <tr>\n",
       "      <th>e83c51633</th>\n",
       "      <td>0</td>\n",
       "      <td>1</td>\n",
       "      <td>0</td>\n",
       "      <td>1</td>\n",
       "      <td>1</td>\n",
       "      <td>1</td>\n",
       "      <td>0</td>\n",
       "      <td>0.000000</td>\n",
       "      <td>0</td>\n",
       "      <td>0.000000</td>\n",
       "    </tr>\n",
       "    <tr>\n",
       "      <th>8bc9a0c76</th>\n",
       "      <td>1</td>\n",
       "      <td>1</td>\n",
       "      <td>1</td>\n",
       "      <td>1</td>\n",
       "      <td>1</td>\n",
       "      <td>2</td>\n",
       "      <td>1</td>\n",
       "      <td>0.500000</td>\n",
       "      <td>1</td>\n",
       "      <td>0.500000</td>\n",
       "    </tr>\n",
       "    <tr>\n",
       "      <th>e497ea2a9</th>\n",
       "      <td>2</td>\n",
       "      <td>1</td>\n",
       "      <td>1</td>\n",
       "      <td>1</td>\n",
       "      <td>1</td>\n",
       "      <td>3</td>\n",
       "      <td>2</td>\n",
       "      <td>0.666667</td>\n",
       "      <td>2</td>\n",
       "      <td>0.666667</td>\n",
       "    </tr>\n",
       "    <tr>\n",
       "      <th>bf0c6e839</th>\n",
       "      <td>3</td>\n",
       "      <td>1</td>\n",
       "      <td>1</td>\n",
       "      <td>1</td>\n",
       "      <td>1</td>\n",
       "      <td>4</td>\n",
       "      <td>3</td>\n",
       "      <td>0.750000</td>\n",
       "      <td>3</td>\n",
       "      <td>0.750000</td>\n",
       "    </tr>\n",
       "    <tr>\n",
       "      <th>19b2860cb</th>\n",
       "      <td>4</td>\n",
       "      <td>1</td>\n",
       "      <td>1</td>\n",
       "      <td>1</td>\n",
       "      <td>1</td>\n",
       "      <td>5</td>\n",
       "      <td>4</td>\n",
       "      <td>0.800000</td>\n",
       "      <td>4</td>\n",
       "      <td>0.800000</td>\n",
       "    </tr>\n",
       "    <tr>\n",
       "      <th>...</th>\n",
       "      <td>...</td>\n",
       "      <td>...</td>\n",
       "      <td>...</td>\n",
       "      <td>...</td>\n",
       "      <td>...</td>\n",
       "      <td>...</td>\n",
       "      <td>...</td>\n",
       "      <td>...</td>\n",
       "      <td>...</td>\n",
       "      <td>...</td>\n",
       "    </tr>\n",
       "    <tr>\n",
       "      <th>6380b97d5</th>\n",
       "      <td>10986</td>\n",
       "      <td>1</td>\n",
       "      <td>1</td>\n",
       "      <td>1</td>\n",
       "      <td>126951</td>\n",
       "      <td>126979</td>\n",
       "      <td>28</td>\n",
       "      <td>0.000221</td>\n",
       "      <td>126978</td>\n",
       "      <td>0.999992</td>\n",
       "    </tr>\n",
       "    <tr>\n",
       "      <th>ca865d923</th>\n",
       "      <td>10987</td>\n",
       "      <td>1</td>\n",
       "      <td>1</td>\n",
       "      <td>1</td>\n",
       "      <td>126951</td>\n",
       "      <td>126980</td>\n",
       "      <td>29</td>\n",
       "      <td>0.000228</td>\n",
       "      <td>126979</td>\n",
       "      <td>0.999992</td>\n",
       "    </tr>\n",
       "    <tr>\n",
       "      <th>84b4fb665</th>\n",
       "      <td>10988</td>\n",
       "      <td>1</td>\n",
       "      <td>1</td>\n",
       "      <td>1</td>\n",
       "      <td>126951</td>\n",
       "      <td>126981</td>\n",
       "      <td>30</td>\n",
       "      <td>0.000236</td>\n",
       "      <td>126980</td>\n",
       "      <td>0.999992</td>\n",
       "    </tr>\n",
       "    <tr>\n",
       "      <th>38970e663</th>\n",
       "      <td>10989</td>\n",
       "      <td>1</td>\n",
       "      <td>1</td>\n",
       "      <td>1</td>\n",
       "      <td>126951</td>\n",
       "      <td>126982</td>\n",
       "      <td>31</td>\n",
       "      <td>0.000244</td>\n",
       "      <td>126981</td>\n",
       "      <td>0.999992</td>\n",
       "    </tr>\n",
       "    <tr>\n",
       "      <th>8d737f860</th>\n",
       "      <td>10990</td>\n",
       "      <td>0</td>\n",
       "      <td>1</td>\n",
       "      <td>1</td>\n",
       "      <td>126951</td>\n",
       "      <td>126983</td>\n",
       "      <td>32</td>\n",
       "      <td>0.000252</td>\n",
       "      <td>126982</td>\n",
       "      <td>0.999992</td>\n",
       "    </tr>\n",
       "  </tbody>\n",
       "</table>\n",
       "<p>126983 rows × 10 columns</p>\n",
       "</div>"
      ],
      "text/plain": [
       "           level  in degree  out degree  f_min     min    post  |interval|  \\\n",
       "e83c51633      0          1           0      1       1       1           0   \n",
       "8bc9a0c76      1          1           1      1       1       2           1   \n",
       "e497ea2a9      2          1           1      1       1       3           2   \n",
       "bf0c6e839      3          1           1      1       1       4           3   \n",
       "19b2860cb      4          1           1      1       1       5           4   \n",
       "...          ...        ...         ...    ...     ...     ...         ...   \n",
       "6380b97d5  10986          1           1      1  126951  126979          28   \n",
       "ca865d923  10987          1           1      1  126951  126980          29   \n",
       "84b4fb665  10988          1           1      1  126951  126981          30   \n",
       "38970e663  10989          1           1      1  126951  126982          31   \n",
       "8d737f860  10990          0           1      1  126951  126983          32   \n",
       "\n",
       "           |interval|/post  |f_interval|  |f_interval|/post  \n",
       "e83c51633         0.000000             0           0.000000  \n",
       "8bc9a0c76         0.500000             1           0.500000  \n",
       "e497ea2a9         0.666667             2           0.666667  \n",
       "bf0c6e839         0.750000             3           0.750000  \n",
       "19b2860cb         0.800000             4           0.800000  \n",
       "...                    ...           ...                ...  \n",
       "6380b97d5         0.000221        126978           0.999992  \n",
       "ca865d923         0.000228        126979           0.999992  \n",
       "84b4fb665         0.000236        126980           0.999992  \n",
       "38970e663         0.000244        126981           0.999992  \n",
       "8d737f860         0.000252        126982           0.999992  \n",
       "\n",
       "[126983 rows x 10 columns]"
      ]
     },
     "execution_count": null,
     "metadata": {},
     "output_type": "execute_result"
    }
   ],
   "source": [
    "graph_info_df['|interval|']=graph_info_df['post'] - graph_info_df['min']\n",
    "graph_info_df['|interval|/post']=graph_info_df['|interval|']/graph_info_df['post']\n",
    "graph_info_df['|f_interval|']=graph_info_df['post'] - graph_info_df['f_min']\n",
    "graph_info_df['|f_interval|/post']=graph_info_df['|f_interval|']/graph_info_df['post']\n",
    "graph_info_df"
   ]
  },
  {
   "cell_type": "code",
   "execution_count": null,
   "metadata": {},
   "outputs": [
    {
     "data": {
      "text/html": [
       "<div>\n",
       "<style scoped>\n",
       "    .dataframe tbody tr th:only-of-type {\n",
       "        vertical-align: middle;\n",
       "    }\n",
       "\n",
       "    .dataframe tbody tr th {\n",
       "        vertical-align: top;\n",
       "    }\n",
       "\n",
       "    .dataframe thead th {\n",
       "        text-align: right;\n",
       "    }\n",
       "</style>\n",
       "<table border=\"1\" class=\"dataframe\">\n",
       "  <thead>\n",
       "    <tr style=\"text-align: right;\">\n",
       "      <th></th>\n",
       "      <th>level</th>\n",
       "      <th>in degree</th>\n",
       "      <th>out degree</th>\n",
       "      <th>f_min</th>\n",
       "      <th>min</th>\n",
       "      <th>post</th>\n",
       "      <th>|interval|</th>\n",
       "      <th>|interval|/post</th>\n",
       "      <th>|f_interval|</th>\n",
       "      <th>|f_interval|/post</th>\n",
       "    </tr>\n",
       "  </thead>\n",
       "  <tbody>\n",
       "    <tr>\n",
       "      <th>count</th>\n",
       "      <td>126983.000000</td>\n",
       "      <td>126983.000000</td>\n",
       "      <td>126983.000000</td>\n",
       "      <td>126983.000000</td>\n",
       "      <td>126983.000000</td>\n",
       "      <td>126983.000000</td>\n",
       "      <td>126983.000000</td>\n",
       "      <td>126983.000000</td>\n",
       "      <td>126983.000000</td>\n",
       "      <td>126983.000000</td>\n",
       "    </tr>\n",
       "    <tr>\n",
       "      <th>mean</th>\n",
       "      <td>17096.879448</td>\n",
       "      <td>1.264216</td>\n",
       "      <td>1.264216</td>\n",
       "      <td>1070.047455</td>\n",
       "      <td>57752.315034</td>\n",
       "      <td>63492.000000</td>\n",
       "      <td>5739.684966</td>\n",
       "      <td>0.170924</td>\n",
       "      <td>62421.952545</td>\n",
       "      <td>0.973793</td>\n",
       "    </tr>\n",
       "    <tr>\n",
       "      <th>std</th>\n",
       "      <td>8805.617403</td>\n",
       "      <td>1.753767</td>\n",
       "      <td>0.443233</td>\n",
       "      <td>7630.315032</td>\n",
       "      <td>40076.581628</td>\n",
       "      <td>36656.978954</td>\n",
       "      <td>13327.586969</td>\n",
       "      <td>0.358340</td>\n",
       "      <td>37623.375884</td>\n",
       "      <td>0.152607</td>\n",
       "    </tr>\n",
       "    <tr>\n",
       "      <th>min</th>\n",
       "      <td>0.000000</td>\n",
       "      <td>0.000000</td>\n",
       "      <td>0.000000</td>\n",
       "      <td>1.000000</td>\n",
       "      <td>1.000000</td>\n",
       "      <td>1.000000</td>\n",
       "      <td>0.000000</td>\n",
       "      <td>0.000000</td>\n",
       "      <td>0.000000</td>\n",
       "      <td>0.000000</td>\n",
       "    </tr>\n",
       "    <tr>\n",
       "      <th>25%</th>\n",
       "      <td>11575.500000</td>\n",
       "      <td>1.000000</td>\n",
       "      <td>1.000000</td>\n",
       "      <td>1.000000</td>\n",
       "      <td>21636.000000</td>\n",
       "      <td>31746.500000</td>\n",
       "      <td>1.000000</td>\n",
       "      <td>0.000022</td>\n",
       "      <td>29785.500000</td>\n",
       "      <td>0.999966</td>\n",
       "    </tr>\n",
       "    <tr>\n",
       "      <th>50%</th>\n",
       "      <td>16893.000000</td>\n",
       "      <td>1.000000</td>\n",
       "      <td>1.000000</td>\n",
       "      <td>1.000000</td>\n",
       "      <td>61901.000000</td>\n",
       "      <td>63492.000000</td>\n",
       "      <td>9.000000</td>\n",
       "      <td>0.000178</td>\n",
       "      <td>61578.000000</td>\n",
       "      <td>0.999984</td>\n",
       "    </tr>\n",
       "    <tr>\n",
       "      <th>75%</th>\n",
       "      <td>20930.000000</td>\n",
       "      <td>1.000000</td>\n",
       "      <td>2.000000</td>\n",
       "      <td>1.000000</td>\n",
       "      <td>91690.000000</td>\n",
       "      <td>95237.500000</td>\n",
       "      <td>222.000000</td>\n",
       "      <td>0.006874</td>\n",
       "      <td>95235.500000</td>\n",
       "      <td>0.999989</td>\n",
       "    </tr>\n",
       "    <tr>\n",
       "      <th>max</th>\n",
       "      <td>37458.000000</td>\n",
       "      <td>115.000000</td>\n",
       "      <td>10.000000</td>\n",
       "      <td>62460.000000</td>\n",
       "      <td>126951.000000</td>\n",
       "      <td>126983.000000</td>\n",
       "      <td>61747.000000</td>\n",
       "      <td>0.999984</td>\n",
       "      <td>126982.000000</td>\n",
       "      <td>0.999992</td>\n",
       "    </tr>\n",
       "  </tbody>\n",
       "</table>\n",
       "</div>"
      ],
      "text/plain": [
       "               level      in degree     out degree          f_min  \\\n",
       "count  126983.000000  126983.000000  126983.000000  126983.000000   \n",
       "mean    17096.879448       1.264216       1.264216    1070.047455   \n",
       "std      8805.617403       1.753767       0.443233    7630.315032   \n",
       "min         0.000000       0.000000       0.000000       1.000000   \n",
       "25%     11575.500000       1.000000       1.000000       1.000000   \n",
       "50%     16893.000000       1.000000       1.000000       1.000000   \n",
       "75%     20930.000000       1.000000       2.000000       1.000000   \n",
       "max     37458.000000     115.000000      10.000000   62460.000000   \n",
       "\n",
       "                 min           post     |interval|  |interval|/post  \\\n",
       "count  126983.000000  126983.000000  126983.000000    126983.000000   \n",
       "mean    57752.315034   63492.000000    5739.684966         0.170924   \n",
       "std     40076.581628   36656.978954   13327.586969         0.358340   \n",
       "min         1.000000       1.000000       0.000000         0.000000   \n",
       "25%     21636.000000   31746.500000       1.000000         0.000022   \n",
       "50%     61901.000000   63492.000000       9.000000         0.000178   \n",
       "75%     91690.000000   95237.500000     222.000000         0.006874   \n",
       "max    126951.000000  126983.000000   61747.000000         0.999984   \n",
       "\n",
       "        |f_interval|  |f_interval|/post  \n",
       "count  126983.000000      126983.000000  \n",
       "mean    62421.952545           0.973793  \n",
       "std     37623.375884           0.152607  \n",
       "min         0.000000           0.000000  \n",
       "25%     29785.500000           0.999966  \n",
       "50%     61578.000000           0.999984  \n",
       "75%     95235.500000           0.999989  \n",
       "max    126982.000000           0.999992  "
      ]
     },
     "execution_count": null,
     "metadata": {},
     "output_type": "execute_result"
    }
   ],
   "source": [
    "graph_info_df.describe()"
   ]
  },
  {
   "cell_type": "code",
   "execution_count": null,
   "metadata": {},
   "outputs": [
    {
     "data": {
      "image/png": "[encoded data removed]",
      "text/plain": [
       "<Figure size 432x288 with 1 Axes>"
      ]
     },
     "metadata": {},
     "output_type": "display_data"
    },
    {
     "data": {
      "image/png": "[encoded data removed]",
      "text/plain": [
       "<Figure size 432x288 with 1 Axes>"
      ]
     },
     "metadata": {},
     "output_type": "display_data"
    },
    {
     "data": {
      "image/png": "[encoded data removed]",
      "text/plain": [
       "<Figure size 432x288 with 1 Axes>"
      ]
     },
     "metadata": {},
     "output_type": "display_data"
    }
   ],
   "source": [
    "graph_info_df.hist(column=['min'],bins=50,color='m')\n",
    "graph_info_df.hist(column=['f_min'],bins=50,color='#800080')\n",
    "graph_info_df.hist(column=['f_min'],bins=50,log=True,color='#800080')\n",
    "plt.show()"
   ]
  },
  {
   "cell_type": "code",
   "execution_count": null,
   "metadata": {},
   "outputs": [
    {
     "data": {
      "image/png": "[encoded data removed]",
      "text/plain": [
       "<Figure size 432x288 with 1 Axes>"
      ]
     },
     "metadata": {},
     "output_type": "display_data"
    },
    {
     "data": {
      "image/png": "[encoded data removed]",
      "text/plain": [
       "<Figure size 432x288 with 1 Axes>"
      ]
     },
     "metadata": {},
     "output_type": "display_data"
    }
   ],
   "source": [
    "graph_info_df.hist(column=['|interval|'],bins=50,log=True)\n",
    "graph_info_df.hist(column=['|interval|/post'],bins=50,log=True)\n",
    "plt.show()"
   ]
  },
  {
   "cell_type": "code",
   "execution_count": null,
   "metadata": {},
   "outputs": [
    {
     "data": {
      "image/png": "[encoded data removed]",
      "text/plain": [
       "<Figure size 432x288 with 1 Axes>"
      ]
     },
     "metadata": {},
     "output_type": "display_data"
    }
   ],
   "source": [
    "graph_info_df['|interval|/post'].plot.kde(bw_method=0.05,ind=np.linspace(0,1,200))\n",
    "plt.title('kernel density estimator, bw=0.05, logscale')\n",
    "plt.xlabel('|interval|/post')\n",
    "plt.gca().set_yscale(\"log\", nonpositive='clip')\n",
    "plt.show()"
   ]
  },
  {
   "cell_type": "code",
   "execution_count": null,
   "metadata": {},
   "outputs": [
    {
     "data": {
      "image/png": "[encoded data removed]",
      "text/plain": [
       "<Figure size 432x288 with 1 Axes>"
      ]
     },
     "metadata": {},
     "output_type": "display_data"
    }
   ],
   "source": [
    "graph_info_df.hist(column=['|interval|/post'],bins=40,log=True)\n",
    "graph_info_df['|interval|/post'].plot.kde(ind=np.linspace(0,1,500),color='k')\n",
    "plt.title('histogram of relative size of the min-post tree interval\\n'+'kernel density estimator, logscale')\n",
    "plt.xlabel('|interval|/post')\n",
    "plt.gca().set_yscale(\"log\", nonpositive='clip')\n",
    "plt.show()"
   ]
  },
  {
   "cell_type": "code",
   "execution_count": null,
   "metadata": {},
   "outputs": [
    {
     "data": {
      "image/png": "[encoded data removed]",
      "text/plain": [
       "<Figure size 432x288 with 1 Axes>"
      ]
     },
     "metadata": {},
     "output_type": "display_data"
    },
    {
     "data": {
      "image/png": "[encoded data removed]",
      "text/plain": [
       "<Figure size 432x288 with 1 Axes>"
      ]
     },
     "metadata": {},
     "output_type": "display_data"
    },
    {
     "data": {
      "image/png": "[encoded data removed]",
      "text/plain": [
       "<Figure size 432x288 with 1 Axes>"
      ]
     },
     "metadata": {},
     "output_type": "display_data"
    }
   ],
   "source": [
    "graph_info_df.hist(column=['|f_interval|'],bins=50,color='g')\n",
    "graph_info_df.hist(column=['|f_interval|/post'],bins=50,color='c')\n",
    "graph_info_df.hist(column=['|f_interval|/post'],bins=50,log=True,color='c')\n",
    "plt.show()"
   ]
  },
  {
   "cell_type": "markdown",
   "metadata": {},
   "source": [
    "### Storing computed reachability labels and related stats"
   ]
  },
  {
   "cell_type": "code",
   "execution_count": null,
   "metadata": {},
   "outputs": [
    {
     "data": {
      "text/plain": [
       "'datasets/git-commit_graph.hdf5'"
      ]
     },
     "execution_count": null,
     "metadata": {},
     "output_type": "execute_result"
    }
   ],
   "source": [
    "from shutil import copyfile\n",
    "copyfile('datasets/git-commit_graph.df_edgelist.hdf5', 'datasets/git-commit_graph.hdf5')"
   ]
  },
  {
   "cell_type": "code",
   "execution_count": null,
   "metadata": {},
   "outputs": [
    {
     "name": "stdout",
     "output_type": "stream",
     "text": [
      "pickle.gz:  Wall time: 6.77 s\n",
      "csv.gz:     Wall time: 5.45 s\n",
      "hdf (full): Wall time: 664 ms\n",
      "hdf (appd): Wall time: 840 ms\n"
     ]
    }
   ],
   "source": [
    "print('pickle.gz: ', end=' ', flush=True)\n",
    "%time graph_info_df.to_pickle('datasets/git-commit_graph.info.pickle.gz')\n",
    "print('csv.gz:    ', end=' ', flush=True)\n",
    "%time graph_info_df.to_csv('datasets/git-commit_graph.info.csv.gz')\n",
    "print('hdf (full):', end=' ', flush=True)\n",
    "%time graph_info_df.to_hdf('datasets/git-commit_graph.info.hdf5', 'df', mode='w', complevel=6)\n",
    "print('hdf (appd):', end=' ', flush=True)\n",
    "%time graph_info_df.to_hdf('datasets/git-commit_graph.hdf5', 'df_info', mode='a', complevel=6)"
   ]
  },
  {
   "cell_type": "code",
   "execution_count": null,
   "metadata": {},
   "outputs": [],
   "source": [
    "# feather does not support non-numerical index, IIRC\n",
    "#%time graph_info_df.to_feather('datasets/git-commit_graph.info.feather')"
   ]
  },
  {
   "cell_type": "code",
   "execution_count": null,
   "metadata": {},
   "outputs": [
    {
     "name": "stdout",
     "output_type": "stream",
     "text": [
      "Wall time: 423 ms\n"
     ]
    }
   ],
   "source": [
    "%%time\n",
    "try:\n",
    "    graph_info_df.to_parquet('datasets/git-commit_graph.info.parquet')\n",
    "except ImportError:\n",
    "    print(\"Missing optional dependency 'pyarrow' required\")"
   ]
  },
  {
   "cell_type": "code",
   "execution_count": null,
   "metadata": {},
   "outputs": [
    {
     "name": "stdout",
     "output_type": "stream",
     "text": [
      " Volume in drive C has no label.\n",
      " Volume Serial Number is 1291-749D\n",
      "\n",
      " Directory of C:\\Users\\jnare\\OneDrive\\Dokumenty\\GitHub\\git-commit-graph-ext\\datasets\n",
      "\n",
      "15.12.2020  01:20    <DIR>          .\n",
      "15.12.2020  01:20    <DIR>          ..\n",
      "14.12.2020  11:45         2˙875˙179 git-commit_graph.adjlist.txt\n",
      "14.12.2020  15:37         1˙173˙712 git-commit_graph.adjlist.txt.gz\n",
      "14.12.2020  12:05         4˙383˙858 git-commit_graph.df_edgelist.csv\n",
      "14.12.2020  12:05         1˙629˙263 git-commit_graph.df_edgelist.csv.gz\n",
      "14.12.2020  11:45         3˙857˙818 git-commit_graph.df_edgelist.feather\n",
      "14.12.2020  13:51         3˙808˙521 git-commit_graph.df_edgelist.hdf5\n",
      "15.12.2020  01:20         3˙116˙020 git-commit_graph.df_edgelist.parquet\n",
      "14.12.2020  11:45         1˙332˙691 git-commit_graph.df_edgelist.pickle.gz\n",
      "14.12.2020  12:32         3˙692˙282 git-commit_graph.edgelist.txt\n",
      "14.12.2020  12:32         3˙063˙783 git-commit_graph.gexf.gz\n",
      "14.12.2020  12:32         3˙254˙690 git-commit_graph.gpickle.gz\n",
      "14.12.2020  12:32         2˙231˙397 git-commit_graph.graphml.gz\n",
      "15.12.2020  01:20         6˙548˙777 git-commit_graph.hdf5\n",
      "15.12.2020  01:20         3˙681˙511 git-commit_graph.info.csv.gz\n",
      "15.12.2020  01:20         2˙735˙986 git-commit_graph.info.hdf5\n",
      "15.12.2020  01:20         6˙079˙159 git-commit_graph.info.parquet\n",
      "15.12.2020  01:19         2˙833˙650 git-commit_graph.info.pickle.gz\n",
      "14.12.2020  12:32         3˙610˙938 git-commit_graph.multiline_adjlist.txt\n",
      "14.12.2020  12:32         1˙754˙236 git-commit_graph.pajek.gz\n",
      "              19 File(s)     61˙663˙471 bytes\n",
      "               2 Dir(s)  689˙831˙059˙456 bytes free\n"
     ]
    }
   ],
   "source": [
    "!dir datasets"
   ]
  },
  {
   "cell_type": "code",
   "execution_count": null,
   "metadata": {},
   "outputs": [
    {
     "data": {
      "text/html": [
       "<div>\n",
       "<style scoped>\n",
       "    .dataframe tbody tr th:only-of-type {\n",
       "        vertical-align: middle;\n",
       "    }\n",
       "\n",
       "    .dataframe tbody tr th {\n",
       "        vertical-align: top;\n",
       "    }\n",
       "\n",
       "    .dataframe thead th {\n",
       "        text-align: right;\n",
       "    }\n",
       "</style>\n",
       "<table border=\"1\" class=\"dataframe\">\n",
       "  <thead>\n",
       "    <tr style=\"text-align: right;\">\n",
       "      <th></th>\n",
       "      <th>filename</th>\n",
       "      <th>size [bytes]</th>\n",
       "      <th>time [s]</th>\n",
       "    </tr>\n",
       "  </thead>\n",
       "  <tbody>\n",
       "    <tr>\n",
       "      <th>0</th>\n",
       "      <td>datasets/git-commit_graph.info.pickle.gz</td>\n",
       "      <td>2833650</td>\n",
       "      <td>6.800</td>\n",
       "    </tr>\n",
       "    <tr>\n",
       "      <th>1</th>\n",
       "      <td>datasets/git-commit_graph.info.csv.gz</td>\n",
       "      <td>3681511</td>\n",
       "      <td>5.260</td>\n",
       "    </tr>\n",
       "    <tr>\n",
       "      <th>2</th>\n",
       "      <td>datasets/git-commit_graph.info.parquet</td>\n",
       "      <td>6079159</td>\n",
       "      <td>0.345</td>\n",
       "    </tr>\n",
       "    <tr>\n",
       "      <th>3</th>\n",
       "      <td>datasets/git-commit_graph.info.hdf5</td>\n",
       "      <td>2735986</td>\n",
       "      <td>0.674</td>\n",
       "    </tr>\n",
       "    <tr>\n",
       "      <th>4</th>\n",
       "      <td>datasets/git-commit_graph.hdf5</td>\n",
       "      <td>6548777</td>\n",
       "      <td>0.672</td>\n",
       "    </tr>\n",
       "  </tbody>\n",
       "</table>\n",
       "</div>"
      ],
      "text/plain": [
       "                                   filename  size [bytes]  time [s]\n",
       "0  datasets/git-commit_graph.info.pickle.gz       2833650     6.800\n",
       "1     datasets/git-commit_graph.info.csv.gz       3681511     5.260\n",
       "2    datasets/git-commit_graph.info.parquet       6079159     0.345\n",
       "3       datasets/git-commit_graph.info.hdf5       2735986     0.674\n",
       "4            datasets/git-commit_graph.hdf5       6548777     0.672"
      ]
     },
     "execution_count": null,
     "metadata": {},
     "output_type": "execute_result"
    }
   ],
   "source": [
    "csv = u\"\"\"filename;size [bytes];time [s]\n",
    "datasets/git-commit_graph.info.pickle.gz;2833650;6.8\n",
    "datasets/git-commit_graph.info.csv.gz;3681511;5.26\n",
    "datasets/git-commit_graph.info.parquet;6079159;0.345 \n",
    "datasets/git-commit_graph.info.hdf5;2735986;0.674\n",
    "datasets/git-commit_graph.hdf5;6548777;0.672\n",
    "\"\"\"\n",
    "\n",
    "csv_stream = io.StringIO(csv)\n",
    "table_sizes_2=pd.read_csv(csv_stream,sep=';') # ,index_col=0\n",
    "table_sizes_2"
   ]
  },
  {
   "cell_type": "code",
   "execution_count": null,
   "metadata": {},
   "outputs": [
    {
     "data": {
      "text/html": [
       "<div>\n",
       "<style scoped>\n",
       "    .dataframe tbody tr th:only-of-type {\n",
       "        vertical-align: middle;\n",
       "    }\n",
       "\n",
       "    .dataframe tbody tr th {\n",
       "        vertical-align: top;\n",
       "    }\n",
       "\n",
       "    .dataframe thead th {\n",
       "        text-align: right;\n",
       "    }\n",
       "</style>\n",
       "<table border=\"1\" class=\"dataframe\">\n",
       "  <thead>\n",
       "    <tr style=\"text-align: right;\">\n",
       "      <th></th>\n",
       "      <th>filename</th>\n",
       "      <th>size [bytes]</th>\n",
       "      <th>time [s]</th>\n",
       "    </tr>\n",
       "  </thead>\n",
       "  <tbody>\n",
       "    <tr>\n",
       "      <th>3</th>\n",
       "      <td>datasets/git-commit_graph.info.hdf5</td>\n",
       "      <td>2735986</td>\n",
       "      <td>0.674</td>\n",
       "    </tr>\n",
       "    <tr>\n",
       "      <th>0</th>\n",
       "      <td>datasets/git-commit_graph.info.pickle.gz</td>\n",
       "      <td>2833650</td>\n",
       "      <td>6.800</td>\n",
       "    </tr>\n",
       "    <tr>\n",
       "      <th>1</th>\n",
       "      <td>datasets/git-commit_graph.info.csv.gz</td>\n",
       "      <td>3681511</td>\n",
       "      <td>5.260</td>\n",
       "    </tr>\n",
       "    <tr>\n",
       "      <th>2</th>\n",
       "      <td>datasets/git-commit_graph.info.parquet</td>\n",
       "      <td>6079159</td>\n",
       "      <td>0.345</td>\n",
       "    </tr>\n",
       "    <tr>\n",
       "      <th>4</th>\n",
       "      <td>datasets/git-commit_graph.hdf5</td>\n",
       "      <td>6548777</td>\n",
       "      <td>0.672</td>\n",
       "    </tr>\n",
       "  </tbody>\n",
       "</table>\n",
       "</div>"
      ],
      "text/plain": [
       "                                   filename  size [bytes]  time [s]\n",
       "3       datasets/git-commit_graph.info.hdf5       2735986     0.674\n",
       "0  datasets/git-commit_graph.info.pickle.gz       2833650     6.800\n",
       "1     datasets/git-commit_graph.info.csv.gz       3681511     5.260\n",
       "2    datasets/git-commit_graph.info.parquet       6079159     0.345\n",
       "4            datasets/git-commit_graph.hdf5       6548777     0.672"
      ]
     },
     "execution_count": null,
     "metadata": {},
     "output_type": "execute_result"
    }
   ],
   "source": [
    "table_sizes_2.sort_values(by='size [bytes]')"
   ]
  },
  {
   "cell_type": "code",
   "execution_count": null,
   "metadata": {},
   "outputs": [
    {
     "data": {
      "text/html": [
       "<div>\n",
       "<style scoped>\n",
       "    .dataframe tbody tr th:only-of-type {\n",
       "        vertical-align: middle;\n",
       "    }\n",
       "\n",
       "    .dataframe tbody tr th {\n",
       "        vertical-align: top;\n",
       "    }\n",
       "\n",
       "    .dataframe thead th {\n",
       "        text-align: right;\n",
       "    }\n",
       "</style>\n",
       "<table border=\"1\" class=\"dataframe\">\n",
       "  <thead>\n",
       "    <tr style=\"text-align: right;\">\n",
       "      <th></th>\n",
       "      <th>filename</th>\n",
       "      <th>size [bytes]</th>\n",
       "      <th>time [s]</th>\n",
       "    </tr>\n",
       "  </thead>\n",
       "  <tbody>\n",
       "    <tr>\n",
       "      <th>2</th>\n",
       "      <td>datasets/git-commit_graph.info.parquet</td>\n",
       "      <td>6079159</td>\n",
       "      <td>0.345</td>\n",
       "    </tr>\n",
       "    <tr>\n",
       "      <th>4</th>\n",
       "      <td>datasets/git-commit_graph.hdf5</td>\n",
       "      <td>6548777</td>\n",
       "      <td>0.672</td>\n",
       "    </tr>\n",
       "    <tr>\n",
       "      <th>3</th>\n",
       "      <td>datasets/git-commit_graph.info.hdf5</td>\n",
       "      <td>2735986</td>\n",
       "      <td>0.674</td>\n",
       "    </tr>\n",
       "    <tr>\n",
       "      <th>1</th>\n",
       "      <td>datasets/git-commit_graph.info.csv.gz</td>\n",
       "      <td>3681511</td>\n",
       "      <td>5.260</td>\n",
       "    </tr>\n",
       "    <tr>\n",
       "      <th>0</th>\n",
       "      <td>datasets/git-commit_graph.info.pickle.gz</td>\n",
       "      <td>2833650</td>\n",
       "      <td>6.800</td>\n",
       "    </tr>\n",
       "  </tbody>\n",
       "</table>\n",
       "</div>"
      ],
      "text/plain": [
       "                                   filename  size [bytes]  time [s]\n",
       "2    datasets/git-commit_graph.info.parquet       6079159     0.345\n",
       "4            datasets/git-commit_graph.hdf5       6548777     0.672\n",
       "3       datasets/git-commit_graph.info.hdf5       2735986     0.674\n",
       "1     datasets/git-commit_graph.info.csv.gz       3681511     5.260\n",
       "0  datasets/git-commit_graph.info.pickle.gz       2833650     6.800"
      ]
     },
     "execution_count": null,
     "metadata": {},
     "output_type": "execute_result"
    }
   ],
   "source": [
    "table_sizes_2.sort_values(by='time [s]')"
   ]
  },
  {
   "cell_type": "markdown",
   "metadata": {},
   "source": [
    "### Summary of findings"
   ]
  },
  {
   "cell_type": "markdown",
   "metadata": {},
   "source": [
    "Strangely,smallest files size this time is given when storing using the **_HDF5_** (with `compresslevel=6`) format, which is also 2nd fastest.\n",
    "\n",
    "Saving `DataFrame` using the **_Parquet_** format is fastest, but this time it gives the largest size of the file\n",
    "\n",
    "Saving as **\\*.pickle.gz** or **\\*.csv.gz** is slowest and second slowest, while both being in the middlle with respect to file sizes (the pickle-based format gives smaller file size)."
   ]
  },
  {
   "cell_type": "markdown",
   "metadata": {},
   "source": [
    "## Functions for creating the commit-graph out of repository, computing labelling, etc"
   ]
  },
  {
   "cell_type": "markdown",
   "metadata": {},
   "source": [
    "### Functions for cloning the repository"
   ]
  },
  {
   "cell_type": "markdown",
   "metadata": {},
   "source": [
    "Because the repository is needed only to extract the commit graph from it, therefore to save time and disk space sparse clone will be used.\n",
    "\n",
    "This strongly suggests using the Git command line."
   ]
  },
  {
   "cell_type": "code",
   "execution_count": null,
   "metadata": {},
   "outputs": [],
   "source": [
    "#export\n",
    "def sparse_clone(url, repo_name=None, repos_dir=\"repos\"):\n",
    "    \"\"\"Clone Git repository by URL using sparse/partial clone\n",
    "\n",
    "    The \"Sparse Clone\" or the \"Partial Clone\" feature is a performance\n",
    "    optimization for Git that allows Git to function without having\n",
    "    a complete copy of the repository.  The goal of this feature is to allow\n",
    "    Git better handle extremely large repositories, or in this case store\n",
    "    the repository using less disk space.\n",
    "\n",
    "    To retrieve the commit graph out of the git repository only commit\n",
    "    objects are needed, so all tree and blob objects can be omitted from the\n",
    "    clone.\n",
    "\n",
    "    Using sparse clone is much more efficient: the process is faster, and\n",
    "    the resulting repository takes much less disk space than full clone.\n",
    "\n",
    "    NOTE: Use of partial clone requires that the user be online and the origin\n",
    "    remote or other promisor remotes be available for on-demand fetching\n",
    "    of missing objects, unless the user can stay within the pre-selected\n",
    "    subset of objects.\n",
    "\n",
    "    see: https://git-scm.com/docs/git-clone\n",
    "    see: https://git-scm.com/docs/git-rev-list#Documentation/git-rev-list.txt---filterltfilter-specgt\n",
    "    see: https://github.com/git/git/blob/master/Documentation/technical/partial-clone.txt\n",
    "\n",
    "    Parameters\n",
    "    ----------\n",
    "    url : str\n",
    "        The repository to be cloned, in most cases it would be public URL\n",
    "        that can be used to clone the remote repository.\n",
    "\n",
    "    repo_name: str\n",
    "        The name of a new directory to clone into. The \"humanish\" part of\n",
    "        the source repository (of the `url` parameter) is used if no directory\n",
    "        is explicitly given (`repo` for `/path/to/repo.git` and `foo` for\n",
    "        `host.xz:foo/.git`).  Cloning into an existing directory is only\n",
    "        allowed if the directory is empty.\n",
    "\n",
    "    repos_dir : str\n",
    "        The directory where to put cloned repository into.\n",
    "        By default \"repos\" is used.\n",
    "    \"\"\"\n",
    "    cmd = ['git']\n",
    "    if repos_dir:\n",
    "        cmd.extend(['-C', repos_dir])\n",
    "    cmd.extend(['clone', '--mirror', '--filter=tree:0', '--quiet', url])\n",
    "    if repo_name:\n",
    "        cmd.append(repo_name)\n",
    "    subprocess.run(cmd)"
   ]
  },
  {
   "cell_type": "markdown",
   "metadata": {},
   "source": [
    "If repository exists, there is no need to clone it"
   ]
  },
  {
   "cell_type": "code",
   "execution_count": null,
   "metadata": {},
   "outputs": [],
   "source": [
    "#export\n",
    "def get_repo(url, repo_path, refresh=False):\n",
    "    \"\"\"Clone Git repository into given path, if needed\n",
    "\n",
    "    If the path given by `repo_path` does not exist, or `refresh` is true,\n",
    "    clone Git repository at `url` for later extraction of the commit graph.\n",
    "\n",
    "    see: `sparse_clone()`\n",
    "\n",
    "    Parameters\n",
    "    ----------\n",
    "    url : str\n",
    "        The repository to be cloned, in most cases it would be public URL\n",
    "        that can be used to clone the remote repository.\n",
    "\n",
    "    repo_path: str\n",
    "        The pathname under which one can find resulting Git repository.\n",
    "\n",
    "    refresh: bool\n",
    "        Whether to re-clone the repository if `repo_path` path exists.\n",
    "        Default is false, to not perform a clone if not needed.\n",
    "    \"\"\"\n",
    "    if refresh or not Path(repo_path).exists():\n",
    "        sparse_clone(url, repo_name=repo_path, repos_dir=\"\")"
   ]
  },
  {
   "cell_type": "markdown",
   "metadata": {},
   "source": [
    "### Functions for extracting the commit graph out of git repository"
   ]
  },
  {
   "cell_type": "markdown",
   "metadata": {},
   "source": [
    "Using Git commands, we can easily create text file that store commit-graph information in the adjacency list format, from which it is easy to create a NetworkX graph (`DiGraph`).  Shortened object identifiers (shortened SHA-1) will be used to identify commits which are nodes / vertices of the commit graph."
   ]
  },
  {
   "cell_type": "code",
   "execution_count": null,
   "metadata": {},
   "outputs": [],
   "source": [
    "#export\n",
    "def _repo_name_to_out_path(repo_path, out_dir=\"datasets\"):\n",
    "    \"\"\"Create filename for storing adjacency list out of repository path\n",
    "\n",
    "    This is a helper function used, among others, in `repo_generate_adjlist()`\n",
    "    and `repo_adjlist_to_graph()`.\n",
    "\n",
    "    Parameters\n",
    "    ----------\n",
    "    repo_path : str\n",
    "        Path to the Git repository\n",
    "\n",
    "    out_dir : str\n",
    "        Directory where extracted commit graph data would be stored.\n",
    "        Defaults to \"datasets\".\n",
    "\n",
    "    Returns\n",
    "    -------\n",
    "    Path\n",
    "        Path to the file storing the commit graph in the adjacency list\n",
    "        file format.\n",
    "\n",
    "        see: https://networkx.org/documentation/stable/reference/readwrite/adjlist.html\n",
    "    \"\"\"\n",
    "    # The `out_dir` should not be None\n",
    "    if out_dir is None:\n",
    "        out_dir = \".\"\n",
    "    # generate the name of the output file, as `pathlib.Path` object\n",
    "    # removing the '*.git' extension / suffix from `repo_path`, if needed\n",
    "    out_pathname = Path(out_dir) / (Path(repo_path).stem + \"-commit_graph.adjlist.txt\")\n",
    "\n",
    "    return out_pathname\n",
    "\n",
    "\n",
    "def repo_generate_adjlist(repo_path, out_dir=\"datasets\", refresh=False):\n",
    "    \"\"\"Generate graph of revisions in the adjacency list format\n",
    "\n",
    "    Can be read with `nx.read_adjlist()`; don't forget to ensure that\n",
    "    NetworkX generates _directed_ graph.\n",
    "\n",
    "    >>>> path = repo_generate_adjlist(\"repos/git.git\")\n",
    "    >>>> graph = nx.read_adjlist(path, create_using=nx.DiGraph)\n",
    "\n",
    "    By default it does not recreate the file if it exists already,\n",
    "    unless `refresh=True` argument is passed.\n",
    "\n",
    "    Format\n",
    "    ------\n",
    "    The adjacency list format consists of lines with node labels.  The first\n",
    "    label in a line is the source node. Further labels in the line are\n",
    "    considered target nodes and are added to the graph along with an edge\n",
    "    between the source node and target node.\n",
    "\n",
    "    The graph with edges a-b, a-c, d-e can be represented as the following\n",
    "    adjacency list (anything following the # in a line is a comment):\n",
    "\n",
    "    > a b c # source target target\n",
    "    > d e\n",
    "\n",
    "    see: https://networkx.org/documentation/stable/reference/readwrite/adjlist.html\n",
    "\n",
    "    Parameters\n",
    "    ----------\n",
    "    repo_path : str\n",
    "        Path to the Git repository\n",
    "\n",
    "    out_dir : str\n",
    "        Directory where extracted commit graph data would be stored.\n",
    "        Defaults to \"datasets\".\n",
    "\n",
    "    refresh : bool\n",
    "        Whether to regenerate the file with the commit graph in adjacency\n",
    "        format if it exists.  Defaults to false.\n",
    "\n",
    "    Returns\n",
    "    -------\n",
    "    Path\n",
    "        Path where the commit graph in the adjacency file format\n",
    "        can be found.\n",
    "    \"\"\"\n",
    "    out_pathname = _repo_name_to_out_path(repo_path, out_dir=out_dir)\n",
    "    # generate the adjacency list using git-log command\n",
    "    if refresh or not out_pathname.exists():\n",
    "        with out_pathname.open(\"w\") as outfile:\n",
    "            subprocess.run(['git', '-C', repo_path,\n",
    "                            'log', '--format=\"%h %p\"', '--topo-order', '--all'],\n",
    "                           stdout=outfile)\n",
    "    return out_pathname"
   ]
  },
  {
   "cell_type": "markdown",
   "metadata": {},
   "source": [
    "To process the commit graph, we need to create a NetworkX directed graph from it, using generated adjacency list file."
   ]
  },
  {
   "cell_type": "code",
   "execution_count": null,
   "metadata": {},
   "outputs": [],
   "source": [
    "#export\n",
    "def repo_adjlist_to_graph(repo_path, datasets_dir=\"datasets\"):\n",
    "    \"\"\"Create `DiGraph` out of adjacency list file created from it\n",
    "\n",
    "    NOTE: the `repo_to_graph()` function is safer to use, as it generates\n",
    "    the graph of commits in the adjacency list file format of needed.\n",
    "\n",
    "    Parameters\n",
    "    ----------\n",
    "    repo_path : str\n",
    "        Path to the Git repository\n",
    "\n",
    "    datasets_dir : str\n",
    "        Directory where extracted commit graph data would be stored.\n",
    "        Defaults to \"datasets\".\n",
    "\n",
    "    Returns\n",
    "    -------\n",
    "    nx.DiGraph\n",
    "        Directed graph of revisions as NetworkX's `DiGraph`\n",
    "    \"\"\"\n",
    "    out_pathname = _repo_name_to_out_path(repo_path, out_dir=datasets_dir)\n",
    "    return nx.read_adjlist(out_pathname, create_using=nx.DiGraph)"
   ]
  },
  {
   "cell_type": "markdown",
   "metadata": {},
   "source": [
    "Tying it all together, to get a directed graph of revision history of a given repository into NetworkX `DiGraph`, we need to create a sparse clone of a repository if it does not exist, write log of revision history in adjacency list format if the file does not exist, and create the commit graph as NetworkX `DiGraph`."
   ]
  },
  {
   "cell_type": "code",
   "execution_count": null,
   "metadata": {},
   "outputs": [],
   "source": [
    "#export\n",
    "def repo_to_graph(repo_path, datasets_dir=\"datasets\", refresh=False):\n",
    "    \"\"\"Create a graph of commits for given local repository\n",
    "\n",
    "    It uses existing file with the commit graph in the adjacency list file\n",
    "    format, unless refresh is requested with `refresh=True`.  Automatically\n",
    "    generates such file if it does not exist.\n",
    "\n",
    "    Parameters\n",
    "    ----------\n",
    "    repo_path : str\n",
    "        Path to the local Git repository\n",
    "\n",
    "    datasets_dir : str\n",
    "        Directory where extracted commit graph data can be stored, or will\n",
    "        be stored.  Defaults to \"datasets\".\n",
    "\n",
    "    refresh : bool\n",
    "        Whether to regenerate the file with the commit graph in adjacency\n",
    "        format if it exists.  Defaults to false.\n",
    "\n",
    "    Returns\n",
    "    -------\n",
    "    nx.DiGraph\n",
    "        Directed graph of revisions as NetworkX's `DiGraph`\n",
    "    \"\"\"\n",
    "    out_pathname = repo_generate_adjlist(repo_path, out_dir=datasets_dir, refresh=refresh)\n",
    "    return nx.read_adjlist(out_pathname, create_using=nx.DiGraph)\n",
    "\n",
    "\n",
    "def commit_graph(url, repo_name,\n",
    "                 repos_dir=\"repos\", datasets_dir=\"datasets\",\n",
    "                 reclone=False, rescan=False):\n",
    "    \"\"\"Create a graph of commits for given remote repository, stored locally\n",
    "\n",
    "    Given a Git repository `url`, clone it as `repo_name` in `repo_dir`\n",
    "    directory, then create a graph of its commits as NetworkX `DiGraph`.\n",
    "\n",
    "    Avoids re-cloning of the remote repository unless `reclone=True` is\n",
    "    passed, and avoids rescanning the local copy of the repository if file\n",
    "    in the adjacency list format with the commit graph information exists\n",
    "    unless `rescan=True` is passed.\n",
    "\n",
    "    Parameters\n",
    "    ----------\n",
    "    url : str\n",
    "        The repository to be cloned, in most cases it would be public URL\n",
    "        that can be used to clone the remote repository.\n",
    "\n",
    "    repo_name: str\n",
    "        The name of a new directory to clone into (or in other words name\n",
    "        of local clone of the remote repository).\n",
    "\n",
    "    repos_dir : str\n",
    "        The directory where to put cloned repository into.\n",
    "        By default \"repos\" is used.\n",
    "\n",
    "    datasets_dir : str\n",
    "        Directory where extracted commit graph data can be stored, or will\n",
    "        be stored.  Defaults to \"datasets\".\n",
    "\n",
    "    reclone : bool\n",
    "        Whether to re-clone the repository if the local clone exists.\n",
    "        Default is false, to not perform a clone if not needed.\n",
    "\n",
    "    rescan : bool\n",
    "        Whether to regenerate the file with the commit graph in adjacency\n",
    "        format if it exists.  Defaults to false.\n",
    "\n",
    "    Returns\n",
    "    -------\n",
    "    nx.DiGraph\n",
    "        Directed graph of revisions as NetworkX's `DiGraph`\n",
    "    \"\"\"\n",
    "    repo_path = Path(repos_dir) / repo_name\n",
    "    get_repo(url, repo_path, refresh=reclone)\n",
    "    return repo_to_graph(repo_path, datasets_dir=datasets_dir, refresh=rescan)"
   ]
  },
  {
   "cell_type": "markdown",
   "metadata": {},
   "source": [
    "### Functions for computing reachability labels, and saving them and graph to a file (TODO)"
   ]
  },
  {
   "cell_type": "markdown",
   "metadata": {},
   "source": [
    "----"
   ]
  },
  {
   "cell_type": "code",
   "execution_count": null,
   "metadata": {},
   "outputs": [
    {
     "name": "stdout",
     "output_type": "stream",
     "text": [
      "Converted 01_tools.ipynb.\n",
      "Converted 02_related.ipynb.\n",
      "Converted 03_example_graphs.ipynb.\n",
      "Converted 05_reachability_index.ipynb.\n",
      "Converted 06_levels.ipynb.\n",
      "Converted 07_interval_labels.ipynb.\n",
      "Converted 08_reach.ipynb.\n",
      "Converted 09_git.ipynb.\n",
      "Converted index.ipynb.\n"
     ]
    }
   ],
   "source": [
    "#hide\n",
    "# this should be the last cell of the notebook\n",
    "from nbdev.export import notebook2script\n",
    "notebook2script()"
   ]
  }
 ],
 "metadata": {
  "kernelspec": {
   "display_name": "Python 3",
   "language": "python",
   "name": "python3"
  }
 },
 "nbformat": 4,
 "nbformat_minor": 4
}
