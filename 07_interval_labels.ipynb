{
 "cells": [
  {
   "cell_type": "code",
   "execution_count": null,
   "metadata": {},
   "outputs": [],
   "source": [
    "#default_exp labelling.dfs_intervals"
   ]
  },
  {
   "cell_type": "code",
   "execution_count": null,
   "metadata": {},
   "outputs": [
    {
     "name": "stdout",
     "output_type": "stream",
     "text": [
      "The autoreload extension is already loaded. To reload it, use:\n",
      "  %reload_ext autoreload\n"
     ]
    }
   ],
   "source": [
    "#hide_output\n",
    "%load_ext autoreload\n",
    "%autoreload 2"
   ]
  },
  {
   "cell_type": "markdown",
   "metadata": {},
   "source": [
    "# DFS Intervals Labelling\n",
    "> _min-post_ intervals labeling and its extensions, as used in GRAIL, FERRARI (and PReaCH)"
   ]
  },
  {
   "cell_type": "markdown",
   "metadata": {},
   "source": [
    "Imports for the module"
   ]
  },
  {
   "cell_type": "code",
   "execution_count": null,
   "metadata": {},
   "outputs": [],
   "source": [
    "#export\n",
    "import networkx as nx\n",
    "from copy import deepcopy"
   ]
  },
  {
   "cell_type": "markdown",
   "metadata": {},
   "source": [
    "## Definitions: out-tree, spanning tree / tree cover, etc."
   ]
  },
  {
   "cell_type": "markdown",
   "metadata": {},
   "source": [
    "![A tree in graph theory (Wikipedia)](https://upload.wikimedia.org/wikipedia/commons/thumb/2/24/Tree_graph.svg/162px-Tree_graph.svg.png)\n",
    "\n",
    "In graph theory, a **tree** is an undirected graph in which any two vertices are connected by exactly one path, or equivalently a connected acyclic undirected graph."
   ]
  },
  {
   "cell_type": "markdown",
   "metadata": {},
   "source": [
    "<img src=\"https://static.cambridge.org/binary/version/id/urn:cambridge.org:id:binary:20171027092037172-0306:9781316105450:08931fig13_6.png?pub-status=live\" width=\"60%\"/>"
   ]
  },
  {
   "cell_type": "markdown",
   "metadata": {},
   "source": [
    "In graph theory, a **directed rooted tree** or an **arborescence**, or **out-tree** is a directed graph in which, for a vertex $u$ called the root and any other vertex $v$, there is exactly one directed path from $u$ to $v$.  Equivalently, an arborescence is a directed, rooted tree in which all edges point away from the root.\n",
    "\n",
    "Every directed rooted tree is a directed acyclic graph (DAG), but not every DAG is a tree.\n",
    "\n",
    "> Note: here _root_ denotes a source node / verted, with in-degree of zero."
   ]
  },
  {
   "cell_type": "markdown",
   "metadata": {},
   "source": [
    "A **directed rooted forest** is a disjoint union of directed rooted trees.  It is called **branching** or **out-forest** if all its edges point away from the root in each rooted tree."
   ]
  },
  {
   "cell_type": "markdown",
   "metadata": {},
   "source": [
    "![A 4x4 grid graph and one of its spanning trees (Wikipedia)](https://upload.wikimedia.org/wikipedia/commons/thumb/d/d4/4x4_grid_spanning_tree.svg/240px-4x4_grid_spanning_tree.svg.png)\n",
    "\n",
    "In the mathematical field of graph theory, a **spanning tree** $T$ of an undirected graph $G$ is a subgraph that is a tree which includes all of the vertices of $G$, with a minimum possible number of edges.\n",
    "\n",
    "A **full spanning forest** in an undirected graph (possibly not connected) is a maximal acyclic subgraph of the given graph, or equivalently a graph consisting of a spanning tree in each connected component of the graph."
   ]
  },
  {
   "cell_type": "markdown",
   "metadata": {},
   "source": [
    "Given a vertex $v$ on a directed multigraph $G$, an **oriented spanning out-tree**, or **tree cover** $T(G)$ rooted at $v$ is an acyclic subgraph of $G$ in which every vertex other than $v$ has in-degree 1."
   ]
  },
  {
   "cell_type": "markdown",
   "metadata": {},
   "source": [
    "![Small DAG with the spanning out-forest overlay and min-post intervals](images/colab/small_DAG_spanning_tree_min-post.png)\n",
    "\n",
    "Given directed acyclic graph $G$, a **spanning forest**, or **oriented spanning out-forest** is such its subgraph,\n",
    "for which the following is true:\n",
    "- it includes all original (full) graph nodes\n",
    "- there is at most one incoming edge per node (every vertex has in-degree 1 or 0)"
   ]
  },
  {
   "cell_type": "markdown",
   "metadata": {},
   "source": [
    "## _min-post_ intervals in directed trees"
   ]
  },
  {
   "cell_type": "markdown",
   "metadata": {},
   "source": [
    "The reachability problem on **_trees_** (out-forests) can be solved effectively by **interval labeling**,\n",
    "which takes linear time and space for constructing the index,\n",
    "and provides constant time querying.\n",
    "\n",
    "It labels each node $u$ with a **_min-post_** range $I_u = [s_u, e_u]$,\n",
    "where \n",
    "- $s_u$ denotes the rank of the node $u$ in a <em><u>post</u>-order traversal</em> of the tree,\n",
    "  where the ranks are assumed to begin at 1,\n",
    "  and all the children of a node are assumed to be ordered and fixed for that traversal.\n",
    "  \n",
    "  Note that the tree needs to be traversed in _depth-first search_ (DFS) manner.\n",
    "  \n",
    "- $s_u$ denotes the lowest rank for any node $x$,\n",
    "  or in other words <em><u>min</u>imum</em> of DFS number of a node\n",
    "  in the subtree rooted at $u$ (i.e., including $u$)."
   ]
  },
  {
   "cell_type": "markdown",
   "metadata": {},
   "source": [
    "**Min-post interval** for a vertex (node) $u$ in a directed acyclic graph $G$,\n",
    "denoted as $I(u) \\equiv I_u = [s_u, e_u]$, can be computed in the following way:\n",
    "- $e_u$ is defined as $e_u = \\pi(u) = \\text{post}(u)$, i.e. post-order value (back traversal) in DFS traversal\n",
    "- $s_u = \\pi(u) = e_u$ for leaf nodes, also known as sink nodes (no outcoming edges, out-degree 0),  \n",
    "  otherwise $s_u = \\min\\{s_x \\colon x \\in \\text{out-neighbours}(s)\\}$\n",
    "  (out-neighbours are sometimes called children)."
   ]
  },
  {
   "cell_type": "markdown",
   "metadata": {},
   "source": [
    "Similarly, **max-pre interval** for a vertex (node) $u$ in a directed acyclic graph $G$,\n",
    "denoted as $\\text{range}(u) \\equiv \\hat{I}_u = [\\hat{\\phi}(u), \\phi(u)]$, can be computed in the following way:\n",
    "- $\\phi(u)$ is defined as $\\phi(u) = \\text{pre}(u)$, i.e. pre-order value (forward traversal) in DFS traversal\n",
    "- $\\hat{\\phi}(u) = \\phi(u)$ for leaf nodes, also known as sink nodes (no outcoming edges, out-degree 0),  \n",
    "  otherwise $\\hat{\\phi}(u) = \\max\\{\\hat{\\phi}(x) \\colon x \\in \\text{out-neighbours}(s)\\}$."
   ]
  },
  {
   "cell_type": "markdown",
   "metadata": {},
   "source": [
    "### Min-post interval properties for trees"
   ]
  },
  {
   "cell_type": "markdown",
   "metadata": {},
   "source": [
    "For out-forests (directed forests) the containment between intervals\n",
    "is equivalent to the reachability relationship between the nodes,\n",
    "since the post-order DFS traversal enters a node before all of its descendants,\n",
    "and leaves after having visited all of its descendants.\n",
    "\n",
    "In other words, $u \\leadsto v \\iff I_v \\subseteq I_u$"
   ]
  },
  {
   "cell_type": "markdown",
   "metadata": {},
   "source": [
    "> Note: for trees it is enough to check that $s_v \\in I_u$, because that is equivalent to checking $I_v \\subseteq I_u$."
   ]
  },
  {
   "cell_type": "markdown",
   "metadata": {},
   "source": [
    "This means that the reachability query for trees can be answered in constant time.\n",
    "\n",
    "Min-post and max-pre intervals for trees functions both as positive-cut and as negative-cut filter:\n",
    "- if $I_v \\subseteq I_u$, then $u$ can reach $v$ _(positive-cut filter)_\n",
    "- if $u$ can reach $v$, then $I_v \\subseteq I_u$ _(negative-cut filter)_"
   ]
  },
  {
   "cell_type": "markdown",
   "metadata": {},
   "source": [
    "## _min-post_ intervals in directed acyclic graphs (DAGs)"
   ]
  },
  {
   "cell_type": "markdown",
   "metadata": {},
   "source": [
    "The DFS **post-order** value (back traversal) induces topological sorting for a DAG.\n",
    "\n",
    "This means that if $u$ can reach $v$ (i.e. $r(u,v)$ is true, or $u \\leadsto v$), and $u \\neq v$, then $\\text{post}(u) > \\text{post}(v)$.  \n",
    "Conversely, if $\\text{post}(u) < \\text{post}(v)$, then $u$ cannot reach $v$ (_negative-cut_ filter)."
   ]
  },
  {
   "cell_type": "markdown",
   "metadata": {},
   "source": [
    "![Commit graph with the spanning forest](images/slides/git_commit_graph-spanning_forest_first_parent.png)\n",
    "\n",
    "For example, as shown in the above image, $n_{18} \\leadsto n_{9}$, but $n_{18} \\not\\leadsto n_{19}$"
   ]
  },
  {
   "cell_type": "markdown",
   "metadata": {},
   "source": [
    "### _min-post_ interval for a spanning tree _(positive-cut filter)_"
   ]
  },
  {
   "cell_type": "markdown",
   "metadata": {},
   "source": [
    "For a directed acyclic graph $G$,\n",
    "we define a **tree cover** (or **forest cover**) of $G$, denoted as $T(G) = (V_T, E_T)$,\n",
    "as a directed spanning tree of $G$."
   ]
  },
  {
   "cell_type": "markdown",
   "metadata": {},
   "source": [
    "> Tip: if we want to have a tree cover rather than a forest,\n",
    "> we can augment graph $G$ by introducing an artificial root node $r$\n",
    "> that is connected to every node with no incoming edge:\n",
    "> $$ G' := (V \\cup \\{r\\}, E \\cup \\{(r,v) \\colon v \\in V, \\text{indegree}(v) = 0\\}) $$\n",
    "> Note that this modification has no effect on the reachability relation among the existing nodes of $G$."
   ]
  },
  {
   "cell_type": "markdown",
   "metadata": {},
   "source": [
    "We define **min-post tree interval** as following\n",
    "\n",
    "$$ I_v = \\{\\pi(w) \\colon w \\in V_{T_v}\\} \n",
    "   = \\left[ \\min_{w \\in V_{T_v}} \\pi(w), \\max_{w \\in V_{T_v}} \\pi(w) \\right] \n",
    "   = \\left[ \\min_{w \\in V_{T_v}} \\pi(w), \\pi(v) \\right]$$\n",
    "   \n",
    "Here $T_v = (V_{T_v}, E_{T_v})$ denote the subtree of $T(G)$ rooted at node $v$."
   ]
  },
  {
   "cell_type": "markdown",
   "metadata": {},
   "source": [
    "The spanning forest, or tree cover, or out-forest $T(G)$ of directed acyclic graph $G$ has the following properties:\n",
    "- if there exists a path from $u$ to $v$ in the spanning tree $T(G)$, then $u$ can reach $v$ in the full graph $G$\n",
    "- but the path from $u$ to $v$ could require going through edges outside the spanning tree $T(G)$"
   ]
  },
  {
   "cell_type": "markdown",
   "metadata": {},
   "source": [
    "The **_min-post tree interval labels_** have therefore the following properties:\n",
    "- path from $u$ to $v$ in the spanning tree $T(G)$ exists if and only if $I_v \\subseteq I_u$ (or $\\pi(v) \\in I_u$)\n",
    "- if $I_v \\subseteq I_u$, then $u \\leadsto v$ ($u$ can reach $v$, also in the full graph $G$)\n",
    "\n",
    "It can be therefore used as _positive-cut filter_."
   ]
  },
  {
   "cell_type": "markdown",
   "metadata": {},
   "source": [
    "Example:\n",
    "\n",
    "![Small DAG with the spanning out-forest overlay and min-post intervals](images/colab/small_DAG_spanning_tree_min-post.png)\n",
    "\n",
    "In the graph and its spanning tree shown in the above figure we have:\n",
    "- $[3,3] \\subseteq [1,5]$ then $a \\leadsto h$,\n",
    "- $[3,3] \\not\\subseteq [7,9]$, but $b \\leadsto h$ (via out-of-tree edge)"
   ]
  },
  {
   "cell_type": "markdown",
   "metadata": {},
   "source": [
    "Such interval is called **tree interval** or **exact interval** and denoted $I_T(u)$ in the FERRARI paper,  \n",
    "and the corresponding max-pre interval as a range is called **full interval** (because every $v$ such that $\\phi(v) \\in I_T(u)$ is reachable from $v$) in the PReaCH paper"
   ]
  },
  {
   "cell_type": "markdown",
   "metadata": {},
   "source": [
    "### _min-post_ interval for a DAG _(negative-cut filter)_"
   ]
  },
  {
   "cell_type": "markdown",
   "metadata": {},
   "source": [
    "While above technique (min-post intervals) can be used to easily answer reachability queries on trees,\n",
    "the case of general DAGs is much more challenging.\n",
    "\n",
    "The reason is that, in general, the reachable set $\\mathcal{R}(v)$ of a vertex $v$ in the DAG\n",
    "(i.e. the set of vertices reachable from $v$: $\\mathcal{R}(v) = \\{u \\in V\\colon v \\leadsto u\\}$)\n",
    "is only partly represented by the interval $I_T(v)$,\n",
    "as the tree interval only accounts for reachability relationships that are preserved in $T$.\n",
    "Vertices that can only be reached from a node $v$ by traversing one or more non-tree edges\n",
    "have to be handled seperately: instead of merely storing the tree intervals $I_T(v)$,\n",
    "every node $v$ is now assigned a set of intervals, denoted by $\\mathcal{I}(v)$.\n",
    "The purpose of this so-called **reachable interval set** is to capture the complete reachability information of a node."
   ]
  },
  {
   "cell_type": "markdown",
   "metadata": {},
   "source": [
    "Let's define the **approximate graph interval** as a single interval $\\tilde{I}_G(v) = [\\tilde{s}_u, \\tilde{e}_u]$\n",
    "approximating the reachable set $\\mathcal{R}(u)$ of a vertex $u$ in the DAG from the above (i.e. $\\mathcal{R}(u) \\subseteq \\tilde{I}_G(u)$)\n",
    "in the following way:\n",
    "\n",
    "$$ \\tilde{I}_G(v) \n",
    "   = \\left[ \\min_{w \\in \\mathcal{R}(v)} \\pi(w), \\max_{w \\in \\mathcal{R}_v} \\pi(w) \\right] \n",
    "   = \\left[ \\min_{w \\in V} \\pi(w), \\pi(v) \\right]$$\n",
    "   \n",
    "The second part of the above equation is true for DFS traversal; the fact that the end of interval is simply post-traversal value $\\pi(v)$ was mentioned earlier."
   ]
  },
  {
   "cell_type": "markdown",
   "metadata": {},
   "source": [
    "This **_min-post approximate graph interval_** has the following properties:\n",
    "- if $u$ can reach $v$ (denoted as $u \\leadsto v$), then $\\tilde{I}_G(v) \\subseteq \\tilde{I}_G(u)$\n",
    "- this means that if $\\tilde{I}_G(v) \\not\\subseteq \\tilde{I}_G(u)$, then $u$ cannot reach $v$ _(negative-cut filter)_"
   ]
  },
  {
   "cell_type": "markdown",
   "metadata": {},
   "source": [
    "![Interval Labeling: Tree (a) and DAG: Single (b)](images/grail/GRAIL_vldb2010-fig2ab-interval_labeling_tree_and_DAG.png)\n",
    "\n",
    "For example, part (a) of the figure above (taken from GRAIL paper) shows the _interval labeling on a tree_,\n",
    "assuming that the children are ordered from left to right.\n",
    "It is easy to see that reachability can be answered by interval containment.\n",
    "For example, $1 \\leadsto 9$, since $I_9 = [2, 2] \\subset [1, 6] = L_1$,\n",
    "but $2 \\not\\leadsto 7$, since $I_7 = [1, 3] \\not\\subseteq [7, 9] = L_2$.\n",
    "\n",
    "For example, part (b) of the figure above shows an _interval labeling on a DAG_,\n",
    "assuming a left to right ordering of the children.\n",
    "As one can see, interval containment of nodes in a DAG is not exactly equivalent to reachability.\n",
    "For example, $5 \\not\\leadsto 4$, but $\\tilde{I}_4 = [1, 5] \\subseteq [1, 8] = \\tilde{I}_5$.\n",
    "In other words, $\\tilde{U}_v \\subseteq \\tilde{I}_u$ does not imply that $u \\leadsto v$.\n",
    "On the other hand, one can show that $\\tilde{I}_v \\not\\subseteq \\tilde{I}_u \\implies u \\not\\leadsto v$."
   ]
  },
  {
   "cell_type": "markdown",
   "metadata": {},
   "source": [
    "## Extending _min-post_ intervals for graphs"
   ]
  },
  {
   "cell_type": "markdown",
   "metadata": {},
   "source": [
    "This section describes various extensions to the _min-post_ intervals (DFS numbering) going beyond those negative-cut and positive-cut filters described above."
   ]
  },
  {
   "cell_type": "markdown",
   "metadata": {},
   "source": [
    "### Multiple intervals labelling: GRAIL (TODO)"
   ]
  },
  {
   "cell_type": "markdown",
   "metadata": {},
   "source": [
    "### Extending interval labelling: PReaCH"
   ]
  },
  {
   "cell_type": "markdown",
   "metadata": {},
   "source": [
    "The PReaCH paper extends min-post intervals labelling with approach slightly different from GRAIL, where instead of using additional DFS searches, additional extra labels are used.\n",
    "\n",
    "**NOTE:** the PReaCH paper uses max-pre interval labelling instead of min-post one, but one can be translated into the other."
   ]
  },
  {
   "cell_type": "markdown",
   "metadata": {},
   "source": [
    "#### Original extension of max-pre intervals (Section 3.3 of PReaCH)"
   ]
  },
  {
   "cell_type": "markdown",
   "metadata": {},
   "source": [
    "**Section 3.3 \"*Pruning Based on DFS Numbering*\" in the PReaCH paper.**\n",
    "\n",
    "![Full and empty intervals derived from a DFS ordering](images/preach/PReaCH_arXiv-fig_3-full_and_empty_intervals_derived_from_DFS_numbering.png)\n",
    "\n",
    "Let $\\phi(v)$ denote the pre-visit DFS number of node $v$ and $\\hat{\\phi}(v)$ the largest DFS number of a node\n",
    "in the subtree of the DFS tree rooted at $v$. The properties of DFS ensure that the nodes in\n",
    "$\\text{range}(v) := \\phi(v)..\\hat{\\phi}(v)$ are all reachable from $v$ (they form the subtree of the DFS tree which\n",
    "is rooted at $v$) and that no nodes with DFS number exceeding $\\hat{\\phi}(v)$ is reachable from $v$.\n",
    "\n",
    "Let $u \\to v$ denote that $r(u,v)$ is true, and $u \\nrightarrow v$ that $r(u,v)$ is false.  \n",
    "(We would use $u \\leadsto v$/$u \\rightsquigarrow v$, but $u \\not\\leadsto v$ is broken, and there is no $\\nrightsquigarrow$).\n",
    "\n",
    "\n",
    "*   $\\forall v,t \\in V \\colon\\ t \\in \\text{range}(v) \\implies v \\to t$  \n",
    "    _(positive-cut)_\n",
    "*   $\\forall v,t \\in V \\colon\\ \\phi(t) > \\hat{\\phi}(v) \\implies v \\nrightarrow t$  \n",
    "    _(negative-cut)_\n",
    "\n",
    "Let's define node $w = p_{\\text{tree}}(v)$ as the node that has $v \\to w$ and $w \\notin \\text{range}(v)$\n",
    "which maximizes $\\lvert\\text{range}(w)\\rvert$.  Then, if $p_{\\text{tree}}(v)$ exists\n",
    "\n",
    "*   $\\forall v,t \\in V \\colon\\ p_{\\text{tree}}(v) \\neq \\bot \\land t \\in \\text{range}(p_{\\text{tree}}(v)) \\implies v \\to t$  \n",
    "    _(positive-cut)_\n",
    "    \n",
    "For any $v \\in V$, let $\\phi_{\\text{min}}(v)$ denote the smallest DFS number of a node reachable from $v$ (including $v$). Then\n",
    "\n",
    "*   $\\forall v,t \\in V \\colon\\ \\phi(t) < \\phi_{\\text{min}}(v) \\implies v \\nrightarrow t$  \n",
    "    _(negative-cut)_\n",
    "    \n",
    "We can also define $\\phi_{\\text{gap}}(v)$ in such way that\n",
    "\n",
    "*   $\\forall v,t \\in V \\colon\\ \\phi_{\\text{gap}}(v) < \\phi(t) < \\phi(v) \\implies v \\nrightarrow t$  \n",
    "    _(negative-cut)_\n",
    "    \n",
    "All those values: $\\phi(v), \\hat{\\phi}(v), p_{\\text{tree}}(v), \\phi_{\\text{min}}(v), \\phi_{\\text{gap}}(v)$ can be done while computing the DFS numbering."
   ]
  },
  {
   "cell_type": "markdown",
   "metadata": {},
   "source": [
    "**On choosing the DFS spanning-tree from PReaCH paper**\n",
    "\n",
    "There are many ways to define a DFS ordering: We are free to choose the order in\n",
    "which we scan the nodes for starting recursive exploration and we can choose the order in\n",
    "which we inspect edges leaving a node being explored.\n",
    "\n",
    "One heuristics that seems to be useful: Make sure that most nodes are in a small number of trees because this leads to large positive intervals. It therefore makes sense to only uses sources of the graph as tree roots.\n",
    "\n",
    "In addition, one can order the sources by the number of nodes reached from them during the search for topological levels."
   ]
  },
  {
   "cell_type": "markdown",
   "metadata": {},
   "source": [
    "#### Translating PReaCH extension to min-post intervals"
   ]
  },
  {
   "cell_type": "markdown",
   "metadata": {},
   "source": [
    "<!-- https://www.overleaf.com/project/5fd15159e5a50909877b2ddf -->\n",
    "![Full and empty intervals derived from a post-visit DFS ordering](images/full_and_empty_intervals_derived_from_min-post_DFS_numbering.png)"
   ]
  },
  {
   "cell_type": "markdown",
   "metadata": {},
   "source": [
    "Let $\\pi(v)$ denote the post-visit DFS number of node $v$\n",
    "and $\\breve{\\pi}(v)$ the smallest post-visit DFS number of a node\n",
    "in the subtree of the DFS tree rooted at $v$.\n",
    "The properties of DFS ensure that the nodes in $I_T(v) := \\breve{\\pi}(v)..\\pi(v) = [\\breve{\\pi}(v),\\pi(v)]$\n",
    "are all reachable from $v$ (they form the subtree of the DFS tree which is rooted at $v$)\n",
    "and that no nodes with DFS number exceeding $\\pi(v)$ is reachable from $v$.\n",
    "\n",
    "Let $u \\to v$ denote that $r(u,v)$ is true, and $u \\nrightarrow v$ that $r(u,v)$ is false.  \n",
    "\n",
    "-   $\\forall v,t \\in V \\colon\\ t \\in I_T(v) \\implies v \\to t$  \n",
    "    _(positive-cut)_\n",
    "-   $\\forall v,t \\in V \\colon\\ \\pi(t) > \\pi(v) \\implies v \\nrightarrow t$  \n",
    "    _(negative-cut)_\n",
    "\n",
    "\n",
    "Let's define node $w = p_{\\text{tree}}(v) = p_{\\text{t}}(v)$ as the node that has $v \\to w$ and $w \\notin I_T(v)$\n",
    "which maximizes $\\lvert I_T(w)\\rvert$.  \n",
    "Then, if $p_{\\text{tree}}(v)$ exists (which we denote as $p_{\\text{tree}}(v) \\neq \\bot$)\n",
    "\n",
    "*   $\\forall v,t \\in V \\colon\\ p_{\\text{tree}}(v) \\neq \\bot \\land t \\in I_T(p_{\\text{tree}}(v)) \\implies v \\to t$  \n",
    "    _(positive-cut)_\n",
    "    \n",
    "For any $v \\in V$, let $\\pi_{\\text{min}}(v)$ denote\n",
    "the smallest post-visit DFS number of a node reachable from $v$ (including $v$) in the graph.\n",
    "\n",
    "> Note: with this notation we can say that $\\tilde{I}_G(v) = [\\pi_{\\text{min}}(v), \\pi(v)]$.\n",
    "\n",
    "Then\n",
    "\n",
    "*   $\\forall v,t \\in V \\colon\\ \\pi(t) < \\pi_{\\text{min}}(v) \\implies v \\nrightarrow t$  \n",
    "    _(negative-cut)_\n",
    "    \n",
    "We can also define $\\pi_{\\text{gap}}(v)$ in such way that\n",
    "\n",
    "*   $\\forall v,t \\in V \\colon\\ \\pi_{\\text{gap}}(v) < \\pi(t) < \\pi(v) \\implies v \\nrightarrow t$  \n",
    "    _(negative-cut)_\n",
    "    \n",
    "All those values: $\\pi(v), \\breve{\\pi}(v), p_{\\text{tree}}(v), \\pi_{\\text{min}}(v), \\pi_{\\text{gap}}(v)$ can be done while computing the DFS numbering."
   ]
  },
  {
   "cell_type": "markdown",
   "metadata": {},
   "source": [
    "### Extending interval labelling: FERRARI (TODO)"
   ]
  },
  {
   "cell_type": "markdown",
   "metadata": {},
   "source": [
    "## Visualizing DFS intervals on example graphs"
   ]
  },
  {
   "cell_type": "markdown",
   "metadata": {},
   "source": [
    "TODO"
   ]
  },
  {
   "cell_type": "code",
   "execution_count": null,
   "metadata": {},
   "outputs": [],
   "source": [
    "# this is needed for example (small) graphs\n",
    "import git_commit_graph_ext.example_graphs as graphs"
   ]
  },
  {
   "cell_type": "code",
   "execution_count": null,
   "metadata": {},
   "outputs": [],
   "source": [
    "# this is needed only for demonstrations\n",
    "import matplotlib.pyplot as plt"
   ]
  },
  {
   "cell_type": "markdown",
   "metadata": {},
   "source": [
    "### Examples of spanning trees and min-post tree intervals labelling"
   ]
  },
  {
   "cell_type": "markdown",
   "metadata": {},
   "source": [
    "Draw a small DAG (from FELINE paper) and its spanning tree, like on Figure 8 of the FELINE paper, together with its _min-post_ tree intervals."
   ]
  },
  {
   "cell_type": "code",
   "execution_count": null,
   "metadata": {},
   "outputs": [
    {
     "data": {
      "image/png": "[encoded data removed]",
      "text/plain": [
       "<Figure size 432x288 with 1 Axes>"
      ]
     },
     "metadata": {},
     "output_type": "display_data"
    }
   ],
   "source": [
    "#@title Draw a small DAG and its spanning-tree, as in Figure 8\n",
    "from copy import deepcopy\n",
    "\n",
    "plt.axis('off')\n",
    "plt.title('Small DAG with the spanning tree overlay and min-post intervals')\n",
    "\n",
    "sd=graphs.small_DAG_FELINE()\n",
    "sd.tree={\n",
    "  'a':(2,3),'b':(4.5,3),\n",
    "  'c':(1,2),'d':(2,2),'e':(3,2),'f':(4,2),'g':(5,2),\n",
    "  'h':(3,1)\n",
    "}\n",
    "nx.draw_networkx(sd,\n",
    "                 pos=sd.tree,\n",
    "                 node_size=500,width=8.0,\n",
    "                 edge_color='#aaaaaa',node_color='y')\n",
    "nx.draw_networkx_edges(sd,\n",
    "                       pos=sd.tree,\n",
    "                       edgelist=[\n",
    "                            ('a','c'),('a','d'),('a','e'),\n",
    "                            ('e','h'),\n",
    "                            ('b','f'),('b','g')\n",
    "                        ],\n",
    "                        node_size=500,width=2.0,\n",
    "                        arrowstyle='->')\n",
    "\n",
    "sd.lpos=deepcopy(sd.tree)\n",
    "for v in list('abh'):\n",
    "  sd.lpos[v] = (sd.lpos[v][0]+0.40,sd.lpos[v][1])\n",
    "for v in list('cdfg'):\n",
    "  sd.lpos[v] = (sd.lpos[v][0]+0.05,sd.lpos[v][1]-0.2)\n",
    "for v in list('e'):\n",
    "  sd.lpos[v] = (sd.lpos[v][0]+0.35,sd.lpos[v][1]+0.1)\n",
    "sd.mpi={\n",
    "    'a':(1,5),'b':(7,9),\n",
    "    'c':(1,1),'d':(2,2),'e':(3,4),'f':(7,7),'g':(8,8),\n",
    "    'h':(3,3),\n",
    "}\n",
    "sd.mpi_labels={\n",
    "  v:('[%d,%d]'%(i[0],i[1]))\n",
    "  for (v,i) in sd.mpi.items()\n",
    "}\n",
    "\n",
    "nx.draw_networkx_labels(sd,\n",
    "                        pos=sd.lpos,\n",
    "                        labels=sd.mpi_labels)\n",
    "plt.draw()"
   ]
  },
  {
   "cell_type": "markdown",
   "metadata": {},
   "source": [
    "The above figure shows *Min-post indexing for a spanning tree* extracted from the small DAG of Figure 2 in the FELINE paper.  Each vertex is labeled with its *min-post* interval. Original edges of the DAG are marked in light gray.\n",
    "\n",
    "For instance, consider the vertex $h$ of above figure.  We can conclude that the query $r(a,h)$ will return true ($a \\leadsto h$), without search, because $[3,3] \\subseteq  [1,5]$.  However, we can say nothing about the query $r(b,h)$, because there is no tree edge connecting the two vertices."
   ]
  },
  {
   "cell_type": "markdown",
   "metadata": {},
   "source": [
    "### Post-traversal index vs backward topological level drawing of example graphs"
   ]
  },
  {
   "cell_type": "code",
   "execution_count": null,
   "metadata": {},
   "outputs": [
    {
     "data": {
      "image/png": "[encoded data removed]",
      "text/plain": [
       "<Figure size 432x288 with 1 Axes>"
      ]
     },
     "metadata": {},
     "output_type": "display_data"
    }
   ],
   "source": [
    "from matplotlib.lines import Line2D\n",
    "\n",
    "#plt.axis('off')\n",
    "plt.title('Small DAG with the spanning tree overlay and min-post intervals\\n'+\n",
    "          'drawn using spanning tree position and levels')\n",
    "\n",
    "sd=graphs.small_DAG_FELINE()\n",
    "sd.lvl = {\n",
    "    'h': 0, 'g': 0, 'd': 0,\n",
    "    'c': 1, 'e': 1, 'f': 1,\n",
    "    'a': 2, 'b': 2,\n",
    "}\n",
    "sd.mpi={\n",
    "    'a':(1,5),'b':(7,9),\n",
    "    'c':(1,1),'d':(2,2),'e':(3,4),'f':(7,7),'g':(8,8),\n",
    "    'h':(3,3),\n",
    "}\n",
    "sd.mpi_labels={\n",
    "  v:('[%d,%d]'%(i[0],i[1]))\n",
    "  for (v,i) in sd.mpi.items()\n",
    "}\n",
    "sd.mpilvl={\n",
    "  v: (sd.mpi[v][1],sd.lvl[v]) for v in sd\n",
    "}\n",
    "\n",
    "plt.xlabel('spanning-tree post-order $\\pi(v)$')\n",
    "plt.ylabel('node level $L(v)$')\n",
    "\n",
    "ax=plt.gca()\n",
    "for v in sd:\n",
    "  if sd.mpi[v][0] == sd.mpi[v][1]:\n",
    "    continue\n",
    "  ax.add_line(Line2D([sd.mpi[v][0],sd.mpi[v][1]],\n",
    "                     [sd.lvl[v],sd.lvl[v]],\n",
    "                     lw=5., alpha=0.3))\n",
    "  \n",
    "nx.draw_networkx(sd,\n",
    "                 pos=sd.mpilvl,\n",
    "                 node_size=500,width=8.0,\n",
    "                 edge_color='#aaaaaa',node_color='y')\n",
    "edges=nx.draw_networkx_edges(sd,\n",
    "                             pos=sd.mpilvl,\n",
    "                             edgelist=[\n",
    "                               ('a','c'),('a','d'),('a','e'),\n",
    "                               ('e','h'),\n",
    "                               ('b','f'),('b','g')\n",
    "                             ],\n",
    "                             node_size=500,width=2.0,\n",
    "                             arrowstyle='->')\n",
    "\n",
    "labels=nx.draw_networkx_labels(sd,\n",
    "                               pos={u:(x+0.55,y-0.08) for (u,(x,y)) in sd.mpilvl.items()},\n",
    "                               labels=sd.mpi_labels)"
   ]
  },
  {
   "cell_type": "markdown",
   "metadata": {},
   "source": [
    "Commit graph with the spanning forest and min-post intervals:\n",
    "- commit graph from the Stolee blog post  \n",
    "  In the drawing of this graph below arrows (directed edges) point from right to left.  \n",
    "  ![An example Git commit graph](images/stolee.dev/commit-graph-example.png)\n",
    "  \n",
    "- the same commit graph, but with the spanning forest (with the tree cover)  \n",
    "  the vertices / nodes in this image are post-visit order, denoted $\\text{post}(v) = \\pi(v)$  \n",
    "  numbered dashed lines denote the backward topological level (sink-based) of the vertex / node  \n",
    "  ![Commit graph with the spanning forest](images/slides/git_commit_graph-spanning_forest_first_parent.png)\n",
    "  \n",
    "- The same graph, just drawn differently (post-visit order vs topological level)  \n",
    "  with the spanning forrest, post-visit order as label, and min-post tree interval marked  \n",
    "  ![Commit graph drawn with post-visit order vs level](images/slides/git_commit_graph-min-post_intervals.png)\n",
    "  "
   ]
  },
  {
   "cell_type": "markdown",
   "metadata": {},
   "source": [
    "## Computing DFS intervals labelling"
   ]
  },
  {
   "cell_type": "markdown",
   "metadata": {},
   "source": [
    "Here there would be all code that automatically computes the spanning tree (or rather the spanning forest), also known as tree cover of a graph, and all the DFS numbering based labels."
   ]
  },
  {
   "cell_type": "markdown",
   "metadata": {},
   "source": [
    "### Computing the spanning tree"
   ]
  },
  {
   "cell_type": "code",
   "execution_count": null,
   "metadata": {},
   "outputs": [],
   "source": [
    "#export\n",
    "def find_dfs_spanning(G):\n",
    "  \"\"\"Find edges of the DFS spanning tree for graph G\n",
    "\n",
    "  This is used to visualize the spanning tree (spanning forest,\n",
    "  tree cover) in example small graphs.  This function is also used\n",
    "  to compute DFS intervals, among others in `find_dfs_intervals()`\n",
    "\n",
    "  Parameters\n",
    "  ----------\n",
    "  G : NetworkX graph\n",
    "      Graph to find spanning-tree in.\n",
    "\n",
    "  Returns\n",
    "  -------\n",
    "  edges : list\n",
    "      A list of edges in the depth-first-search.\n",
    "\n",
    "  Examples\n",
    "  --------\n",
    "  >>> G = nx.path_graph(5)\n",
    "  >>> find_dfs_spanning(G)\n",
    "  [(0, 1), (1, 2), (2, 3), (3, 4)]\n",
    "\n",
    "  Notes\n",
    "  -----\n",
    "  The source is chosen arbitrarily and repeatedly until all\n",
    "  components in the graph are searched.\n",
    "  \"\"\"\n",
    "  # this may not cover all nodes\n",
    "  return list(nx.dfs_edges(G))"
   ]
  },
  {
   "cell_type": "markdown",
   "metadata": {},
   "source": [
    "Simple test that it works correctly for a very simple linear graph"
   ]
  },
  {
   "cell_type": "code",
   "execution_count": null,
   "metadata": {},
   "outputs": [
    {
     "data": {
      "image/png": "[encoded data removed]",
      "text/plain": [
       "<Figure size 432x288 with 1 Axes>"
      ]
     },
     "metadata": {},
     "output_type": "display_data"
    }
   ],
   "source": [
    "nx.draw(nx.path_graph(5),with_labels=True,node_size=500,width=2.0)"
   ]
  },
  {
   "cell_type": "code",
   "execution_count": null,
   "metadata": {},
   "outputs": [
    {
     "name": "stdout",
     "output_type": "stream",
     "text": [
      "[(0, 1), (1, 2), (2, 3), (3, 4)]\n"
     ]
    }
   ],
   "source": [
    "print(find_dfs_spanning(nx.path_graph(5)))\n",
    "assert find_dfs_spanning(nx.path_graph(5)) == [(0, 1), (1, 2), (2, 3), (3, 4)]"
   ]
  },
  {
   "cell_type": "markdown",
   "metadata": {},
   "source": [
    "Visualize a spanning tree in undirected graph"
   ]
  },
  {
   "cell_type": "code",
   "execution_count": null,
   "metadata": {},
   "outputs": [
    {
     "data": {
      "image/png": "[encoded data removed]",
      "text/plain": [
       "<Figure size 432x288 with 1 Axes>"
      ]
     },
     "metadata": {},
     "output_type": "display_data"
    }
   ],
   "source": [
    "G5=nx.path_graph(5)\n",
    "G5.pos={v:(v,0) for v in range(5)}\n",
    "\n",
    "nx.draw_networkx(G5,\n",
    "                 pos=G5.pos,\n",
    "                 node_size=500,width=8.0,\n",
    "                 edge_color='#aaaaaa')\n",
    "nx.draw_networkx_edges(G5,\n",
    "                       pos=G5.pos,\n",
    "                       edgelist=find_dfs_spanning(G5),\n",
    "                       node_size=500,width=2.0,\n",
    "                       arrowstyle='->')\n",
    "plt.draw()"
   ]
  },
  {
   "cell_type": "markdown",
   "metadata": {},
   "source": [
    "Draw a small DAG from the FELINE paper, and visualize automatically generated spanning tree (or rather one of the spanning trees)"
   ]
  },
  {
   "cell_type": "code",
   "execution_count": null,
   "metadata": {},
   "outputs": [
    {
     "data": {
      "image/png": "[encoded data removed]",
      "text/plain": [
       "<Figure size 432x288 with 1 Axes>"
      ]
     },
     "metadata": {},
     "output_type": "display_data"
    }
   ],
   "source": [
    "#@title Draw a small DAG and its find_dfs_spanning\n",
    "\n",
    "# get graph\n",
    "sd=graphs.small_DAG_FELINE()\n",
    "# TODO: move setting original positions to `small_DAG_FELINE()` to avoid repetitions\n",
    "sd.tree={\n",
    "  'a':(2,3),'b':(4.5,3),\n",
    "  'c':(1,2),'d':(2,2),'e':(3,2),'f':(4,2),'g':(5,2),\n",
    "  'h':(3,1)\n",
    "}\n",
    "\n",
    "# configure plot\n",
    "plt.axis('off')\n",
    "plt.title('Small DAG with the spanning tree overlay '+\n",
    "          '(find_dfs_spanning)')\n",
    "\n",
    "# draw graph and its spanning tree\n",
    "nx.draw_networkx(sd,\n",
    "                 pos=sd.tree,\n",
    "                 node_size=500,width=8.0,\n",
    "                 edge_color='#aaaaaa',node_color='y')\n",
    "nx.draw_networkx_edges(sd,\n",
    "                       pos=sd.tree,\n",
    "                       edgelist=find_dfs_spanning(sd),\n",
    "                       node_size=500,width=2.0,\n",
    "                       arrowstyle='->')\n",
    "plt.draw()"
   ]
  },
  {
   "cell_type": "markdown",
   "metadata": {},
   "source": [
    "Draw a crown DAG, known as $S_0^3$ graph, used in FELINE paper as simple example of irreductible false-positive for FELINE labels"
   ]
  },
  {
   "cell_type": "code",
   "execution_count": null,
   "metadata": {},
   "outputs": [
    {
     "data": {
      "image/png": "[encoded data removed]",
      "text/plain": [
       "<Figure size 432x288 with 1 Axes>"
      ]
     },
     "metadata": {},
     "output_type": "display_data"
    }
   ],
   "source": [
    "# get graph\n",
    "cd=graphs.crown_DAG()\n",
    "cd.pos={1:(1,4),2:(3,6),'u':(2,2),3:(4,1),4:(6,3),'v':(5,5)}\n",
    "\n",
    "# configure plot\n",
    "plt.axis('off')\n",
    "plt.title('Crown DAG $S_0^3$ with the spanning tree overlay '+\n",
    "          '(find_dfs_spanning)')\n",
    "\n",
    "# draw graph and its spanning tree\n",
    "nx.draw_networkx(cd,\n",
    "                 pos=cd.pos,\n",
    "                 node_size=500,width=8.0,\n",
    "                 edge_color='#aaaaaa')\n",
    "nx.draw_networkx_edges(cd,\n",
    "                       pos=cd.pos,\n",
    "                       edgelist=find_dfs_spanning(cd),\n",
    "                       node_size=500,width=2.0,\n",
    "                       arrowstyle='->')\n",
    "plt.draw()"
   ]
  },
  {
   "cell_type": "markdown",
   "metadata": {},
   "source": [
    "Note that the last tree in the above spanning forest for $S_0^3$ crown DAG is not visible because if consist of a single vertex (node) $u$."
   ]
  },
  {
   "cell_type": "markdown",
   "metadata": {},
   "source": [
    "TODO: in the [Reachability labels for version control graphs](_Reachability_labels_for_version_control_graphs.ipynb) notebook from Google Colaboratory there are a few more examples to be copied, or replaced with interactive visualization (where you can choose the graph):\n",
    "\n",
    "- draw a didactic example of DAG from FELINE\n",
    "- draw DAG from level-filter example from FELINE"
   ]
  },
  {
   "cell_type": "markdown",
   "metadata": {},
   "source": [
    "### Computing min-post tree intervals (positive-cut filter)"
   ]
  },
  {
   "cell_type": "markdown",
   "metadata": {},
   "source": [
    "Interval labeling (*min-post* strategy) labels each node $u$ with a range $I_u = [s_u, e_u]$, where $e_u$ denotes the rank of the node $u$ in ***some*** post-order traversal of the tree, where the ranks are assumed to begin at 1, and all the children of a node are assumed to be ordered and fixed for that traversal. Further, $s_u$ denotes the lowest rank for any node $x$ in the subtree rooted at $u$ (i.e., including $u$).\n",
    "\n",
    "For more see the section with the definitions."
   ]
  },
  {
   "cell_type": "code",
   "execution_count": null,
   "metadata": {},
   "outputs": [],
   "source": [
    "#export\n",
    "def find_dfs_intervals(DG, attr=None):\n",
    "  \"\"\"Find min-post labeling of all vertices in graph G, using DFS spanning-tree\n",
    "\n",
    "  Min-post interval labeling strategy labels each node 'u' in the directed\n",
    "  spanning tree (DFS tree here) of the acyclic graph `DG` with a range\n",
    "  I_u = [s_u, e_u], where e_u denotes the rank of the node 'u' in post-order\n",
    "  traversal of the tree (ranks assumed to begin at 1), and s_u denotes the\n",
    "  lowest rank of any node 'w' in the subtree rooted at 'u' (including 'u').\n",
    "\n",
    "  Parameters:\n",
    "  -----------\n",
    "  DG : NetworkX DiGraph\n",
    "      Directed acyclic graph.\n",
    "\n",
    "  attr : str, optional (default=None)\n",
    "      If set, name of a node attribute under which store min-post intervals.\n",
    "\n",
    "  Returns:\n",
    "  --------\n",
    "  dict of two-element lists of ints\n",
    "      Dictionary, where keys are node indices, and values are two element\n",
    "      lists storing min-post interval (of integers)\n",
    "  \"\"\"\n",
    "  ivl = {}\n",
    "  # create graph of spanning tree (DFS spanning tree) of DG\n",
    "  span=nx.DiGraph()\n",
    "  span.add_nodes_from(DG)\n",
    "  span.add_edges_from(find_dfs_spanning(DG))\n",
    "  # DEBUG\n",
    "  #print('span=%r' % find_dfs_spanning(DG))\n",
    "\n",
    "  # any post-order ordering would be good\n",
    "  nodelist = nx.dfs_postorder_nodes(DG)\n",
    "  for pos, node in enumerate(nodelist, start=1):\n",
    "    ivl[node] = [pos, pos]\n",
    "    if span.out_degree(node) > 0:\n",
    "      ivl[node][0] = min(pos,\n",
    "                         *[ivl[neigh][0]\n",
    "                           for neigh in span.successors(node)])\n",
    "    # DEBUG\n",
    "    #print('node=%s [%d,%d] -> %r' %\n",
    "    #      (node, ivl[node][0],ivl[node][1],list(span.successors(node))))\n",
    "\n",
    "  if attr is not None:\n",
    "    for node, interval in ivl.items():\n",
    "      DG.nodes[node][attr] = deepcopy(interval)\n",
    "\n",
    "  return ivl"
   ]
  },
  {
   "cell_type": "markdown",
   "metadata": {},
   "source": [
    "Check that there are no runtime errors when running `find_dfs_intervals(graph)`"
   ]
  },
  {
   "cell_type": "code",
   "execution_count": null,
   "metadata": {},
   "outputs": [
    {
     "name": "stdout",
     "output_type": "stream",
     "text": [
      "Exact results depend on the spanning tree (DFS traversal order)\n",
      "found intervals: {'h': [1, 1], 'c': [1, 2], 'd': [3, 3], 'e': [4, 4], 'a': [1, 5], 'f': [6, 6], 'g': [7, 7], 'b': [6, 8]}\n",
      "provided ones:   {'a': [1, 5], 'b': [7, 9], 'c': [1, 1], 'd': [2, 2], 'e': [3, 4], 'f': [7, 7], 'g': [8, 8], 'h': [3, 3]}\n"
     ]
    }
   ],
   "source": [
    "# DEBUG\n",
    "sd=graphs.small_DAG_FELINE()\n",
    "sd.mpi={\n",
    "    'a':[1,5],'b':[7,9],\n",
    "    'c':[1,1],'d':[2,2],'e':[3,4],'f':[7,7],'g':[8,8],\n",
    "    'h':[3,3],\n",
    "}\n",
    "\n",
    "print('Exact results depend on the spanning tree (DFS traversal order)')\n",
    "print('found intervals: %r' % find_dfs_intervals(sd))\n",
    "print('provided ones:   %r' % sd.mpi)"
   ]
  },
  {
   "cell_type": "markdown",
   "metadata": {},
   "source": [
    "Check visually that min-post tree intervals make sense for an example of small DAG from the FELINE paper"
   ]
  },
  {
   "cell_type": "code",
   "execution_count": null,
   "metadata": {},
   "outputs": [
    {
     "data": {
      "image/png": "[encoded data removed]",
      "text/plain": [
       "<Figure size 432x288 with 1 Axes>"
      ]
     },
     "metadata": {},
     "output_type": "display_data"
    }
   ],
   "source": [
    "# get graph\n",
    "sd=graphs.small_DAG_FELINE()\n",
    "# TODO: move setting original positions to `small_DAG_FELINE()` to avoid repetitions\n",
    "sd.tree={\n",
    "  'a':(2,3),'b':(4.5,3),\n",
    "  'c':(1,2),'d':(2,2),'e':(3,2),'f':(4,2),'g':(5,2),\n",
    "  'h':(3,1)\n",
    "}\n",
    "\n",
    "# find min-post intervals, and make labels\n",
    "intervals=find_dfs_intervals(sd)\n",
    "intervals_repr={\n",
    "  v:('[%d,%d]'%(i[0],i[1]))\n",
    "  for (v,i) in intervals.items()\n",
    "}\n",
    "\n",
    "# configure plot\n",
    "plt.axis('off')\n",
    "plt.title('Small DAG with the spanning tree overlay and interval labels\\n'+\n",
    "          '(find_dfs_spanning, find_dfs_intervals)')\n",
    "\n",
    "# draw graph, its spanning tree and min-post tree interval labels\n",
    "nx.draw_networkx(sd,\n",
    "                 pos=sd.tree,\n",
    "                 node_size=500,width=8.0,\n",
    "                 edge_color='#aaaaaa',node_color='y')\n",
    "nx.draw_networkx_edges(sd,\n",
    "                       pos=sd.tree,\n",
    "                       edgelist=find_dfs_spanning(sd),\n",
    "                       node_size=500,width=2.0,\n",
    "                       arrowstyle='->')\n",
    "nx.draw_networkx_labels(sd,\n",
    "                        pos={u:(x+0.35,y-0.08) for (u,(x,y)) in sd.tree.items()},\n",
    "                        labels=intervals_repr)\n",
    "plt.draw()"
   ]
  },
  {
   "cell_type": "markdown",
   "metadata": {},
   "source": [
    "> TODO: \n",
    "> - interactive visualization of spanning tree and min-post tree intervals shown as labels\n",
    "> - interactive visualization of post(v) vs level(v) drawn graph, with min-post intervals as labels"
   ]
  },
  {
   "cell_type": "markdown",
   "metadata": {},
   "source": [
    "### Computing min-post graph intervals (negative-cut filter) (TODO)"
   ]
  },
  {
   "cell_type": "markdown",
   "metadata": {},
   "source": [
    "### Computing PReaCH extensions to min-post intervals (TODO)"
   ]
  },
  {
   "cell_type": "markdown",
   "metadata": {},
   "source": [
    "Code taken from [section \"DFS spanning-tree extra data\" in Google Colab version](https://colab.research.google.com/drive/1V-U7_slu5Z3s5iEEMFKhLXtaxSu5xyzg#scrollTo=4l0Ld0Jklq1o) of the [Reachability labels for version control graphs](_Reachability_labels_for_version_control_graphs.ipynb) notebook."
   ]
  },
  {
   "cell_type": "code",
   "execution_count": null,
   "metadata": {},
   "outputs": [],
   "source": [
    "#export\n",
    "def find_dfs_intervals_extra(DG, extra=False):\n",
    "    \"\"\"Find DFS-derived data of all vertices in graph G\n",
    "\n",
    "    Min-post interval labeling strategy labels each node 'u' in the directed\n",
    "    spanning tree (DFS tree here) of the acyclic graph `DG` with a range\n",
    "    I_u = [s_u, e_u], where e_u denotes the rank of the node 'u' in post-order\n",
    "    traversal of the tree (ranks assumed to begin at 1), and s_u denotes the\n",
    "    lowest rank of any node 'w' in the subtree rooted at 'u' (including 'u').\n",
    "    This interval is stored under 'min' and 'post' keys in returned dict.\n",
    "\n",
    "    For depth first-search (DFS) all nodes reachable from node 'u' have their\n",
    "    topological ordering in DFS tree, i.e. 'post', smaller than the 'post'\n",
    "    value for 'u'.  Additionally we can define 'f_min' as minimum 'post'\n",
    "    number for each node reachable from 'u', and 'f_gap' as maximum 'post'\n",
    "    number of nodes reachable from 'u' that are not in DFS subtree rooted\n",
    "    at 'u' or None if 'f_gap' would be equal to 'u' node's 'min' number.\n",
    "\n",
    "    We can also define 'p_tree' to be node reachable from 'u', but not in\n",
    "    subtree rooted at 'u', that ('p_tree') has largest subtree.  If such\n",
    "    node does not exist it is set to None.  For DFS spanning tree we can\n",
    "    calculate this value effectively.\n",
    "\n",
    "    This is based on *modified* algorithms from PReaCH paper [1];\n",
    "    note that the original version in the paper [1] uses\n",
    "    preorder not postorder numbers (pre-max not min-post).\n",
    "\n",
    "    References:\n",
    "    -----------\n",
    "    [1] Florian Merz, Peter Sanders \"PReaCH: A Fast Lightweight\n",
    "        Reachability Index using Pruning and Contraction Hierarchies\" (2014)\n",
    "        In: Schulz A.S., Wagner D. (eds) Algorithms - ESA 2014. ESA 2014.\n",
    "        Lecture Notes in Computer Science, vol 8737. Springer, Berlin,\n",
    "        Heidelberg (Conference Paper: European Symposium on Algorithms)\n",
    "        https://doi.org/10.1007/978-3-662-44777-2_58\n",
    "        http://arxiv.org/abs/1404.4465\n",
    "\n",
    "    Parameters:\n",
    "    -----------\n",
    "    DG : NetworkX DiGraph\n",
    "        Directed acyclic graph.\n",
    "\n",
    "    extra : bool, optional (default=False)\n",
    "        Whether to compute extra DFS data in addition to min-post interval.\n",
    "\n",
    "    Returns:\n",
    "    --------\n",
    "    dict of dicts\n",
    "        Dictionary, where keys are node indices, and values are dictionaries\n",
    "        with various DFS spanning-tree derived data.\n",
    "    \"\"\"\n",
    "    data = {}\n",
    "    # create graph of spanning tree (DFS spanning tree) of DG\n",
    "    span = nx.DiGraph()\n",
    "    span.add_nodes_from(DG)\n",
    "    span.add_edges_from(find_dfs_spanning(DG))\n",
    "\n",
    "    # needs depth-first search for some of indices to actually work\n",
    "    nodelist = nx.dfs_postorder_nodes(DG)\n",
    "    for pos, node in enumerate(nodelist, start=1):\n",
    "        data[node] = {}\n",
    "\n",
    "        # DEBUG\n",
    "        # print('node=%s\\n -> %r\\n => %r' %\n",
    "        #      (node,\n",
    "        #       list(span.successors(node)),\n",
    "        #       list(DG.successors(node))))\n",
    "\n",
    "        data[node]['post'] = pos\n",
    "        if span.out_degree(node) == 0:\n",
    "            data[node]['min'] = pos\n",
    "        else:\n",
    "            data[node]['min'] = min(pos,\n",
    "                                    *[data[neigh]['min']\n",
    "                                      for neigh in span.successors(node)])\n",
    "\n",
    "        # print(\"data[%s]: %r\" % (node, data[node]))\n",
    "\n",
    "        # min-post graph interval (min over whole graph)\n",
    "        if DG.out_degree(node) == 0:\n",
    "            data[node]['f_min'] = pos\n",
    "        else:\n",
    "            data[node]['f_min'] = min(pos,\n",
    "                                      *[data[neigh]['f_min']\n",
    "                                        for neigh in DG.successors(node)])\n",
    "\n",
    "        # PReaCH specific extensions\n",
    "        if not extra:\n",
    "            continue\n",
    "\n",
    "        if DG.out_degree(node) == 0:\n",
    "            data[node]['f_gap'] = None\n",
    "            data[node]['p_tree'] = None\n",
    "        else:\n",
    "            f_gap_candidates = \\\n",
    "                [data[neigh]['post']\n",
    "                 for neigh in DG.successors(node)\n",
    "                 if data[neigh]['post'] < data[node]['min']] + \\\n",
    "                [data[neigh]['f_gap']\n",
    "                 for neigh in DG.successors(node)\n",
    "                 if data[neigh]['f_gap'] is not None]\n",
    "            if f_gap_candidates:\n",
    "                data[node]['f_gap'] = max(f_gap_candidates)\n",
    "            else:\n",
    "                data[node]['f_gap'] = None\n",
    "            # print(\"f_gap[%s]: %r\" % (node, data[node]['f_gap']))\n",
    "\n",
    "            # print(\"p_tree: %r (candidates, part 1)\" %\n",
    "            #      [data[neigh]['p_tree']\n",
    "            #       for neigh in DG.successors(node)])\n",
    "            p_tree_candidates = \\\n",
    "                [data[neigh]['p_tree']\n",
    "                 for neigh in DG.successors(node)\n",
    "                 if data[neigh]['p_tree'] is not None and\n",
    "                    data[neigh]['post'] < data[node]['min']] + \\\n",
    "                [neigh\n",
    "                 for neigh in DG.successors(node)\n",
    "                 if data[neigh]['post'] < data[node]['min']]\n",
    "            if p_tree_candidates:\n",
    "                data[node]['p_tree'] = max(\n",
    "                    p_tree_candidates,\n",
    "                    key=lambda n: data[n]['post'] - data[n]['min']\n",
    "                )\n",
    "                # print(\"p_tree[%s]: %r\" % (node, data[node]['p_tree']))\n",
    "            else:\n",
    "                data[node]['p_tree'] = None\n",
    "\n",
    "        # print(\"\\n\")\n",
    "\n",
    "    return data"
   ]
  },
  {
   "cell_type": "code",
   "execution_count": null,
   "metadata": {},
   "outputs": [
    {
     "data": {
      "text/plain": [
       "{'h': {'post': 1, 'min': 1, 'f_min': 1, 'f_gap': None, 'p_tree': None},\n",
       " 'c': {'post': 2, 'min': 1, 'f_min': 1, 'f_gap': None, 'p_tree': None},\n",
       " 'd': {'post': 3, 'min': 3, 'f_min': 3, 'f_gap': None, 'p_tree': None},\n",
       " 'e': {'post': 4, 'min': 4, 'f_min': 1, 'f_gap': 1, 'p_tree': 'h'},\n",
       " 'a': {'post': 5, 'min': 1, 'f_min': 1, 'f_gap': 1, 'p_tree': None},\n",
       " 'f': {'post': 6, 'min': 6, 'f_min': 1, 'f_gap': 1, 'p_tree': 'h'},\n",
       " 'g': {'post': 7, 'min': 7, 'f_min': 7, 'f_gap': None, 'p_tree': None},\n",
       " 'b': {'post': 8, 'min': 6, 'f_min': 1, 'f_gap': 1, 'p_tree': None}}"
      ]
     },
     "execution_count": null,
     "metadata": {},
     "output_type": "execute_result"
    }
   ],
   "source": [
    "# DEBUG\n",
    "sd=graphs.small_DAG_FELINE()\n",
    "find_dfs_intervals_extra(sd, extra=True)"
   ]
  },
  {
   "cell_type": "code",
   "execution_count": null,
   "metadata": {},
   "outputs": [
    {
     "data": {
      "image/png": "[encoded data removed]",
      "text/plain": [
       "<Figure size 432x288 with 1 Axes>"
      ]
     },
     "metadata": {},
     "output_type": "display_data"
    }
   ],
   "source": [
    "# get graph\n",
    "sd=graphs.small_DAG_FELINE()\n",
    "# TODO: move setting original positions to `small_DAG_FELINE()` to avoid repetitions\n",
    "sd.tree={\n",
    "  'a':(2,3),'b':(4.5,3),\n",
    "  'c':(1,2),'d':(2,2),'e':(3,2),'f':(4,2),'g':(5,2),\n",
    "  'h':(3,1)\n",
    "}\n",
    "\n",
    "# find min-post intervals, and make labels\n",
    "intervals=find_dfs_intervals_extra(sd)\n",
    "intervals_repr={\n",
    "  v:('[%d:%d,%d]'%(i['f_min'],i['min'],i['post']))\n",
    "  for (v,i) in intervals.items()\n",
    "}\n",
    "\n",
    "# configure plot\n",
    "plt.axis('off')\n",
    "plt.title('Small DAG with the spanning tree overlay and extended interval labels\\n'+\n",
    "          '(find_dfs_spanning, find_dfs_intervals_extra)')\n",
    "\n",
    "# draw graph, its spanning tree and min-post tree interval labels\n",
    "nx.draw_networkx(sd,\n",
    "                 pos=sd.tree,\n",
    "                 node_size=500,width=8.0,\n",
    "                 edge_color='#aaaaaa',node_color='y')\n",
    "nx.draw_networkx_edges(sd,\n",
    "                       pos=sd.tree,\n",
    "                       edgelist=find_dfs_spanning(sd),\n",
    "                       node_size=500,width=2.0,\n",
    "                       arrowstyle='->')\n",
    "nx.draw_networkx_labels(sd,\n",
    "                        pos={u:(x+0.25,y-0.12) for (u,(x,y)) in sd.tree.items()},\n",
    "                        labels=intervals_repr)\n",
    "plt.draw()"
   ]
  },
  {
   "cell_type": "markdown",
   "metadata": {},
   "source": [
    "## References"
   ]
  },
  {
   "cell_type": "markdown",
   "metadata": {},
   "source": [
    "TODO"
   ]
  },
  {
   "cell_type": "markdown",
   "metadata": {},
   "source": [
    "- **\\[PReaCH\\]** \n",
    "  Florian Merz, Peter Sanders:\n",
    "  \"_PReaCH: A Fast Lightweight Reachability Index using Pruning and Contraction Hierarchies_\" (2014)  \n",
    "  In: Schulz A.S., Wagner D. (eds) Algorithms - ESA 2014. ESA 2014.\n",
    "  Lecture Notes in Computer Science, vol 8737.  \n",
    "  Springer, Berlin, Heidelberg (Conference Paper: European Symposium on Algorithms)  \n",
    "  <https://doi.org/10.1007/978-3-662-44777-2_58>\n",
    "  \n",
    "  arXiv:1404.4465v1 \\[cs.DS\\], 17 Apr 2014,  \n",
    "  <http://arxiv.org/abs/1404.4465>"
   ]
  },
  {
   "cell_type": "markdown",
   "metadata": {},
   "source": [
    "----"
   ]
  },
  {
   "cell_type": "code",
   "execution_count": null,
   "metadata": {},
   "outputs": [
    {
     "name": "stdout",
     "output_type": "stream",
     "text": [
      "Converted 01_tools.ipynb.\n",
      "Converted 02_related.ipynb.\n",
      "Converted 03_example_graphs.ipynb.\n",
      "Converted 05_reachability_index.ipynb.\n",
      "Converted 06_levels.ipynb.\n",
      "Converted 07_interval_labels.ipynb.\n",
      "Converted 08_reach.ipynb.\n",
      "Converted index.ipynb.\n"
     ]
    }
   ],
   "source": [
    "#hide\n",
    "# this should be the last cell of the notebook\n",
    "from nbdev.export import notebook2script\n",
    "notebook2script()"
   ]
  }
 ],
 "metadata": {
  "kernelspec": {
   "display_name": "Python 3",
   "language": "python",
   "name": "python3"
  }
 },
 "nbformat": 4,
 "nbformat_minor": 4
}
