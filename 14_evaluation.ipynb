{
 "cells": [
  {
   "cell_type": "code",
   "execution_count": null,
   "metadata": {},
   "outputs": [],
   "source": [
    "#default_exp reachability_evaluation"
   ]
  },
  {
   "cell_type": "code",
   "execution_count": null,
   "metadata": {},
   "outputs": [],
   "source": [
    "#hide_output\n",
    "%load_ext autoreload\n",
    "%autoreload 2"
   ]
  },
  {
   "cell_type": "markdown",
   "metadata": {},
   "source": [
    "# Reachability evaluation\n",
    "> Experimental results of evaluation of how various reachability indices speed up reachability queries."
   ]
  },
  {
   "cell_type": "markdown",
   "metadata": {},
   "source": [
    "Imports"
   ]
  },
  {
   "cell_type": "code",
   "execution_count": null,
   "metadata": {},
   "outputs": [],
   "source": [
    "#export"
   ]
  },
  {
   "cell_type": "code",
   "execution_count": null,
   "metadata": {},
   "outputs": [],
   "source": [
    "import numpy as np\n",
    "import networkx as nx\n",
    "import pandas as pd\n",
    "\n",
    "from math import sqrt"
   ]
  },
  {
   "cell_type": "markdown",
   "metadata": {},
   "source": [
    "## Load example commit graph, compute reachability queries, save results"
   ]
  },
  {
   "cell_type": "code",
   "execution_count": null,
   "metadata": {},
   "outputs": [],
   "source": [
    "from git_commit_graph_ext.commit_graph import _commit_graph_name, commit_graph\n",
    "from git_commit_graph_ext.checkpoint import compute_cached_graph, compute_cached_reachability_labels"
   ]
  },
  {
   "cell_type": "code",
   "execution_count": null,
   "metadata": {},
   "outputs": [],
   "source": [
    "# parameters\n",
    "repo_url  = 'https://github.com/git/git.git' \n",
    "repo_name = 'git'"
   ]
  },
  {
   "cell_type": "code",
   "execution_count": null,
   "metadata": {},
   "outputs": [],
   "source": [
    "graph_name = _commit_graph_name(repo_name)"
   ]
  },
  {
   "cell_type": "code",
   "execution_count": null,
   "metadata": {},
   "outputs": [
    {
     "name": "stdout",
     "output_type": "stream",
     "text": [
      "loading the commit graph of a git repository\n",
      "- url:   https://github.com/git/git.git\n",
      "- name:  git\n",
      "- graph: git-commit_graph\n"
     ]
    }
   ],
   "source": [
    "print('loading the commit graph of a git repository')\n",
    "print('- url:   {}'.format(repo_url))\n",
    "print('- name:  {}'.format(repo_name))\n",
    "print('- graph: {}'.format(graph_name))"
   ]
  },
  {
   "cell_type": "code",
   "execution_count": null,
   "metadata": {},
   "outputs": [],
   "source": [
    "# checkpoint 1\n",
    "graph = compute_cached_graph(lambda: commit_graph(repo_url, repo_name), graph_name)"
   ]
  },
  {
   "cell_type": "code",
   "execution_count": null,
   "metadata": {},
   "outputs": [
    {
     "name": "stdout",
     "output_type": "stream",
     "text": [
      "commit graph of git repository has:\n",
      "- nodes: 63829\n",
      "- edges: 79664\n",
      "\n",
      "public attributes of retrieved/computed graph\n",
      "- graph (<class 'dict'>)\n",
      "- df_edgelist (<class 'pandas.core.frame.DataFrame'>)\n"
     ]
    }
   ],
   "source": [
    "print('commit graph of {} repository has:'.format(repo_name))\n",
    "print('- nodes: {}'.format(graph.number_of_nodes()))\n",
    "print('- edges: {}'.format(graph.number_of_edges()))\n",
    "print('\\npublic attributes of retrieved/computed graph')\n",
    "for (attr, val) in graph.__dict__.items():\n",
    "    if not isinstance(val, type) and not attr.startswith('_'):\n",
    "        print('- {:s} ({})'.format(attr, type(val)))"
   ]
  },
  {
   "cell_type": "code",
   "execution_count": null,
   "metadata": {},
   "outputs": [],
   "source": [
    "graph = compute_cached_reachability_labels(graph, graph_name)"
   ]
  },
  {
   "cell_type": "code",
   "execution_count": null,
   "metadata": {},
   "outputs": [
    {
     "name": "stdout",
     "output_type": "stream",
     "text": [
      "public attributes of retrieved/computed graph (with reachability labels):\n",
      "- graph (<class 'dict'>)\n",
      "- df_edgelist (<class 'pandas.core.frame.DataFrame'>)\n",
      "- df_nodedata (<class 'pandas.core.frame.DataFrame'>)\n",
      "- lvl (<class 'dict'>)\n",
      "- mpi_ext (<class 'dict'>)\n",
      "- nodes (<class 'networkx.classes.reportviews.NodeView'>)\n",
      "\n",
      "node data dataframe properties:\n",
      "- columns: ['f_min', 'min', 'post', 'level', 'in degree', 'out degree', 'degree']\n",
      "- rows:    ['836aadd78', 'a93475d10', '55fce44a3', 'df525e622', '6d9d59c31']...\n",
      "- lvls:    {'e83c51633': 0, '8bc9a0c76': 1, 'e497ea2a9': 2, 'bf0c6e839': 3, '19b2860cb': 4}...\n",
      "- mpi_ext: {'e83c51633': {'f_min': 1, 'min': 1, 'post': 1}, '8bc9a0c76': {'f_min': 1, 'min': 1, 'post': 2}}...\n"
     ]
    },
    {
     "data": {
      "text/html": [
       "<div>\n",
       "<style scoped>\n",
       "    .dataframe tbody tr th:only-of-type {\n",
       "        vertical-align: middle;\n",
       "    }\n",
       "\n",
       "    .dataframe tbody tr th {\n",
       "        vertical-align: top;\n",
       "    }\n",
       "\n",
       "    .dataframe thead th {\n",
       "        text-align: right;\n",
       "    }\n",
       "</style>\n",
       "<table border=\"1\" class=\"dataframe\">\n",
       "  <thead>\n",
       "    <tr style=\"text-align: right;\">\n",
       "      <th></th>\n",
       "      <th>f_min</th>\n",
       "      <th>min</th>\n",
       "      <th>post</th>\n",
       "      <th>level</th>\n",
       "      <th>in degree</th>\n",
       "      <th>out degree</th>\n",
       "      <th>degree</th>\n",
       "    </tr>\n",
       "    <tr>\n",
       "      <th>node</th>\n",
       "      <th></th>\n",
       "      <th></th>\n",
       "      <th></th>\n",
       "      <th></th>\n",
       "      <th></th>\n",
       "      <th></th>\n",
       "      <th></th>\n",
       "    </tr>\n",
       "  </thead>\n",
       "  <tbody>\n",
       "    <tr>\n",
       "      <th>e83c51633</th>\n",
       "      <td>1</td>\n",
       "      <td>1</td>\n",
       "      <td>1</td>\n",
       "      <td>0</td>\n",
       "      <td>1</td>\n",
       "      <td>0</td>\n",
       "      <td>1</td>\n",
       "    </tr>\n",
       "    <tr>\n",
       "      <th>8bc9a0c76</th>\n",
       "      <td>1</td>\n",
       "      <td>1</td>\n",
       "      <td>2</td>\n",
       "      <td>1</td>\n",
       "      <td>1</td>\n",
       "      <td>1</td>\n",
       "      <td>2</td>\n",
       "    </tr>\n",
       "    <tr>\n",
       "      <th>e497ea2a9</th>\n",
       "      <td>1</td>\n",
       "      <td>1</td>\n",
       "      <td>3</td>\n",
       "      <td>2</td>\n",
       "      <td>1</td>\n",
       "      <td>1</td>\n",
       "      <td>2</td>\n",
       "    </tr>\n",
       "    <tr>\n",
       "      <th>bf0c6e839</th>\n",
       "      <td>1</td>\n",
       "      <td>1</td>\n",
       "      <td>4</td>\n",
       "      <td>3</td>\n",
       "      <td>1</td>\n",
       "      <td>1</td>\n",
       "      <td>2</td>\n",
       "    </tr>\n",
       "    <tr>\n",
       "      <th>19b2860cb</th>\n",
       "      <td>1</td>\n",
       "      <td>1</td>\n",
       "      <td>5</td>\n",
       "      <td>4</td>\n",
       "      <td>1</td>\n",
       "      <td>1</td>\n",
       "      <td>2</td>\n",
       "    </tr>\n",
       "  </tbody>\n",
       "</table>\n",
       "</div>"
      ],
      "text/plain": [
       "           f_min  min  post  level  in degree  out degree  degree\n",
       "node                                                             \n",
       "e83c51633      1    1     1      0          1           0       1\n",
       "8bc9a0c76      1    1     2      1          1           1       2\n",
       "e497ea2a9      1    1     3      2          1           1       2\n",
       "bf0c6e839      1    1     4      3          1           1       2\n",
       "19b2860cb      1    1     5      4          1           1       2"
      ]
     },
     "execution_count": null,
     "metadata": {},
     "output_type": "execute_result"
    }
   ],
   "source": [
    "df = graph.df_nodedata\n",
    "print('public attributes of retrieved/computed graph (with reachability labels):')\n",
    "for (attr, val) in graph.__dict__.items():\n",
    "    if not isinstance(val, type) and not attr.startswith('_'):\n",
    "        print('- {:s} ({})'.format(attr, type(val)))\n",
    "\n",
    "print('')\n",
    "print('node data dataframe properties:')\n",
    "print('- columns: {}'.format(df.columns.tolist()))\n",
    "print('- rows:    {}...'.format(list(graph.nodes)[0:5]))\n",
    "print('- lvls:    {}...'.format({k: graph.lvl[k] for k in list(graph.lvl)[:5]}))\n",
    "print('- mpi_ext: {}...'.format({k: graph.mpi_ext[k] for k in list(graph.mpi_ext)[:2]}))\n",
    "\n",
    "graph.df_nodedata.head()"
   ]
  },
  {
   "cell_type": "markdown",
   "metadata": {},
   "source": [
    "## N^2 connectivity on random sample of commits / nodes"
   ]
  },
  {
   "cell_type": "code",
   "execution_count": null,
   "metadata": {},
   "outputs": [
    {
     "name": "stdout",
     "output_type": "stream",
     "text": [
      "graph \"git-commit_graph\" has 63829 nodes\n",
      "- selecting 10000 pairs of nodes out of 4074141241\n",
      "- choice: [(54306, 8405), (63370, 27936), (40309, 45188), (33813, 2815), (32667, 23583)]...\n",
      "- creating a mapping from numbers to node names\n",
      "- 10000 sample size\n",
      "- node pairs: [('c7f34c180', '23c204455'), ('9dc527adb', '53ec551c8'), ('5e3ce663b', '9affecbc8'), ('6440fdbab', 'c8c35f6a0'), ('f1a7082f2', 'caac7a3ab')]...\n"
     ]
    }
   ],
   "source": [
    "n_nodes = graph.number_of_nodes()\n",
    "print('graph \"{}\" has {:d} nodes'.format(graph_name, n_nodes))\n",
    "\n",
    "n_pairs = 10000\n",
    "print('- selecting {:d} pairs of nodes out of {}'.format(n_pairs, n_nodes*n_nodes))\n",
    "choice_u = np.random.choice(n_nodes, n_pairs)\n",
    "choice_v = np.random.choice(n_nodes, n_pairs)\n",
    "conn_choice = list(zip(choice_u, choice_v))\n",
    "print('- choice: {}...'.format(conn_choice[:5]))\n",
    "\n",
    "print('- creating a mapping from numbers to node names')\n",
    "nodes_dict = {num: v for (num,v) in enumerate(list(graph))}\n",
    "conn_nodes = [(nodes_dict[u], nodes_dict[v]) for (u,v) in conn_choice]\n",
    "\n",
    "print('- %4d sample size' % len(conn_nodes))\n",
    "print('- node pairs: {}...'.format(conn_nodes[:5]))"
   ]
  },
  {
   "cell_type": "code",
   "execution_count": null,
   "metadata": {},
   "outputs": [
    {
     "name": "stdout",
     "output_type": "stream",
     "text": [
      "sample of 10000 node pairs in git-commit_graph graph\n",
      "Wall time: 3min 26s\n"
     ]
    },
    {
     "data": {
      "text/plain": [
       "[{'u': 'c7f34c180',\n",
       "  'v': '23c204455',\n",
       "  'l_u': 5579,\n",
       "  'l_v': 19392,\n",
       "  'u->v': False},\n",
       " {'u': '9dc527adb', 'v': '53ec551c8', 'l_u': 433, 'l_v': 12473, 'u->v': False},\n",
       " {'u': '5e3ce663b', 'v': '9affecbc8', 'l_u': 11072, 'l_v': 9538, 'u->v': True},\n",
       " {'u': '6440fdbab',\n",
       "  'v': 'c8c35f6a0',\n",
       "  'l_u': 12391,\n",
       "  'l_v': 20919,\n",
       "  'u->v': False},\n",
       " {'u': 'f1a7082f2',\n",
       "  'v': 'caac7a3ab',\n",
       "  'l_u': 12813,\n",
       "  'l_v': 15628,\n",
       "  'u->v': False}]"
      ]
     },
     "execution_count": null,
     "metadata": {},
     "output_type": "execute_result"
    }
   ],
   "source": [
    "%%time\n",
    "\n",
    "conn_sample = []\n",
    "print('sample of {:d} node pairs in {} graph'.format(len(conn_nodes), graph_name))\n",
    "for (u,v) in conn_nodes:\n",
    "  #print('%r -> %r: %r' % (u, v, nx.has_path(linux_graph_full, u, v)))\n",
    "  conn_sample.append({'u': u, 'v': v,\n",
    "                      'l_u': graph.lvl[u],\n",
    "                      'l_v': graph.lvl[v],\n",
    "                      'u->v': nx.has_path(graph, u, v)})\n",
    "\n",
    "conn_sample[:5]"
   ]
  },
  {
   "cell_type": "markdown",
   "metadata": {},
   "source": [
    "Wall time: 3min 5s"
   ]
  },
  {
   "cell_type": "code",
   "execution_count": null,
   "metadata": {},
   "outputs": [
    {
     "data": {
      "text/html": [
       "<div>\n",
       "<style scoped>\n",
       "    .dataframe tbody tr th:only-of-type {\n",
       "        vertical-align: middle;\n",
       "    }\n",
       "\n",
       "    .dataframe tbody tr th {\n",
       "        vertical-align: top;\n",
       "    }\n",
       "\n",
       "    .dataframe thead th {\n",
       "        text-align: right;\n",
       "    }\n",
       "</style>\n",
       "<table border=\"1\" class=\"dataframe\">\n",
       "  <thead>\n",
       "    <tr style=\"text-align: right;\">\n",
       "      <th></th>\n",
       "      <th>u</th>\n",
       "      <th>v</th>\n",
       "      <th>l_u</th>\n",
       "      <th>l_v</th>\n",
       "      <th>u-&gt;v</th>\n",
       "    </tr>\n",
       "  </thead>\n",
       "  <tbody>\n",
       "    <tr>\n",
       "      <th>0</th>\n",
       "      <td>c7f34c180</td>\n",
       "      <td>23c204455</td>\n",
       "      <td>5579</td>\n",
       "      <td>19392</td>\n",
       "      <td>False</td>\n",
       "    </tr>\n",
       "    <tr>\n",
       "      <th>1</th>\n",
       "      <td>9dc527adb</td>\n",
       "      <td>53ec551c8</td>\n",
       "      <td>433</td>\n",
       "      <td>12473</td>\n",
       "      <td>False</td>\n",
       "    </tr>\n",
       "    <tr>\n",
       "      <th>2</th>\n",
       "      <td>5e3ce663b</td>\n",
       "      <td>9affecbc8</td>\n",
       "      <td>11072</td>\n",
       "      <td>9538</td>\n",
       "      <td>True</td>\n",
       "    </tr>\n",
       "    <tr>\n",
       "      <th>3</th>\n",
       "      <td>6440fdbab</td>\n",
       "      <td>c8c35f6a0</td>\n",
       "      <td>12391</td>\n",
       "      <td>20919</td>\n",
       "      <td>False</td>\n",
       "    </tr>\n",
       "    <tr>\n",
       "      <th>4</th>\n",
       "      <td>f1a7082f2</td>\n",
       "      <td>caac7a3ab</td>\n",
       "      <td>12813</td>\n",
       "      <td>15628</td>\n",
       "      <td>False</td>\n",
       "    </tr>\n",
       "    <tr>\n",
       "      <th>...</th>\n",
       "      <td>...</td>\n",
       "      <td>...</td>\n",
       "      <td>...</td>\n",
       "      <td>...</td>\n",
       "      <td>...</td>\n",
       "    </tr>\n",
       "    <tr>\n",
       "      <th>9995</th>\n",
       "      <td>9be24a30d</td>\n",
       "      <td>26b59b481</td>\n",
       "      <td>1769</td>\n",
       "      <td>11394</td>\n",
       "      <td>False</td>\n",
       "    </tr>\n",
       "    <tr>\n",
       "      <th>9996</th>\n",
       "      <td>2a7453241</td>\n",
       "      <td>80a14665b</td>\n",
       "      <td>11757</td>\n",
       "      <td>13769</td>\n",
       "      <td>False</td>\n",
       "    </tr>\n",
       "    <tr>\n",
       "      <th>9997</th>\n",
       "      <td>577ed5c20</td>\n",
       "      <td>a75ef3ff9</td>\n",
       "      <td>4435</td>\n",
       "      <td>17803</td>\n",
       "      <td>False</td>\n",
       "    </tr>\n",
       "    <tr>\n",
       "      <th>9998</th>\n",
       "      <td>6f5c77a11</td>\n",
       "      <td>81811a74b</td>\n",
       "      <td>17947</td>\n",
       "      <td>288</td>\n",
       "      <td>True</td>\n",
       "    </tr>\n",
       "    <tr>\n",
       "      <th>9999</th>\n",
       "      <td>c3a3db7d4</td>\n",
       "      <td>557c5895c</td>\n",
       "      <td>20960</td>\n",
       "      <td>20011</td>\n",
       "      <td>True</td>\n",
       "    </tr>\n",
       "  </tbody>\n",
       "</table>\n",
       "<p>10000 rows × 5 columns</p>\n",
       "</div>"
      ],
      "text/plain": [
       "              u          v    l_u    l_v   u->v\n",
       "0     c7f34c180  23c204455   5579  19392  False\n",
       "1     9dc527adb  53ec551c8    433  12473  False\n",
       "2     5e3ce663b  9affecbc8  11072   9538   True\n",
       "3     6440fdbab  c8c35f6a0  12391  20919  False\n",
       "4     f1a7082f2  caac7a3ab  12813  15628  False\n",
       "...         ...        ...    ...    ...    ...\n",
       "9995  9be24a30d  26b59b481   1769  11394  False\n",
       "9996  2a7453241  80a14665b  11757  13769  False\n",
       "9997  577ed5c20  a75ef3ff9   4435  17803  False\n",
       "9998  6f5c77a11  81811a74b  17947    288   True\n",
       "9999  c3a3db7d4  557c5895c  20960  20011   True\n",
       "\n",
       "[10000 rows x 5 columns]"
      ]
     },
     "execution_count": null,
     "metadata": {},
     "output_type": "execute_result"
    }
   ],
   "source": [
    "conn_sample_df = pd.DataFrame.from_records(conn_sample)\n",
    "conn_sample_df"
   ]
  },
  {
   "cell_type": "code",
   "execution_count": null,
   "metadata": {},
   "outputs": [
    {
     "name": "stdout",
     "output_type": "stream",
     "text": [
      "Wall time: 40.7 s\n"
     ]
    },
    {
     "data": {
      "text/html": [
       "<div>\n",
       "<style scoped>\n",
       "    .dataframe tbody tr th:only-of-type {\n",
       "        vertical-align: middle;\n",
       "    }\n",
       "\n",
       "    .dataframe tbody tr th {\n",
       "        vertical-align: top;\n",
       "    }\n",
       "\n",
       "    .dataframe thead th {\n",
       "        text-align: right;\n",
       "    }\n",
       "</style>\n",
       "<table border=\"1\" class=\"dataframe\">\n",
       "  <thead>\n",
       "    <tr style=\"text-align: right;\">\n",
       "      <th></th>\n",
       "      <th>u</th>\n",
       "      <th>v</th>\n",
       "      <th>l_u</th>\n",
       "      <th>l_v</th>\n",
       "      <th>u-&gt;v</th>\n",
       "      <th>v-&gt;u</th>\n",
       "    </tr>\n",
       "  </thead>\n",
       "  <tbody>\n",
       "    <tr>\n",
       "      <th>0</th>\n",
       "      <td>c7f34c180</td>\n",
       "      <td>23c204455</td>\n",
       "      <td>5579</td>\n",
       "      <td>19392</td>\n",
       "      <td>False</td>\n",
       "      <td>True</td>\n",
       "    </tr>\n",
       "    <tr>\n",
       "      <th>1</th>\n",
       "      <td>9dc527adb</td>\n",
       "      <td>53ec551c8</td>\n",
       "      <td>433</td>\n",
       "      <td>12473</td>\n",
       "      <td>False</td>\n",
       "      <td>True</td>\n",
       "    </tr>\n",
       "    <tr>\n",
       "      <th>2</th>\n",
       "      <td>5e3ce663b</td>\n",
       "      <td>9affecbc8</td>\n",
       "      <td>11072</td>\n",
       "      <td>9538</td>\n",
       "      <td>True</td>\n",
       "      <td>False</td>\n",
       "    </tr>\n",
       "    <tr>\n",
       "      <th>3</th>\n",
       "      <td>6440fdbab</td>\n",
       "      <td>c8c35f6a0</td>\n",
       "      <td>12391</td>\n",
       "      <td>20919</td>\n",
       "      <td>False</td>\n",
       "      <td>True</td>\n",
       "    </tr>\n",
       "    <tr>\n",
       "      <th>4</th>\n",
       "      <td>f1a7082f2</td>\n",
       "      <td>caac7a3ab</td>\n",
       "      <td>12813</td>\n",
       "      <td>15628</td>\n",
       "      <td>False</td>\n",
       "      <td>True</td>\n",
       "    </tr>\n",
       "    <tr>\n",
       "      <th>...</th>\n",
       "      <td>...</td>\n",
       "      <td>...</td>\n",
       "      <td>...</td>\n",
       "      <td>...</td>\n",
       "      <td>...</td>\n",
       "      <td>...</td>\n",
       "    </tr>\n",
       "    <tr>\n",
       "      <th>9995</th>\n",
       "      <td>9be24a30d</td>\n",
       "      <td>26b59b481</td>\n",
       "      <td>1769</td>\n",
       "      <td>11394</td>\n",
       "      <td>False</td>\n",
       "      <td>False</td>\n",
       "    </tr>\n",
       "    <tr>\n",
       "      <th>9996</th>\n",
       "      <td>2a7453241</td>\n",
       "      <td>80a14665b</td>\n",
       "      <td>11757</td>\n",
       "      <td>13769</td>\n",
       "      <td>False</td>\n",
       "      <td>True</td>\n",
       "    </tr>\n",
       "    <tr>\n",
       "      <th>9997</th>\n",
       "      <td>577ed5c20</td>\n",
       "      <td>a75ef3ff9</td>\n",
       "      <td>4435</td>\n",
       "      <td>17803</td>\n",
       "      <td>False</td>\n",
       "      <td>True</td>\n",
       "    </tr>\n",
       "    <tr>\n",
       "      <th>9998</th>\n",
       "      <td>6f5c77a11</td>\n",
       "      <td>81811a74b</td>\n",
       "      <td>17947</td>\n",
       "      <td>288</td>\n",
       "      <td>True</td>\n",
       "      <td>False</td>\n",
       "    </tr>\n",
       "    <tr>\n",
       "      <th>9999</th>\n",
       "      <td>c3a3db7d4</td>\n",
       "      <td>557c5895c</td>\n",
       "      <td>20960</td>\n",
       "      <td>20011</td>\n",
       "      <td>True</td>\n",
       "      <td>False</td>\n",
       "    </tr>\n",
       "  </tbody>\n",
       "</table>\n",
       "<p>10000 rows × 6 columns</p>\n",
       "</div>"
      ],
      "text/plain": [
       "              u          v    l_u    l_v   u->v   v->u\n",
       "0     c7f34c180  23c204455   5579  19392  False   True\n",
       "1     9dc527adb  53ec551c8    433  12473  False   True\n",
       "2     5e3ce663b  9affecbc8  11072   9538   True  False\n",
       "3     6440fdbab  c8c35f6a0  12391  20919  False   True\n",
       "4     f1a7082f2  caac7a3ab  12813  15628  False   True\n",
       "...         ...        ...    ...    ...    ...    ...\n",
       "9995  9be24a30d  26b59b481   1769  11394  False  False\n",
       "9996  2a7453241  80a14665b  11757  13769  False   True\n",
       "9997  577ed5c20  a75ef3ff9   4435  17803  False   True\n",
       "9998  6f5c77a11  81811a74b  17947    288   True  False\n",
       "9999  c3a3db7d4  557c5895c  20960  20011   True  False\n",
       "\n",
       "[10000 rows x 6 columns]"
      ]
     },
     "execution_count": null,
     "metadata": {},
     "output_type": "execute_result"
    }
   ],
   "source": [
    "%%time\n",
    "\n",
    "conn_sample_df['v->u'] = False\n",
    "mask = ~conn_sample_df['u->v']\n",
    "conn_sample_df.loc[mask, 'v->u'] = \\\n",
    "    conn_sample_df[mask].apply(lambda row: nx.has_path(graph, row['v'], row['u']), axis='columns')\n",
    "conn_sample_df"
   ]
  },
  {
   "cell_type": "markdown",
   "metadata": {},
   "source": [
    "Wall time 41.7 s (for computing v->u)"
   ]
  },
  {
   "cell_type": "code",
   "execution_count": null,
   "metadata": {},
   "outputs": [
    {
     "name": "stdout",
     "output_type": "stream",
     "text": [
      "there were  918 out of 10000 ( 9.18 %) nodes for which have neither u->v nor v->u\n",
      "there were 9082 out of 10000 (90.82 %) nodes for which have  either u->v  or v->u\n",
      "together  918 + 9082 = 10000 vs 10000\n"
     ]
    }
   ],
   "source": [
    "sample_size = conn_sample_df['u->v'].count()\n",
    "ppos_size = conn_sample_df[conn_sample_df['u->v'] | conn_sample_df['v->u']]['u->v'].count()\n",
    "nneg_size = conn_sample_df[~conn_sample_df['u->v'] & ~conn_sample_df['v->u']]['u->v'].count()\n",
    "print('there were {:4d} out of {:d} ({:5.2f} %) nodes for which have neither u->v nor v->u'.\n",
    "      format(nneg_size, sample_size, 100.0*nneg_size/sample_size))\n",
    "print('there were {:4d} out of {:d} ({:5.2f} %) nodes for which have  either u->v  or v->u'.\n",
    "      format(ppos_size, sample_size, 100.0*ppos_size/sample_size))\n",
    "print('together {:4d} + {:4d} = {:d} vs {:d}'.\n",
    "      format(nneg_size, ppos_size, nneg_size + ppos_size, sample_size))"
   ]
  },
  {
   "cell_type": "markdown",
   "metadata": {},
   "source": [
    "### False positives for backward topological levels (negative cut)"
   ]
  },
  {
   "cell_type": "code",
   "execution_count": null,
   "metadata": {},
   "outputs": [
    {
     "name": "stdout",
     "output_type": "stream",
     "text": [
      "connected:        4515 of 10000 (0.4515 +/- 0.00497667)\n",
      "levels l_u < l_v: 4960 (0.496 +/- 0.00500009)\n",
      "levels l_u > l_v: 5038 (0.5038 +/- 0.00500011)\n"
     ]
    }
   ],
   "source": [
    "sample_size = conn_sample_df['u->v'].count()\n",
    "print('connected:        %d of %d (%g +/- %g)' %\n",
    "      (conn_sample_df['u->v'].sum(),\n",
    "       conn_sample_df['u->v'].count(),\n",
    "       conn_sample_df['u->v'].mean(),\n",
    "       conn_sample_df['u->v'].std()/sqrt(sample_size)))\n",
    "conn_sample_df['l_v<l_u']=conn_sample_df['l_v']<conn_sample_df['l_u']\n",
    "conn_sample_df['l_v>l_u']=conn_sample_df['l_v']>conn_sample_df['l_u']\n",
    "print('levels l_u < l_v: %d (%g +/- %g)' %\n",
    "      (conn_sample_df['l_v<l_u'].sum(),\n",
    "       conn_sample_df['l_v<l_u'].mean(),\n",
    "       conn_sample_df['l_v<l_u'].std()/sqrt(sample_size)))\n",
    "print('levels l_u > l_v: %d (%g +/- %g)' %\n",
    "      (conn_sample_df['l_v>l_u'].sum(),\n",
    "       conn_sample_df['l_v>l_u'].mean(),\n",
    "       conn_sample_df['l_v>l_u'].std()/sqrt(sample_size)))"
   ]
  },
  {
   "cell_type": "code",
   "execution_count": null,
   "metadata": {},
   "outputs": [
    {
     "name": "stdout",
     "output_type": "stream",
     "text": [
      "level: false positives 445 out of 5485 negative queries (8.11304 %), out of 10000 total\n"
     ]
    },
    {
     "data": {
      "text/plain": [
       "count     10000\n",
       "unique        2\n",
       "top       False\n",
       "freq       9555\n",
       "Name: fp_levels, dtype: object"
      ]
     },
     "execution_count": null,
     "metadata": {},
     "output_type": "execute_result"
    }
   ],
   "source": [
    "conn_sample_df['!u->v'] = ~conn_sample_df['u->v']\n",
    "conn_sample_df['fp_levels'] = conn_sample_df['l_v<l_u'] & conn_sample_df['!u->v']\n",
    "print('level: false positives %d out of %d negative queries (%g %%), out of %d total' %\n",
    "      (conn_sample_df['fp_levels'].sum(),\n",
    "       conn_sample_df['!u->v'].sum(),\n",
    "       100.0*conn_sample_df['fp_levels'].sum()/conn_sample_df['!u->v'].sum(),\n",
    "       conn_sample_df['!u->v'].count()))\n",
    "conn_sample_df['fp_levels'].describe()"
   ]
  },
  {
   "cell_type": "markdown",
   "metadata": {},
   "source": [
    "----"
   ]
  },
  {
   "cell_type": "code",
   "execution_count": null,
   "metadata": {},
   "outputs": [
    {
     "name": "stdout",
     "output_type": "stream",
     "text": [
      "Converted 01_tools.ipynb.\n",
      "Converted 02_related.ipynb.\n",
      "Converted 03_example_graphs.ipynb.\n",
      "Converted 05_reachability_index.ipynb.\n",
      "Converted 06_levels.ipynb.\n",
      "Converted 07_interval_labels.ipynb.\n",
      "Converted 08_reach.ipynb.\n",
      "Converted 09_git.ipynb.\n",
      "Converted 10_checkpoint.ipynb.\n",
      "Converted 11_datasets.ipynb.\n",
      "Converted 12_repos.ipynb.\n",
      "Converted 14_evaluation.ipynb.\n",
      "Converted A.09_git_explore.ipynb.\n",
      "Converted index.ipynb.\n"
     ]
    }
   ],
   "source": [
    "#hide\n",
    "# this should be the last cell of the notebook\n",
    "from nbdev.export import notebook2script\n",
    "notebook2script()"
   ]
  }
 ],
 "metadata": {
  "kernelspec": {
   "display_name": "Python 3",
   "language": "python",
   "name": "python3"
  }
 },
 "nbformat": 4,
 "nbformat_minor": 4
}
